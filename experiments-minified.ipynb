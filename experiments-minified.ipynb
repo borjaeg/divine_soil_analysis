{
 "cells": [
  {
   "cell_type": "code",
   "execution_count": 1,
   "id": "0cf0a388-46d7-4538-a8a3-b07e3e274ad3",
   "metadata": {},
   "outputs": [],
   "source": [
    "import pandas as pd\n",
    "import numpy as np\n",
    "from sklearn.model_selection import (\n",
    "    train_test_split,\n",
    "    cross_val_score,\n",
    "    GridSearchCV\n",
    ")\n",
    "from sklearn.pipeline import Pipeline\n",
    "from sklearn.linear_model import ARDRegression\n",
    "from sklearn.decomposition import PCA, NMF\n",
    "#from umap import UMAP\n",
    "from sklearn.feature_selection import (\n",
    "    mutual_info_regression,\n",
    "    f_regression\n",
    ")\n",
    "from sklearn.feature_selection import SelectKBest\n",
    "from sklearn.preprocessing import PolynomialFeatures\n",
    "from sklearn.metrics import r2_score\n",
    "from sklearn.preprocessing import (\n",
    "    StandardScaler,\n",
    "    MinMaxScaler\n",
    ")\n",
    "from sklearn.compose import TransformedTargetRegressor\n",
    "from sklearn.preprocessing import (\n",
    "    QuantileTransformer,\n",
    "    quantile_transform\n",
    ")\n",
    "import csv\n",
    "from sklearn.linear_model import TheilSenRegressor"
   ]
  },
  {
   "cell_type": "code",
   "execution_count": 2,
   "id": "747f0940-0552-48ea-999d-fec3fa2a7258",
   "metadata": {},
   "outputs": [],
   "source": [
    "SEED = 2024\n",
    "TEST_SIZE = 0.25"
   ]
  },
  {
   "cell_type": "code",
   "execution_count": 3,
   "id": "69799f29-6e85-4cf0-a118-28c0dc00b392",
   "metadata": {},
   "outputs": [],
   "source": [
    "np.random.seed(SEED)"
   ]
  },
  {
   "cell_type": "code",
   "execution_count": 4,
   "id": "65563a68-8abb-4937-b24d-7eff884250ca",
   "metadata": {},
   "outputs": [],
   "source": [
    "data = pd.read_csv('data/all.csv')"
   ]
  },
  {
   "cell_type": "code",
   "execution_count": 5,
   "id": "98e24a5e-3cc7-4488-9ced-a19c71432962",
   "metadata": {},
   "outputs": [],
   "source": [
    "y = data.values[:, 1].astype(np.float16)\n",
    "x = data.values[:, 2:].astype(np.float16)"
   ]
  },
  {
   "cell_type": "code",
   "execution_count": 6,
   "id": "1d5f4f04-0a50-4239-a8c1-fbafc91f3523",
   "metadata": {},
   "outputs": [],
   "source": [
    "from scipy.signal import savgol_filter\n",
    "from sklearn.base import BaseEstimator, TransformerMixin\n",
    "\n",
    "class SavgolFilterTransformer(BaseEstimator, TransformerMixin):\n",
    "\n",
    "    def __init__(self, window_length=2, polyorder=1):\n",
    "        super(SavgolFilterTransformer, self).__init__()\n",
    "        self.window_length = window_length\n",
    "        self.polyorder = polyorder\n",
    "\n",
    "    def fit(self, X, y=None):\n",
    "        return self\n",
    "\n",
    "    def transform(self, X, y=None):\n",
    "        # Perform arbitary transformation\n",
    "        X = savgol_filter(X, \n",
    "                          window_length=self.window_length, \n",
    "                          polyorder=self.polyorder)\n",
    "        return X"
   ]
  },
  {
   "cell_type": "code",
   "execution_count": 10,
   "id": "f3e88146-b61c-48c7-85cc-8f868b507345",
   "metadata": {},
   "outputs": [],
   "source": [
    "def create_pipeline(regressor: BaseEstimator, mode: str = \"naive\"):\n",
    "    if mode == \"naive\":\n",
    "        filter_window_length = [4, 12]\n",
    "        filter_poly_order = [3]\n",
    "    elif mode == \"full\":\n",
    "        filter_window_length = [4, 12, 24]\n",
    "        filter_poly_order = [3]\n",
    "\n",
    "    pipelines = [\n",
    "        (\n",
    "            {\n",
    "                #\"selection__k\": [x.shape[1]//2, 2 * x.shape[1]//3],\n",
    "                \"scaler\": [StandardScaler(), MinMaxScaler(feature_range=(0, 1))],\n",
    "                \"filter__window_length\": filter_window_length,\n",
    "                \"filter__polyorder\": filter_poly_order,\n",
    "                \"selection__k\": [64, 48],\n",
    "                \"selection__score_func\": [mutual_info_regression, f_regression],\n",
    "                #\"extraction__n_components\": [x.shape[1]//3, x.shape[1]//4],\n",
    "                \"extraction\": [PCA()],#, NMF(max_iter=10000)],\n",
    "                \"extraction__n_components\": [32, 24]\n",
    "            },\n",
    "            Pipeline([\n",
    "                (\"scaler\", \"passthrough\"),\n",
    "                (\"filter\", SavgolFilterTransformer()),\n",
    "                (\"selection\", SelectKBest()),\n",
    "                (\"extraction\", \"passthrough\"),\n",
    "                (\"polynomial\", PolynomialFeatures(include_bias=False, degree=1)),\n",
    "                (\"regression\", regressor)\n",
    "            ])\n",
    "        ),\n",
    "        (\n",
    "            {\n",
    "                #\"selection__k\": [x.shape[1]//2, 2 * x.shape[1]//3],\n",
    "                \"scaler\": [StandardScaler(), MinMaxScaler(feature_range=(0, 1))],\n",
    "                \"filter__window_length\": filter_window_length,\n",
    "                \"filter__polyorder\": filter_poly_order,\n",
    "                \"selection__k\": [64, 48],\n",
    "                \"selection__score_func\": [mutual_info_regression, f_regression],\n",
    "                #\"extraction__n_components\": [x.shape[1]//3, x.shape[1]//4],\n",
    "                \"extraction\": [PCA()],#, NMF(max_iter=10000)],\n",
    "                \"extraction__n_components\": [32, 24]\n",
    "            },\n",
    "            Pipeline([\n",
    "                (\"scaler\", \"passthrough\"),\n",
    "                (\"filter\", SavgolFilterTransformer()),\n",
    "                (\"selection\", SelectKBest()),\n",
    "                (\"extraction\", \"passthrough\"),\n",
    "                (\"polynomial\", PolynomialFeatures(include_bias=False, degree=2)),\n",
    "                (\"regression\", regressor)\n",
    "            ])\n",
    "        ),\n",
    "        (\n",
    "            {\n",
    "                #\"selection__k\": [x.shape[1]//2, 2 * x.shape[1]//3],\n",
    "                \"scaler\": [StandardScaler(), MinMaxScaler(feature_range=(0, 1))],\n",
    "                \"filter__window_length\": filter_window_length,\n",
    "                \"filter__polyorder\": filter_poly_order,\n",
    "                \"selection__k\": [64, 48],\n",
    "                \"selection__score_func\": [mutual_info_regression, f_regression],\n",
    "                #\"extraction__n_components\": [x.shape[1]//3, x.shape[1]//4],\n",
    "                \"extraction\": [PCA()],#, NMF(max_iter=10000)],\n",
    "                \"extraction__n_components\": [32, 24]\n",
    "            },\n",
    "            Pipeline([\n",
    "                (\"scaler\", \"passthrough\"),\n",
    "                (\"filter\", SavgolFilterTransformer()),\n",
    "                (\"selection\", SelectKBest()),\n",
    "                (\"extraction\", \"passthrough\"),\n",
    "                (\"polynomial\", PolynomialFeatures(include_bias=False, degree=3)),\n",
    "                (\"regression\", regressor)\n",
    "            ])\n",
    "        ), (\n",
    "\n",
    "    {\n",
    "                #\"selection__k\": [x.shape[1]//2, 2 * x.shape[1]//3],\n",
    "                \"scaler\": [StandardScaler(), MinMaxScaler(feature_range=(0, 1))],\n",
    "                \"selection__k\": [64, 48],\n",
    "                \"selection__score_func\": [mutual_info_regression, f_regression],\n",
    "                #\"extraction__n_components\": [x.shape[1]//3, x.shape[1]//4],\n",
    "                \"extraction\": [PCA()],#, NMF(max_iter=10000)],\n",
    "                \"extraction__n_components\": [32, 24]\n",
    "            },\n",
    "            Pipeline([\n",
    "                (\"scaler\", \"passthrough\"),\n",
    "                (\"selection\", SelectKBest()),\n",
    "                (\"extraction\", \"passthrough\"),\n",
    "                (\"polynomial\", PolynomialFeatures(include_bias=False, degree=1)),\n",
    "                (\"regression\", regressor)\n",
    "            ])\n",
    "        ),\n",
    "        (\n",
    "            {\n",
    "                #\"selection__k\": [x.shape[1]//2, 2 * x.shape[1]//3],\n",
    "                \"scaler\": [StandardScaler(), MinMaxScaler(feature_range=(0, 1))],\n",
    "                \"selection__k\": [64, 48],\n",
    "                \"selection__score_func\": [mutual_info_regression, f_regression],\n",
    "                #\"extraction__n_components\": [x.shape[1]//3, x.shape[1]//4],\n",
    "                \"extraction\": [PCA()],#, NMF(max_iter=10000)],\n",
    "                \"extraction__n_components\": [32, 24]\n",
    "            },\n",
    "            Pipeline([\n",
    "                (\"scaler\", \"passthrough\"),\n",
    "                (\"selection\", SelectKBest()),\n",
    "                (\"extraction\", \"passthrough\"),\n",
    "                (\"polynomial\", PolynomialFeatures(include_bias=False, degree=2)),\n",
    "                (\"regression\", regressor)\n",
    "            ])\n",
    "        ),\n",
    "        (\n",
    "            {\n",
    "                #\"selection__k\": [x.shape[1]//2, 2 * x.shape[1]//3],\n",
    "                \"scaler\": [StandardScaler(), MinMaxScaler(feature_range=(0, 1))],\n",
    "                \"selection__k\": [64, 48],\n",
    "                \"selection__score_func\": [mutual_info_regression, f_regression],\n",
    "                #\"extraction__n_components\": [x.shape[1]//3, x.shape[1]//4],\n",
    "                \"extraction\": [PCA()],#, NMF(max_iter=10000)],\n",
    "                \"extraction__n_components\": [32, 24],\n",
    "            },\n",
    "            Pipeline([\n",
    "                (\"scaler\", \"passthrough\"),\n",
    "                (\"selection\", SelectKBest()),\n",
    "                (\"extraction\", \"passthrough\"),\n",
    "                (\"polynomial\", PolynomialFeatures(include_bias=False, degree=3)),\n",
    "                (\"regression\", regressor)\n",
    "            ])\n",
    "        ),\n",
    "    ]\n",
    "\n",
    "    return pipelines"
   ]
  },
  {
   "cell_type": "code",
   "execution_count": 11,
   "id": "e1215f90-923c-4b7f-acba-bccec7eac216",
   "metadata": {},
   "outputs": [],
   "source": [
    "CVS = [2, 3]"
   ]
  },
  {
   "cell_type": "code",
   "execution_count": 12,
   "id": "6d974c67-901a-4af5-9962-c1d4590c31a1",
   "metadata": {},
   "outputs": [],
   "source": [
    "def optimize_pipeline(cv, pipeline, x_train, x_test, y_train, y_test):\n",
    "        param_grid = pipeline[0]\n",
    "        pipe = pipeline[1]\n",
    "        print(param_grid)\n",
    "        print(pipe)\n",
    "        grid_search = GridSearchCV(\n",
    "            pipe,\n",
    "            param_grid=param_grid,\n",
    "            scoring=\"r2\",\n",
    "            cv=cv,\n",
    "            refit=True,\n",
    "            n_jobs=-1,\n",
    "            verbose=1\n",
    "        )\n",
    "        grid_search.fit(x_train, y_train)\n",
    "        y_pred = grid_search.best_estimator_.predict(x_test)\n",
    "        train_score = r2_score(y_train, grid_search.best_estimator_.predict(x_train))\n",
    "        test_score = r2_score(y_test, y_pred)\n",
    "        scores = cross_val_score(\n",
    "            grid_search.best_estimator_, x_test, y_test, scoring=\"r2\", cv=3\n",
    "        )\n",
    "        print(f\"Best Score: {grid_search.best_score_:.3f}; R2 Score: Train = {train_score:.3f}; Test = {test_score:.3f}\")\n",
    "        print(grid_search.best_params_)\n",
    "\n",
    "        print(\"\")\n",
    "        #print(grid_search.cv_results_)\n",
    "        pipeline_with_trans_target = TransformedTargetRegressor(\n",
    "            regressor=grid_search.best_estimator_,\n",
    "            transformer=QuantileTransformer(n_quantiles=900, output_distribution=\"normal\")\n",
    "        )\n",
    "        pipeline_with_trans_target.fit(x_train, y_train)\n",
    "        y_pred = pipeline_with_trans_target.predict(x_test)\n",
    "        train_score_trans = r2_score(y_train, pipeline_with_trans_target.predict(x_train))\n",
    "        test_score_trans = r2_score(y_test, y_pred)\n",
    "        trans_scores = cross_val_score(\n",
    "            pipeline_with_trans_target, x_test, y_test, scoring=\"r2\", cv=3\n",
    "        )\n",
    "        print(f\"(Transformed Target) R2 Score: Train = {train_score_trans:.3f}; Test = {test_score_trans:.3f}\")\n",
    "\n",
    "        return [round(grid_search.best_score_, 3), \n",
    "                round(train_score, 3),\n",
    "                round(test_score, 3),\n",
    "                round(scores.mean(), 3),\n",
    "                round(scores.std(), 3),\n",
    "                round(train_score_trans, 3),\n",
    "                round(test_score_trans, 3),\n",
    "                round(trans_scores.mean(), 3),\n",
    "                round(trans_scores.std(), 3)\n",
    "                ], grid_search.best_params_"
   ]
  },
  {
   "cell_type": "code",
   "execution_count": null,
   "id": "a5814890-37ed-47ae-b9e9-f85790b2702f",
   "metadata": {},
   "outputs": [
    {
     "name": "stdout",
     "output_type": "stream",
     "text": [
      "CV: 2\n",
      "{'scaler': [StandardScaler(), MinMaxScaler()], 'filter__window_length': [4, 12, 24], 'filter__polyorder': [3], 'selection__k': [64, 48], 'selection__score_func': [<function mutual_info_regression at 0x7f139b130c10>, <function f_regression at 0x7f139b132830>], 'extraction': [PCA()], 'extraction__n_components': [32, 24]}\n",
      "Pipeline(steps=[('scaler', 'passthrough'),\n",
      "                ('filter', SavgolFilterTransformer()),\n",
      "                ('selection', SelectKBest()), ('extraction', 'passthrough'),\n",
      "                ('polynomial',\n",
      "                 PolynomialFeatures(degree=1, include_bias=False)),\n",
      "                ('regression', ARDRegression())])\n",
      "Fitting 2 folds for each of 48 candidates, totalling 96 fits\n"
     ]
    },
    {
     "name": "stderr",
     "output_type": "stream",
     "text": [
      "/home/borjaeg/anaconda3/envs/multispectral/lib/python3.10/site-packages/sklearn/preprocessing/_data.py:2663: UserWarning: n_quantiles (900) is greater than the total number of samples (771). n_quantiles is set to n_samples.\n",
      "  warnings.warn(\n",
      "/home/borjaeg/anaconda3/envs/multispectral/lib/python3.10/site-packages/sklearn/preprocessing/_data.py:2663: UserWarning: n_quantiles (900) is greater than the total number of samples (257). n_quantiles is set to n_samples.\n",
      "  warnings.warn(\n"
     ]
    },
    {
     "name": "stdout",
     "output_type": "stream",
     "text": [
      "Best Score: 0.458; R2 Score: Train = 0.514; Test = 0.456\n",
      "{'extraction': PCA(), 'extraction__n_components': 32, 'filter__polyorder': 3, 'filter__window_length': 4, 'scaler': MinMaxScaler(), 'selection__k': 48, 'selection__score_func': <function mutual_info_regression at 0x7f139b130c10>}\n",
      "\n"
     ]
    },
    {
     "name": "stderr",
     "output_type": "stream",
     "text": [
      "/home/borjaeg/anaconda3/envs/multispectral/lib/python3.10/site-packages/sklearn/preprocessing/_data.py:2663: UserWarning: n_quantiles (900) is greater than the total number of samples (771). n_quantiles is set to n_samples.\n",
      "  warnings.warn(\n",
      "/home/borjaeg/anaconda3/envs/multispectral/lib/python3.10/site-packages/sklearn/preprocessing/_data.py:2663: UserWarning: n_quantiles (900) is greater than the total number of samples (171). n_quantiles is set to n_samples.\n",
      "  warnings.warn(\n",
      "/home/borjaeg/anaconda3/envs/multispectral/lib/python3.10/site-packages/sklearn/compose/_target.py:190: UserWarning: The provided functions or transformer are not strictly inverse of each other. If you are sure you want to proceed regardless, set 'check_inverse=False'\n",
      "  warnings.warn(\n",
      "/home/borjaeg/anaconda3/envs/multispectral/lib/python3.10/site-packages/sklearn/preprocessing/_data.py:2663: UserWarning: n_quantiles (900) is greater than the total number of samples (171). n_quantiles is set to n_samples.\n",
      "  warnings.warn(\n",
      "/home/borjaeg/anaconda3/envs/multispectral/lib/python3.10/site-packages/sklearn/compose/_target.py:190: UserWarning: The provided functions or transformer are not strictly inverse of each other. If you are sure you want to proceed regardless, set 'check_inverse=False'\n",
      "  warnings.warn(\n",
      "/home/borjaeg/anaconda3/envs/multispectral/lib/python3.10/site-packages/sklearn/preprocessing/_data.py:2663: UserWarning: n_quantiles (900) is greater than the total number of samples (172). n_quantiles is set to n_samples.\n",
      "  warnings.warn(\n",
      "/home/borjaeg/anaconda3/envs/multispectral/lib/python3.10/site-packages/sklearn/compose/_target.py:190: UserWarning: The provided functions or transformer are not strictly inverse of each other. If you are sure you want to proceed regardless, set 'check_inverse=False'\n",
      "  warnings.warn(\n"
     ]
    },
    {
     "name": "stdout",
     "output_type": "stream",
     "text": [
      "(Transformed Target) R2 Score: Train = 0.241; Test = 0.128\n",
      "{'scaler': [StandardScaler(), MinMaxScaler()], 'filter__window_length': [4, 12, 24], 'filter__polyorder': [3], 'selection__k': [64, 48], 'selection__score_func': [<function mutual_info_regression at 0x7f139b130c10>, <function f_regression at 0x7f139b132830>], 'extraction': [PCA()], 'extraction__n_components': [32, 24]}\n",
      "Pipeline(steps=[('scaler', 'passthrough'),\n",
      "                ('filter', SavgolFilterTransformer()),\n",
      "                ('selection', SelectKBest()), ('extraction', 'passthrough'),\n",
      "                ('polynomial',\n",
      "                 PolynomialFeatures(degree=1, include_bias=False)),\n",
      "                ('regression', ARDRegression())])\n",
      "Fitting 2 folds for each of 48 candidates, totalling 96 fits\n",
      "Best Score: 0.534; R2 Score: Train = 0.589; Test = 0.556\n",
      "{'extraction': PCA(), 'extraction__n_components': 32, 'filter__polyorder': 3, 'filter__window_length': 12, 'scaler': StandardScaler(), 'selection__k': 64, 'selection__score_func': <function f_regression at 0x7f139b132830>}\n",
      "\n"
     ]
    },
    {
     "name": "stderr",
     "output_type": "stream",
     "text": [
      "/home/borjaeg/anaconda3/envs/multispectral/lib/python3.10/site-packages/sklearn/preprocessing/_data.py:2663: UserWarning: n_quantiles (900) is greater than the total number of samples (771). n_quantiles is set to n_samples.\n",
      "  warnings.warn(\n",
      "/home/borjaeg/anaconda3/envs/multispectral/lib/python3.10/site-packages/sklearn/preprocessing/_data.py:2663: UserWarning: n_quantiles (900) is greater than the total number of samples (171). n_quantiles is set to n_samples.\n",
      "  warnings.warn(\n",
      "/home/borjaeg/anaconda3/envs/multispectral/lib/python3.10/site-packages/sklearn/compose/_target.py:190: UserWarning: The provided functions or transformer are not strictly inverse of each other. If you are sure you want to proceed regardless, set 'check_inverse=False'\n",
      "  warnings.warn(\n",
      "/home/borjaeg/anaconda3/envs/multispectral/lib/python3.10/site-packages/sklearn/preprocessing/_data.py:2663: UserWarning: n_quantiles (900) is greater than the total number of samples (171). n_quantiles is set to n_samples.\n",
      "  warnings.warn(\n",
      "/home/borjaeg/anaconda3/envs/multispectral/lib/python3.10/site-packages/sklearn/compose/_target.py:190: UserWarning: The provided functions or transformer are not strictly inverse of each other. If you are sure you want to proceed regardless, set 'check_inverse=False'\n",
      "  warnings.warn(\n",
      "/home/borjaeg/anaconda3/envs/multispectral/lib/python3.10/site-packages/sklearn/preprocessing/_data.py:2663: UserWarning: n_quantiles (900) is greater than the total number of samples (172). n_quantiles is set to n_samples.\n",
      "  warnings.warn(\n",
      "/home/borjaeg/anaconda3/envs/multispectral/lib/python3.10/site-packages/sklearn/compose/_target.py:190: UserWarning: The provided functions or transformer are not strictly inverse of each other. If you are sure you want to proceed regardless, set 'check_inverse=False'\n",
      "  warnings.warn(\n"
     ]
    },
    {
     "name": "stdout",
     "output_type": "stream",
     "text": [
      "(Transformed Target) R2 Score: Train = 0.589; Test = 0.556\n",
      "==================================================\n",
      "CV: 2\n",
      "{'scaler': [StandardScaler(), MinMaxScaler()], 'filter__window_length': [4, 12, 24], 'filter__polyorder': [3], 'selection__k': [64, 48], 'selection__score_func': [<function mutual_info_regression at 0x7f139b130c10>, <function f_regression at 0x7f139b132830>], 'extraction': [PCA()], 'extraction__n_components': [32, 24]}\n",
      "Pipeline(steps=[('scaler', 'passthrough'),\n",
      "                ('filter', SavgolFilterTransformer()),\n",
      "                ('selection', SelectKBest()), ('extraction', 'passthrough'),\n",
      "                ('polynomial', PolynomialFeatures(include_bias=False)),\n",
      "                ('regression', ARDRegression())])\n",
      "Fitting 2 folds for each of 48 candidates, totalling 96 fits\n",
      "Best Score: 0.669; R2 Score: Train = 0.812; Test = 0.617\n",
      "{'extraction': PCA(), 'extraction__n_components': 32, 'filter__polyorder': 3, 'filter__window_length': 24, 'scaler': MinMaxScaler(), 'selection__k': 64, 'selection__score_func': <function f_regression at 0x7f139b132830>}\n",
      "\n"
     ]
    },
    {
     "name": "stderr",
     "output_type": "stream",
     "text": [
      "/home/borjaeg/anaconda3/envs/multispectral/lib/python3.10/site-packages/sklearn/preprocessing/_data.py:2663: UserWarning: n_quantiles (900) is greater than the total number of samples (771). n_quantiles is set to n_samples.\n",
      "  warnings.warn(\n",
      "/home/borjaeg/anaconda3/envs/multispectral/lib/python3.10/site-packages/sklearn/preprocessing/_data.py:2663: UserWarning: n_quantiles (900) is greater than the total number of samples (171). n_quantiles is set to n_samples.\n",
      "  warnings.warn(\n",
      "/home/borjaeg/anaconda3/envs/multispectral/lib/python3.10/site-packages/sklearn/compose/_target.py:190: UserWarning: The provided functions or transformer are not strictly inverse of each other. If you are sure you want to proceed regardless, set 'check_inverse=False'\n",
      "  warnings.warn(\n",
      "/home/borjaeg/anaconda3/envs/multispectral/lib/python3.10/site-packages/sklearn/preprocessing/_data.py:2663: UserWarning: n_quantiles (900) is greater than the total number of samples (171). n_quantiles is set to n_samples.\n",
      "  warnings.warn(\n",
      "/home/borjaeg/anaconda3/envs/multispectral/lib/python3.10/site-packages/sklearn/compose/_target.py:190: UserWarning: The provided functions or transformer are not strictly inverse of each other. If you are sure you want to proceed regardless, set 'check_inverse=False'\n",
      "  warnings.warn(\n",
      "/home/borjaeg/anaconda3/envs/multispectral/lib/python3.10/site-packages/sklearn/preprocessing/_data.py:2663: UserWarning: n_quantiles (900) is greater than the total number of samples (172). n_quantiles is set to n_samples.\n",
      "  warnings.warn(\n",
      "/home/borjaeg/anaconda3/envs/multispectral/lib/python3.10/site-packages/sklearn/compose/_target.py:190: UserWarning: The provided functions or transformer are not strictly inverse of each other. If you are sure you want to proceed regardless, set 'check_inverse=False'\n",
      "  warnings.warn(\n"
     ]
    },
    {
     "name": "stdout",
     "output_type": "stream",
     "text": [
      "(Transformed Target) R2 Score: Train = 0.642; Test = 0.374\n",
      "{'scaler': [StandardScaler(), MinMaxScaler()], 'filter__window_length': [4, 12, 24], 'filter__polyorder': [3], 'selection__k': [64, 48], 'selection__score_func': [<function mutual_info_regression at 0x7f139b130c10>, <function f_regression at 0x7f139b132830>], 'extraction': [PCA()], 'extraction__n_components': [32, 24]}\n",
      "Pipeline(steps=[('scaler', 'passthrough'),\n",
      "                ('filter', SavgolFilterTransformer()),\n",
      "                ('selection', SelectKBest()), ('extraction', 'passthrough'),\n",
      "                ('polynomial', PolynomialFeatures(include_bias=False)),\n",
      "                ('regression', ARDRegression())])\n",
      "Fitting 2 folds for each of 48 candidates, totalling 96 fits\n",
      "Best Score: 0.605; R2 Score: Train = 0.756; Test = 0.651\n",
      "{'extraction': PCA(), 'extraction__n_components': 24, 'filter__polyorder': 3, 'filter__window_length': 4, 'scaler': MinMaxScaler(), 'selection__k': 64, 'selection__score_func': <function mutual_info_regression at 0x7f139b130c10>}\n",
      "\n"
     ]
    },
    {
     "name": "stderr",
     "output_type": "stream",
     "text": [
      "/home/borjaeg/anaconda3/envs/multispectral/lib/python3.10/site-packages/sklearn/preprocessing/_data.py:2663: UserWarning: n_quantiles (900) is greater than the total number of samples (771). n_quantiles is set to n_samples.\n",
      "  warnings.warn(\n",
      "/home/borjaeg/anaconda3/envs/multispectral/lib/python3.10/site-packages/sklearn/preprocessing/_data.py:2663: UserWarning: n_quantiles (900) is greater than the total number of samples (171). n_quantiles is set to n_samples.\n",
      "  warnings.warn(\n",
      "/home/borjaeg/anaconda3/envs/multispectral/lib/python3.10/site-packages/sklearn/compose/_target.py:190: UserWarning: The provided functions or transformer are not strictly inverse of each other. If you are sure you want to proceed regardless, set 'check_inverse=False'\n",
      "  warnings.warn(\n",
      "/home/borjaeg/anaconda3/envs/multispectral/lib/python3.10/site-packages/sklearn/preprocessing/_data.py:2663: UserWarning: n_quantiles (900) is greater than the total number of samples (171). n_quantiles is set to n_samples.\n",
      "  warnings.warn(\n",
      "/home/borjaeg/anaconda3/envs/multispectral/lib/python3.10/site-packages/sklearn/compose/_target.py:190: UserWarning: The provided functions or transformer are not strictly inverse of each other. If you are sure you want to proceed regardless, set 'check_inverse=False'\n",
      "  warnings.warn(\n",
      "/home/borjaeg/anaconda3/envs/multispectral/lib/python3.10/site-packages/sklearn/preprocessing/_data.py:2663: UserWarning: n_quantiles (900) is greater than the total number of samples (172). n_quantiles is set to n_samples.\n",
      "  warnings.warn(\n",
      "/home/borjaeg/anaconda3/envs/multispectral/lib/python3.10/site-packages/sklearn/compose/_target.py:190: UserWarning: The provided functions or transformer are not strictly inverse of each other. If you are sure you want to proceed regardless, set 'check_inverse=False'\n",
      "  warnings.warn(\n"
     ]
    },
    {
     "name": "stdout",
     "output_type": "stream",
     "text": [
      "(Transformed Target) R2 Score: Train = 0.764; Test = 0.626\n",
      "==================================================\n",
      "CV: 2\n",
      "{'scaler': [StandardScaler(), MinMaxScaler()], 'filter__window_length': [4, 12, 24], 'filter__polyorder': [3], 'selection__k': [64, 48], 'selection__score_func': [<function mutual_info_regression at 0x7f139b130c10>, <function f_regression at 0x7f139b132830>], 'extraction': [PCA()], 'extraction__n_components': [32, 24]}\n",
      "Pipeline(steps=[('scaler', 'passthrough'),\n",
      "                ('filter', SavgolFilterTransformer()),\n",
      "                ('selection', SelectKBest()), ('extraction', 'passthrough'),\n",
      "                ('polynomial',\n",
      "                 PolynomialFeatures(degree=3, include_bias=False)),\n",
      "                ('regression', ARDRegression())])\n",
      "Fitting 2 folds for each of 48 candidates, totalling 96 fits\n",
      "Best Score: 0.602; R2 Score: Train = 0.924; Test = 0.729\n",
      "{'extraction': PCA(), 'extraction__n_components': 32, 'filter__polyorder': 3, 'filter__window_length': 24, 'scaler': MinMaxScaler(), 'selection__k': 48, 'selection__score_func': <function mutual_info_regression at 0x7f139b130c10>}\n",
      "\n"
     ]
    },
    {
     "name": "stderr",
     "output_type": "stream",
     "text": [
      "/home/borjaeg/anaconda3/envs/multispectral/lib/python3.10/site-packages/sklearn/preprocessing/_data.py:2663: UserWarning: n_quantiles (900) is greater than the total number of samples (771). n_quantiles is set to n_samples.\n",
      "  warnings.warn(\n",
      "/home/borjaeg/anaconda3/envs/multispectral/lib/python3.10/site-packages/sklearn/preprocessing/_data.py:2663: UserWarning: n_quantiles (900) is greater than the total number of samples (171). n_quantiles is set to n_samples.\n",
      "  warnings.warn(\n",
      "/home/borjaeg/anaconda3/envs/multispectral/lib/python3.10/site-packages/sklearn/compose/_target.py:190: UserWarning: The provided functions or transformer are not strictly inverse of each other. If you are sure you want to proceed regardless, set 'check_inverse=False'\n",
      "  warnings.warn(\n",
      "/home/borjaeg/anaconda3/envs/multispectral/lib/python3.10/site-packages/sklearn/preprocessing/_data.py:2663: UserWarning: n_quantiles (900) is greater than the total number of samples (171). n_quantiles is set to n_samples.\n",
      "  warnings.warn(\n",
      "/home/borjaeg/anaconda3/envs/multispectral/lib/python3.10/site-packages/sklearn/compose/_target.py:190: UserWarning: The provided functions or transformer are not strictly inverse of each other. If you are sure you want to proceed regardless, set 'check_inverse=False'\n",
      "  warnings.warn(\n",
      "/home/borjaeg/anaconda3/envs/multispectral/lib/python3.10/site-packages/sklearn/preprocessing/_data.py:2663: UserWarning: n_quantiles (900) is greater than the total number of samples (172). n_quantiles is set to n_samples.\n",
      "  warnings.warn(\n",
      "/home/borjaeg/anaconda3/envs/multispectral/lib/python3.10/site-packages/sklearn/compose/_target.py:190: UserWarning: The provided functions or transformer are not strictly inverse of each other. If you are sure you want to proceed regardless, set 'check_inverse=False'\n",
      "  warnings.warn(\n"
     ]
    },
    {
     "name": "stdout",
     "output_type": "stream",
     "text": [
      "(Transformed Target) R2 Score: Train = 0.734; Test = 0.605\n",
      "{'scaler': [StandardScaler(), MinMaxScaler()], 'filter__window_length': [4, 12, 24], 'filter__polyorder': [3], 'selection__k': [64, 48], 'selection__score_func': [<function mutual_info_regression at 0x7f139b130c10>, <function f_regression at 0x7f139b132830>], 'extraction': [PCA()], 'extraction__n_components': [32, 24]}\n",
      "Pipeline(steps=[('scaler', 'passthrough'),\n",
      "                ('filter', SavgolFilterTransformer()),\n",
      "                ('selection', SelectKBest()), ('extraction', 'passthrough'),\n",
      "                ('polynomial',\n",
      "                 PolynomialFeatures(degree=3, include_bias=False)),\n",
      "                ('regression', ARDRegression())])\n",
      "Fitting 2 folds for each of 48 candidates, totalling 96 fits\n",
      "Best Score: 0.526; R2 Score: Train = 0.794; Test = 0.683\n",
      "{'extraction': PCA(), 'extraction__n_components': 24, 'filter__polyorder': 3, 'filter__window_length': 24, 'scaler': MinMaxScaler(), 'selection__k': 64, 'selection__score_func': <function f_regression at 0x7f139b132830>}\n",
      "\n"
     ]
    },
    {
     "name": "stderr",
     "output_type": "stream",
     "text": [
      "/home/borjaeg/anaconda3/envs/multispectral/lib/python3.10/site-packages/sklearn/preprocessing/_data.py:2663: UserWarning: n_quantiles (900) is greater than the total number of samples (771). n_quantiles is set to n_samples.\n",
      "  warnings.warn(\n",
      "/home/borjaeg/anaconda3/envs/multispectral/lib/python3.10/site-packages/sklearn/preprocessing/_data.py:2663: UserWarning: n_quantiles (900) is greater than the total number of samples (171). n_quantiles is set to n_samples.\n",
      "  warnings.warn(\n",
      "/home/borjaeg/anaconda3/envs/multispectral/lib/python3.10/site-packages/sklearn/compose/_target.py:190: UserWarning: The provided functions or transformer are not strictly inverse of each other. If you are sure you want to proceed regardless, set 'check_inverse=False'\n",
      "  warnings.warn(\n",
      "/home/borjaeg/anaconda3/envs/multispectral/lib/python3.10/site-packages/sklearn/preprocessing/_data.py:2663: UserWarning: n_quantiles (900) is greater than the total number of samples (171). n_quantiles is set to n_samples.\n",
      "  warnings.warn(\n",
      "/home/borjaeg/anaconda3/envs/multispectral/lib/python3.10/site-packages/sklearn/compose/_target.py:190: UserWarning: The provided functions or transformer are not strictly inverse of each other. If you are sure you want to proceed regardless, set 'check_inverse=False'\n",
      "  warnings.warn(\n",
      "/home/borjaeg/anaconda3/envs/multispectral/lib/python3.10/site-packages/sklearn/preprocessing/_data.py:2663: UserWarning: n_quantiles (900) is greater than the total number of samples (172). n_quantiles is set to n_samples.\n",
      "  warnings.warn(\n",
      "/home/borjaeg/anaconda3/envs/multispectral/lib/python3.10/site-packages/sklearn/compose/_target.py:190: UserWarning: The provided functions or transformer are not strictly inverse of each other. If you are sure you want to proceed regardless, set 'check_inverse=False'\n",
      "  warnings.warn(\n"
     ]
    },
    {
     "name": "stdout",
     "output_type": "stream",
     "text": [
      "(Transformed Target) R2 Score: Train = 0.792; Test = 0.671\n",
      "==================================================\n",
      "CV: 2\n",
      "{'scaler': [StandardScaler(), MinMaxScaler()], 'selection__k': [64, 48], 'selection__score_func': [<function mutual_info_regression at 0x7f139b130c10>, <function f_regression at 0x7f139b132830>], 'extraction': [PCA()], 'extraction__n_components': [32, 24]}\n",
      "Pipeline(steps=[('scaler', 'passthrough'), ('selection', SelectKBest()),\n",
      "                ('extraction', 'passthrough'),\n",
      "                ('polynomial',\n",
      "                 PolynomialFeatures(degree=1, include_bias=False)),\n",
      "                ('regression', ARDRegression())])\n",
      "Fitting 2 folds for each of 16 candidates, totalling 32 fits\n",
      "Best Score: 0.422; R2 Score: Train = 0.490; Test = 0.428\n",
      "{'extraction': PCA(), 'extraction__n_components': 24, 'scaler': MinMaxScaler(), 'selection__k': 64, 'selection__score_func': <function mutual_info_regression at 0x7f139b130c10>}\n",
      "\n"
     ]
    },
    {
     "name": "stderr",
     "output_type": "stream",
     "text": [
      "/home/borjaeg/anaconda3/envs/multispectral/lib/python3.10/site-packages/sklearn/preprocessing/_data.py:2663: UserWarning: n_quantiles (900) is greater than the total number of samples (771). n_quantiles is set to n_samples.\n",
      "  warnings.warn(\n",
      "/home/borjaeg/anaconda3/envs/multispectral/lib/python3.10/site-packages/sklearn/preprocessing/_data.py:2663: UserWarning: n_quantiles (900) is greater than the total number of samples (171). n_quantiles is set to n_samples.\n",
      "  warnings.warn(\n",
      "/home/borjaeg/anaconda3/envs/multispectral/lib/python3.10/site-packages/sklearn/compose/_target.py:190: UserWarning: The provided functions or transformer are not strictly inverse of each other. If you are sure you want to proceed regardless, set 'check_inverse=False'\n",
      "  warnings.warn(\n",
      "/home/borjaeg/anaconda3/envs/multispectral/lib/python3.10/site-packages/sklearn/preprocessing/_data.py:2663: UserWarning: n_quantiles (900) is greater than the total number of samples (171). n_quantiles is set to n_samples.\n",
      "  warnings.warn(\n",
      "/home/borjaeg/anaconda3/envs/multispectral/lib/python3.10/site-packages/sklearn/compose/_target.py:190: UserWarning: The provided functions or transformer are not strictly inverse of each other. If you are sure you want to proceed regardless, set 'check_inverse=False'\n",
      "  warnings.warn(\n",
      "/home/borjaeg/anaconda3/envs/multispectral/lib/python3.10/site-packages/sklearn/preprocessing/_data.py:2663: UserWarning: n_quantiles (900) is greater than the total number of samples (172). n_quantiles is set to n_samples.\n",
      "  warnings.warn(\n",
      "/home/borjaeg/anaconda3/envs/multispectral/lib/python3.10/site-packages/sklearn/compose/_target.py:190: UserWarning: The provided functions or transformer are not strictly inverse of each other. If you are sure you want to proceed regardless, set 'check_inverse=False'\n",
      "  warnings.warn(\n"
     ]
    },
    {
     "name": "stdout",
     "output_type": "stream",
     "text": [
      "(Transformed Target) R2 Score: Train = 0.222; Test = 0.068\n",
      "{'scaler': [StandardScaler(), MinMaxScaler()], 'selection__k': [64, 48], 'selection__score_func': [<function mutual_info_regression at 0x7f139b130c10>, <function f_regression at 0x7f139b132830>], 'extraction': [PCA()], 'extraction__n_components': [32, 24]}\n",
      "Pipeline(steps=[('scaler', 'passthrough'), ('selection', SelectKBest()),\n",
      "                ('extraction', 'passthrough'),\n",
      "                ('polynomial',\n",
      "                 PolynomialFeatures(degree=1, include_bias=False)),\n",
      "                ('regression', ARDRegression())])\n",
      "Fitting 2 folds for each of 16 candidates, totalling 32 fits\n",
      "Best Score: 0.506; R2 Score: Train = 0.579; Test = 0.503\n",
      "{'extraction': PCA(), 'extraction__n_components': 32, 'scaler': MinMaxScaler(), 'selection__k': 64, 'selection__score_func': <function f_regression at 0x7f139b132830>}\n",
      "\n"
     ]
    },
    {
     "name": "stderr",
     "output_type": "stream",
     "text": [
      "/home/borjaeg/anaconda3/envs/multispectral/lib/python3.10/site-packages/sklearn/preprocessing/_data.py:2663: UserWarning: n_quantiles (900) is greater than the total number of samples (771). n_quantiles is set to n_samples.\n",
      "  warnings.warn(\n",
      "/home/borjaeg/anaconda3/envs/multispectral/lib/python3.10/site-packages/sklearn/preprocessing/_data.py:2663: UserWarning: n_quantiles (900) is greater than the total number of samples (171). n_quantiles is set to n_samples.\n",
      "  warnings.warn(\n",
      "/home/borjaeg/anaconda3/envs/multispectral/lib/python3.10/site-packages/sklearn/compose/_target.py:190: UserWarning: The provided functions or transformer are not strictly inverse of each other. If you are sure you want to proceed regardless, set 'check_inverse=False'\n",
      "  warnings.warn(\n",
      "/home/borjaeg/anaconda3/envs/multispectral/lib/python3.10/site-packages/sklearn/preprocessing/_data.py:2663: UserWarning: n_quantiles (900) is greater than the total number of samples (171). n_quantiles is set to n_samples.\n",
      "  warnings.warn(\n",
      "/home/borjaeg/anaconda3/envs/multispectral/lib/python3.10/site-packages/sklearn/compose/_target.py:190: UserWarning: The provided functions or transformer are not strictly inverse of each other. If you are sure you want to proceed regardless, set 'check_inverse=False'\n",
      "  warnings.warn(\n",
      "/home/borjaeg/anaconda3/envs/multispectral/lib/python3.10/site-packages/sklearn/preprocessing/_data.py:2663: UserWarning: n_quantiles (900) is greater than the total number of samples (172). n_quantiles is set to n_samples.\n",
      "  warnings.warn(\n",
      "/home/borjaeg/anaconda3/envs/multispectral/lib/python3.10/site-packages/sklearn/compose/_target.py:190: UserWarning: The provided functions or transformer are not strictly inverse of each other. If you are sure you want to proceed regardless, set 'check_inverse=False'\n",
      "  warnings.warn(\n"
     ]
    },
    {
     "name": "stdout",
     "output_type": "stream",
     "text": [
      "(Transformed Target) R2 Score: Train = 0.563; Test = 0.489\n",
      "==================================================\n",
      "CV: 2\n",
      "{'scaler': [StandardScaler(), MinMaxScaler()], 'selection__k': [64, 48], 'selection__score_func': [<function mutual_info_regression at 0x7f139b130c10>, <function f_regression at 0x7f139b132830>], 'extraction': [PCA()], 'extraction__n_components': [32, 24]}\n",
      "Pipeline(steps=[('scaler', 'passthrough'), ('selection', SelectKBest()),\n",
      "                ('extraction', 'passthrough'),\n",
      "                ('polynomial', PolynomialFeatures(include_bias=False)),\n",
      "                ('regression', ARDRegression())])\n",
      "Fitting 2 folds for each of 16 candidates, totalling 32 fits\n",
      "Best Score: 0.662; R2 Score: Train = 0.805; Test = 0.739\n",
      "{'extraction': PCA(), 'extraction__n_components': 24, 'scaler': MinMaxScaler(), 'selection__k': 64, 'selection__score_func': <function mutual_info_regression at 0x7f139b130c10>}\n",
      "\n"
     ]
    },
    {
     "name": "stderr",
     "output_type": "stream",
     "text": [
      "/home/borjaeg/anaconda3/envs/multispectral/lib/python3.10/site-packages/sklearn/preprocessing/_data.py:2663: UserWarning: n_quantiles (900) is greater than the total number of samples (771). n_quantiles is set to n_samples.\n",
      "  warnings.warn(\n",
      "/home/borjaeg/anaconda3/envs/multispectral/lib/python3.10/site-packages/sklearn/preprocessing/_data.py:2663: UserWarning: n_quantiles (900) is greater than the total number of samples (171). n_quantiles is set to n_samples.\n",
      "  warnings.warn(\n",
      "/home/borjaeg/anaconda3/envs/multispectral/lib/python3.10/site-packages/sklearn/compose/_target.py:190: UserWarning: The provided functions or transformer are not strictly inverse of each other. If you are sure you want to proceed regardless, set 'check_inverse=False'\n",
      "  warnings.warn(\n",
      "/home/borjaeg/anaconda3/envs/multispectral/lib/python3.10/site-packages/sklearn/preprocessing/_data.py:2663: UserWarning: n_quantiles (900) is greater than the total number of samples (171). n_quantiles is set to n_samples.\n",
      "  warnings.warn(\n",
      "/home/borjaeg/anaconda3/envs/multispectral/lib/python3.10/site-packages/sklearn/compose/_target.py:190: UserWarning: The provided functions or transformer are not strictly inverse of each other. If you are sure you want to proceed regardless, set 'check_inverse=False'\n",
      "  warnings.warn(\n",
      "/home/borjaeg/anaconda3/envs/multispectral/lib/python3.10/site-packages/sklearn/preprocessing/_data.py:2663: UserWarning: n_quantiles (900) is greater than the total number of samples (172). n_quantiles is set to n_samples.\n",
      "  warnings.warn(\n",
      "/home/borjaeg/anaconda3/envs/multispectral/lib/python3.10/site-packages/sklearn/compose/_target.py:190: UserWarning: The provided functions or transformer are not strictly inverse of each other. If you are sure you want to proceed regardless, set 'check_inverse=False'\n",
      "  warnings.warn(\n"
     ]
    },
    {
     "name": "stdout",
     "output_type": "stream",
     "text": [
      "(Transformed Target) R2 Score: Train = 0.614; Test = 0.475\n",
      "{'scaler': [StandardScaler(), MinMaxScaler()], 'selection__k': [64, 48], 'selection__score_func': [<function mutual_info_regression at 0x7f139b130c10>, <function f_regression at 0x7f139b132830>], 'extraction': [PCA()], 'extraction__n_components': [32, 24]}\n",
      "Pipeline(steps=[('scaler', 'passthrough'), ('selection', SelectKBest()),\n",
      "                ('extraction', 'passthrough'),\n",
      "                ('polynomial', PolynomialFeatures(include_bias=False)),\n",
      "                ('regression', ARDRegression())])\n",
      "Fitting 2 folds for each of 16 candidates, totalling 32 fits\n",
      "Best Score: 0.579; R2 Score: Train = 0.757; Test = 0.695\n",
      "{'extraction': PCA(), 'extraction__n_components': 24, 'scaler': MinMaxScaler(), 'selection__k': 48, 'selection__score_func': <function mutual_info_regression at 0x7f139b130c10>}\n",
      "\n"
     ]
    },
    {
     "name": "stderr",
     "output_type": "stream",
     "text": [
      "/home/borjaeg/anaconda3/envs/multispectral/lib/python3.10/site-packages/sklearn/preprocessing/_data.py:2663: UserWarning: n_quantiles (900) is greater than the total number of samples (771). n_quantiles is set to n_samples.\n",
      "  warnings.warn(\n",
      "/home/borjaeg/anaconda3/envs/multispectral/lib/python3.10/site-packages/sklearn/preprocessing/_data.py:2663: UserWarning: n_quantiles (900) is greater than the total number of samples (171). n_quantiles is set to n_samples.\n",
      "  warnings.warn(\n",
      "/home/borjaeg/anaconda3/envs/multispectral/lib/python3.10/site-packages/sklearn/compose/_target.py:190: UserWarning: The provided functions or transformer are not strictly inverse of each other. If you are sure you want to proceed regardless, set 'check_inverse=False'\n",
      "  warnings.warn(\n",
      "/home/borjaeg/anaconda3/envs/multispectral/lib/python3.10/site-packages/sklearn/preprocessing/_data.py:2663: UserWarning: n_quantiles (900) is greater than the total number of samples (171). n_quantiles is set to n_samples.\n",
      "  warnings.warn(\n",
      "/home/borjaeg/anaconda3/envs/multispectral/lib/python3.10/site-packages/sklearn/compose/_target.py:190: UserWarning: The provided functions or transformer are not strictly inverse of each other. If you are sure you want to proceed regardless, set 'check_inverse=False'\n",
      "  warnings.warn(\n",
      "/home/borjaeg/anaconda3/envs/multispectral/lib/python3.10/site-packages/sklearn/preprocessing/_data.py:2663: UserWarning: n_quantiles (900) is greater than the total number of samples (172). n_quantiles is set to n_samples.\n",
      "  warnings.warn(\n",
      "/home/borjaeg/anaconda3/envs/multispectral/lib/python3.10/site-packages/sklearn/compose/_target.py:190: UserWarning: The provided functions or transformer are not strictly inverse of each other. If you are sure you want to proceed regardless, set 'check_inverse=False'\n",
      "  warnings.warn(\n"
     ]
    },
    {
     "name": "stdout",
     "output_type": "stream",
     "text": [
      "(Transformed Target) R2 Score: Train = 0.758; Test = 0.692\n",
      "==================================================\n",
      "CV: 2\n",
      "{'scaler': [StandardScaler(), MinMaxScaler()], 'selection__k': [64, 48], 'selection__score_func': [<function mutual_info_regression at 0x7f139b130c10>, <function f_regression at 0x7f139b132830>], 'extraction': [PCA()], 'extraction__n_components': [32, 24]}\n",
      "Pipeline(steps=[('scaler', 'passthrough'), ('selection', SelectKBest()),\n",
      "                ('extraction', 'passthrough'),\n",
      "                ('polynomial',\n",
      "                 PolynomialFeatures(degree=3, include_bias=False)),\n",
      "                ('regression', ARDRegression())])\n",
      "Fitting 2 folds for each of 16 candidates, totalling 32 fits\n",
      "Best Score: 0.158; R2 Score: Train = 0.911; Test = 0.654\n",
      "{'extraction': PCA(), 'extraction__n_components': 24, 'scaler': MinMaxScaler(), 'selection__k': 48, 'selection__score_func': <function f_regression at 0x7f139b132830>}\n",
      "\n"
     ]
    },
    {
     "name": "stderr",
     "output_type": "stream",
     "text": [
      "/home/borjaeg/anaconda3/envs/multispectral/lib/python3.10/site-packages/sklearn/preprocessing/_data.py:2663: UserWarning: n_quantiles (900) is greater than the total number of samples (771). n_quantiles is set to n_samples.\n",
      "  warnings.warn(\n",
      "/home/borjaeg/anaconda3/envs/multispectral/lib/python3.10/site-packages/sklearn/preprocessing/_data.py:2663: UserWarning: n_quantiles (900) is greater than the total number of samples (171). n_quantiles is set to n_samples.\n",
      "  warnings.warn(\n",
      "/home/borjaeg/anaconda3/envs/multispectral/lib/python3.10/site-packages/sklearn/compose/_target.py:190: UserWarning: The provided functions or transformer are not strictly inverse of each other. If you are sure you want to proceed regardless, set 'check_inverse=False'\n",
      "  warnings.warn(\n",
      "/home/borjaeg/anaconda3/envs/multispectral/lib/python3.10/site-packages/sklearn/preprocessing/_data.py:2663: UserWarning: n_quantiles (900) is greater than the total number of samples (171). n_quantiles is set to n_samples.\n",
      "  warnings.warn(\n",
      "/home/borjaeg/anaconda3/envs/multispectral/lib/python3.10/site-packages/sklearn/compose/_target.py:190: UserWarning: The provided functions or transformer are not strictly inverse of each other. If you are sure you want to proceed regardless, set 'check_inverse=False'\n",
      "  warnings.warn(\n",
      "/home/borjaeg/anaconda3/envs/multispectral/lib/python3.10/site-packages/sklearn/preprocessing/_data.py:2663: UserWarning: n_quantiles (900) is greater than the total number of samples (172). n_quantiles is set to n_samples.\n",
      "  warnings.warn(\n",
      "/home/borjaeg/anaconda3/envs/multispectral/lib/python3.10/site-packages/sklearn/compose/_target.py:190: UserWarning: The provided functions or transformer are not strictly inverse of each other. If you are sure you want to proceed regardless, set 'check_inverse=False'\n",
      "  warnings.warn(\n"
     ]
    },
    {
     "name": "stdout",
     "output_type": "stream",
     "text": [
      "(Transformed Target) R2 Score: Train = 0.664; Test = 0.416\n",
      "{'scaler': [StandardScaler(), MinMaxScaler()], 'selection__k': [64, 48], 'selection__score_func': [<function mutual_info_regression at 0x7f139b130c10>, <function f_regression at 0x7f139b132830>], 'extraction': [PCA()], 'extraction__n_components': [32, 24]}\n",
      "Pipeline(steps=[('scaler', 'passthrough'), ('selection', SelectKBest()),\n",
      "                ('extraction', 'passthrough'),\n",
      "                ('polynomial',\n",
      "                 PolynomialFeatures(degree=3, include_bias=False)),\n",
      "                ('regression', ARDRegression())])\n",
      "Fitting 2 folds for each of 16 candidates, totalling 32 fits\n",
      "Best Score: 0.412; R2 Score: Train = 0.802; Test = 0.624\n",
      "{'extraction': PCA(), 'extraction__n_components': 24, 'scaler': MinMaxScaler(), 'selection__k': 64, 'selection__score_func': <function mutual_info_regression at 0x7f139b130c10>}\n",
      "\n"
     ]
    },
    {
     "name": "stderr",
     "output_type": "stream",
     "text": [
      "/home/borjaeg/anaconda3/envs/multispectral/lib/python3.10/site-packages/sklearn/preprocessing/_data.py:2663: UserWarning: n_quantiles (900) is greater than the total number of samples (771). n_quantiles is set to n_samples.\n",
      "  warnings.warn(\n",
      "/home/borjaeg/anaconda3/envs/multispectral/lib/python3.10/site-packages/sklearn/preprocessing/_data.py:2663: UserWarning: n_quantiles (900) is greater than the total number of samples (171). n_quantiles is set to n_samples.\n",
      "  warnings.warn(\n",
      "/home/borjaeg/anaconda3/envs/multispectral/lib/python3.10/site-packages/sklearn/compose/_target.py:190: UserWarning: The provided functions or transformer are not strictly inverse of each other. If you are sure you want to proceed regardless, set 'check_inverse=False'\n",
      "  warnings.warn(\n",
      "/home/borjaeg/anaconda3/envs/multispectral/lib/python3.10/site-packages/sklearn/preprocessing/_data.py:2663: UserWarning: n_quantiles (900) is greater than the total number of samples (171). n_quantiles is set to n_samples.\n",
      "  warnings.warn(\n",
      "/home/borjaeg/anaconda3/envs/multispectral/lib/python3.10/site-packages/sklearn/compose/_target.py:190: UserWarning: The provided functions or transformer are not strictly inverse of each other. If you are sure you want to proceed regardless, set 'check_inverse=False'\n",
      "  warnings.warn(\n",
      "/home/borjaeg/anaconda3/envs/multispectral/lib/python3.10/site-packages/sklearn/preprocessing/_data.py:2663: UserWarning: n_quantiles (900) is greater than the total number of samples (172). n_quantiles is set to n_samples.\n",
      "  warnings.warn(\n",
      "/home/borjaeg/anaconda3/envs/multispectral/lib/python3.10/site-packages/sklearn/compose/_target.py:190: UserWarning: The provided functions or transformer are not strictly inverse of each other. If you are sure you want to proceed regardless, set 'check_inverse=False'\n",
      "  warnings.warn(\n"
     ]
    },
    {
     "name": "stdout",
     "output_type": "stream",
     "text": [
      "(Transformed Target) R2 Score: Train = 0.799; Test = 0.575\n",
      "==================================================\n",
      "CV: 2\n",
      "{'scaler': [StandardScaler(), MinMaxScaler()], 'filter__window_length': [4, 12, 24], 'filter__polyorder': [3], 'selection__k': [64, 48], 'selection__score_func': [<function mutual_info_regression at 0x7f139b130c10>, <function f_regression at 0x7f139b132830>], 'extraction': [PCA()], 'extraction__n_components': [32, 24]}\n",
      "Pipeline(steps=[('scaler', 'passthrough'),\n",
      "                ('filter', SavgolFilterTransformer()),\n",
      "                ('selection', SelectKBest()), ('extraction', 'passthrough'),\n",
      "                ('polynomial',\n",
      "                 PolynomialFeatures(degree=1, include_bias=False)),\n",
      "                ('regression', TheilSenRegressor())])\n",
      "Fitting 2 folds for each of 48 candidates, totalling 96 fits\n",
      "Best Score: 0.394; R2 Score: Train = 0.294; Test = 0.451\n",
      "{'extraction': PCA(), 'extraction__n_components': 32, 'filter__polyorder': 3, 'filter__window_length': 12, 'scaler': MinMaxScaler(), 'selection__k': 48, 'selection__score_func': <function mutual_info_regression at 0x7f139b130c10>}\n",
      "\n"
     ]
    },
    {
     "name": "stderr",
     "output_type": "stream",
     "text": [
      "/home/borjaeg/anaconda3/envs/multispectral/lib/python3.10/site-packages/sklearn/preprocessing/_data.py:2663: UserWarning: n_quantiles (900) is greater than the total number of samples (771). n_quantiles is set to n_samples.\n",
      "  warnings.warn(\n",
      "/home/borjaeg/anaconda3/envs/multispectral/lib/python3.10/site-packages/sklearn/preprocessing/_data.py:2663: UserWarning: n_quantiles (900) is greater than the total number of samples (171). n_quantiles is set to n_samples.\n",
      "  warnings.warn(\n",
      "/home/borjaeg/anaconda3/envs/multispectral/lib/python3.10/site-packages/sklearn/compose/_target.py:190: UserWarning: The provided functions or transformer are not strictly inverse of each other. If you are sure you want to proceed regardless, set 'check_inverse=False'\n",
      "  warnings.warn(\n",
      "/home/borjaeg/anaconda3/envs/multispectral/lib/python3.10/site-packages/sklearn/preprocessing/_data.py:2663: UserWarning: n_quantiles (900) is greater than the total number of samples (171). n_quantiles is set to n_samples.\n",
      "  warnings.warn(\n",
      "/home/borjaeg/anaconda3/envs/multispectral/lib/python3.10/site-packages/sklearn/compose/_target.py:190: UserWarning: The provided functions or transformer are not strictly inverse of each other. If you are sure you want to proceed regardless, set 'check_inverse=False'\n",
      "  warnings.warn(\n",
      "/home/borjaeg/anaconda3/envs/multispectral/lib/python3.10/site-packages/sklearn/preprocessing/_data.py:2663: UserWarning: n_quantiles (900) is greater than the total number of samples (172). n_quantiles is set to n_samples.\n",
      "  warnings.warn(\n",
      "/home/borjaeg/anaconda3/envs/multispectral/lib/python3.10/site-packages/sklearn/compose/_target.py:190: UserWarning: The provided functions or transformer are not strictly inverse of each other. If you are sure you want to proceed regardless, set 'check_inverse=False'\n",
      "  warnings.warn(\n"
     ]
    },
    {
     "name": "stdout",
     "output_type": "stream",
     "text": [
      "(Transformed Target) R2 Score: Train = 0.292; Test = 0.045\n",
      "{'scaler': [StandardScaler(), MinMaxScaler()], 'filter__window_length': [4, 12, 24], 'filter__polyorder': [3], 'selection__k': [64, 48], 'selection__score_func': [<function mutual_info_regression at 0x7f139b130c10>, <function f_regression at 0x7f139b132830>], 'extraction': [PCA()], 'extraction__n_components': [32, 24]}\n",
      "Pipeline(steps=[('scaler', 'passthrough'),\n",
      "                ('filter', SavgolFilterTransformer()),\n",
      "                ('selection', SelectKBest()), ('extraction', 'passthrough'),\n",
      "                ('polynomial',\n",
      "                 PolynomialFeatures(degree=1, include_bias=False)),\n",
      "                ('regression', TheilSenRegressor())])\n",
      "Fitting 2 folds for each of 48 candidates, totalling 96 fits\n",
      "Best Score: 0.431; R2 Score: Train = 0.494; Test = 0.462\n",
      "{'extraction': PCA(), 'extraction__n_components': 32, 'filter__polyorder': 3, 'filter__window_length': 24, 'scaler': MinMaxScaler(), 'selection__k': 48, 'selection__score_func': <function f_regression at 0x7f139b132830>}\n",
      "\n"
     ]
    },
    {
     "name": "stderr",
     "output_type": "stream",
     "text": [
      "/home/borjaeg/anaconda3/envs/multispectral/lib/python3.10/site-packages/sklearn/preprocessing/_data.py:2663: UserWarning: n_quantiles (900) is greater than the total number of samples (771). n_quantiles is set to n_samples.\n",
      "  warnings.warn(\n",
      "/home/borjaeg/anaconda3/envs/multispectral/lib/python3.10/site-packages/sklearn/preprocessing/_data.py:2663: UserWarning: n_quantiles (900) is greater than the total number of samples (171). n_quantiles is set to n_samples.\n",
      "  warnings.warn(\n",
      "/home/borjaeg/anaconda3/envs/multispectral/lib/python3.10/site-packages/sklearn/compose/_target.py:190: UserWarning: The provided functions or transformer are not strictly inverse of each other. If you are sure you want to proceed regardless, set 'check_inverse=False'\n",
      "  warnings.warn(\n",
      "/home/borjaeg/anaconda3/envs/multispectral/lib/python3.10/site-packages/sklearn/preprocessing/_data.py:2663: UserWarning: n_quantiles (900) is greater than the total number of samples (171). n_quantiles is set to n_samples.\n",
      "  warnings.warn(\n",
      "/home/borjaeg/anaconda3/envs/multispectral/lib/python3.10/site-packages/sklearn/compose/_target.py:190: UserWarning: The provided functions or transformer are not strictly inverse of each other. If you are sure you want to proceed regardless, set 'check_inverse=False'\n",
      "  warnings.warn(\n",
      "/home/borjaeg/anaconda3/envs/multispectral/lib/python3.10/site-packages/sklearn/preprocessing/_data.py:2663: UserWarning: n_quantiles (900) is greater than the total number of samples (172). n_quantiles is set to n_samples.\n",
      "  warnings.warn(\n",
      "/home/borjaeg/anaconda3/envs/multispectral/lib/python3.10/site-packages/sklearn/compose/_target.py:190: UserWarning: The provided functions or transformer are not strictly inverse of each other. If you are sure you want to proceed regardless, set 'check_inverse=False'\n",
      "  warnings.warn(\n"
     ]
    },
    {
     "name": "stdout",
     "output_type": "stream",
     "text": [
      "(Transformed Target) R2 Score: Train = 0.438; Test = 0.472\n",
      "==================================================\n",
      "CV: 2\n",
      "{'scaler': [StandardScaler(), MinMaxScaler()], 'filter__window_length': [4, 12, 24], 'filter__polyorder': [3], 'selection__k': [64, 48], 'selection__score_func': [<function mutual_info_regression at 0x7f139b130c10>, <function f_regression at 0x7f139b132830>], 'extraction': [PCA()], 'extraction__n_components': [32, 24]}\n",
      "Pipeline(steps=[('scaler', 'passthrough'),\n",
      "                ('filter', SavgolFilterTransformer()),\n",
      "                ('selection', SelectKBest()), ('extraction', 'passthrough'),\n",
      "                ('polynomial', PolynomialFeatures(include_bias=False)),\n",
      "                ('regression', TheilSenRegressor())])\n",
      "Fitting 2 folds for each of 48 candidates, totalling 96 fits\n",
      "Best Score: -1.911; R2 Score: Train = 0.902; Test = -0.470\n",
      "{'extraction': PCA(), 'extraction__n_components': 32, 'filter__polyorder': 3, 'filter__window_length': 4, 'scaler': MinMaxScaler(), 'selection__k': 48, 'selection__score_func': <function f_regression at 0x7f139b132830>}\n",
      "\n"
     ]
    },
    {
     "name": "stderr",
     "output_type": "stream",
     "text": [
      "/home/borjaeg/anaconda3/envs/multispectral/lib/python3.10/site-packages/sklearn/preprocessing/_data.py:2663: UserWarning: n_quantiles (900) is greater than the total number of samples (771). n_quantiles is set to n_samples.\n",
      "  warnings.warn(\n",
      "/home/borjaeg/anaconda3/envs/multispectral/lib/python3.10/site-packages/sklearn/preprocessing/_data.py:2663: UserWarning: n_quantiles (900) is greater than the total number of samples (171). n_quantiles is set to n_samples.\n",
      "  warnings.warn(\n",
      "/home/borjaeg/anaconda3/envs/multispectral/lib/python3.10/site-packages/sklearn/compose/_target.py:190: UserWarning: The provided functions or transformer are not strictly inverse of each other. If you are sure you want to proceed regardless, set 'check_inverse=False'\n",
      "  warnings.warn(\n",
      "/home/borjaeg/anaconda3/envs/multispectral/lib/python3.10/site-packages/sklearn/preprocessing/_data.py:2663: UserWarning: n_quantiles (900) is greater than the total number of samples (171). n_quantiles is set to n_samples.\n",
      "  warnings.warn(\n",
      "/home/borjaeg/anaconda3/envs/multispectral/lib/python3.10/site-packages/sklearn/compose/_target.py:190: UserWarning: The provided functions or transformer are not strictly inverse of each other. If you are sure you want to proceed regardless, set 'check_inverse=False'\n",
      "  warnings.warn(\n"
     ]
    },
    {
     "name": "stdout",
     "output_type": "stream",
     "text": [
      "(Transformed Target) R2 Score: Train = 0.433; Test = -0.998\n",
      "{'scaler': [StandardScaler(), MinMaxScaler()], 'filter__window_length': [4, 12, 24], 'filter__polyorder': [3], 'selection__k': [64, 48], 'selection__score_func': [<function mutual_info_regression at 0x7f139b130c10>, <function f_regression at 0x7f139b132830>], 'extraction': [PCA()], 'extraction__n_components': [32, 24]}\n",
      "Pipeline(steps=[('scaler', 'passthrough'),\n",
      "                ('filter', SavgolFilterTransformer()),\n",
      "                ('selection', SelectKBest()), ('extraction', 'passthrough'),\n",
      "                ('polynomial', PolynomialFeatures(include_bias=False)),\n",
      "                ('regression', TheilSenRegressor())])\n",
      "Fitting 2 folds for each of 48 candidates, totalling 96 fits\n"
     ]
    },
    {
     "name": "stderr",
     "output_type": "stream",
     "text": [
      "/home/borjaeg/anaconda3/envs/multispectral/lib/python3.10/site-packages/sklearn/preprocessing/_data.py:2663: UserWarning: n_quantiles (900) is greater than the total number of samples (172). n_quantiles is set to n_samples.\n",
      "  warnings.warn(\n",
      "/home/borjaeg/anaconda3/envs/multispectral/lib/python3.10/site-packages/sklearn/compose/_target.py:190: UserWarning: The provided functions or transformer are not strictly inverse of each other. If you are sure you want to proceed regardless, set 'check_inverse=False'\n",
      "  warnings.warn(\n"
     ]
    },
    {
     "name": "stdout",
     "output_type": "stream",
     "text": [
      "Best Score: -12.455; R2 Score: Train = -7.961; Test = -0.881\n",
      "{'extraction': PCA(), 'extraction__n_components': 32, 'filter__polyorder': 3, 'filter__window_length': 4, 'scaler': MinMaxScaler(), 'selection__k': 48, 'selection__score_func': <function f_regression at 0x7f139b132830>}\n",
      "\n"
     ]
    },
    {
     "name": "stderr",
     "output_type": "stream",
     "text": [
      "/home/borjaeg/anaconda3/envs/multispectral/lib/python3.10/site-packages/sklearn/preprocessing/_data.py:2663: UserWarning: n_quantiles (900) is greater than the total number of samples (771). n_quantiles is set to n_samples.\n",
      "  warnings.warn(\n",
      "/home/borjaeg/anaconda3/envs/multispectral/lib/python3.10/site-packages/sklearn/preprocessing/_data.py:2663: UserWarning: n_quantiles (900) is greater than the total number of samples (171). n_quantiles is set to n_samples.\n",
      "  warnings.warn(\n",
      "/home/borjaeg/anaconda3/envs/multispectral/lib/python3.10/site-packages/sklearn/compose/_target.py:190: UserWarning: The provided functions or transformer are not strictly inverse of each other. If you are sure you want to proceed regardless, set 'check_inverse=False'\n",
      "  warnings.warn(\n",
      "/home/borjaeg/anaconda3/envs/multispectral/lib/python3.10/site-packages/sklearn/preprocessing/_data.py:2663: UserWarning: n_quantiles (900) is greater than the total number of samples (171). n_quantiles is set to n_samples.\n",
      "  warnings.warn(\n",
      "/home/borjaeg/anaconda3/envs/multispectral/lib/python3.10/site-packages/sklearn/compose/_target.py:190: UserWarning: The provided functions or transformer are not strictly inverse of each other. If you are sure you want to proceed regardless, set 'check_inverse=False'\n",
      "  warnings.warn(\n"
     ]
    },
    {
     "name": "stdout",
     "output_type": "stream",
     "text": [
      "(Transformed Target) R2 Score: Train = 0.714; Test = -1.051\n",
      "==================================================\n",
      "CV: 2\n",
      "{'scaler': [StandardScaler(), MinMaxScaler()], 'filter__window_length': [4, 12, 24], 'filter__polyorder': [3], 'selection__k': [64, 48], 'selection__score_func': [<function mutual_info_regression at 0x7f139b130c10>, <function f_regression at 0x7f139b132830>], 'extraction': [PCA()], 'extraction__n_components': [32, 24]}\n",
      "Pipeline(steps=[('scaler', 'passthrough'),\n",
      "                ('filter', SavgolFilterTransformer()),\n",
      "                ('selection', SelectKBest()), ('extraction', 'passthrough'),\n",
      "                ('polynomial',\n",
      "                 PolynomialFeatures(degree=3, include_bias=False)),\n",
      "                ('regression', TheilSenRegressor())])\n",
      "Fitting 2 folds for each of 48 candidates, totalling 96 fits\n"
     ]
    },
    {
     "name": "stderr",
     "output_type": "stream",
     "text": [
      "/home/borjaeg/anaconda3/envs/multispectral/lib/python3.10/site-packages/sklearn/preprocessing/_data.py:2663: UserWarning: n_quantiles (900) is greater than the total number of samples (172). n_quantiles is set to n_samples.\n",
      "  warnings.warn(\n",
      "/home/borjaeg/anaconda3/envs/multispectral/lib/python3.10/site-packages/sklearn/compose/_target.py:190: UserWarning: The provided functions or transformer are not strictly inverse of each other. If you are sure you want to proceed regardless, set 'check_inverse=False'\n",
      "  warnings.warn(\n"
     ]
    },
    {
     "name": "stdout",
     "output_type": "stream",
     "text": [
      "Best Score: -0.355; R2 Score: Train = 1.000; Test = -0.130\n",
      "{'extraction': PCA(), 'extraction__n_components': 32, 'filter__polyorder': 3, 'filter__window_length': 4, 'scaler': MinMaxScaler(), 'selection__k': 48, 'selection__score_func': <function f_regression at 0x7f139b132830>}\n",
      "\n"
     ]
    },
    {
     "name": "stderr",
     "output_type": "stream",
     "text": [
      "/home/borjaeg/anaconda3/envs/multispectral/lib/python3.10/site-packages/sklearn/preprocessing/_data.py:2663: UserWarning: n_quantiles (900) is greater than the total number of samples (771). n_quantiles is set to n_samples.\n",
      "  warnings.warn(\n",
      "/home/borjaeg/anaconda3/envs/multispectral/lib/python3.10/site-packages/sklearn/preprocessing/_data.py:2663: UserWarning: n_quantiles (900) is greater than the total number of samples (171). n_quantiles is set to n_samples.\n",
      "  warnings.warn(\n",
      "/home/borjaeg/anaconda3/envs/multispectral/lib/python3.10/site-packages/sklearn/compose/_target.py:190: UserWarning: The provided functions or transformer are not strictly inverse of each other. If you are sure you want to proceed regardless, set 'check_inverse=False'\n",
      "  warnings.warn(\n",
      "/home/borjaeg/anaconda3/envs/multispectral/lib/python3.10/site-packages/sklearn/preprocessing/_data.py:2663: UserWarning: n_quantiles (900) is greater than the total number of samples (171). n_quantiles is set to n_samples.\n",
      "  warnings.warn(\n",
      "/home/borjaeg/anaconda3/envs/multispectral/lib/python3.10/site-packages/sklearn/compose/_target.py:190: UserWarning: The provided functions or transformer are not strictly inverse of each other. If you are sure you want to proceed regardless, set 'check_inverse=False'\n",
      "  warnings.warn(\n",
      "/home/borjaeg/anaconda3/envs/multispectral/lib/python3.10/site-packages/sklearn/preprocessing/_data.py:2663: UserWarning: n_quantiles (900) is greater than the total number of samples (172). n_quantiles is set to n_samples.\n",
      "  warnings.warn(\n",
      "/home/borjaeg/anaconda3/envs/multispectral/lib/python3.10/site-packages/sklearn/compose/_target.py:190: UserWarning: The provided functions or transformer are not strictly inverse of each other. If you are sure you want to proceed regardless, set 'check_inverse=False'\n",
      "  warnings.warn(\n"
     ]
    },
    {
     "name": "stdout",
     "output_type": "stream",
     "text": [
      "(Transformed Target) R2 Score: Train = 1.000; Test = -1.855\n",
      "{'scaler': [StandardScaler(), MinMaxScaler()], 'filter__window_length': [4, 12, 24], 'filter__polyorder': [3], 'selection__k': [64, 48], 'selection__score_func': [<function mutual_info_regression at 0x7f139b130c10>, <function f_regression at 0x7f139b132830>], 'extraction': [PCA()], 'extraction__n_components': [32, 24]}\n",
      "Pipeline(steps=[('scaler', 'passthrough'),\n",
      "                ('filter', SavgolFilterTransformer()),\n",
      "                ('selection', SelectKBest()), ('extraction', 'passthrough'),\n",
      "                ('polynomial',\n",
      "                 PolynomialFeatures(degree=3, include_bias=False)),\n",
      "                ('regression', TheilSenRegressor())])\n",
      "Fitting 2 folds for each of 48 candidates, totalling 96 fits\n",
      "Best Score: -9.123; R2 Score: Train = 1.000; Test = -7.699\n",
      "{'extraction': PCA(), 'extraction__n_components': 24, 'filter__polyorder': 3, 'filter__window_length': 4, 'scaler': MinMaxScaler(), 'selection__k': 64, 'selection__score_func': <function f_regression at 0x7f139b132830>}\n",
      "\n"
     ]
    },
    {
     "name": "stderr",
     "output_type": "stream",
     "text": [
      "/home/borjaeg/anaconda3/envs/multispectral/lib/python3.10/site-packages/sklearn/preprocessing/_data.py:2663: UserWarning: n_quantiles (900) is greater than the total number of samples (771). n_quantiles is set to n_samples.\n",
      "  warnings.warn(\n",
      "/home/borjaeg/anaconda3/envs/multispectral/lib/python3.10/site-packages/sklearn/preprocessing/_data.py:2663: UserWarning: n_quantiles (900) is greater than the total number of samples (171). n_quantiles is set to n_samples.\n",
      "  warnings.warn(\n",
      "/home/borjaeg/anaconda3/envs/multispectral/lib/python3.10/site-packages/sklearn/compose/_target.py:190: UserWarning: The provided functions or transformer are not strictly inverse of each other. If you are sure you want to proceed regardless, set 'check_inverse=False'\n",
      "  warnings.warn(\n",
      "/home/borjaeg/anaconda3/envs/multispectral/lib/python3.10/site-packages/sklearn/preprocessing/_data.py:2663: UserWarning: n_quantiles (900) is greater than the total number of samples (171). n_quantiles is set to n_samples.\n",
      "  warnings.warn(\n",
      "/home/borjaeg/anaconda3/envs/multispectral/lib/python3.10/site-packages/sklearn/compose/_target.py:190: UserWarning: The provided functions or transformer are not strictly inverse of each other. If you are sure you want to proceed regardless, set 'check_inverse=False'\n",
      "  warnings.warn(\n",
      "/home/borjaeg/anaconda3/envs/multispectral/lib/python3.10/site-packages/sklearn/preprocessing/_data.py:2663: UserWarning: n_quantiles (900) is greater than the total number of samples (172). n_quantiles is set to n_samples.\n",
      "  warnings.warn(\n",
      "/home/borjaeg/anaconda3/envs/multispectral/lib/python3.10/site-packages/sklearn/compose/_target.py:190: UserWarning: The provided functions or transformer are not strictly inverse of each other. If you are sure you want to proceed regardless, set 'check_inverse=False'\n",
      "  warnings.warn(\n"
     ]
    },
    {
     "name": "stdout",
     "output_type": "stream",
     "text": [
      "(Transformed Target) R2 Score: Train = 1.000; Test = -3.302\n",
      "==================================================\n",
      "CV: 2\n",
      "{'scaler': [StandardScaler(), MinMaxScaler()], 'selection__k': [64, 48], 'selection__score_func': [<function mutual_info_regression at 0x7f139b130c10>, <function f_regression at 0x7f139b132830>], 'extraction': [PCA()], 'extraction__n_components': [32, 24]}\n",
      "Pipeline(steps=[('scaler', 'passthrough'), ('selection', SelectKBest()),\n",
      "                ('extraction', 'passthrough'),\n",
      "                ('polynomial',\n",
      "                 PolynomialFeatures(degree=1, include_bias=False)),\n",
      "                ('regression', TheilSenRegressor())])\n",
      "Fitting 2 folds for each of 16 candidates, totalling 32 fits\n",
      "Best Score: 0.393; R2 Score: Train = 0.338; Test = 0.428\n",
      "{'extraction': PCA(), 'extraction__n_components': 32, 'scaler': StandardScaler(), 'selection__k': 64, 'selection__score_func': <function mutual_info_regression at 0x7f139b130c10>}\n",
      "\n"
     ]
    },
    {
     "name": "stderr",
     "output_type": "stream",
     "text": [
      "/home/borjaeg/anaconda3/envs/multispectral/lib/python3.10/site-packages/sklearn/preprocessing/_data.py:2663: UserWarning: n_quantiles (900) is greater than the total number of samples (771). n_quantiles is set to n_samples.\n",
      "  warnings.warn(\n",
      "/home/borjaeg/anaconda3/envs/multispectral/lib/python3.10/site-packages/sklearn/preprocessing/_data.py:2663: UserWarning: n_quantiles (900) is greater than the total number of samples (171). n_quantiles is set to n_samples.\n",
      "  warnings.warn(\n",
      "/home/borjaeg/anaconda3/envs/multispectral/lib/python3.10/site-packages/sklearn/compose/_target.py:190: UserWarning: The provided functions or transformer are not strictly inverse of each other. If you are sure you want to proceed regardless, set 'check_inverse=False'\n",
      "  warnings.warn(\n",
      "/home/borjaeg/anaconda3/envs/multispectral/lib/python3.10/site-packages/sklearn/preprocessing/_data.py:2663: UserWarning: n_quantiles (900) is greater than the total number of samples (171). n_quantiles is set to n_samples.\n",
      "  warnings.warn(\n",
      "/home/borjaeg/anaconda3/envs/multispectral/lib/python3.10/site-packages/sklearn/compose/_target.py:190: UserWarning: The provided functions or transformer are not strictly inverse of each other. If you are sure you want to proceed regardless, set 'check_inverse=False'\n",
      "  warnings.warn(\n",
      "/home/borjaeg/anaconda3/envs/multispectral/lib/python3.10/site-packages/sklearn/preprocessing/_data.py:2663: UserWarning: n_quantiles (900) is greater than the total number of samples (172). n_quantiles is set to n_samples.\n",
      "  warnings.warn(\n",
      "/home/borjaeg/anaconda3/envs/multispectral/lib/python3.10/site-packages/sklearn/compose/_target.py:190: UserWarning: The provided functions or transformer are not strictly inverse of each other. If you are sure you want to proceed regardless, set 'check_inverse=False'\n",
      "  warnings.warn(\n"
     ]
    },
    {
     "name": "stdout",
     "output_type": "stream",
     "text": [
      "(Transformed Target) R2 Score: Train = 0.233; Test = -0.019\n",
      "{'scaler': [StandardScaler(), MinMaxScaler()], 'selection__k': [64, 48], 'selection__score_func': [<function mutual_info_regression at 0x7f139b130c10>, <function f_regression at 0x7f139b132830>], 'extraction': [PCA()], 'extraction__n_components': [32, 24]}\n",
      "Pipeline(steps=[('scaler', 'passthrough'), ('selection', SelectKBest()),\n",
      "                ('extraction', 'passthrough'),\n",
      "                ('polynomial',\n",
      "                 PolynomialFeatures(degree=1, include_bias=False)),\n",
      "                ('regression', TheilSenRegressor())])\n",
      "Fitting 2 folds for each of 16 candidates, totalling 32 fits\n",
      "Best Score: 0.384; R2 Score: Train = -0.751; Test = 0.380\n",
      "{'extraction': PCA(), 'extraction__n_components': 32, 'scaler': MinMaxScaler(), 'selection__k': 64, 'selection__score_func': <function mutual_info_regression at 0x7f139b130c10>}\n",
      "\n"
     ]
    },
    {
     "name": "stderr",
     "output_type": "stream",
     "text": [
      "/home/borjaeg/anaconda3/envs/multispectral/lib/python3.10/site-packages/sklearn/preprocessing/_data.py:2663: UserWarning: n_quantiles (900) is greater than the total number of samples (771). n_quantiles is set to n_samples.\n",
      "  warnings.warn(\n",
      "/home/borjaeg/anaconda3/envs/multispectral/lib/python3.10/site-packages/sklearn/preprocessing/_data.py:2663: UserWarning: n_quantiles (900) is greater than the total number of samples (171). n_quantiles is set to n_samples.\n",
      "  warnings.warn(\n",
      "/home/borjaeg/anaconda3/envs/multispectral/lib/python3.10/site-packages/sklearn/compose/_target.py:190: UserWarning: The provided functions or transformer are not strictly inverse of each other. If you are sure you want to proceed regardless, set 'check_inverse=False'\n",
      "  warnings.warn(\n",
      "/home/borjaeg/anaconda3/envs/multispectral/lib/python3.10/site-packages/sklearn/preprocessing/_data.py:2663: UserWarning: n_quantiles (900) is greater than the total number of samples (171). n_quantiles is set to n_samples.\n",
      "  warnings.warn(\n",
      "/home/borjaeg/anaconda3/envs/multispectral/lib/python3.10/site-packages/sklearn/compose/_target.py:190: UserWarning: The provided functions or transformer are not strictly inverse of each other. If you are sure you want to proceed regardless, set 'check_inverse=False'\n",
      "  warnings.warn(\n",
      "/home/borjaeg/anaconda3/envs/multispectral/lib/python3.10/site-packages/sklearn/preprocessing/_data.py:2663: UserWarning: n_quantiles (900) is greater than the total number of samples (172). n_quantiles is set to n_samples.\n",
      "  warnings.warn(\n",
      "/home/borjaeg/anaconda3/envs/multispectral/lib/python3.10/site-packages/sklearn/compose/_target.py:190: UserWarning: The provided functions or transformer are not strictly inverse of each other. If you are sure you want to proceed regardless, set 'check_inverse=False'\n",
      "  warnings.warn(\n"
     ]
    },
    {
     "name": "stdout",
     "output_type": "stream",
     "text": [
      "(Transformed Target) R2 Score: Train = 0.419; Test = 0.349\n",
      "==================================================\n",
      "CV: 2\n",
      "{'scaler': [StandardScaler(), MinMaxScaler()], 'selection__k': [64, 48], 'selection__score_func': [<function mutual_info_regression at 0x7f139b130c10>, <function f_regression at 0x7f139b132830>], 'extraction': [PCA()], 'extraction__n_components': [32, 24]}\n",
      "Pipeline(steps=[('scaler', 'passthrough'), ('selection', SelectKBest()),\n",
      "                ('extraction', 'passthrough'),\n",
      "                ('polynomial', PolynomialFeatures(include_bias=False)),\n",
      "                ('regression', TheilSenRegressor())])\n",
      "Fitting 2 folds for each of 16 candidates, totalling 32 fits\n",
      "Best Score: -1.634; R2 Score: Train = 0.554; Test = 0.139\n",
      "{'extraction': PCA(), 'extraction__n_components': 32, 'scaler': MinMaxScaler(), 'selection__k': 48, 'selection__score_func': <function f_regression at 0x7f139b132830>}\n",
      "\n"
     ]
    },
    {
     "name": "stderr",
     "output_type": "stream",
     "text": [
      "/home/borjaeg/anaconda3/envs/multispectral/lib/python3.10/site-packages/sklearn/preprocessing/_data.py:2663: UserWarning: n_quantiles (900) is greater than the total number of samples (771). n_quantiles is set to n_samples.\n",
      "  warnings.warn(\n",
      "/home/borjaeg/anaconda3/envs/multispectral/lib/python3.10/site-packages/sklearn/preprocessing/_data.py:2663: UserWarning: n_quantiles (900) is greater than the total number of samples (171). n_quantiles is set to n_samples.\n",
      "  warnings.warn(\n",
      "/home/borjaeg/anaconda3/envs/multispectral/lib/python3.10/site-packages/sklearn/compose/_target.py:190: UserWarning: The provided functions or transformer are not strictly inverse of each other. If you are sure you want to proceed regardless, set 'check_inverse=False'\n",
      "  warnings.warn(\n",
      "/home/borjaeg/anaconda3/envs/multispectral/lib/python3.10/site-packages/sklearn/preprocessing/_data.py:2663: UserWarning: n_quantiles (900) is greater than the total number of samples (171). n_quantiles is set to n_samples.\n",
      "  warnings.warn(\n",
      "/home/borjaeg/anaconda3/envs/multispectral/lib/python3.10/site-packages/sklearn/compose/_target.py:190: UserWarning: The provided functions or transformer are not strictly inverse of each other. If you are sure you want to proceed regardless, set 'check_inverse=False'\n",
      "  warnings.warn(\n"
     ]
    },
    {
     "name": "stdout",
     "output_type": "stream",
     "text": [
      "(Transformed Target) R2 Score: Train = 0.400; Test = -1.007\n",
      "{'scaler': [StandardScaler(), MinMaxScaler()], 'selection__k': [64, 48], 'selection__score_func': [<function mutual_info_regression at 0x7f139b130c10>, <function f_regression at 0x7f139b132830>], 'extraction': [PCA()], 'extraction__n_components': [32, 24]}\n",
      "Pipeline(steps=[('scaler', 'passthrough'), ('selection', SelectKBest()),\n",
      "                ('extraction', 'passthrough'),\n",
      "                ('polynomial', PolynomialFeatures(include_bias=False)),\n",
      "                ('regression', TheilSenRegressor())])\n",
      "Fitting 2 folds for each of 16 candidates, totalling 32 fits\n"
     ]
    },
    {
     "name": "stderr",
     "output_type": "stream",
     "text": [
      "/home/borjaeg/anaconda3/envs/multispectral/lib/python3.10/site-packages/sklearn/preprocessing/_data.py:2663: UserWarning: n_quantiles (900) is greater than the total number of samples (172). n_quantiles is set to n_samples.\n",
      "  warnings.warn(\n",
      "/home/borjaeg/anaconda3/envs/multispectral/lib/python3.10/site-packages/sklearn/compose/_target.py:190: UserWarning: The provided functions or transformer are not strictly inverse of each other. If you are sure you want to proceed regardless, set 'check_inverse=False'\n",
      "  warnings.warn(\n"
     ]
    },
    {
     "name": "stdout",
     "output_type": "stream",
     "text": [
      "Best Score: -59.939; R2 Score: Train = -14.664; Test = -3.063\n",
      "{'extraction': PCA(), 'extraction__n_components': 32, 'scaler': MinMaxScaler(), 'selection__k': 64, 'selection__score_func': <function mutual_info_regression at 0x7f139b130c10>}\n",
      "\n"
     ]
    },
    {
     "name": "stderr",
     "output_type": "stream",
     "text": [
      "/home/borjaeg/anaconda3/envs/multispectral/lib/python3.10/site-packages/sklearn/preprocessing/_data.py:2663: UserWarning: n_quantiles (900) is greater than the total number of samples (771). n_quantiles is set to n_samples.\n",
      "  warnings.warn(\n",
      "/home/borjaeg/anaconda3/envs/multispectral/lib/python3.10/site-packages/sklearn/preprocessing/_data.py:2663: UserWarning: n_quantiles (900) is greater than the total number of samples (171). n_quantiles is set to n_samples.\n",
      "  warnings.warn(\n",
      "/home/borjaeg/anaconda3/envs/multispectral/lib/python3.10/site-packages/sklearn/compose/_target.py:190: UserWarning: The provided functions or transformer are not strictly inverse of each other. If you are sure you want to proceed regardless, set 'check_inverse=False'\n",
      "  warnings.warn(\n",
      "/home/borjaeg/anaconda3/envs/multispectral/lib/python3.10/site-packages/sklearn/preprocessing/_data.py:2663: UserWarning: n_quantiles (900) is greater than the total number of samples (171). n_quantiles is set to n_samples.\n",
      "  warnings.warn(\n",
      "/home/borjaeg/anaconda3/envs/multispectral/lib/python3.10/site-packages/sklearn/compose/_target.py:190: UserWarning: The provided functions or transformer are not strictly inverse of each other. If you are sure you want to proceed regardless, set 'check_inverse=False'\n",
      "  warnings.warn(\n",
      "/home/borjaeg/anaconda3/envs/multispectral/lib/python3.10/site-packages/sklearn/preprocessing/_data.py:2663: UserWarning: n_quantiles (900) is greater than the total number of samples (172). n_quantiles is set to n_samples.\n",
      "  warnings.warn(\n",
      "/home/borjaeg/anaconda3/envs/multispectral/lib/python3.10/site-packages/sklearn/compose/_target.py:190: UserWarning: The provided functions or transformer are not strictly inverse of each other. If you are sure you want to proceed regardless, set 'check_inverse=False'\n",
      "  warnings.warn(\n"
     ]
    },
    {
     "name": "stdout",
     "output_type": "stream",
     "text": [
      "(Transformed Target) R2 Score: Train = 0.594; Test = -2.227\n",
      "==================================================\n",
      "CV: 2\n",
      "{'scaler': [StandardScaler(), MinMaxScaler()], 'selection__k': [64, 48], 'selection__score_func': [<function mutual_info_regression at 0x7f139b130c10>, <function f_regression at 0x7f139b132830>], 'extraction': [PCA()], 'extraction__n_components': [32, 24]}\n",
      "Pipeline(steps=[('scaler', 'passthrough'), ('selection', SelectKBest()),\n",
      "                ('extraction', 'passthrough'),\n",
      "                ('polynomial',\n",
      "                 PolynomialFeatures(degree=3, include_bias=False)),\n",
      "                ('regression', TheilSenRegressor())])\n",
      "Fitting 2 folds for each of 16 candidates, totalling 32 fits\n",
      "Best Score: -0.687; R2 Score: Train = 1.000; Test = 0.206\n",
      "{'extraction': PCA(), 'extraction__n_components': 32, 'scaler': MinMaxScaler(), 'selection__k': 48, 'selection__score_func': <function f_regression at 0x7f139b132830>}\n",
      "\n"
     ]
    },
    {
     "name": "stderr",
     "output_type": "stream",
     "text": [
      "/home/borjaeg/anaconda3/envs/multispectral/lib/python3.10/site-packages/sklearn/preprocessing/_data.py:2663: UserWarning: n_quantiles (900) is greater than the total number of samples (771). n_quantiles is set to n_samples.\n",
      "  warnings.warn(\n",
      "/home/borjaeg/anaconda3/envs/multispectral/lib/python3.10/site-packages/sklearn/preprocessing/_data.py:2663: UserWarning: n_quantiles (900) is greater than the total number of samples (171). n_quantiles is set to n_samples.\n",
      "  warnings.warn(\n",
      "/home/borjaeg/anaconda3/envs/multispectral/lib/python3.10/site-packages/sklearn/compose/_target.py:190: UserWarning: The provided functions or transformer are not strictly inverse of each other. If you are sure you want to proceed regardless, set 'check_inverse=False'\n",
      "  warnings.warn(\n",
      "/home/borjaeg/anaconda3/envs/multispectral/lib/python3.10/site-packages/sklearn/preprocessing/_data.py:2663: UserWarning: n_quantiles (900) is greater than the total number of samples (171). n_quantiles is set to n_samples.\n",
      "  warnings.warn(\n",
      "/home/borjaeg/anaconda3/envs/multispectral/lib/python3.10/site-packages/sklearn/compose/_target.py:190: UserWarning: The provided functions or transformer are not strictly inverse of each other. If you are sure you want to proceed regardless, set 'check_inverse=False'\n",
      "  warnings.warn(\n",
      "/home/borjaeg/anaconda3/envs/multispectral/lib/python3.10/site-packages/sklearn/preprocessing/_data.py:2663: UserWarning: n_quantiles (900) is greater than the total number of samples (172). n_quantiles is set to n_samples.\n",
      "  warnings.warn(\n",
      "/home/borjaeg/anaconda3/envs/multispectral/lib/python3.10/site-packages/sklearn/compose/_target.py:190: UserWarning: The provided functions or transformer are not strictly inverse of each other. If you are sure you want to proceed regardless, set 'check_inverse=False'\n",
      "  warnings.warn(\n"
     ]
    },
    {
     "name": "stdout",
     "output_type": "stream",
     "text": [
      "(Transformed Target) R2 Score: Train = 0.997; Test = -2.774\n",
      "{'scaler': [StandardScaler(), MinMaxScaler()], 'selection__k': [64, 48], 'selection__score_func': [<function mutual_info_regression at 0x7f139b130c10>, <function f_regression at 0x7f139b132830>], 'extraction': [PCA()], 'extraction__n_components': [32, 24]}\n",
      "Pipeline(steps=[('scaler', 'passthrough'), ('selection', SelectKBest()),\n",
      "                ('extraction', 'passthrough'),\n",
      "                ('polynomial',\n",
      "                 PolynomialFeatures(degree=3, include_bias=False)),\n",
      "                ('regression', TheilSenRegressor())])\n",
      "Fitting 2 folds for each of 16 candidates, totalling 32 fits\n",
      "Best Score: -10.295; R2 Score: Train = 0.999; Test = -4.078\n",
      "{'extraction': PCA(), 'extraction__n_components': 32, 'scaler': MinMaxScaler(), 'selection__k': 64, 'selection__score_func': <function f_regression at 0x7f139b132830>}\n",
      "\n"
     ]
    },
    {
     "name": "stderr",
     "output_type": "stream",
     "text": [
      "/home/borjaeg/anaconda3/envs/multispectral/lib/python3.10/site-packages/sklearn/preprocessing/_data.py:2663: UserWarning: n_quantiles (900) is greater than the total number of samples (771). n_quantiles is set to n_samples.\n",
      "  warnings.warn(\n",
      "/home/borjaeg/anaconda3/envs/multispectral/lib/python3.10/site-packages/sklearn/preprocessing/_data.py:2663: UserWarning: n_quantiles (900) is greater than the total number of samples (171). n_quantiles is set to n_samples.\n",
      "  warnings.warn(\n",
      "/home/borjaeg/anaconda3/envs/multispectral/lib/python3.10/site-packages/sklearn/compose/_target.py:190: UserWarning: The provided functions or transformer are not strictly inverse of each other. If you are sure you want to proceed regardless, set 'check_inverse=False'\n",
      "  warnings.warn(\n",
      "/home/borjaeg/anaconda3/envs/multispectral/lib/python3.10/site-packages/sklearn/preprocessing/_data.py:2663: UserWarning: n_quantiles (900) is greater than the total number of samples (171). n_quantiles is set to n_samples.\n",
      "  warnings.warn(\n",
      "/home/borjaeg/anaconda3/envs/multispectral/lib/python3.10/site-packages/sklearn/compose/_target.py:190: UserWarning: The provided functions or transformer are not strictly inverse of each other. If you are sure you want to proceed regardless, set 'check_inverse=False'\n",
      "  warnings.warn(\n",
      "/home/borjaeg/anaconda3/envs/multispectral/lib/python3.10/site-packages/sklearn/preprocessing/_data.py:2663: UserWarning: n_quantiles (900) is greater than the total number of samples (172). n_quantiles is set to n_samples.\n",
      "  warnings.warn(\n",
      "/home/borjaeg/anaconda3/envs/multispectral/lib/python3.10/site-packages/sklearn/compose/_target.py:190: UserWarning: The provided functions or transformer are not strictly inverse of each other. If you are sure you want to proceed regardless, set 'check_inverse=False'\n",
      "  warnings.warn(\n"
     ]
    },
    {
     "name": "stdout",
     "output_type": "stream",
     "text": [
      "(Transformed Target) R2 Score: Train = 0.999; Test = -3.342\n",
      "==================================================\n",
      "CV: 3\n",
      "{'scaler': [StandardScaler(), MinMaxScaler()], 'filter__window_length': [4, 12, 24], 'filter__polyorder': [3], 'selection__k': [64, 48], 'selection__score_func': [<function mutual_info_regression at 0x7f139b130c10>, <function f_regression at 0x7f139b132830>], 'extraction': [PCA()], 'extraction__n_components': [32, 24]}\n",
      "Pipeline(steps=[('scaler', 'passthrough'),\n",
      "                ('filter', SavgolFilterTransformer()),\n",
      "                ('selection', SelectKBest()), ('extraction', 'passthrough'),\n",
      "                ('polynomial',\n",
      "                 PolynomialFeatures(degree=1, include_bias=False)),\n",
      "                ('regression', ARDRegression())])\n",
      "Fitting 3 folds for each of 48 candidates, totalling 144 fits\n",
      "Best Score: 0.465; R2 Score: Train = 0.509; Test = 0.420\n",
      "{'extraction': PCA(), 'extraction__n_components': 24, 'filter__polyorder': 3, 'filter__window_length': 4, 'scaler': MinMaxScaler(), 'selection__k': 64, 'selection__score_func': <function mutual_info_regression at 0x7f139b130c10>}\n",
      "\n"
     ]
    },
    {
     "name": "stderr",
     "output_type": "stream",
     "text": [
      "/home/borjaeg/anaconda3/envs/multispectral/lib/python3.10/site-packages/sklearn/preprocessing/_data.py:2663: UserWarning: n_quantiles (900) is greater than the total number of samples (771). n_quantiles is set to n_samples.\n",
      "  warnings.warn(\n",
      "/home/borjaeg/anaconda3/envs/multispectral/lib/python3.10/site-packages/sklearn/preprocessing/_data.py:2663: UserWarning: n_quantiles (900) is greater than the total number of samples (171). n_quantiles is set to n_samples.\n",
      "  warnings.warn(\n",
      "/home/borjaeg/anaconda3/envs/multispectral/lib/python3.10/site-packages/sklearn/compose/_target.py:190: UserWarning: The provided functions or transformer are not strictly inverse of each other. If you are sure you want to proceed regardless, set 'check_inverse=False'\n",
      "  warnings.warn(\n",
      "/home/borjaeg/anaconda3/envs/multispectral/lib/python3.10/site-packages/sklearn/preprocessing/_data.py:2663: UserWarning: n_quantiles (900) is greater than the total number of samples (171). n_quantiles is set to n_samples.\n",
      "  warnings.warn(\n",
      "/home/borjaeg/anaconda3/envs/multispectral/lib/python3.10/site-packages/sklearn/compose/_target.py:190: UserWarning: The provided functions or transformer are not strictly inverse of each other. If you are sure you want to proceed regardless, set 'check_inverse=False'\n",
      "  warnings.warn(\n",
      "/home/borjaeg/anaconda3/envs/multispectral/lib/python3.10/site-packages/sklearn/preprocessing/_data.py:2663: UserWarning: n_quantiles (900) is greater than the total number of samples (172). n_quantiles is set to n_samples.\n",
      "  warnings.warn(\n",
      "/home/borjaeg/anaconda3/envs/multispectral/lib/python3.10/site-packages/sklearn/compose/_target.py:190: UserWarning: The provided functions or transformer are not strictly inverse of each other. If you are sure you want to proceed regardless, set 'check_inverse=False'\n",
      "  warnings.warn(\n"
     ]
    },
    {
     "name": "stdout",
     "output_type": "stream",
     "text": [
      "(Transformed Target) R2 Score: Train = 0.248; Test = 0.075\n",
      "{'scaler': [StandardScaler(), MinMaxScaler()], 'filter__window_length': [4, 12, 24], 'filter__polyorder': [3], 'selection__k': [64, 48], 'selection__score_func': [<function mutual_info_regression at 0x7f139b130c10>, <function f_regression at 0x7f139b132830>], 'extraction': [PCA()], 'extraction__n_components': [32, 24]}\n",
      "Pipeline(steps=[('scaler', 'passthrough'),\n",
      "                ('filter', SavgolFilterTransformer()),\n",
      "                ('selection', SelectKBest()), ('extraction', 'passthrough'),\n",
      "                ('polynomial',\n",
      "                 PolynomialFeatures(degree=1, include_bias=False)),\n",
      "                ('regression', ARDRegression())])\n",
      "Fitting 3 folds for each of 48 candidates, totalling 144 fits\n",
      "Best Score: 0.532; R2 Score: Train = 0.589; Test = 0.556\n",
      "{'extraction': PCA(), 'extraction__n_components': 32, 'filter__polyorder': 3, 'filter__window_length': 12, 'scaler': StandardScaler(), 'selection__k': 64, 'selection__score_func': <function f_regression at 0x7f139b132830>}\n",
      "\n"
     ]
    },
    {
     "name": "stderr",
     "output_type": "stream",
     "text": [
      "/home/borjaeg/anaconda3/envs/multispectral/lib/python3.10/site-packages/sklearn/preprocessing/_data.py:2663: UserWarning: n_quantiles (900) is greater than the total number of samples (771). n_quantiles is set to n_samples.\n",
      "  warnings.warn(\n",
      "/home/borjaeg/anaconda3/envs/multispectral/lib/python3.10/site-packages/sklearn/preprocessing/_data.py:2663: UserWarning: n_quantiles (900) is greater than the total number of samples (171). n_quantiles is set to n_samples.\n",
      "  warnings.warn(\n",
      "/home/borjaeg/anaconda3/envs/multispectral/lib/python3.10/site-packages/sklearn/compose/_target.py:190: UserWarning: The provided functions or transformer are not strictly inverse of each other. If you are sure you want to proceed regardless, set 'check_inverse=False'\n",
      "  warnings.warn(\n",
      "/home/borjaeg/anaconda3/envs/multispectral/lib/python3.10/site-packages/sklearn/preprocessing/_data.py:2663: UserWarning: n_quantiles (900) is greater than the total number of samples (171). n_quantiles is set to n_samples.\n",
      "  warnings.warn(\n",
      "/home/borjaeg/anaconda3/envs/multispectral/lib/python3.10/site-packages/sklearn/compose/_target.py:190: UserWarning: The provided functions or transformer are not strictly inverse of each other. If you are sure you want to proceed regardless, set 'check_inverse=False'\n",
      "  warnings.warn(\n",
      "/home/borjaeg/anaconda3/envs/multispectral/lib/python3.10/site-packages/sklearn/preprocessing/_data.py:2663: UserWarning: n_quantiles (900) is greater than the total number of samples (172). n_quantiles is set to n_samples.\n",
      "  warnings.warn(\n",
      "/home/borjaeg/anaconda3/envs/multispectral/lib/python3.10/site-packages/sklearn/compose/_target.py:190: UserWarning: The provided functions or transformer are not strictly inverse of each other. If you are sure you want to proceed regardless, set 'check_inverse=False'\n",
      "  warnings.warn(\n"
     ]
    },
    {
     "name": "stdout",
     "output_type": "stream",
     "text": [
      "(Transformed Target) R2 Score: Train = 0.589; Test = 0.556\n",
      "==================================================\n",
      "CV: 3\n",
      "{'scaler': [StandardScaler(), MinMaxScaler()], 'filter__window_length': [4, 12, 24], 'filter__polyorder': [3], 'selection__k': [64, 48], 'selection__score_func': [<function mutual_info_regression at 0x7f139b130c10>, <function f_regression at 0x7f139b132830>], 'extraction': [PCA()], 'extraction__n_components': [32, 24]}\n",
      "Pipeline(steps=[('scaler', 'passthrough'),\n",
      "                ('filter', SavgolFilterTransformer()),\n",
      "                ('selection', SelectKBest()), ('extraction', 'passthrough'),\n",
      "                ('polynomial', PolynomialFeatures(include_bias=False)),\n",
      "                ('regression', ARDRegression())])\n",
      "Fitting 3 folds for each of 48 candidates, totalling 144 fits\n",
      "Best Score: 0.702; R2 Score: Train = 0.819; Test = 0.724\n",
      "{'extraction': PCA(), 'extraction__n_components': 24, 'filter__polyorder': 3, 'filter__window_length': 4, 'scaler': MinMaxScaler(), 'selection__k': 64, 'selection__score_func': <function mutual_info_regression at 0x7f139b130c10>}\n",
      "\n"
     ]
    },
    {
     "name": "stderr",
     "output_type": "stream",
     "text": [
      "/home/borjaeg/anaconda3/envs/multispectral/lib/python3.10/site-packages/sklearn/preprocessing/_data.py:2663: UserWarning: n_quantiles (900) is greater than the total number of samples (771). n_quantiles is set to n_samples.\n",
      "  warnings.warn(\n",
      "/home/borjaeg/anaconda3/envs/multispectral/lib/python3.10/site-packages/sklearn/preprocessing/_data.py:2663: UserWarning: n_quantiles (900) is greater than the total number of samples (171). n_quantiles is set to n_samples.\n",
      "  warnings.warn(\n",
      "/home/borjaeg/anaconda3/envs/multispectral/lib/python3.10/site-packages/sklearn/compose/_target.py:190: UserWarning: The provided functions or transformer are not strictly inverse of each other. If you are sure you want to proceed regardless, set 'check_inverse=False'\n",
      "  warnings.warn(\n",
      "/home/borjaeg/anaconda3/envs/multispectral/lib/python3.10/site-packages/sklearn/preprocessing/_data.py:2663: UserWarning: n_quantiles (900) is greater than the total number of samples (171). n_quantiles is set to n_samples.\n",
      "  warnings.warn(\n",
      "/home/borjaeg/anaconda3/envs/multispectral/lib/python3.10/site-packages/sklearn/compose/_target.py:190: UserWarning: The provided functions or transformer are not strictly inverse of each other. If you are sure you want to proceed regardless, set 'check_inverse=False'\n",
      "  warnings.warn(\n",
      "/home/borjaeg/anaconda3/envs/multispectral/lib/python3.10/site-packages/sklearn/preprocessing/_data.py:2663: UserWarning: n_quantiles (900) is greater than the total number of samples (172). n_quantiles is set to n_samples.\n",
      "  warnings.warn(\n",
      "/home/borjaeg/anaconda3/envs/multispectral/lib/python3.10/site-packages/sklearn/compose/_target.py:190: UserWarning: The provided functions or transformer are not strictly inverse of each other. If you are sure you want to proceed regardless, set 'check_inverse=False'\n",
      "  warnings.warn(\n"
     ]
    },
    {
     "name": "stdout",
     "output_type": "stream",
     "text": [
      "(Transformed Target) R2 Score: Train = 0.714; Test = 0.369\n",
      "{'scaler': [StandardScaler(), MinMaxScaler()], 'filter__window_length': [4, 12, 24], 'filter__polyorder': [3], 'selection__k': [64, 48], 'selection__score_func': [<function mutual_info_regression at 0x7f139b130c10>, <function f_regression at 0x7f139b132830>], 'extraction': [PCA()], 'extraction__n_components': [32, 24]}\n",
      "Pipeline(steps=[('scaler', 'passthrough'),\n",
      "                ('filter', SavgolFilterTransformer()),\n",
      "                ('selection', SelectKBest()), ('extraction', 'passthrough'),\n",
      "                ('polynomial', PolynomialFeatures(include_bias=False)),\n",
      "                ('regression', ARDRegression())])\n",
      "Fitting 3 folds for each of 48 candidates, totalling 144 fits\n",
      "Best Score: 0.658; R2 Score: Train = 0.797; Test = 0.723\n",
      "{'extraction': PCA(), 'extraction__n_components': 32, 'filter__polyorder': 3, 'filter__window_length': 12, 'scaler': MinMaxScaler(), 'selection__k': 64, 'selection__score_func': <function f_regression at 0x7f139b132830>}\n",
      "\n"
     ]
    },
    {
     "name": "stderr",
     "output_type": "stream",
     "text": [
      "/home/borjaeg/anaconda3/envs/multispectral/lib/python3.10/site-packages/sklearn/preprocessing/_data.py:2663: UserWarning: n_quantiles (900) is greater than the total number of samples (771). n_quantiles is set to n_samples.\n",
      "  warnings.warn(\n",
      "/home/borjaeg/anaconda3/envs/multispectral/lib/python3.10/site-packages/sklearn/preprocessing/_data.py:2663: UserWarning: n_quantiles (900) is greater than the total number of samples (171). n_quantiles is set to n_samples.\n",
      "  warnings.warn(\n",
      "/home/borjaeg/anaconda3/envs/multispectral/lib/python3.10/site-packages/sklearn/compose/_target.py:190: UserWarning: The provided functions or transformer are not strictly inverse of each other. If you are sure you want to proceed regardless, set 'check_inverse=False'\n",
      "  warnings.warn(\n",
      "/home/borjaeg/anaconda3/envs/multispectral/lib/python3.10/site-packages/sklearn/preprocessing/_data.py:2663: UserWarning: n_quantiles (900) is greater than the total number of samples (171). n_quantiles is set to n_samples.\n",
      "  warnings.warn(\n",
      "/home/borjaeg/anaconda3/envs/multispectral/lib/python3.10/site-packages/sklearn/compose/_target.py:190: UserWarning: The provided functions or transformer are not strictly inverse of each other. If you are sure you want to proceed regardless, set 'check_inverse=False'\n",
      "  warnings.warn(\n",
      "/home/borjaeg/anaconda3/envs/multispectral/lib/python3.10/site-packages/sklearn/preprocessing/_data.py:2663: UserWarning: n_quantiles (900) is greater than the total number of samples (172). n_quantiles is set to n_samples.\n",
      "  warnings.warn(\n",
      "/home/borjaeg/anaconda3/envs/multispectral/lib/python3.10/site-packages/sklearn/compose/_target.py:190: UserWarning: The provided functions or transformer are not strictly inverse of each other. If you are sure you want to proceed regardless, set 'check_inverse=False'\n",
      "  warnings.warn(\n"
     ]
    },
    {
     "name": "stdout",
     "output_type": "stream",
     "text": [
      "(Transformed Target) R2 Score: Train = 0.797; Test = 0.723\n",
      "==================================================\n",
      "CV: 3\n",
      "{'scaler': [StandardScaler(), MinMaxScaler()], 'filter__window_length': [4, 12, 24], 'filter__polyorder': [3], 'selection__k': [64, 48], 'selection__score_func': [<function mutual_info_regression at 0x7f139b130c10>, <function f_regression at 0x7f139b132830>], 'extraction': [PCA()], 'extraction__n_components': [32, 24]}\n",
      "Pipeline(steps=[('scaler', 'passthrough'),\n",
      "                ('filter', SavgolFilterTransformer()),\n",
      "                ('selection', SelectKBest()), ('extraction', 'passthrough'),\n",
      "                ('polynomial',\n",
      "                 PolynomialFeatures(degree=3, include_bias=False)),\n",
      "                ('regression', ARDRegression())])\n",
      "Fitting 3 folds for each of 48 candidates, totalling 144 fits\n",
      "Best Score: 0.612; R2 Score: Train = 0.922; Test = 0.824\n",
      "{'extraction': PCA(), 'extraction__n_components': 32, 'filter__polyorder': 3, 'filter__window_length': 12, 'scaler': MinMaxScaler(), 'selection__k': 48, 'selection__score_func': <function mutual_info_regression at 0x7f139b130c10>}\n",
      "\n"
     ]
    },
    {
     "name": "stderr",
     "output_type": "stream",
     "text": [
      "/home/borjaeg/anaconda3/envs/multispectral/lib/python3.10/site-packages/sklearn/preprocessing/_data.py:2663: UserWarning: n_quantiles (900) is greater than the total number of samples (771). n_quantiles is set to n_samples.\n",
      "  warnings.warn(\n",
      "/home/borjaeg/anaconda3/envs/multispectral/lib/python3.10/site-packages/sklearn/preprocessing/_data.py:2663: UserWarning: n_quantiles (900) is greater than the total number of samples (171). n_quantiles is set to n_samples.\n",
      "  warnings.warn(\n",
      "/home/borjaeg/anaconda3/envs/multispectral/lib/python3.10/site-packages/sklearn/compose/_target.py:190: UserWarning: The provided functions or transformer are not strictly inverse of each other. If you are sure you want to proceed regardless, set 'check_inverse=False'\n",
      "  warnings.warn(\n",
      "/home/borjaeg/anaconda3/envs/multispectral/lib/python3.10/site-packages/sklearn/preprocessing/_data.py:2663: UserWarning: n_quantiles (900) is greater than the total number of samples (171). n_quantiles is set to n_samples.\n",
      "  warnings.warn(\n",
      "/home/borjaeg/anaconda3/envs/multispectral/lib/python3.10/site-packages/sklearn/compose/_target.py:190: UserWarning: The provided functions or transformer are not strictly inverse of each other. If you are sure you want to proceed regardless, set 'check_inverse=False'\n",
      "  warnings.warn(\n",
      "/home/borjaeg/anaconda3/envs/multispectral/lib/python3.10/site-packages/sklearn/preprocessing/_data.py:2663: UserWarning: n_quantiles (900) is greater than the total number of samples (172). n_quantiles is set to n_samples.\n",
      "  warnings.warn(\n",
      "/home/borjaeg/anaconda3/envs/multispectral/lib/python3.10/site-packages/sklearn/compose/_target.py:190: UserWarning: The provided functions or transformer are not strictly inverse of each other. If you are sure you want to proceed regardless, set 'check_inverse=False'\n",
      "  warnings.warn(\n"
     ]
    },
    {
     "name": "stdout",
     "output_type": "stream",
     "text": [
      "(Transformed Target) R2 Score: Train = 0.781; Test = 0.576\n",
      "{'scaler': [StandardScaler(), MinMaxScaler()], 'filter__window_length': [4, 12, 24], 'filter__polyorder': [3], 'selection__k': [64, 48], 'selection__score_func': [<function mutual_info_regression at 0x7f139b130c10>, <function f_regression at 0x7f139b132830>], 'extraction': [PCA()], 'extraction__n_components': [32, 24]}\n",
      "Pipeline(steps=[('scaler', 'passthrough'),\n",
      "                ('filter', SavgolFilterTransformer()),\n",
      "                ('selection', SelectKBest()), ('extraction', 'passthrough'),\n",
      "                ('polynomial',\n",
      "                 PolynomialFeatures(degree=3, include_bias=False)),\n",
      "                ('regression', ARDRegression())])\n",
      "Fitting 3 folds for each of 48 candidates, totalling 144 fits\n",
      "Best Score: 0.579; R2 Score: Train = 0.796; Test = 0.724\n",
      "{'extraction': PCA(), 'extraction__n_components': 24, 'filter__polyorder': 3, 'filter__window_length': 24, 'scaler': MinMaxScaler(), 'selection__k': 64, 'selection__score_func': <function mutual_info_regression at 0x7f139b130c10>}\n",
      "\n"
     ]
    },
    {
     "name": "stderr",
     "output_type": "stream",
     "text": [
      "/home/borjaeg/anaconda3/envs/multispectral/lib/python3.10/site-packages/sklearn/preprocessing/_data.py:2663: UserWarning: n_quantiles (900) is greater than the total number of samples (771). n_quantiles is set to n_samples.\n",
      "  warnings.warn(\n",
      "/home/borjaeg/anaconda3/envs/multispectral/lib/python3.10/site-packages/sklearn/preprocessing/_data.py:2663: UserWarning: n_quantiles (900) is greater than the total number of samples (171). n_quantiles is set to n_samples.\n",
      "  warnings.warn(\n",
      "/home/borjaeg/anaconda3/envs/multispectral/lib/python3.10/site-packages/sklearn/compose/_target.py:190: UserWarning: The provided functions or transformer are not strictly inverse of each other. If you are sure you want to proceed regardless, set 'check_inverse=False'\n",
      "  warnings.warn(\n",
      "/home/borjaeg/anaconda3/envs/multispectral/lib/python3.10/site-packages/sklearn/preprocessing/_data.py:2663: UserWarning: n_quantiles (900) is greater than the total number of samples (171). n_quantiles is set to n_samples.\n",
      "  warnings.warn(\n",
      "/home/borjaeg/anaconda3/envs/multispectral/lib/python3.10/site-packages/sklearn/compose/_target.py:190: UserWarning: The provided functions or transformer are not strictly inverse of each other. If you are sure you want to proceed regardless, set 'check_inverse=False'\n",
      "  warnings.warn(\n",
      "/home/borjaeg/anaconda3/envs/multispectral/lib/python3.10/site-packages/sklearn/preprocessing/_data.py:2663: UserWarning: n_quantiles (900) is greater than the total number of samples (172). n_quantiles is set to n_samples.\n",
      "  warnings.warn(\n",
      "/home/borjaeg/anaconda3/envs/multispectral/lib/python3.10/site-packages/sklearn/compose/_target.py:190: UserWarning: The provided functions or transformer are not strictly inverse of each other. If you are sure you want to proceed regardless, set 'check_inverse=False'\n",
      "  warnings.warn(\n"
     ]
    },
    {
     "name": "stdout",
     "output_type": "stream",
     "text": [
      "(Transformed Target) R2 Score: Train = 0.790; Test = 0.723\n",
      "==================================================\n",
      "CV: 3\n",
      "{'scaler': [StandardScaler(), MinMaxScaler()], 'selection__k': [64, 48], 'selection__score_func': [<function mutual_info_regression at 0x7f139b130c10>, <function f_regression at 0x7f139b132830>], 'extraction': [PCA()], 'extraction__n_components': [32, 24]}\n",
      "Pipeline(steps=[('scaler', 'passthrough'), ('selection', SelectKBest()),\n",
      "                ('extraction', 'passthrough'),\n",
      "                ('polynomial',\n",
      "                 PolynomialFeatures(degree=1, include_bias=False)),\n",
      "                ('regression', ARDRegression())])\n",
      "Fitting 3 folds for each of 16 candidates, totalling 48 fits\n",
      "Best Score: 0.464; R2 Score: Train = 0.549; Test = 0.505\n",
      "{'extraction': PCA(), 'extraction__n_components': 32, 'scaler': MinMaxScaler(), 'selection__k': 48, 'selection__score_func': <function mutual_info_regression at 0x7f139b130c10>}\n",
      "\n"
     ]
    },
    {
     "name": "stderr",
     "output_type": "stream",
     "text": [
      "/home/borjaeg/anaconda3/envs/multispectral/lib/python3.10/site-packages/sklearn/preprocessing/_data.py:2663: UserWarning: n_quantiles (900) is greater than the total number of samples (771). n_quantiles is set to n_samples.\n",
      "  warnings.warn(\n",
      "/home/borjaeg/anaconda3/envs/multispectral/lib/python3.10/site-packages/sklearn/preprocessing/_data.py:2663: UserWarning: n_quantiles (900) is greater than the total number of samples (171). n_quantiles is set to n_samples.\n",
      "  warnings.warn(\n",
      "/home/borjaeg/anaconda3/envs/multispectral/lib/python3.10/site-packages/sklearn/compose/_target.py:190: UserWarning: The provided functions or transformer are not strictly inverse of each other. If you are sure you want to proceed regardless, set 'check_inverse=False'\n",
      "  warnings.warn(\n",
      "/home/borjaeg/anaconda3/envs/multispectral/lib/python3.10/site-packages/sklearn/preprocessing/_data.py:2663: UserWarning: n_quantiles (900) is greater than the total number of samples (171). n_quantiles is set to n_samples.\n",
      "  warnings.warn(\n",
      "/home/borjaeg/anaconda3/envs/multispectral/lib/python3.10/site-packages/sklearn/compose/_target.py:190: UserWarning: The provided functions or transformer are not strictly inverse of each other. If you are sure you want to proceed regardless, set 'check_inverse=False'\n",
      "  warnings.warn(\n",
      "/home/borjaeg/anaconda3/envs/multispectral/lib/python3.10/site-packages/sklearn/preprocessing/_data.py:2663: UserWarning: n_quantiles (900) is greater than the total number of samples (172). n_quantiles is set to n_samples.\n",
      "  warnings.warn(\n",
      "/home/borjaeg/anaconda3/envs/multispectral/lib/python3.10/site-packages/sklearn/compose/_target.py:190: UserWarning: The provided functions or transformer are not strictly inverse of each other. If you are sure you want to proceed regardless, set 'check_inverse=False'\n",
      "  warnings.warn(\n"
     ]
    },
    {
     "name": "stdout",
     "output_type": "stream",
     "text": [
      "(Transformed Target) R2 Score: Train = 0.231; Test = 0.155\n",
      "{'scaler': [StandardScaler(), MinMaxScaler()], 'selection__k': [64, 48], 'selection__score_func': [<function mutual_info_regression at 0x7f139b130c10>, <function f_regression at 0x7f139b132830>], 'extraction': [PCA()], 'extraction__n_components': [32, 24]}\n",
      "Pipeline(steps=[('scaler', 'passthrough'), ('selection', SelectKBest()),\n",
      "                ('extraction', 'passthrough'),\n",
      "                ('polynomial',\n",
      "                 PolynomialFeatures(degree=1, include_bias=False)),\n",
      "                ('regression', ARDRegression())])\n",
      "Fitting 3 folds for each of 16 candidates, totalling 48 fits\n",
      "Best Score: 0.507; R2 Score: Train = 0.580; Test = 0.505\n",
      "{'extraction': PCA(), 'extraction__n_components': 32, 'scaler': MinMaxScaler(), 'selection__k': 64, 'selection__score_func': <function f_regression at 0x7f139b132830>}\n",
      "\n"
     ]
    },
    {
     "name": "stderr",
     "output_type": "stream",
     "text": [
      "/home/borjaeg/anaconda3/envs/multispectral/lib/python3.10/site-packages/sklearn/preprocessing/_data.py:2663: UserWarning: n_quantiles (900) is greater than the total number of samples (771). n_quantiles is set to n_samples.\n",
      "  warnings.warn(\n",
      "/home/borjaeg/anaconda3/envs/multispectral/lib/python3.10/site-packages/sklearn/preprocessing/_data.py:2663: UserWarning: n_quantiles (900) is greater than the total number of samples (171). n_quantiles is set to n_samples.\n",
      "  warnings.warn(\n",
      "/home/borjaeg/anaconda3/envs/multispectral/lib/python3.10/site-packages/sklearn/compose/_target.py:190: UserWarning: The provided functions or transformer are not strictly inverse of each other. If you are sure you want to proceed regardless, set 'check_inverse=False'\n",
      "  warnings.warn(\n",
      "/home/borjaeg/anaconda3/envs/multispectral/lib/python3.10/site-packages/sklearn/preprocessing/_data.py:2663: UserWarning: n_quantiles (900) is greater than the total number of samples (171). n_quantiles is set to n_samples.\n",
      "  warnings.warn(\n",
      "/home/borjaeg/anaconda3/envs/multispectral/lib/python3.10/site-packages/sklearn/compose/_target.py:190: UserWarning: The provided functions or transformer are not strictly inverse of each other. If you are sure you want to proceed regardless, set 'check_inverse=False'\n",
      "  warnings.warn(\n",
      "/home/borjaeg/anaconda3/envs/multispectral/lib/python3.10/site-packages/sklearn/preprocessing/_data.py:2663: UserWarning: n_quantiles (900) is greater than the total number of samples (172). n_quantiles is set to n_samples.\n",
      "  warnings.warn(\n",
      "/home/borjaeg/anaconda3/envs/multispectral/lib/python3.10/site-packages/sklearn/compose/_target.py:190: UserWarning: The provided functions or transformer are not strictly inverse of each other. If you are sure you want to proceed regardless, set 'check_inverse=False'\n",
      "  warnings.warn(\n"
     ]
    },
    {
     "name": "stdout",
     "output_type": "stream",
     "text": [
      "(Transformed Target) R2 Score: Train = 0.579; Test = 0.499\n",
      "==================================================\n",
      "CV: 3\n",
      "{'scaler': [StandardScaler(), MinMaxScaler()], 'selection__k': [64, 48], 'selection__score_func': [<function mutual_info_regression at 0x7f139b130c10>, <function f_regression at 0x7f139b132830>], 'extraction': [PCA()], 'extraction__n_components': [32, 24]}\n",
      "Pipeline(steps=[('scaler', 'passthrough'), ('selection', SelectKBest()),\n",
      "                ('extraction', 'passthrough'),\n",
      "                ('polynomial', PolynomialFeatures(include_bias=False)),\n",
      "                ('regression', ARDRegression())])\n",
      "Fitting 3 folds for each of 16 candidates, totalling 48 fits\n",
      "Best Score: 0.641; R2 Score: Train = 0.779; Test = 0.630\n",
      "{'extraction': PCA(), 'extraction__n_components': 24, 'scaler': MinMaxScaler(), 'selection__k': 64, 'selection__score_func': <function f_regression at 0x7f139b132830>}\n",
      "\n"
     ]
    },
    {
     "name": "stderr",
     "output_type": "stream",
     "text": [
      "/home/borjaeg/anaconda3/envs/multispectral/lib/python3.10/site-packages/sklearn/preprocessing/_data.py:2663: UserWarning: n_quantiles (900) is greater than the total number of samples (771). n_quantiles is set to n_samples.\n",
      "  warnings.warn(\n",
      "/home/borjaeg/anaconda3/envs/multispectral/lib/python3.10/site-packages/sklearn/preprocessing/_data.py:2663: UserWarning: n_quantiles (900) is greater than the total number of samples (171). n_quantiles is set to n_samples.\n",
      "  warnings.warn(\n",
      "/home/borjaeg/anaconda3/envs/multispectral/lib/python3.10/site-packages/sklearn/compose/_target.py:190: UserWarning: The provided functions or transformer are not strictly inverse of each other. If you are sure you want to proceed regardless, set 'check_inverse=False'\n",
      "  warnings.warn(\n",
      "/home/borjaeg/anaconda3/envs/multispectral/lib/python3.10/site-packages/sklearn/preprocessing/_data.py:2663: UserWarning: n_quantiles (900) is greater than the total number of samples (171). n_quantiles is set to n_samples.\n",
      "  warnings.warn(\n",
      "/home/borjaeg/anaconda3/envs/multispectral/lib/python3.10/site-packages/sklearn/compose/_target.py:190: UserWarning: The provided functions or transformer are not strictly inverse of each other. If you are sure you want to proceed regardless, set 'check_inverse=False'\n",
      "  warnings.warn(\n",
      "/home/borjaeg/anaconda3/envs/multispectral/lib/python3.10/site-packages/sklearn/preprocessing/_data.py:2663: UserWarning: n_quantiles (900) is greater than the total number of samples (172). n_quantiles is set to n_samples.\n",
      "  warnings.warn(\n",
      "/home/borjaeg/anaconda3/envs/multispectral/lib/python3.10/site-packages/sklearn/compose/_target.py:190: UserWarning: The provided functions or transformer are not strictly inverse of each other. If you are sure you want to proceed regardless, set 'check_inverse=False'\n",
      "  warnings.warn(\n"
     ]
    },
    {
     "name": "stdout",
     "output_type": "stream",
     "text": [
      "(Transformed Target) R2 Score: Train = 0.681; Test = 0.504\n",
      "{'scaler': [StandardScaler(), MinMaxScaler()], 'selection__k': [64, 48], 'selection__score_func': [<function mutual_info_regression at 0x7f139b130c10>, <function f_regression at 0x7f139b132830>], 'extraction': [PCA()], 'extraction__n_components': [32, 24]}\n",
      "Pipeline(steps=[('scaler', 'passthrough'), ('selection', SelectKBest()),\n",
      "                ('extraction', 'passthrough'),\n",
      "                ('polynomial', PolynomialFeatures(include_bias=False)),\n",
      "                ('regression', ARDRegression())])\n",
      "Fitting 3 folds for each of 16 candidates, totalling 48 fits\n",
      "Best Score: 0.500; R2 Score: Train = 0.714; Test = 0.596\n",
      "{'extraction': PCA(), 'extraction__n_components': 24, 'scaler': MinMaxScaler(), 'selection__k': 64, 'selection__score_func': <function mutual_info_regression at 0x7f139b130c10>}\n",
      "\n"
     ]
    },
    {
     "name": "stderr",
     "output_type": "stream",
     "text": [
      "/home/borjaeg/anaconda3/envs/multispectral/lib/python3.10/site-packages/sklearn/preprocessing/_data.py:2663: UserWarning: n_quantiles (900) is greater than the total number of samples (771). n_quantiles is set to n_samples.\n",
      "  warnings.warn(\n",
      "/home/borjaeg/anaconda3/envs/multispectral/lib/python3.10/site-packages/sklearn/preprocessing/_data.py:2663: UserWarning: n_quantiles (900) is greater than the total number of samples (171). n_quantiles is set to n_samples.\n",
      "  warnings.warn(\n",
      "/home/borjaeg/anaconda3/envs/multispectral/lib/python3.10/site-packages/sklearn/compose/_target.py:190: UserWarning: The provided functions or transformer are not strictly inverse of each other. If you are sure you want to proceed regardless, set 'check_inverse=False'\n",
      "  warnings.warn(\n",
      "/home/borjaeg/anaconda3/envs/multispectral/lib/python3.10/site-packages/sklearn/preprocessing/_data.py:2663: UserWarning: n_quantiles (900) is greater than the total number of samples (171). n_quantiles is set to n_samples.\n",
      "  warnings.warn(\n",
      "/home/borjaeg/anaconda3/envs/multispectral/lib/python3.10/site-packages/sklearn/compose/_target.py:190: UserWarning: The provided functions or transformer are not strictly inverse of each other. If you are sure you want to proceed regardless, set 'check_inverse=False'\n",
      "  warnings.warn(\n",
      "/home/borjaeg/anaconda3/envs/multispectral/lib/python3.10/site-packages/sklearn/preprocessing/_data.py:2663: UserWarning: n_quantiles (900) is greater than the total number of samples (172). n_quantiles is set to n_samples.\n",
      "  warnings.warn(\n",
      "/home/borjaeg/anaconda3/envs/multispectral/lib/python3.10/site-packages/sklearn/compose/_target.py:190: UserWarning: The provided functions or transformer are not strictly inverse of each other. If you are sure you want to proceed regardless, set 'check_inverse=False'\n",
      "  warnings.warn(\n"
     ]
    },
    {
     "name": "stdout",
     "output_type": "stream",
     "text": [
      "(Transformed Target) R2 Score: Train = 0.710; Test = 0.573\n",
      "==================================================\n",
      "CV: 3\n",
      "{'scaler': [StandardScaler(), MinMaxScaler()], 'selection__k': [64, 48], 'selection__score_func': [<function mutual_info_regression at 0x7f139b130c10>, <function f_regression at 0x7f139b132830>], 'extraction': [PCA()], 'extraction__n_components': [32, 24]}\n",
      "Pipeline(steps=[('scaler', 'passthrough'), ('selection', SelectKBest()),\n",
      "                ('extraction', 'passthrough'),\n",
      "                ('polynomial',\n",
      "                 PolynomialFeatures(degree=3, include_bias=False)),\n",
      "                ('regression', ARDRegression())])\n",
      "Fitting 3 folds for each of 16 candidates, totalling 48 fits\n",
      "Best Score: 0.596; R2 Score: Train = 0.894; Test = 0.684\n",
      "{'extraction': PCA(), 'extraction__n_components': 24, 'scaler': StandardScaler(), 'selection__k': 64, 'selection__score_func': <function mutual_info_regression at 0x7f139b130c10>}\n",
      "\n"
     ]
    },
    {
     "name": "stderr",
     "output_type": "stream",
     "text": [
      "/home/borjaeg/anaconda3/envs/multispectral/lib/python3.10/site-packages/sklearn/preprocessing/_data.py:2663: UserWarning: n_quantiles (900) is greater than the total number of samples (771). n_quantiles is set to n_samples.\n",
      "  warnings.warn(\n",
      "/home/borjaeg/anaconda3/envs/multispectral/lib/python3.10/site-packages/sklearn/preprocessing/_data.py:2663: UserWarning: n_quantiles (900) is greater than the total number of samples (171). n_quantiles is set to n_samples.\n",
      "  warnings.warn(\n",
      "/home/borjaeg/anaconda3/envs/multispectral/lib/python3.10/site-packages/sklearn/compose/_target.py:190: UserWarning: The provided functions or transformer are not strictly inverse of each other. If you are sure you want to proceed regardless, set 'check_inverse=False'\n",
      "  warnings.warn(\n",
      "/home/borjaeg/anaconda3/envs/multispectral/lib/python3.10/site-packages/sklearn/preprocessing/_data.py:2663: UserWarning: n_quantiles (900) is greater than the total number of samples (171). n_quantiles is set to n_samples.\n",
      "  warnings.warn(\n",
      "/home/borjaeg/anaconda3/envs/multispectral/lib/python3.10/site-packages/sklearn/compose/_target.py:190: UserWarning: The provided functions or transformer are not strictly inverse of each other. If you are sure you want to proceed regardless, set 'check_inverse=False'\n",
      "  warnings.warn(\n",
      "/home/borjaeg/anaconda3/envs/multispectral/lib/python3.10/site-packages/sklearn/preprocessing/_data.py:2663: UserWarning: n_quantiles (900) is greater than the total number of samples (172). n_quantiles is set to n_samples.\n",
      "  warnings.warn(\n",
      "/home/borjaeg/anaconda3/envs/multispectral/lib/python3.10/site-packages/sklearn/compose/_target.py:190: UserWarning: The provided functions or transformer are not strictly inverse of each other. If you are sure you want to proceed regardless, set 'check_inverse=False'\n",
      "  warnings.warn(\n"
     ]
    },
    {
     "name": "stdout",
     "output_type": "stream",
     "text": [
      "(Transformed Target) R2 Score: Train = 0.740; Test = 0.524\n",
      "{'scaler': [StandardScaler(), MinMaxScaler()], 'selection__k': [64, 48], 'selection__score_func': [<function mutual_info_regression at 0x7f139b130c10>, <function f_regression at 0x7f139b132830>], 'extraction': [PCA()], 'extraction__n_components': [32, 24]}\n",
      "Pipeline(steps=[('scaler', 'passthrough'), ('selection', SelectKBest()),\n",
      "                ('extraction', 'passthrough'),\n",
      "                ('polynomial',\n",
      "                 PolynomialFeatures(degree=3, include_bias=False)),\n",
      "                ('regression', ARDRegression())])\n",
      "Fitting 3 folds for each of 16 candidates, totalling 48 fits\n",
      "Best Score: 0.498; R2 Score: Train = 0.802; Test = 0.624\n",
      "{'extraction': PCA(), 'extraction__n_components': 24, 'scaler': MinMaxScaler(), 'selection__k': 64, 'selection__score_func': <function mutual_info_regression at 0x7f139b130c10>}\n",
      "\n"
     ]
    },
    {
     "name": "stderr",
     "output_type": "stream",
     "text": [
      "/home/borjaeg/anaconda3/envs/multispectral/lib/python3.10/site-packages/sklearn/preprocessing/_data.py:2663: UserWarning: n_quantiles (900) is greater than the total number of samples (771). n_quantiles is set to n_samples.\n",
      "  warnings.warn(\n",
      "/home/borjaeg/anaconda3/envs/multispectral/lib/python3.10/site-packages/sklearn/preprocessing/_data.py:2663: UserWarning: n_quantiles (900) is greater than the total number of samples (171). n_quantiles is set to n_samples.\n",
      "  warnings.warn(\n",
      "/home/borjaeg/anaconda3/envs/multispectral/lib/python3.10/site-packages/sklearn/compose/_target.py:190: UserWarning: The provided functions or transformer are not strictly inverse of each other. If you are sure you want to proceed regardless, set 'check_inverse=False'\n",
      "  warnings.warn(\n",
      "/home/borjaeg/anaconda3/envs/multispectral/lib/python3.10/site-packages/sklearn/preprocessing/_data.py:2663: UserWarning: n_quantiles (900) is greater than the total number of samples (171). n_quantiles is set to n_samples.\n",
      "  warnings.warn(\n",
      "/home/borjaeg/anaconda3/envs/multispectral/lib/python3.10/site-packages/sklearn/compose/_target.py:190: UserWarning: The provided functions or transformer are not strictly inverse of each other. If you are sure you want to proceed regardless, set 'check_inverse=False'\n",
      "  warnings.warn(\n",
      "/home/borjaeg/anaconda3/envs/multispectral/lib/python3.10/site-packages/sklearn/preprocessing/_data.py:2663: UserWarning: n_quantiles (900) is greater than the total number of samples (172). n_quantiles is set to n_samples.\n",
      "  warnings.warn(\n",
      "/home/borjaeg/anaconda3/envs/multispectral/lib/python3.10/site-packages/sklearn/compose/_target.py:190: UserWarning: The provided functions or transformer are not strictly inverse of each other. If you are sure you want to proceed regardless, set 'check_inverse=False'\n",
      "  warnings.warn(\n"
     ]
    },
    {
     "name": "stdout",
     "output_type": "stream",
     "text": [
      "(Transformed Target) R2 Score: Train = 0.799; Test = 0.575\n",
      "==================================================\n",
      "CV: 3\n",
      "{'scaler': [StandardScaler(), MinMaxScaler()], 'filter__window_length': [4, 12, 24], 'filter__polyorder': [3], 'selection__k': [64, 48], 'selection__score_func': [<function mutual_info_regression at 0x7f139b130c10>, <function f_regression at 0x7f139b132830>], 'extraction': [PCA()], 'extraction__n_components': [32, 24]}\n",
      "Pipeline(steps=[('scaler', 'passthrough'),\n",
      "                ('filter', SavgolFilterTransformer()),\n",
      "                ('selection', SelectKBest()), ('extraction', 'passthrough'),\n",
      "                ('polynomial',\n",
      "                 PolynomialFeatures(degree=1, include_bias=False)),\n",
      "                ('regression', TheilSenRegressor())])\n",
      "Fitting 3 folds for each of 48 candidates, totalling 144 fits\n",
      "Best Score: 0.424; R2 Score: Train = 0.395; Test = 0.441\n",
      "{'extraction': PCA(), 'extraction__n_components': 32, 'filter__polyorder': 3, 'filter__window_length': 12, 'scaler': MinMaxScaler(), 'selection__k': 48, 'selection__score_func': <function mutual_info_regression at 0x7f139b130c10>}\n",
      "\n"
     ]
    },
    {
     "name": "stderr",
     "output_type": "stream",
     "text": [
      "/home/borjaeg/anaconda3/envs/multispectral/lib/python3.10/site-packages/sklearn/preprocessing/_data.py:2663: UserWarning: n_quantiles (900) is greater than the total number of samples (771). n_quantiles is set to n_samples.\n",
      "  warnings.warn(\n",
      "/home/borjaeg/anaconda3/envs/multispectral/lib/python3.10/site-packages/sklearn/preprocessing/_data.py:2663: UserWarning: n_quantiles (900) is greater than the total number of samples (171). n_quantiles is set to n_samples.\n",
      "  warnings.warn(\n",
      "/home/borjaeg/anaconda3/envs/multispectral/lib/python3.10/site-packages/sklearn/compose/_target.py:190: UserWarning: The provided functions or transformer are not strictly inverse of each other. If you are sure you want to proceed regardless, set 'check_inverse=False'\n",
      "  warnings.warn(\n",
      "/home/borjaeg/anaconda3/envs/multispectral/lib/python3.10/site-packages/sklearn/preprocessing/_data.py:2663: UserWarning: n_quantiles (900) is greater than the total number of samples (171). n_quantiles is set to n_samples.\n",
      "  warnings.warn(\n",
      "/home/borjaeg/anaconda3/envs/multispectral/lib/python3.10/site-packages/sklearn/compose/_target.py:190: UserWarning: The provided functions or transformer are not strictly inverse of each other. If you are sure you want to proceed regardless, set 'check_inverse=False'\n",
      "  warnings.warn(\n",
      "/home/borjaeg/anaconda3/envs/multispectral/lib/python3.10/site-packages/sklearn/preprocessing/_data.py:2663: UserWarning: n_quantiles (900) is greater than the total number of samples (172). n_quantiles is set to n_samples.\n",
      "  warnings.warn(\n",
      "/home/borjaeg/anaconda3/envs/multispectral/lib/python3.10/site-packages/sklearn/compose/_target.py:190: UserWarning: The provided functions or transformer are not strictly inverse of each other. If you are sure you want to proceed regardless, set 'check_inverse=False'\n",
      "  warnings.warn(\n"
     ]
    },
    {
     "name": "stdout",
     "output_type": "stream",
     "text": [
      "(Transformed Target) R2 Score: Train = 0.246; Test = 0.104\n",
      "{'scaler': [StandardScaler(), MinMaxScaler()], 'filter__window_length': [4, 12, 24], 'filter__polyorder': [3], 'selection__k': [64, 48], 'selection__score_func': [<function mutual_info_regression at 0x7f139b130c10>, <function f_regression at 0x7f139b132830>], 'extraction': [PCA()], 'extraction__n_components': [32, 24]}\n",
      "Pipeline(steps=[('scaler', 'passthrough'),\n",
      "                ('filter', SavgolFilterTransformer()),\n",
      "                ('selection', SelectKBest()), ('extraction', 'passthrough'),\n",
      "                ('polynomial',\n",
      "                 PolynomialFeatures(degree=1, include_bias=False)),\n",
      "                ('regression', TheilSenRegressor())])\n",
      "Fitting 3 folds for each of 48 candidates, totalling 144 fits\n",
      "Best Score: 0.469; R2 Score: Train = 0.452; Test = 0.545\n",
      "{'extraction': PCA(), 'extraction__n_components': 32, 'filter__polyorder': 3, 'filter__window_length': 12, 'scaler': MinMaxScaler(), 'selection__k': 64, 'selection__score_func': <function f_regression at 0x7f139b132830>}\n",
      "\n"
     ]
    },
    {
     "name": "stderr",
     "output_type": "stream",
     "text": [
      "/home/borjaeg/anaconda3/envs/multispectral/lib/python3.10/site-packages/sklearn/preprocessing/_data.py:2663: UserWarning: n_quantiles (900) is greater than the total number of samples (771). n_quantiles is set to n_samples.\n",
      "  warnings.warn(\n",
      "/home/borjaeg/anaconda3/envs/multispectral/lib/python3.10/site-packages/sklearn/preprocessing/_data.py:2663: UserWarning: n_quantiles (900) is greater than the total number of samples (171). n_quantiles is set to n_samples.\n",
      "  warnings.warn(\n",
      "/home/borjaeg/anaconda3/envs/multispectral/lib/python3.10/site-packages/sklearn/compose/_target.py:190: UserWarning: The provided functions or transformer are not strictly inverse of each other. If you are sure you want to proceed regardless, set 'check_inverse=False'\n",
      "  warnings.warn(\n",
      "/home/borjaeg/anaconda3/envs/multispectral/lib/python3.10/site-packages/sklearn/preprocessing/_data.py:2663: UserWarning: n_quantiles (900) is greater than the total number of samples (171). n_quantiles is set to n_samples.\n",
      "  warnings.warn(\n",
      "/home/borjaeg/anaconda3/envs/multispectral/lib/python3.10/site-packages/sklearn/compose/_target.py:190: UserWarning: The provided functions or transformer are not strictly inverse of each other. If you are sure you want to proceed regardless, set 'check_inverse=False'\n",
      "  warnings.warn(\n",
      "/home/borjaeg/anaconda3/envs/multispectral/lib/python3.10/site-packages/sklearn/preprocessing/_data.py:2663: UserWarning: n_quantiles (900) is greater than the total number of samples (172). n_quantiles is set to n_samples.\n",
      "  warnings.warn(\n",
      "/home/borjaeg/anaconda3/envs/multispectral/lib/python3.10/site-packages/sklearn/compose/_target.py:190: UserWarning: The provided functions or transformer are not strictly inverse of each other. If you are sure you want to proceed regardless, set 'check_inverse=False'\n",
      "  warnings.warn(\n"
     ]
    },
    {
     "name": "stdout",
     "output_type": "stream",
     "text": [
      "(Transformed Target) R2 Score: Train = 0.520; Test = 0.553\n",
      "==================================================\n",
      "CV: 3\n",
      "{'scaler': [StandardScaler(), MinMaxScaler()], 'filter__window_length': [4, 12, 24], 'filter__polyorder': [3], 'selection__k': [64, 48], 'selection__score_func': [<function mutual_info_regression at 0x7f139b130c10>, <function f_regression at 0x7f139b132830>], 'extraction': [PCA()], 'extraction__n_components': [32, 24]}\n",
      "Pipeline(steps=[('scaler', 'passthrough'),\n",
      "                ('filter', SavgolFilterTransformer()),\n",
      "                ('selection', SelectKBest()), ('extraction', 'passthrough'),\n",
      "                ('polynomial', PolynomialFeatures(include_bias=False)),\n",
      "                ('regression', TheilSenRegressor())])\n",
      "Fitting 3 folds for each of 48 candidates, totalling 144 fits\n",
      "Best Score: -0.883; R2 Score: Train = 0.662; Test = 0.365\n",
      "{'extraction': PCA(), 'extraction__n_components': 24, 'filter__polyorder': 3, 'filter__window_length': 4, 'scaler': MinMaxScaler(), 'selection__k': 48, 'selection__score_func': <function f_regression at 0x7f139b132830>}\n",
      "\n"
     ]
    },
    {
     "name": "stderr",
     "output_type": "stream",
     "text": [
      "/home/borjaeg/anaconda3/envs/multispectral/lib/python3.10/site-packages/sklearn/preprocessing/_data.py:2663: UserWarning: n_quantiles (900) is greater than the total number of samples (771). n_quantiles is set to n_samples.\n",
      "  warnings.warn(\n",
      "/home/borjaeg/anaconda3/envs/multispectral/lib/python3.10/site-packages/sklearn/preprocessing/_data.py:2663: UserWarning: n_quantiles (900) is greater than the total number of samples (171). n_quantiles is set to n_samples.\n",
      "  warnings.warn(\n",
      "/home/borjaeg/anaconda3/envs/multispectral/lib/python3.10/site-packages/sklearn/compose/_target.py:190: UserWarning: The provided functions or transformer are not strictly inverse of each other. If you are sure you want to proceed regardless, set 'check_inverse=False'\n",
      "  warnings.warn(\n",
      "/home/borjaeg/anaconda3/envs/multispectral/lib/python3.10/site-packages/sklearn/preprocessing/_data.py:2663: UserWarning: n_quantiles (900) is greater than the total number of samples (171). n_quantiles is set to n_samples.\n",
      "  warnings.warn(\n",
      "/home/borjaeg/anaconda3/envs/multispectral/lib/python3.10/site-packages/sklearn/compose/_target.py:190: UserWarning: The provided functions or transformer are not strictly inverse of each other. If you are sure you want to proceed regardless, set 'check_inverse=False'\n",
      "  warnings.warn(\n",
      "/home/borjaeg/anaconda3/envs/multispectral/lib/python3.10/site-packages/sklearn/preprocessing/_data.py:2663: UserWarning: n_quantiles (900) is greater than the total number of samples (172). n_quantiles is set to n_samples.\n",
      "  warnings.warn(\n",
      "/home/borjaeg/anaconda3/envs/multispectral/lib/python3.10/site-packages/sklearn/compose/_target.py:190: UserWarning: The provided functions or transformer are not strictly inverse of each other. If you are sure you want to proceed regardless, set 'check_inverse=False'\n",
      "  warnings.warn(\n"
     ]
    },
    {
     "name": "stdout",
     "output_type": "stream",
     "text": [
      "(Transformed Target) R2 Score: Train = 0.343; Test = 0.159\n",
      "{'scaler': [StandardScaler(), MinMaxScaler()], 'filter__window_length': [4, 12, 24], 'filter__polyorder': [3], 'selection__k': [64, 48], 'selection__score_func': [<function mutual_info_regression at 0x7f139b130c10>, <function f_regression at 0x7f139b132830>], 'extraction': [PCA()], 'extraction__n_components': [32, 24]}\n",
      "Pipeline(steps=[('scaler', 'passthrough'),\n",
      "                ('filter', SavgolFilterTransformer()),\n",
      "                ('selection', SelectKBest()), ('extraction', 'passthrough'),\n",
      "                ('polynomial', PolynomialFeatures(include_bias=False)),\n",
      "                ('regression', TheilSenRegressor())])\n",
      "Fitting 3 folds for each of 48 candidates, totalling 144 fits\n",
      "Best Score: -1.927; R2 Score: Train = -170.956; Test = 0.018\n",
      "{'extraction': PCA(), 'extraction__n_components': 24, 'filter__polyorder': 3, 'filter__window_length': 24, 'scaler': StandardScaler(), 'selection__k': 48, 'selection__score_func': <function f_regression at 0x7f139b132830>}\n",
      "\n"
     ]
    },
    {
     "name": "stderr",
     "output_type": "stream",
     "text": [
      "/home/borjaeg/anaconda3/envs/multispectral/lib/python3.10/site-packages/sklearn/preprocessing/_data.py:2663: UserWarning: n_quantiles (900) is greater than the total number of samples (771). n_quantiles is set to n_samples.\n",
      "  warnings.warn(\n",
      "/home/borjaeg/anaconda3/envs/multispectral/lib/python3.10/site-packages/sklearn/preprocessing/_data.py:2663: UserWarning: n_quantiles (900) is greater than the total number of samples (171). n_quantiles is set to n_samples.\n",
      "  warnings.warn(\n",
      "/home/borjaeg/anaconda3/envs/multispectral/lib/python3.10/site-packages/sklearn/compose/_target.py:190: UserWarning: The provided functions or transformer are not strictly inverse of each other. If you are sure you want to proceed regardless, set 'check_inverse=False'\n",
      "  warnings.warn(\n",
      "/home/borjaeg/anaconda3/envs/multispectral/lib/python3.10/site-packages/sklearn/preprocessing/_data.py:2663: UserWarning: n_quantiles (900) is greater than the total number of samples (171). n_quantiles is set to n_samples.\n",
      "  warnings.warn(\n",
      "/home/borjaeg/anaconda3/envs/multispectral/lib/python3.10/site-packages/sklearn/compose/_target.py:190: UserWarning: The provided functions or transformer are not strictly inverse of each other. If you are sure you want to proceed regardless, set 'check_inverse=False'\n",
      "  warnings.warn(\n",
      "/home/borjaeg/anaconda3/envs/multispectral/lib/python3.10/site-packages/sklearn/preprocessing/_data.py:2663: UserWarning: n_quantiles (900) is greater than the total number of samples (172). n_quantiles is set to n_samples.\n",
      "  warnings.warn(\n",
      "/home/borjaeg/anaconda3/envs/multispectral/lib/python3.10/site-packages/sklearn/compose/_target.py:190: UserWarning: The provided functions or transformer are not strictly inverse of each other. If you are sure you want to proceed regardless, set 'check_inverse=False'\n",
      "  warnings.warn(\n"
     ]
    },
    {
     "name": "stdout",
     "output_type": "stream",
     "text": [
      "(Transformed Target) R2 Score: Train = 0.511; Test = 0.018\n",
      "==================================================\n",
      "CV: 3\n",
      "{'scaler': [StandardScaler(), MinMaxScaler()], 'filter__window_length': [4, 12, 24], 'filter__polyorder': [3], 'selection__k': [64, 48], 'selection__score_func': [<function mutual_info_regression at 0x7f139b130c10>, <function f_regression at 0x7f139b132830>], 'extraction': [PCA()], 'extraction__n_components': [32, 24]}\n",
      "Pipeline(steps=[('scaler', 'passthrough'),\n",
      "                ('filter', SavgolFilterTransformer()),\n",
      "                ('selection', SelectKBest()), ('extraction', 'passthrough'),\n",
      "                ('polynomial',\n",
      "                 PolynomialFeatures(degree=3, include_bias=False)),\n",
      "                ('regression', TheilSenRegressor())])\n",
      "Fitting 3 folds for each of 48 candidates, totalling 144 fits\n",
      "Best Score: -1.336; R2 Score: Train = 1.000; Test = -0.021\n",
      "{'extraction': PCA(), 'extraction__n_components': 32, 'filter__polyorder': 3, 'filter__window_length': 4, 'scaler': StandardScaler(), 'selection__k': 48, 'selection__score_func': <function f_regression at 0x7f139b132830>}\n",
      "\n"
     ]
    },
    {
     "name": "stderr",
     "output_type": "stream",
     "text": [
      "/home/borjaeg/anaconda3/envs/multispectral/lib/python3.10/site-packages/sklearn/preprocessing/_data.py:2663: UserWarning: n_quantiles (900) is greater than the total number of samples (771). n_quantiles is set to n_samples.\n",
      "  warnings.warn(\n",
      "/home/borjaeg/anaconda3/envs/multispectral/lib/python3.10/site-packages/sklearn/preprocessing/_data.py:2663: UserWarning: n_quantiles (900) is greater than the total number of samples (171). n_quantiles is set to n_samples.\n",
      "  warnings.warn(\n",
      "/home/borjaeg/anaconda3/envs/multispectral/lib/python3.10/site-packages/sklearn/compose/_target.py:190: UserWarning: The provided functions or transformer are not strictly inverse of each other. If you are sure you want to proceed regardless, set 'check_inverse=False'\n",
      "  warnings.warn(\n",
      "/home/borjaeg/anaconda3/envs/multispectral/lib/python3.10/site-packages/sklearn/preprocessing/_data.py:2663: UserWarning: n_quantiles (900) is greater than the total number of samples (171). n_quantiles is set to n_samples.\n",
      "  warnings.warn(\n",
      "/home/borjaeg/anaconda3/envs/multispectral/lib/python3.10/site-packages/sklearn/compose/_target.py:190: UserWarning: The provided functions or transformer are not strictly inverse of each other. If you are sure you want to proceed regardless, set 'check_inverse=False'\n",
      "  warnings.warn(\n",
      "/home/borjaeg/anaconda3/envs/multispectral/lib/python3.10/site-packages/sklearn/preprocessing/_data.py:2663: UserWarning: n_quantiles (900) is greater than the total number of samples (172). n_quantiles is set to n_samples.\n",
      "  warnings.warn(\n",
      "/home/borjaeg/anaconda3/envs/multispectral/lib/python3.10/site-packages/sklearn/compose/_target.py:190: UserWarning: The provided functions or transformer are not strictly inverse of each other. If you are sure you want to proceed regardless, set 'check_inverse=False'\n",
      "  warnings.warn(\n"
     ]
    },
    {
     "name": "stdout",
     "output_type": "stream",
     "text": [
      "(Transformed Target) R2 Score: Train = 1.000; Test = -1.791\n",
      "{'scaler': [StandardScaler(), MinMaxScaler()], 'filter__window_length': [4, 12, 24], 'filter__polyorder': [3], 'selection__k': [64, 48], 'selection__score_func': [<function mutual_info_regression at 0x7f139b130c10>, <function f_regression at 0x7f139b132830>], 'extraction': [PCA()], 'extraction__n_components': [32, 24]}\n",
      "Pipeline(steps=[('scaler', 'passthrough'),\n",
      "                ('filter', SavgolFilterTransformer()),\n",
      "                ('selection', SelectKBest()), ('extraction', 'passthrough'),\n",
      "                ('polynomial',\n",
      "                 PolynomialFeatures(degree=3, include_bias=False)),\n",
      "                ('regression', TheilSenRegressor())])\n",
      "Fitting 3 folds for each of 48 candidates, totalling 144 fits\n",
      "Best Score: -8.549; R2 Score: Train = 1.000; Test = -4.933\n",
      "{'extraction': PCA(), 'extraction__n_components': 32, 'filter__polyorder': 3, 'filter__window_length': 4, 'scaler': MinMaxScaler(), 'selection__k': 64, 'selection__score_func': <function f_regression at 0x7f139b132830>}\n",
      "\n"
     ]
    },
    {
     "name": "stderr",
     "output_type": "stream",
     "text": [
      "/home/borjaeg/anaconda3/envs/multispectral/lib/python3.10/site-packages/sklearn/preprocessing/_data.py:2663: UserWarning: n_quantiles (900) is greater than the total number of samples (771). n_quantiles is set to n_samples.\n",
      "  warnings.warn(\n",
      "/home/borjaeg/anaconda3/envs/multispectral/lib/python3.10/site-packages/sklearn/preprocessing/_data.py:2663: UserWarning: n_quantiles (900) is greater than the total number of samples (171). n_quantiles is set to n_samples.\n",
      "  warnings.warn(\n",
      "/home/borjaeg/anaconda3/envs/multispectral/lib/python3.10/site-packages/sklearn/compose/_target.py:190: UserWarning: The provided functions or transformer are not strictly inverse of each other. If you are sure you want to proceed regardless, set 'check_inverse=False'\n",
      "  warnings.warn(\n",
      "/home/borjaeg/anaconda3/envs/multispectral/lib/python3.10/site-packages/sklearn/preprocessing/_data.py:2663: UserWarning: n_quantiles (900) is greater than the total number of samples (171). n_quantiles is set to n_samples.\n",
      "  warnings.warn(\n",
      "/home/borjaeg/anaconda3/envs/multispectral/lib/python3.10/site-packages/sklearn/compose/_target.py:190: UserWarning: The provided functions or transformer are not strictly inverse of each other. If you are sure you want to proceed regardless, set 'check_inverse=False'\n",
      "  warnings.warn(\n",
      "/home/borjaeg/anaconda3/envs/multispectral/lib/python3.10/site-packages/sklearn/preprocessing/_data.py:2663: UserWarning: n_quantiles (900) is greater than the total number of samples (172). n_quantiles is set to n_samples.\n",
      "  warnings.warn(\n",
      "/home/borjaeg/anaconda3/envs/multispectral/lib/python3.10/site-packages/sklearn/compose/_target.py:190: UserWarning: The provided functions or transformer are not strictly inverse of each other. If you are sure you want to proceed regardless, set 'check_inverse=False'\n",
      "  warnings.warn(\n"
     ]
    },
    {
     "name": "stdout",
     "output_type": "stream",
     "text": [
      "(Transformed Target) R2 Score: Train = 1.000; Test = -2.704\n",
      "==================================================\n",
      "CV: 3\n",
      "{'scaler': [StandardScaler(), MinMaxScaler()], 'selection__k': [64, 48], 'selection__score_func': [<function mutual_info_regression at 0x7f139b130c10>, <function f_regression at 0x7f139b132830>], 'extraction': [PCA()], 'extraction__n_components': [32, 24]}\n",
      "Pipeline(steps=[('scaler', 'passthrough'), ('selection', SelectKBest()),\n",
      "                ('extraction', 'passthrough'),\n",
      "                ('polynomial',\n",
      "                 PolynomialFeatures(degree=1, include_bias=False)),\n",
      "                ('regression', TheilSenRegressor())])\n",
      "Fitting 3 folds for each of 16 candidates, totalling 48 fits\n",
      "Best Score: 0.392; R2 Score: Train = 0.459; Test = 0.352\n",
      "{'extraction': PCA(), 'extraction__n_components': 32, 'scaler': StandardScaler(), 'selection__k': 64, 'selection__score_func': <function f_regression at 0x7f139b132830>}\n",
      "\n"
     ]
    },
    {
     "name": "stderr",
     "output_type": "stream",
     "text": [
      "/home/borjaeg/anaconda3/envs/multispectral/lib/python3.10/site-packages/sklearn/preprocessing/_data.py:2663: UserWarning: n_quantiles (900) is greater than the total number of samples (771). n_quantiles is set to n_samples.\n",
      "  warnings.warn(\n",
      "/home/borjaeg/anaconda3/envs/multispectral/lib/python3.10/site-packages/sklearn/preprocessing/_data.py:2663: UserWarning: n_quantiles (900) is greater than the total number of samples (171). n_quantiles is set to n_samples.\n",
      "  warnings.warn(\n",
      "/home/borjaeg/anaconda3/envs/multispectral/lib/python3.10/site-packages/sklearn/compose/_target.py:190: UserWarning: The provided functions or transformer are not strictly inverse of each other. If you are sure you want to proceed regardless, set 'check_inverse=False'\n",
      "  warnings.warn(\n",
      "/home/borjaeg/anaconda3/envs/multispectral/lib/python3.10/site-packages/sklearn/preprocessing/_data.py:2663: UserWarning: n_quantiles (900) is greater than the total number of samples (171). n_quantiles is set to n_samples.\n",
      "  warnings.warn(\n",
      "/home/borjaeg/anaconda3/envs/multispectral/lib/python3.10/site-packages/sklearn/compose/_target.py:190: UserWarning: The provided functions or transformer are not strictly inverse of each other. If you are sure you want to proceed regardless, set 'check_inverse=False'\n",
      "  warnings.warn(\n",
      "/home/borjaeg/anaconda3/envs/multispectral/lib/python3.10/site-packages/sklearn/preprocessing/_data.py:2663: UserWarning: n_quantiles (900) is greater than the total number of samples (172). n_quantiles is set to n_samples.\n",
      "  warnings.warn(\n",
      "/home/borjaeg/anaconda3/envs/multispectral/lib/python3.10/site-packages/sklearn/compose/_target.py:190: UserWarning: The provided functions or transformer are not strictly inverse of each other. If you are sure you want to proceed regardless, set 'check_inverse=False'\n",
      "  warnings.warn(\n"
     ]
    },
    {
     "name": "stdout",
     "output_type": "stream",
     "text": [
      "(Transformed Target) R2 Score: Train = 0.278; Test = 0.150\n",
      "{'scaler': [StandardScaler(), MinMaxScaler()], 'selection__k': [64, 48], 'selection__score_func': [<function mutual_info_regression at 0x7f139b130c10>, <function f_regression at 0x7f139b132830>], 'extraction': [PCA()], 'extraction__n_components': [32, 24]}\n",
      "Pipeline(steps=[('scaler', 'passthrough'), ('selection', SelectKBest()),\n",
      "                ('extraction', 'passthrough'),\n",
      "                ('polynomial',\n",
      "                 PolynomialFeatures(degree=1, include_bias=False)),\n",
      "                ('regression', TheilSenRegressor())])\n",
      "Fitting 3 folds for each of 16 candidates, totalling 48 fits\n",
      "Best Score: 0.367; R2 Score: Train = -0.548; Test = 0.388\n",
      "{'extraction': PCA(), 'extraction__n_components': 32, 'scaler': MinMaxScaler(), 'selection__k': 64, 'selection__score_func': <function mutual_info_regression at 0x7f139b130c10>}\n",
      "\n"
     ]
    },
    {
     "name": "stderr",
     "output_type": "stream",
     "text": [
      "/home/borjaeg/anaconda3/envs/multispectral/lib/python3.10/site-packages/sklearn/preprocessing/_data.py:2663: UserWarning: n_quantiles (900) is greater than the total number of samples (771). n_quantiles is set to n_samples.\n",
      "  warnings.warn(\n",
      "/home/borjaeg/anaconda3/envs/multispectral/lib/python3.10/site-packages/sklearn/preprocessing/_data.py:2663: UserWarning: n_quantiles (900) is greater than the total number of samples (171). n_quantiles is set to n_samples.\n",
      "  warnings.warn(\n",
      "/home/borjaeg/anaconda3/envs/multispectral/lib/python3.10/site-packages/sklearn/compose/_target.py:190: UserWarning: The provided functions or transformer are not strictly inverse of each other. If you are sure you want to proceed regardless, set 'check_inverse=False'\n",
      "  warnings.warn(\n",
      "/home/borjaeg/anaconda3/envs/multispectral/lib/python3.10/site-packages/sklearn/preprocessing/_data.py:2663: UserWarning: n_quantiles (900) is greater than the total number of samples (171). n_quantiles is set to n_samples.\n",
      "  warnings.warn(\n",
      "/home/borjaeg/anaconda3/envs/multispectral/lib/python3.10/site-packages/sklearn/compose/_target.py:190: UserWarning: The provided functions or transformer are not strictly inverse of each other. If you are sure you want to proceed regardless, set 'check_inverse=False'\n",
      "  warnings.warn(\n",
      "/home/borjaeg/anaconda3/envs/multispectral/lib/python3.10/site-packages/sklearn/preprocessing/_data.py:2663: UserWarning: n_quantiles (900) is greater than the total number of samples (172). n_quantiles is set to n_samples.\n",
      "  warnings.warn(\n",
      "/home/borjaeg/anaconda3/envs/multispectral/lib/python3.10/site-packages/sklearn/compose/_target.py:190: UserWarning: The provided functions or transformer are not strictly inverse of each other. If you are sure you want to proceed regardless, set 'check_inverse=False'\n",
      "  warnings.warn(\n"
     ]
    },
    {
     "name": "stdout",
     "output_type": "stream",
     "text": [
      "(Transformed Target) R2 Score: Train = 0.419; Test = 0.350\n",
      "==================================================\n",
      "CV: 3\n",
      "{'scaler': [StandardScaler(), MinMaxScaler()], 'selection__k': [64, 48], 'selection__score_func': [<function mutual_info_regression at 0x7f139b130c10>, <function f_regression at 0x7f139b132830>], 'extraction': [PCA()], 'extraction__n_components': [32, 24]}\n",
      "Pipeline(steps=[('scaler', 'passthrough'), ('selection', SelectKBest()),\n",
      "                ('extraction', 'passthrough'),\n",
      "                ('polynomial', PolynomialFeatures(include_bias=False)),\n",
      "                ('regression', TheilSenRegressor())])\n",
      "Fitting 3 folds for each of 16 candidates, totalling 48 fits\n",
      "Best Score: -0.391; R2 Score: Train = 0.628; Test = 0.397\n",
      "{'extraction': PCA(), 'extraction__n_components': 24, 'scaler': StandardScaler(), 'selection__k': 48, 'selection__score_func': <function f_regression at 0x7f139b132830>}\n",
      "\n"
     ]
    },
    {
     "name": "stderr",
     "output_type": "stream",
     "text": [
      "/home/borjaeg/anaconda3/envs/multispectral/lib/python3.10/site-packages/sklearn/preprocessing/_data.py:2663: UserWarning: n_quantiles (900) is greater than the total number of samples (771). n_quantiles is set to n_samples.\n",
      "  warnings.warn(\n",
      "/home/borjaeg/anaconda3/envs/multispectral/lib/python3.10/site-packages/sklearn/preprocessing/_data.py:2663: UserWarning: n_quantiles (900) is greater than the total number of samples (171). n_quantiles is set to n_samples.\n",
      "  warnings.warn(\n",
      "/home/borjaeg/anaconda3/envs/multispectral/lib/python3.10/site-packages/sklearn/compose/_target.py:190: UserWarning: The provided functions or transformer are not strictly inverse of each other. If you are sure you want to proceed regardless, set 'check_inverse=False'\n",
      "  warnings.warn(\n",
      "/home/borjaeg/anaconda3/envs/multispectral/lib/python3.10/site-packages/sklearn/preprocessing/_data.py:2663: UserWarning: n_quantiles (900) is greater than the total number of samples (171). n_quantiles is set to n_samples.\n",
      "  warnings.warn(\n",
      "/home/borjaeg/anaconda3/envs/multispectral/lib/python3.10/site-packages/sklearn/compose/_target.py:190: UserWarning: The provided functions or transformer are not strictly inverse of each other. If you are sure you want to proceed regardless, set 'check_inverse=False'\n",
      "  warnings.warn(\n",
      "/home/borjaeg/anaconda3/envs/multispectral/lib/python3.10/site-packages/sklearn/preprocessing/_data.py:2663: UserWarning: n_quantiles (900) is greater than the total number of samples (172). n_quantiles is set to n_samples.\n",
      "  warnings.warn(\n",
      "/home/borjaeg/anaconda3/envs/multispectral/lib/python3.10/site-packages/sklearn/compose/_target.py:190: UserWarning: The provided functions or transformer are not strictly inverse of each other. If you are sure you want to proceed regardless, set 'check_inverse=False'\n",
      "  warnings.warn(\n"
     ]
    },
    {
     "name": "stdout",
     "output_type": "stream",
     "text": [
      "(Transformed Target) R2 Score: Train = 0.178; Test = -0.506\n",
      "{'scaler': [StandardScaler(), MinMaxScaler()], 'selection__k': [64, 48], 'selection__score_func': [<function mutual_info_regression at 0x7f139b130c10>, <function f_regression at 0x7f139b132830>], 'extraction': [PCA()], 'extraction__n_components': [32, 24]}\n",
      "Pipeline(steps=[('scaler', 'passthrough'), ('selection', SelectKBest()),\n",
      "                ('extraction', 'passthrough'),\n",
      "                ('polynomial', PolynomialFeatures(include_bias=False)),\n",
      "                ('regression', TheilSenRegressor())])\n",
      "Fitting 3 folds for each of 16 candidates, totalling 48 fits\n",
      "Best Score: -6.207; R2 Score: Train = -1514.914; Test = -0.665\n",
      "{'extraction': PCA(), 'extraction__n_components': 24, 'scaler': MinMaxScaler(), 'selection__k': 64, 'selection__score_func': <function mutual_info_regression at 0x7f139b130c10>}\n",
      "\n"
     ]
    },
    {
     "name": "stderr",
     "output_type": "stream",
     "text": [
      "/home/borjaeg/anaconda3/envs/multispectral/lib/python3.10/site-packages/sklearn/preprocessing/_data.py:2663: UserWarning: n_quantiles (900) is greater than the total number of samples (771). n_quantiles is set to n_samples.\n",
      "  warnings.warn(\n",
      "/home/borjaeg/anaconda3/envs/multispectral/lib/python3.10/site-packages/sklearn/preprocessing/_data.py:2663: UserWarning: n_quantiles (900) is greater than the total number of samples (171). n_quantiles is set to n_samples.\n",
      "  warnings.warn(\n",
      "/home/borjaeg/anaconda3/envs/multispectral/lib/python3.10/site-packages/sklearn/compose/_target.py:190: UserWarning: The provided functions or transformer are not strictly inverse of each other. If you are sure you want to proceed regardless, set 'check_inverse=False'\n",
      "  warnings.warn(\n",
      "/home/borjaeg/anaconda3/envs/multispectral/lib/python3.10/site-packages/sklearn/preprocessing/_data.py:2663: UserWarning: n_quantiles (900) is greater than the total number of samples (171). n_quantiles is set to n_samples.\n",
      "  warnings.warn(\n",
      "/home/borjaeg/anaconda3/envs/multispectral/lib/python3.10/site-packages/sklearn/compose/_target.py:190: UserWarning: The provided functions or transformer are not strictly inverse of each other. If you are sure you want to proceed regardless, set 'check_inverse=False'\n",
      "  warnings.warn(\n",
      "/home/borjaeg/anaconda3/envs/multispectral/lib/python3.10/site-packages/sklearn/preprocessing/_data.py:2663: UserWarning: n_quantiles (900) is greater than the total number of samples (172). n_quantiles is set to n_samples.\n",
      "  warnings.warn(\n",
      "/home/borjaeg/anaconda3/envs/multispectral/lib/python3.10/site-packages/sklearn/compose/_target.py:190: UserWarning: The provided functions or transformer are not strictly inverse of each other. If you are sure you want to proceed regardless, set 'check_inverse=False'\n",
      "  warnings.warn(\n"
     ]
    },
    {
     "name": "stdout",
     "output_type": "stream",
     "text": [
      "(Transformed Target) R2 Score: Train = -0.162; Test = -0.635\n",
      "==================================================\n",
      "CV: 3\n",
      "{'scaler': [StandardScaler(), MinMaxScaler()], 'selection__k': [64, 48], 'selection__score_func': [<function mutual_info_regression at 0x7f139b130c10>, <function f_regression at 0x7f139b132830>], 'extraction': [PCA()], 'extraction__n_components': [32, 24]}\n",
      "Pipeline(steps=[('scaler', 'passthrough'), ('selection', SelectKBest()),\n",
      "                ('extraction', 'passthrough'),\n",
      "                ('polynomial',\n",
      "                 PolynomialFeatures(degree=3, include_bias=False)),\n",
      "                ('regression', TheilSenRegressor())])\n",
      "Fitting 3 folds for each of 16 candidates, totalling 48 fits\n",
      "Best Score: -1.767; R2 Score: Train = 0.999; Test = -0.605\n",
      "{'extraction': PCA(), 'extraction__n_components': 24, 'scaler': MinMaxScaler(), 'selection__k': 48, 'selection__score_func': <function f_regression at 0x7f139b132830>}\n",
      "\n"
     ]
    },
    {
     "name": "stderr",
     "output_type": "stream",
     "text": [
      "/home/borjaeg/anaconda3/envs/multispectral/lib/python3.10/site-packages/sklearn/preprocessing/_data.py:2663: UserWarning: n_quantiles (900) is greater than the total number of samples (771). n_quantiles is set to n_samples.\n",
      "  warnings.warn(\n",
      "/home/borjaeg/anaconda3/envs/multispectral/lib/python3.10/site-packages/sklearn/preprocessing/_data.py:2663: UserWarning: n_quantiles (900) is greater than the total number of samples (171). n_quantiles is set to n_samples.\n",
      "  warnings.warn(\n",
      "/home/borjaeg/anaconda3/envs/multispectral/lib/python3.10/site-packages/sklearn/compose/_target.py:190: UserWarning: The provided functions or transformer are not strictly inverse of each other. If you are sure you want to proceed regardless, set 'check_inverse=False'\n",
      "  warnings.warn(\n",
      "/home/borjaeg/anaconda3/envs/multispectral/lib/python3.10/site-packages/sklearn/preprocessing/_data.py:2663: UserWarning: n_quantiles (900) is greater than the total number of samples (171). n_quantiles is set to n_samples.\n",
      "  warnings.warn(\n",
      "/home/borjaeg/anaconda3/envs/multispectral/lib/python3.10/site-packages/sklearn/compose/_target.py:190: UserWarning: The provided functions or transformer are not strictly inverse of each other. If you are sure you want to proceed regardless, set 'check_inverse=False'\n",
      "  warnings.warn(\n",
      "/home/borjaeg/anaconda3/envs/multispectral/lib/python3.10/site-packages/sklearn/preprocessing/_data.py:2663: UserWarning: n_quantiles (900) is greater than the total number of samples (172). n_quantiles is set to n_samples.\n",
      "  warnings.warn(\n",
      "/home/borjaeg/anaconda3/envs/multispectral/lib/python3.10/site-packages/sklearn/compose/_target.py:190: UserWarning: The provided functions or transformer are not strictly inverse of each other. If you are sure you want to proceed regardless, set 'check_inverse=False'\n",
      "  warnings.warn(\n"
     ]
    },
    {
     "name": "stdout",
     "output_type": "stream",
     "text": [
      "(Transformed Target) R2 Score: Train = 1.000; Test = -3.382\n",
      "{'scaler': [StandardScaler(), MinMaxScaler()], 'selection__k': [64, 48], 'selection__score_func': [<function mutual_info_regression at 0x7f139b130c10>, <function f_regression at 0x7f139b132830>], 'extraction': [PCA()], 'extraction__n_components': [32, 24]}\n",
      "Pipeline(steps=[('scaler', 'passthrough'), ('selection', SelectKBest()),\n",
      "                ('extraction', 'passthrough'),\n",
      "                ('polynomial',\n",
      "                 PolynomialFeatures(degree=3, include_bias=False)),\n",
      "                ('regression', TheilSenRegressor())])\n",
      "Fitting 3 folds for each of 16 candidates, totalling 48 fits\n",
      "Best Score: -9.398; R2 Score: Train = 0.999; Test = -16.981\n",
      "{'extraction': PCA(), 'extraction__n_components': 32, 'scaler': StandardScaler(), 'selection__k': 64, 'selection__score_func': <function f_regression at 0x7f139b132830>}\n",
      "\n"
     ]
    },
    {
     "name": "stderr",
     "output_type": "stream",
     "text": [
      "/home/borjaeg/anaconda3/envs/multispectral/lib/python3.10/site-packages/sklearn/preprocessing/_data.py:2663: UserWarning: n_quantiles (900) is greater than the total number of samples (771). n_quantiles is set to n_samples.\n",
      "  warnings.warn(\n",
      "/home/borjaeg/anaconda3/envs/multispectral/lib/python3.10/site-packages/sklearn/preprocessing/_data.py:2663: UserWarning: n_quantiles (900) is greater than the total number of samples (171). n_quantiles is set to n_samples.\n",
      "  warnings.warn(\n",
      "/home/borjaeg/anaconda3/envs/multispectral/lib/python3.10/site-packages/sklearn/compose/_target.py:190: UserWarning: The provided functions or transformer are not strictly inverse of each other. If you are sure you want to proceed regardless, set 'check_inverse=False'\n",
      "  warnings.warn(\n",
      "/home/borjaeg/anaconda3/envs/multispectral/lib/python3.10/site-packages/sklearn/preprocessing/_data.py:2663: UserWarning: n_quantiles (900) is greater than the total number of samples (171). n_quantiles is set to n_samples.\n",
      "  warnings.warn(\n",
      "/home/borjaeg/anaconda3/envs/multispectral/lib/python3.10/site-packages/sklearn/compose/_target.py:190: UserWarning: The provided functions or transformer are not strictly inverse of each other. If you are sure you want to proceed regardless, set 'check_inverse=False'\n",
      "  warnings.warn(\n",
      "/home/borjaeg/anaconda3/envs/multispectral/lib/python3.10/site-packages/sklearn/preprocessing/_data.py:2663: UserWarning: n_quantiles (900) is greater than the total number of samples (172). n_quantiles is set to n_samples.\n",
      "  warnings.warn(\n",
      "/home/borjaeg/anaconda3/envs/multispectral/lib/python3.10/site-packages/sklearn/compose/_target.py:190: UserWarning: The provided functions or transformer are not strictly inverse of each other. If you are sure you want to proceed regardless, set 'check_inverse=False'\n",
      "  warnings.warn(\n"
     ]
    },
    {
     "name": "stdout",
     "output_type": "stream",
     "text": [
      "(Transformed Target) R2 Score: Train = 0.999; Test = -3.656\n",
      "==================================================\n",
      "CV: 2\n",
      "{'scaler': [StandardScaler(), MinMaxScaler()], 'filter__window_length': [4, 12, 24], 'filter__polyorder': [3], 'selection__k': [64, 48], 'selection__score_func': [<function mutual_info_regression at 0x7f139b130c10>, <function f_regression at 0x7f139b132830>], 'extraction': [PCA()], 'extraction__n_components': [32, 24]}\n",
      "Pipeline(steps=[('scaler', 'passthrough'),\n",
      "                ('filter', SavgolFilterTransformer()),\n",
      "                ('selection', SelectKBest()), ('extraction', 'passthrough'),\n",
      "                ('polynomial',\n",
      "                 PolynomialFeatures(degree=1, include_bias=False)),\n",
      "                ('regression', ARDRegression())])\n",
      "Fitting 2 folds for each of 48 candidates, totalling 96 fits\n"
     ]
    },
    {
     "name": "stderr",
     "output_type": "stream",
     "text": [
      "/home/borjaeg/anaconda3/envs/multispectral/lib/python3.10/site-packages/sklearn/preprocessing/_data.py:2663: UserWarning: n_quantiles (900) is greater than the total number of samples (771). n_quantiles is set to n_samples.\n",
      "  warnings.warn(\n",
      "/home/borjaeg/anaconda3/envs/multispectral/lib/python3.10/site-packages/sklearn/preprocessing/_data.py:2663: UserWarning: n_quantiles (900) is greater than the total number of samples (257). n_quantiles is set to n_samples.\n",
      "  warnings.warn(\n"
     ]
    },
    {
     "name": "stdout",
     "output_type": "stream",
     "text": [
      "Best Score: 0.485; R2 Score: Train = 0.494; Test = 0.455\n",
      "{'extraction': PCA(), 'extraction__n_components': 32, 'filter__polyorder': 3, 'filter__window_length': 24, 'scaler': MinMaxScaler(), 'selection__k': 48, 'selection__score_func': <function mutual_info_regression at 0x7f139b130c10>}\n",
      "\n"
     ]
    },
    {
     "name": "stderr",
     "output_type": "stream",
     "text": [
      "/home/borjaeg/anaconda3/envs/multispectral/lib/python3.10/site-packages/sklearn/preprocessing/_data.py:2663: UserWarning: n_quantiles (900) is greater than the total number of samples (771). n_quantiles is set to n_samples.\n",
      "  warnings.warn(\n",
      "/home/borjaeg/anaconda3/envs/multispectral/lib/python3.10/site-packages/sklearn/compose/_target.py:190: UserWarning: The provided functions or transformer are not strictly inverse of each other. If you are sure you want to proceed regardless, set 'check_inverse=False'\n",
      "  warnings.warn(\n",
      "/home/borjaeg/anaconda3/envs/multispectral/lib/python3.10/site-packages/sklearn/preprocessing/_data.py:2663: UserWarning: n_quantiles (900) is greater than the total number of samples (171). n_quantiles is set to n_samples.\n",
      "  warnings.warn(\n",
      "/home/borjaeg/anaconda3/envs/multispectral/lib/python3.10/site-packages/sklearn/preprocessing/_data.py:2663: UserWarning: n_quantiles (900) is greater than the total number of samples (171). n_quantiles is set to n_samples.\n",
      "  warnings.warn(\n",
      "/home/borjaeg/anaconda3/envs/multispectral/lib/python3.10/site-packages/sklearn/compose/_target.py:190: UserWarning: The provided functions or transformer are not strictly inverse of each other. If you are sure you want to proceed regardless, set 'check_inverse=False'\n",
      "  warnings.warn(\n",
      "/home/borjaeg/anaconda3/envs/multispectral/lib/python3.10/site-packages/sklearn/preprocessing/_data.py:2663: UserWarning: n_quantiles (900) is greater than the total number of samples (172). n_quantiles is set to n_samples.\n",
      "  warnings.warn(\n",
      "/home/borjaeg/anaconda3/envs/multispectral/lib/python3.10/site-packages/sklearn/compose/_target.py:190: UserWarning: The provided functions or transformer are not strictly inverse of each other. If you are sure you want to proceed regardless, set 'check_inverse=False'\n",
      "  warnings.warn(\n"
     ]
    },
    {
     "name": "stdout",
     "output_type": "stream",
     "text": [
      "(Transformed Target) R2 Score: Train = 0.182; Test = 0.134\n",
      "{'scaler': [StandardScaler(), MinMaxScaler()], 'filter__window_length': [4, 12, 24], 'filter__polyorder': [3], 'selection__k': [64, 48], 'selection__score_func': [<function mutual_info_regression at 0x7f139b130c10>, <function f_regression at 0x7f139b132830>], 'extraction': [PCA()], 'extraction__n_components': [32, 24]}\n",
      "Pipeline(steps=[('scaler', 'passthrough'),\n",
      "                ('filter', SavgolFilterTransformer()),\n",
      "                ('selection', SelectKBest()), ('extraction', 'passthrough'),\n",
      "                ('polynomial',\n",
      "                 PolynomialFeatures(degree=1, include_bias=False)),\n",
      "                ('regression', ARDRegression())])\n",
      "Fitting 2 folds for each of 48 candidates, totalling 96 fits\n",
      "Best Score: 0.558; R2 Score: Train = 0.598; Test = 0.314\n",
      "{'extraction': PCA(), 'extraction__n_components': 32, 'filter__polyorder': 3, 'filter__window_length': 4, 'scaler': StandardScaler(), 'selection__k': 64, 'selection__score_func': <function f_regression at 0x7f139b132830>}\n",
      "\n"
     ]
    },
    {
     "name": "stderr",
     "output_type": "stream",
     "text": [
      "/home/borjaeg/anaconda3/envs/multispectral/lib/python3.10/site-packages/sklearn/preprocessing/_data.py:2663: UserWarning: n_quantiles (900) is greater than the total number of samples (771). n_quantiles is set to n_samples.\n",
      "  warnings.warn(\n",
      "/home/borjaeg/anaconda3/envs/multispectral/lib/python3.10/site-packages/sklearn/compose/_target.py:190: UserWarning: The provided functions or transformer are not strictly inverse of each other. If you are sure you want to proceed regardless, set 'check_inverse=False'\n",
      "  warnings.warn(\n",
      "/home/borjaeg/anaconda3/envs/multispectral/lib/python3.10/site-packages/sklearn/preprocessing/_data.py:2663: UserWarning: n_quantiles (900) is greater than the total number of samples (171). n_quantiles is set to n_samples.\n",
      "  warnings.warn(\n",
      "/home/borjaeg/anaconda3/envs/multispectral/lib/python3.10/site-packages/sklearn/compose/_target.py:190: UserWarning: The provided functions or transformer are not strictly inverse of each other. If you are sure you want to proceed regardless, set 'check_inverse=False'\n",
      "  warnings.warn(\n",
      "/home/borjaeg/anaconda3/envs/multispectral/lib/python3.10/site-packages/sklearn/preprocessing/_data.py:2663: UserWarning: n_quantiles (900) is greater than the total number of samples (171). n_quantiles is set to n_samples.\n",
      "  warnings.warn(\n",
      "/home/borjaeg/anaconda3/envs/multispectral/lib/python3.10/site-packages/sklearn/compose/_target.py:190: UserWarning: The provided functions or transformer are not strictly inverse of each other. If you are sure you want to proceed regardless, set 'check_inverse=False'\n",
      "  warnings.warn(\n",
      "/home/borjaeg/anaconda3/envs/multispectral/lib/python3.10/site-packages/sklearn/preprocessing/_data.py:2663: UserWarning: n_quantiles (900) is greater than the total number of samples (172). n_quantiles is set to n_samples.\n",
      "  warnings.warn(\n",
      "/home/borjaeg/anaconda3/envs/multispectral/lib/python3.10/site-packages/sklearn/compose/_target.py:190: UserWarning: The provided functions or transformer are not strictly inverse of each other. If you are sure you want to proceed regardless, set 'check_inverse=False'\n",
      "  warnings.warn(\n"
     ]
    },
    {
     "name": "stdout",
     "output_type": "stream",
     "text": [
      "(Transformed Target) R2 Score: Train = 0.592; Test = 0.387\n",
      "==================================================\n",
      "CV: 2\n",
      "{'scaler': [StandardScaler(), MinMaxScaler()], 'filter__window_length': [4, 12, 24], 'filter__polyorder': [3], 'selection__k': [64, 48], 'selection__score_func': [<function mutual_info_regression at 0x7f139b130c10>, <function f_regression at 0x7f139b132830>], 'extraction': [PCA()], 'extraction__n_components': [32, 24]}\n",
      "Pipeline(steps=[('scaler', 'passthrough'),\n",
      "                ('filter', SavgolFilterTransformer()),\n",
      "                ('selection', SelectKBest()), ('extraction', 'passthrough'),\n",
      "                ('polynomial', PolynomialFeatures(include_bias=False)),\n",
      "                ('regression', ARDRegression())])\n",
      "Fitting 2 folds for each of 48 candidates, totalling 96 fits\n",
      "Best Score: 0.702; R2 Score: Train = 0.835; Test = 0.689\n",
      "{'extraction': PCA(), 'extraction__n_components': 32, 'filter__polyorder': 3, 'filter__window_length': 12, 'scaler': MinMaxScaler(), 'selection__k': 48, 'selection__score_func': <function mutual_info_regression at 0x7f139b130c10>}\n",
      "\n"
     ]
    },
    {
     "name": "stderr",
     "output_type": "stream",
     "text": [
      "/home/borjaeg/anaconda3/envs/multispectral/lib/python3.10/site-packages/sklearn/preprocessing/_data.py:2663: UserWarning: n_quantiles (900) is greater than the total number of samples (771). n_quantiles is set to n_samples.\n",
      "  warnings.warn(\n",
      "/home/borjaeg/anaconda3/envs/multispectral/lib/python3.10/site-packages/sklearn/compose/_target.py:190: UserWarning: The provided functions or transformer are not strictly inverse of each other. If you are sure you want to proceed regardless, set 'check_inverse=False'\n",
      "  warnings.warn(\n",
      "/home/borjaeg/anaconda3/envs/multispectral/lib/python3.10/site-packages/sklearn/preprocessing/_data.py:2663: UserWarning: n_quantiles (900) is greater than the total number of samples (171). n_quantiles is set to n_samples.\n",
      "  warnings.warn(\n",
      "/home/borjaeg/anaconda3/envs/multispectral/lib/python3.10/site-packages/sklearn/preprocessing/_data.py:2663: UserWarning: n_quantiles (900) is greater than the total number of samples (171). n_quantiles is set to n_samples.\n",
      "  warnings.warn(\n",
      "/home/borjaeg/anaconda3/envs/multispectral/lib/python3.10/site-packages/sklearn/compose/_target.py:190: UserWarning: The provided functions or transformer are not strictly inverse of each other. If you are sure you want to proceed regardless, set 'check_inverse=False'\n",
      "  warnings.warn(\n",
      "/home/borjaeg/anaconda3/envs/multispectral/lib/python3.10/site-packages/sklearn/preprocessing/_data.py:2663: UserWarning: n_quantiles (900) is greater than the total number of samples (172). n_quantiles is set to n_samples.\n",
      "  warnings.warn(\n",
      "/home/borjaeg/anaconda3/envs/multispectral/lib/python3.10/site-packages/sklearn/compose/_target.py:190: UserWarning: The provided functions or transformer are not strictly inverse of each other. If you are sure you want to proceed regardless, set 'check_inverse=False'\n",
      "  warnings.warn(\n"
     ]
    },
    {
     "name": "stdout",
     "output_type": "stream",
     "text": [
      "(Transformed Target) R2 Score: Train = 0.700; Test = 0.621\n",
      "{'scaler': [StandardScaler(), MinMaxScaler()], 'filter__window_length': [4, 12, 24], 'filter__polyorder': [3], 'selection__k': [64, 48], 'selection__score_func': [<function mutual_info_regression at 0x7f139b130c10>, <function f_regression at 0x7f139b132830>], 'extraction': [PCA()], 'extraction__n_components': [32, 24]}\n",
      "Pipeline(steps=[('scaler', 'passthrough'),\n",
      "                ('filter', SavgolFilterTransformer()),\n",
      "                ('selection', SelectKBest()), ('extraction', 'passthrough'),\n",
      "                ('polynomial', PolynomialFeatures(include_bias=False)),\n",
      "                ('regression', ARDRegression())])\n",
      "Fitting 2 folds for each of 48 candidates, totalling 96 fits\n",
      "Best Score: 0.673; R2 Score: Train = 0.764; Test = -0.958\n",
      "{'extraction': PCA(), 'extraction__n_components': 24, 'filter__polyorder': 3, 'filter__window_length': 12, 'scaler': MinMaxScaler(), 'selection__k': 48, 'selection__score_func': <function mutual_info_regression at 0x7f139b130c10>}\n",
      "\n"
     ]
    },
    {
     "name": "stderr",
     "output_type": "stream",
     "text": [
      "/home/borjaeg/anaconda3/envs/multispectral/lib/python3.10/site-packages/sklearn/preprocessing/_data.py:2663: UserWarning: n_quantiles (900) is greater than the total number of samples (771). n_quantiles is set to n_samples.\n",
      "  warnings.warn(\n",
      "/home/borjaeg/anaconda3/envs/multispectral/lib/python3.10/site-packages/sklearn/compose/_target.py:190: UserWarning: The provided functions or transformer are not strictly inverse of each other. If you are sure you want to proceed regardless, set 'check_inverse=False'\n",
      "  warnings.warn(\n",
      "/home/borjaeg/anaconda3/envs/multispectral/lib/python3.10/site-packages/sklearn/preprocessing/_data.py:2663: UserWarning: n_quantiles (900) is greater than the total number of samples (171). n_quantiles is set to n_samples.\n",
      "  warnings.warn(\n",
      "/home/borjaeg/anaconda3/envs/multispectral/lib/python3.10/site-packages/sklearn/compose/_target.py:190: UserWarning: The provided functions or transformer are not strictly inverse of each other. If you are sure you want to proceed regardless, set 'check_inverse=False'\n",
      "  warnings.warn(\n",
      "/home/borjaeg/anaconda3/envs/multispectral/lib/python3.10/site-packages/sklearn/preprocessing/_data.py:2663: UserWarning: n_quantiles (900) is greater than the total number of samples (171). n_quantiles is set to n_samples.\n",
      "  warnings.warn(\n",
      "/home/borjaeg/anaconda3/envs/multispectral/lib/python3.10/site-packages/sklearn/compose/_target.py:190: UserWarning: The provided functions or transformer are not strictly inverse of each other. If you are sure you want to proceed regardless, set 'check_inverse=False'\n",
      "  warnings.warn(\n",
      "/home/borjaeg/anaconda3/envs/multispectral/lib/python3.10/site-packages/sklearn/preprocessing/_data.py:2663: UserWarning: n_quantiles (900) is greater than the total number of samples (172). n_quantiles is set to n_samples.\n",
      "  warnings.warn(\n",
      "/home/borjaeg/anaconda3/envs/multispectral/lib/python3.10/site-packages/sklearn/compose/_target.py:190: UserWarning: The provided functions or transformer are not strictly inverse of each other. If you are sure you want to proceed regardless, set 'check_inverse=False'\n",
      "  warnings.warn(\n"
     ]
    },
    {
     "name": "stdout",
     "output_type": "stream",
     "text": [
      "(Transformed Target) R2 Score: Train = 0.763; Test = 0.628\n",
      "==================================================\n",
      "CV: 2\n",
      "{'scaler': [StandardScaler(), MinMaxScaler()], 'filter__window_length': [4, 12, 24], 'filter__polyorder': [3], 'selection__k': [64, 48], 'selection__score_func': [<function mutual_info_regression at 0x7f139b130c10>, <function f_regression at 0x7f139b132830>], 'extraction': [PCA()], 'extraction__n_components': [32, 24]}\n",
      "Pipeline(steps=[('scaler', 'passthrough'),\n",
      "                ('filter', SavgolFilterTransformer()),\n",
      "                ('selection', SelectKBest()), ('extraction', 'passthrough'),\n",
      "                ('polynomial',\n",
      "                 PolynomialFeatures(degree=3, include_bias=False)),\n",
      "                ('regression', ARDRegression())])\n",
      "Fitting 2 folds for each of 48 candidates, totalling 96 fits\n",
      "Best Score: 0.684; R2 Score: Train = 0.910; Test = -0.268\n",
      "{'extraction': PCA(), 'extraction__n_components': 32, 'filter__polyorder': 3, 'filter__window_length': 12, 'scaler': MinMaxScaler(), 'selection__k': 48, 'selection__score_func': <function mutual_info_regression at 0x7f139b130c10>}\n",
      "\n"
     ]
    },
    {
     "name": "stderr",
     "output_type": "stream",
     "text": [
      "/home/borjaeg/anaconda3/envs/multispectral/lib/python3.10/site-packages/sklearn/preprocessing/_data.py:2663: UserWarning: n_quantiles (900) is greater than the total number of samples (771). n_quantiles is set to n_samples.\n",
      "  warnings.warn(\n",
      "/home/borjaeg/anaconda3/envs/multispectral/lib/python3.10/site-packages/sklearn/compose/_target.py:190: UserWarning: The provided functions or transformer are not strictly inverse of each other. If you are sure you want to proceed regardless, set 'check_inverse=False'\n",
      "  warnings.warn(\n",
      "/home/borjaeg/anaconda3/envs/multispectral/lib/python3.10/site-packages/sklearn/preprocessing/_data.py:2663: UserWarning: n_quantiles (900) is greater than the total number of samples (171). n_quantiles is set to n_samples.\n",
      "  warnings.warn(\n",
      "/home/borjaeg/anaconda3/envs/multispectral/lib/python3.10/site-packages/sklearn/preprocessing/_data.py:2663: UserWarning: n_quantiles (900) is greater than the total number of samples (171). n_quantiles is set to n_samples.\n",
      "  warnings.warn(\n",
      "/home/borjaeg/anaconda3/envs/multispectral/lib/python3.10/site-packages/sklearn/compose/_target.py:190: UserWarning: The provided functions or transformer are not strictly inverse of each other. If you are sure you want to proceed regardless, set 'check_inverse=False'\n",
      "  warnings.warn(\n",
      "/home/borjaeg/anaconda3/envs/multispectral/lib/python3.10/site-packages/sklearn/preprocessing/_data.py:2663: UserWarning: n_quantiles (900) is greater than the total number of samples (172). n_quantiles is set to n_samples.\n",
      "  warnings.warn(\n",
      "/home/borjaeg/anaconda3/envs/multispectral/lib/python3.10/site-packages/sklearn/compose/_target.py:190: UserWarning: The provided functions or transformer are not strictly inverse of each other. If you are sure you want to proceed regardless, set 'check_inverse=False'\n",
      "  warnings.warn(\n"
     ]
    },
    {
     "name": "stdout",
     "output_type": "stream",
     "text": [
      "(Transformed Target) R2 Score: Train = 0.791; Test = 0.632\n",
      "{'scaler': [StandardScaler(), MinMaxScaler()], 'filter__window_length': [4, 12, 24], 'filter__polyorder': [3], 'selection__k': [64, 48], 'selection__score_func': [<function mutual_info_regression at 0x7f139b130c10>, <function f_regression at 0x7f139b132830>], 'extraction': [PCA()], 'extraction__n_components': [32, 24]}\n",
      "Pipeline(steps=[('scaler', 'passthrough'),\n",
      "                ('filter', SavgolFilterTransformer()),\n",
      "                ('selection', SelectKBest()), ('extraction', 'passthrough'),\n",
      "                ('polynomial',\n",
      "                 PolynomialFeatures(degree=3, include_bias=False)),\n",
      "                ('regression', ARDRegression())])\n",
      "Fitting 2 folds for each of 48 candidates, totalling 96 fits\n",
      "Best Score: 0.609; R2 Score: Train = 0.835; Test = 0.399\n",
      "{'extraction': PCA(), 'extraction__n_components': 32, 'filter__polyorder': 3, 'filter__window_length': 12, 'scaler': MinMaxScaler(), 'selection__k': 48, 'selection__score_func': <function mutual_info_regression at 0x7f139b130c10>}\n",
      "\n"
     ]
    },
    {
     "name": "stderr",
     "output_type": "stream",
     "text": [
      "/home/borjaeg/anaconda3/envs/multispectral/lib/python3.10/site-packages/sklearn/preprocessing/_data.py:2663: UserWarning: n_quantiles (900) is greater than the total number of samples (771). n_quantiles is set to n_samples.\n",
      "  warnings.warn(\n",
      "/home/borjaeg/anaconda3/envs/multispectral/lib/python3.10/site-packages/sklearn/compose/_target.py:190: UserWarning: The provided functions or transformer are not strictly inverse of each other. If you are sure you want to proceed regardless, set 'check_inverse=False'\n",
      "  warnings.warn(\n",
      "/home/borjaeg/anaconda3/envs/multispectral/lib/python3.10/site-packages/sklearn/preprocessing/_data.py:2663: UserWarning: n_quantiles (900) is greater than the total number of samples (171). n_quantiles is set to n_samples.\n",
      "  warnings.warn(\n",
      "/home/borjaeg/anaconda3/envs/multispectral/lib/python3.10/site-packages/sklearn/compose/_target.py:190: UserWarning: The provided functions or transformer are not strictly inverse of each other. If you are sure you want to proceed regardless, set 'check_inverse=False'\n",
      "  warnings.warn(\n",
      "/home/borjaeg/anaconda3/envs/multispectral/lib/python3.10/site-packages/sklearn/preprocessing/_data.py:2663: UserWarning: n_quantiles (900) is greater than the total number of samples (171). n_quantiles is set to n_samples.\n",
      "  warnings.warn(\n",
      "/home/borjaeg/anaconda3/envs/multispectral/lib/python3.10/site-packages/sklearn/compose/_target.py:190: UserWarning: The provided functions or transformer are not strictly inverse of each other. If you are sure you want to proceed regardless, set 'check_inverse=False'\n",
      "  warnings.warn(\n",
      "/home/borjaeg/anaconda3/envs/multispectral/lib/python3.10/site-packages/sklearn/preprocessing/_data.py:2663: UserWarning: n_quantiles (900) is greater than the total number of samples (172). n_quantiles is set to n_samples.\n",
      "  warnings.warn(\n",
      "/home/borjaeg/anaconda3/envs/multispectral/lib/python3.10/site-packages/sklearn/compose/_target.py:190: UserWarning: The provided functions or transformer are not strictly inverse of each other. If you are sure you want to proceed regardless, set 'check_inverse=False'\n",
      "  warnings.warn(\n"
     ]
    },
    {
     "name": "stdout",
     "output_type": "stream",
     "text": [
      "(Transformed Target) R2 Score: Train = 0.841; Test = 0.532\n",
      "==================================================\n",
      "CV: 2\n",
      "{'scaler': [StandardScaler(), MinMaxScaler()], 'selection__k': [64, 48], 'selection__score_func': [<function mutual_info_regression at 0x7f139b130c10>, <function f_regression at 0x7f139b132830>], 'extraction': [PCA()], 'extraction__n_components': [32, 24]}\n",
      "Pipeline(steps=[('scaler', 'passthrough'), ('selection', SelectKBest()),\n",
      "                ('extraction', 'passthrough'),\n",
      "                ('polynomial',\n",
      "                 PolynomialFeatures(degree=1, include_bias=False)),\n",
      "                ('regression', ARDRegression())])\n",
      "Fitting 2 folds for each of 16 candidates, totalling 32 fits\n",
      "Best Score: 0.472; R2 Score: Train = 0.509; Test = 0.459\n",
      "{'extraction': PCA(), 'extraction__n_components': 32, 'scaler': MinMaxScaler(), 'selection__k': 64, 'selection__score_func': <function mutual_info_regression at 0x7f139b130c10>}\n",
      "\n"
     ]
    },
    {
     "name": "stderr",
     "output_type": "stream",
     "text": [
      "/home/borjaeg/anaconda3/envs/multispectral/lib/python3.10/site-packages/sklearn/preprocessing/_data.py:2663: UserWarning: n_quantiles (900) is greater than the total number of samples (771). n_quantiles is set to n_samples.\n",
      "  warnings.warn(\n",
      "/home/borjaeg/anaconda3/envs/multispectral/lib/python3.10/site-packages/sklearn/compose/_target.py:190: UserWarning: The provided functions or transformer are not strictly inverse of each other. If you are sure you want to proceed regardless, set 'check_inverse=False'\n",
      "  warnings.warn(\n",
      "/home/borjaeg/anaconda3/envs/multispectral/lib/python3.10/site-packages/sklearn/preprocessing/_data.py:2663: UserWarning: n_quantiles (900) is greater than the total number of samples (171). n_quantiles is set to n_samples.\n",
      "  warnings.warn(\n",
      "/home/borjaeg/anaconda3/envs/multispectral/lib/python3.10/site-packages/sklearn/preprocessing/_data.py:2663: UserWarning: n_quantiles (900) is greater than the total number of samples (171). n_quantiles is set to n_samples.\n",
      "  warnings.warn(\n",
      "/home/borjaeg/anaconda3/envs/multispectral/lib/python3.10/site-packages/sklearn/compose/_target.py:190: UserWarning: The provided functions or transformer are not strictly inverse of each other. If you are sure you want to proceed regardless, set 'check_inverse=False'\n",
      "  warnings.warn(\n",
      "/home/borjaeg/anaconda3/envs/multispectral/lib/python3.10/site-packages/sklearn/preprocessing/_data.py:2663: UserWarning: n_quantiles (900) is greater than the total number of samples (172). n_quantiles is set to n_samples.\n",
      "  warnings.warn(\n",
      "/home/borjaeg/anaconda3/envs/multispectral/lib/python3.10/site-packages/sklearn/compose/_target.py:190: UserWarning: The provided functions or transformer are not strictly inverse of each other. If you are sure you want to proceed regardless, set 'check_inverse=False'\n",
      "  warnings.warn(\n"
     ]
    },
    {
     "name": "stdout",
     "output_type": "stream",
     "text": [
      "(Transformed Target) R2 Score: Train = 0.263; Test = 0.201\n",
      "{'scaler': [StandardScaler(), MinMaxScaler()], 'selection__k': [64, 48], 'selection__score_func': [<function mutual_info_regression at 0x7f139b130c10>, <function f_regression at 0x7f139b132830>], 'extraction': [PCA()], 'extraction__n_components': [32, 24]}\n",
      "Pipeline(steps=[('scaler', 'passthrough'), ('selection', SelectKBest()),\n",
      "                ('extraction', 'passthrough'),\n",
      "                ('polynomial',\n",
      "                 PolynomialFeatures(degree=1, include_bias=False)),\n",
      "                ('regression', ARDRegression())])\n",
      "Fitting 2 folds for each of 16 candidates, totalling 32 fits\n",
      "Best Score: 0.549; R2 Score: Train = 0.608; Test = -0.544\n",
      "{'extraction': PCA(), 'extraction__n_components': 32, 'scaler': StandardScaler(), 'selection__k': 64, 'selection__score_func': <function f_regression at 0x7f139b132830>}\n",
      "\n"
     ]
    },
    {
     "name": "stderr",
     "output_type": "stream",
     "text": [
      "/home/borjaeg/anaconda3/envs/multispectral/lib/python3.10/site-packages/sklearn/preprocessing/_data.py:2663: UserWarning: n_quantiles (900) is greater than the total number of samples (771). n_quantiles is set to n_samples.\n",
      "  warnings.warn(\n",
      "/home/borjaeg/anaconda3/envs/multispectral/lib/python3.10/site-packages/sklearn/compose/_target.py:190: UserWarning: The provided functions or transformer are not strictly inverse of each other. If you are sure you want to proceed regardless, set 'check_inverse=False'\n",
      "  warnings.warn(\n",
      "/home/borjaeg/anaconda3/envs/multispectral/lib/python3.10/site-packages/sklearn/preprocessing/_data.py:2663: UserWarning: n_quantiles (900) is greater than the total number of samples (171). n_quantiles is set to n_samples.\n",
      "  warnings.warn(\n",
      "/home/borjaeg/anaconda3/envs/multispectral/lib/python3.10/site-packages/sklearn/compose/_target.py:190: UserWarning: The provided functions or transformer are not strictly inverse of each other. If you are sure you want to proceed regardless, set 'check_inverse=False'\n",
      "  warnings.warn(\n",
      "/home/borjaeg/anaconda3/envs/multispectral/lib/python3.10/site-packages/sklearn/preprocessing/_data.py:2663: UserWarning: n_quantiles (900) is greater than the total number of samples (171). n_quantiles is set to n_samples.\n",
      "  warnings.warn(\n",
      "/home/borjaeg/anaconda3/envs/multispectral/lib/python3.10/site-packages/sklearn/compose/_target.py:190: UserWarning: The provided functions or transformer are not strictly inverse of each other. If you are sure you want to proceed regardless, set 'check_inverse=False'\n",
      "  warnings.warn(\n",
      "/home/borjaeg/anaconda3/envs/multispectral/lib/python3.10/site-packages/sklearn/preprocessing/_data.py:2663: UserWarning: n_quantiles (900) is greater than the total number of samples (172). n_quantiles is set to n_samples.\n",
      "  warnings.warn(\n",
      "/home/borjaeg/anaconda3/envs/multispectral/lib/python3.10/site-packages/sklearn/compose/_target.py:190: UserWarning: The provided functions or transformer are not strictly inverse of each other. If you are sure you want to proceed regardless, set 'check_inverse=False'\n",
      "  warnings.warn(\n"
     ]
    },
    {
     "name": "stdout",
     "output_type": "stream",
     "text": [
      "(Transformed Target) R2 Score: Train = 0.598; Test = 0.392\n",
      "==================================================\n",
      "CV: 2\n",
      "{'scaler': [StandardScaler(), MinMaxScaler()], 'selection__k': [64, 48], 'selection__score_func': [<function mutual_info_regression at 0x7f139b130c10>, <function f_regression at 0x7f139b132830>], 'extraction': [PCA()], 'extraction__n_components': [32, 24]}\n",
      "Pipeline(steps=[('scaler', 'passthrough'), ('selection', SelectKBest()),\n",
      "                ('extraction', 'passthrough'),\n",
      "                ('polynomial', PolynomialFeatures(include_bias=False)),\n",
      "                ('regression', ARDRegression())])\n",
      "Fitting 2 folds for each of 16 candidates, totalling 32 fits\n",
      "Best Score: 0.678; R2 Score: Train = 0.825; Test = -87.820\n",
      "{'extraction': PCA(), 'extraction__n_components': 24, 'scaler': MinMaxScaler(), 'selection__k': 48, 'selection__score_func': <function mutual_info_regression at 0x7f139b130c10>}\n",
      "\n"
     ]
    },
    {
     "name": "stderr",
     "output_type": "stream",
     "text": [
      "/home/borjaeg/anaconda3/envs/multispectral/lib/python3.10/site-packages/sklearn/preprocessing/_data.py:2663: UserWarning: n_quantiles (900) is greater than the total number of samples (771). n_quantiles is set to n_samples.\n",
      "  warnings.warn(\n",
      "/home/borjaeg/anaconda3/envs/multispectral/lib/python3.10/site-packages/sklearn/compose/_target.py:190: UserWarning: The provided functions or transformer are not strictly inverse of each other. If you are sure you want to proceed regardless, set 'check_inverse=False'\n",
      "  warnings.warn(\n",
      "/home/borjaeg/anaconda3/envs/multispectral/lib/python3.10/site-packages/sklearn/preprocessing/_data.py:2663: UserWarning: n_quantiles (900) is greater than the total number of samples (171). n_quantiles is set to n_samples.\n",
      "  warnings.warn(\n",
      "/home/borjaeg/anaconda3/envs/multispectral/lib/python3.10/site-packages/sklearn/preprocessing/_data.py:2663: UserWarning: n_quantiles (900) is greater than the total number of samples (171). n_quantiles is set to n_samples.\n",
      "  warnings.warn(\n",
      "/home/borjaeg/anaconda3/envs/multispectral/lib/python3.10/site-packages/sklearn/compose/_target.py:190: UserWarning: The provided functions or transformer are not strictly inverse of each other. If you are sure you want to proceed regardless, set 'check_inverse=False'\n",
      "  warnings.warn(\n",
      "/home/borjaeg/anaconda3/envs/multispectral/lib/python3.10/site-packages/sklearn/preprocessing/_data.py:2663: UserWarning: n_quantiles (900) is greater than the total number of samples (172). n_quantiles is set to n_samples.\n",
      "  warnings.warn(\n",
      "/home/borjaeg/anaconda3/envs/multispectral/lib/python3.10/site-packages/sklearn/compose/_target.py:190: UserWarning: The provided functions or transformer are not strictly inverse of each other. If you are sure you want to proceed regardless, set 'check_inverse=False'\n",
      "  warnings.warn(\n"
     ]
    },
    {
     "name": "stdout",
     "output_type": "stream",
     "text": [
      "(Transformed Target) R2 Score: Train = 0.715; Test = 0.741\n",
      "{'scaler': [StandardScaler(), MinMaxScaler()], 'selection__k': [64, 48], 'selection__score_func': [<function mutual_info_regression at 0x7f139b130c10>, <function f_regression at 0x7f139b132830>], 'extraction': [PCA()], 'extraction__n_components': [32, 24]}\n",
      "Pipeline(steps=[('scaler', 'passthrough'), ('selection', SelectKBest()),\n",
      "                ('extraction', 'passthrough'),\n",
      "                ('polynomial', PolynomialFeatures(include_bias=False)),\n",
      "                ('regression', ARDRegression())])\n",
      "Fitting 2 folds for each of 16 candidates, totalling 32 fits\n",
      "Best Score: 0.631; R2 Score: Train = 0.759; Test = 0.601\n",
      "{'extraction': PCA(), 'extraction__n_components': 24, 'scaler': MinMaxScaler(), 'selection__k': 64, 'selection__score_func': <function f_regression at 0x7f139b132830>}\n",
      "\n"
     ]
    },
    {
     "name": "stderr",
     "output_type": "stream",
     "text": [
      "/home/borjaeg/anaconda3/envs/multispectral/lib/python3.10/site-packages/sklearn/preprocessing/_data.py:2663: UserWarning: n_quantiles (900) is greater than the total number of samples (771). n_quantiles is set to n_samples.\n",
      "  warnings.warn(\n",
      "/home/borjaeg/anaconda3/envs/multispectral/lib/python3.10/site-packages/sklearn/compose/_target.py:190: UserWarning: The provided functions or transformer are not strictly inverse of each other. If you are sure you want to proceed regardless, set 'check_inverse=False'\n",
      "  warnings.warn(\n",
      "/home/borjaeg/anaconda3/envs/multispectral/lib/python3.10/site-packages/sklearn/preprocessing/_data.py:2663: UserWarning: n_quantiles (900) is greater than the total number of samples (171). n_quantiles is set to n_samples.\n",
      "  warnings.warn(\n",
      "/home/borjaeg/anaconda3/envs/multispectral/lib/python3.10/site-packages/sklearn/compose/_target.py:190: UserWarning: The provided functions or transformer are not strictly inverse of each other. If you are sure you want to proceed regardless, set 'check_inverse=False'\n",
      "  warnings.warn(\n",
      "/home/borjaeg/anaconda3/envs/multispectral/lib/python3.10/site-packages/sklearn/preprocessing/_data.py:2663: UserWarning: n_quantiles (900) is greater than the total number of samples (171). n_quantiles is set to n_samples.\n",
      "  warnings.warn(\n",
      "/home/borjaeg/anaconda3/envs/multispectral/lib/python3.10/site-packages/sklearn/compose/_target.py:190: UserWarning: The provided functions or transformer are not strictly inverse of each other. If you are sure you want to proceed regardless, set 'check_inverse=False'\n",
      "  warnings.warn(\n",
      "/home/borjaeg/anaconda3/envs/multispectral/lib/python3.10/site-packages/sklearn/preprocessing/_data.py:2663: UserWarning: n_quantiles (900) is greater than the total number of samples (172). n_quantiles is set to n_samples.\n",
      "  warnings.warn(\n",
      "/home/borjaeg/anaconda3/envs/multispectral/lib/python3.10/site-packages/sklearn/compose/_target.py:190: UserWarning: The provided functions or transformer are not strictly inverse of each other. If you are sure you want to proceed regardless, set 'check_inverse=False'\n",
      "  warnings.warn(\n"
     ]
    },
    {
     "name": "stdout",
     "output_type": "stream",
     "text": [
      "(Transformed Target) R2 Score: Train = 0.760; Test = 0.619\n",
      "==================================================\n",
      "CV: 2\n",
      "{'scaler': [StandardScaler(), MinMaxScaler()], 'selection__k': [64, 48], 'selection__score_func': [<function mutual_info_regression at 0x7f139b130c10>, <function f_regression at 0x7f139b132830>], 'extraction': [PCA()], 'extraction__n_components': [32, 24]}\n",
      "Pipeline(steps=[('scaler', 'passthrough'), ('selection', SelectKBest()),\n",
      "                ('extraction', 'passthrough'),\n",
      "                ('polynomial',\n",
      "                 PolynomialFeatures(degree=3, include_bias=False)),\n",
      "                ('regression', ARDRegression())])\n",
      "Fitting 2 folds for each of 16 candidates, totalling 32 fits\n",
      "Best Score: 0.571; R2 Score: Train = 0.917; Test = -40.333\n",
      "{'extraction': PCA(), 'extraction__n_components': 24, 'scaler': MinMaxScaler(), 'selection__k': 48, 'selection__score_func': <function mutual_info_regression at 0x7f139b130c10>}\n",
      "\n"
     ]
    },
    {
     "name": "stderr",
     "output_type": "stream",
     "text": [
      "/home/borjaeg/anaconda3/envs/multispectral/lib/python3.10/site-packages/sklearn/preprocessing/_data.py:2663: UserWarning: n_quantiles (900) is greater than the total number of samples (771). n_quantiles is set to n_samples.\n",
      "  warnings.warn(\n",
      "/home/borjaeg/anaconda3/envs/multispectral/lib/python3.10/site-packages/sklearn/compose/_target.py:190: UserWarning: The provided functions or transformer are not strictly inverse of each other. If you are sure you want to proceed regardless, set 'check_inverse=False'\n",
      "  warnings.warn(\n",
      "/home/borjaeg/anaconda3/envs/multispectral/lib/python3.10/site-packages/sklearn/preprocessing/_data.py:2663: UserWarning: n_quantiles (900) is greater than the total number of samples (171). n_quantiles is set to n_samples.\n",
      "  warnings.warn(\n",
      "/home/borjaeg/anaconda3/envs/multispectral/lib/python3.10/site-packages/sklearn/preprocessing/_data.py:2663: UserWarning: n_quantiles (900) is greater than the total number of samples (171). n_quantiles is set to n_samples.\n",
      "  warnings.warn(\n",
      "/home/borjaeg/anaconda3/envs/multispectral/lib/python3.10/site-packages/sklearn/compose/_target.py:190: UserWarning: The provided functions or transformer are not strictly inverse of each other. If you are sure you want to proceed regardless, set 'check_inverse=False'\n",
      "  warnings.warn(\n",
      "/home/borjaeg/anaconda3/envs/multispectral/lib/python3.10/site-packages/sklearn/preprocessing/_data.py:2663: UserWarning: n_quantiles (900) is greater than the total number of samples (172). n_quantiles is set to n_samples.\n",
      "  warnings.warn(\n",
      "/home/borjaeg/anaconda3/envs/multispectral/lib/python3.10/site-packages/sklearn/compose/_target.py:190: UserWarning: The provided functions or transformer are not strictly inverse of each other. If you are sure you want to proceed regardless, set 'check_inverse=False'\n",
      "  warnings.warn(\n"
     ]
    },
    {
     "name": "stdout",
     "output_type": "stream",
     "text": [
      "(Transformed Target) R2 Score: Train = 0.797; Test = 0.579\n",
      "{'scaler': [StandardScaler(), MinMaxScaler()], 'selection__k': [64, 48], 'selection__score_func': [<function mutual_info_regression at 0x7f139b130c10>, <function f_regression at 0x7f139b132830>], 'extraction': [PCA()], 'extraction__n_components': [32, 24]}\n",
      "Pipeline(steps=[('scaler', 'passthrough'), ('selection', SelectKBest()),\n",
      "                ('extraction', 'passthrough'),\n",
      "                ('polynomial',\n",
      "                 PolynomialFeatures(degree=3, include_bias=False)),\n",
      "                ('regression', ARDRegression())])\n",
      "Fitting 2 folds for each of 16 candidates, totalling 32 fits\n",
      "Best Score: 0.506; R2 Score: Train = 0.833; Test = 0.548\n",
      "{'extraction': PCA(), 'extraction__n_components': 24, 'scaler': MinMaxScaler(), 'selection__k': 64, 'selection__score_func': <function mutual_info_regression at 0x7f139b130c10>}\n",
      "\n"
     ]
    },
    {
     "name": "stderr",
     "output_type": "stream",
     "text": [
      "/home/borjaeg/anaconda3/envs/multispectral/lib/python3.10/site-packages/sklearn/preprocessing/_data.py:2663: UserWarning: n_quantiles (900) is greater than the total number of samples (771). n_quantiles is set to n_samples.\n",
      "  warnings.warn(\n",
      "/home/borjaeg/anaconda3/envs/multispectral/lib/python3.10/site-packages/sklearn/compose/_target.py:190: UserWarning: The provided functions or transformer are not strictly inverse of each other. If you are sure you want to proceed regardless, set 'check_inverse=False'\n",
      "  warnings.warn(\n",
      "/home/borjaeg/anaconda3/envs/multispectral/lib/python3.10/site-packages/sklearn/preprocessing/_data.py:2663: UserWarning: n_quantiles (900) is greater than the total number of samples (171). n_quantiles is set to n_samples.\n",
      "  warnings.warn(\n",
      "/home/borjaeg/anaconda3/envs/multispectral/lib/python3.10/site-packages/sklearn/compose/_target.py:190: UserWarning: The provided functions or transformer are not strictly inverse of each other. If you are sure you want to proceed regardless, set 'check_inverse=False'\n",
      "  warnings.warn(\n",
      "/home/borjaeg/anaconda3/envs/multispectral/lib/python3.10/site-packages/sklearn/preprocessing/_data.py:2663: UserWarning: n_quantiles (900) is greater than the total number of samples (171). n_quantiles is set to n_samples.\n",
      "  warnings.warn(\n",
      "/home/borjaeg/anaconda3/envs/multispectral/lib/python3.10/site-packages/sklearn/compose/_target.py:190: UserWarning: The provided functions or transformer are not strictly inverse of each other. If you are sure you want to proceed regardless, set 'check_inverse=False'\n",
      "  warnings.warn(\n",
      "/home/borjaeg/anaconda3/envs/multispectral/lib/python3.10/site-packages/sklearn/preprocessing/_data.py:2663: UserWarning: n_quantiles (900) is greater than the total number of samples (172). n_quantiles is set to n_samples.\n",
      "  warnings.warn(\n",
      "/home/borjaeg/anaconda3/envs/multispectral/lib/python3.10/site-packages/sklearn/compose/_target.py:190: UserWarning: The provided functions or transformer are not strictly inverse of each other. If you are sure you want to proceed regardless, set 'check_inverse=False'\n",
      "  warnings.warn(\n"
     ]
    },
    {
     "name": "stdout",
     "output_type": "stream",
     "text": [
      "(Transformed Target) R2 Score: Train = 0.840; Test = 0.582\n",
      "==================================================\n",
      "CV: 2\n",
      "{'scaler': [StandardScaler(), MinMaxScaler()], 'filter__window_length': [4, 12, 24], 'filter__polyorder': [3], 'selection__k': [64, 48], 'selection__score_func': [<function mutual_info_regression at 0x7f139b130c10>, <function f_regression at 0x7f139b132830>], 'extraction': [PCA()], 'extraction__n_components': [32, 24]}\n",
      "Pipeline(steps=[('scaler', 'passthrough'),\n",
      "                ('filter', SavgolFilterTransformer()),\n",
      "                ('selection', SelectKBest()), ('extraction', 'passthrough'),\n",
      "                ('polynomial',\n",
      "                 PolynomialFeatures(degree=1, include_bias=False)),\n",
      "                ('regression', TheilSenRegressor())])\n",
      "Fitting 2 folds for each of 48 candidates, totalling 96 fits\n",
      "Best Score: 0.438; R2 Score: Train = 0.448; Test = 0.374\n",
      "{'extraction': PCA(), 'extraction__n_components': 32, 'filter__polyorder': 3, 'filter__window_length': 24, 'scaler': MinMaxScaler(), 'selection__k': 48, 'selection__score_func': <function mutual_info_regression at 0x7f139b130c10>}\n",
      "\n"
     ]
    },
    {
     "name": "stderr",
     "output_type": "stream",
     "text": [
      "/home/borjaeg/anaconda3/envs/multispectral/lib/python3.10/site-packages/sklearn/preprocessing/_data.py:2663: UserWarning: n_quantiles (900) is greater than the total number of samples (771). n_quantiles is set to n_samples.\n",
      "  warnings.warn(\n",
      "/home/borjaeg/anaconda3/envs/multispectral/lib/python3.10/site-packages/sklearn/compose/_target.py:190: UserWarning: The provided functions or transformer are not strictly inverse of each other. If you are sure you want to proceed regardless, set 'check_inverse=False'\n",
      "  warnings.warn(\n",
      "/home/borjaeg/anaconda3/envs/multispectral/lib/python3.10/site-packages/sklearn/preprocessing/_data.py:2663: UserWarning: n_quantiles (900) is greater than the total number of samples (171). n_quantiles is set to n_samples.\n",
      "  warnings.warn(\n",
      "/home/borjaeg/anaconda3/envs/multispectral/lib/python3.10/site-packages/sklearn/preprocessing/_data.py:2663: UserWarning: n_quantiles (900) is greater than the total number of samples (171). n_quantiles is set to n_samples.\n",
      "  warnings.warn(\n",
      "/home/borjaeg/anaconda3/envs/multispectral/lib/python3.10/site-packages/sklearn/compose/_target.py:190: UserWarning: The provided functions or transformer are not strictly inverse of each other. If you are sure you want to proceed regardless, set 'check_inverse=False'\n",
      "  warnings.warn(\n",
      "/home/borjaeg/anaconda3/envs/multispectral/lib/python3.10/site-packages/sklearn/preprocessing/_data.py:2663: UserWarning: n_quantiles (900) is greater than the total number of samples (172). n_quantiles is set to n_samples.\n",
      "  warnings.warn(\n",
      "/home/borjaeg/anaconda3/envs/multispectral/lib/python3.10/site-packages/sklearn/compose/_target.py:190: UserWarning: The provided functions or transformer are not strictly inverse of each other. If you are sure you want to proceed regardless, set 'check_inverse=False'\n",
      "  warnings.warn(\n"
     ]
    },
    {
     "name": "stdout",
     "output_type": "stream",
     "text": [
      "(Transformed Target) R2 Score: Train = 0.278; Test = 0.110\n",
      "{'scaler': [StandardScaler(), MinMaxScaler()], 'filter__window_length': [4, 12, 24], 'filter__polyorder': [3], 'selection__k': [64, 48], 'selection__score_func': [<function mutual_info_regression at 0x7f139b130c10>, <function f_regression at 0x7f139b132830>], 'extraction': [PCA()], 'extraction__n_components': [32, 24]}\n",
      "Pipeline(steps=[('scaler', 'passthrough'),\n",
      "                ('filter', SavgolFilterTransformer()),\n",
      "                ('selection', SelectKBest()), ('extraction', 'passthrough'),\n",
      "                ('polynomial',\n",
      "                 PolynomialFeatures(degree=1, include_bias=False)),\n",
      "                ('regression', TheilSenRegressor())])\n",
      "Fitting 2 folds for each of 48 candidates, totalling 96 fits\n",
      "Best Score: 0.469; R2 Score: Train = 0.521; Test = -1.179\n",
      "{'extraction': PCA(), 'extraction__n_components': 32, 'filter__polyorder': 3, 'filter__window_length': 4, 'scaler': StandardScaler(), 'selection__k': 64, 'selection__score_func': <function f_regression at 0x7f139b132830>}\n",
      "\n"
     ]
    },
    {
     "name": "stderr",
     "output_type": "stream",
     "text": [
      "/home/borjaeg/anaconda3/envs/multispectral/lib/python3.10/site-packages/sklearn/preprocessing/_data.py:2663: UserWarning: n_quantiles (900) is greater than the total number of samples (771). n_quantiles is set to n_samples.\n",
      "  warnings.warn(\n",
      "/home/borjaeg/anaconda3/envs/multispectral/lib/python3.10/site-packages/sklearn/compose/_target.py:190: UserWarning: The provided functions or transformer are not strictly inverse of each other. If you are sure you want to proceed regardless, set 'check_inverse=False'\n",
      "  warnings.warn(\n",
      "/home/borjaeg/anaconda3/envs/multispectral/lib/python3.10/site-packages/sklearn/preprocessing/_data.py:2663: UserWarning: n_quantiles (900) is greater than the total number of samples (171). n_quantiles is set to n_samples.\n",
      "  warnings.warn(\n",
      "/home/borjaeg/anaconda3/envs/multispectral/lib/python3.10/site-packages/sklearn/compose/_target.py:190: UserWarning: The provided functions or transformer are not strictly inverse of each other. If you are sure you want to proceed regardless, set 'check_inverse=False'\n",
      "  warnings.warn(\n",
      "/home/borjaeg/anaconda3/envs/multispectral/lib/python3.10/site-packages/sklearn/preprocessing/_data.py:2663: UserWarning: n_quantiles (900) is greater than the total number of samples (171). n_quantiles is set to n_samples.\n",
      "  warnings.warn(\n",
      "/home/borjaeg/anaconda3/envs/multispectral/lib/python3.10/site-packages/sklearn/compose/_target.py:190: UserWarning: The provided functions or transformer are not strictly inverse of each other. If you are sure you want to proceed regardless, set 'check_inverse=False'\n",
      "  warnings.warn(\n",
      "/home/borjaeg/anaconda3/envs/multispectral/lib/python3.10/site-packages/sklearn/preprocessing/_data.py:2663: UserWarning: n_quantiles (900) is greater than the total number of samples (172). n_quantiles is set to n_samples.\n",
      "  warnings.warn(\n",
      "/home/borjaeg/anaconda3/envs/multispectral/lib/python3.10/site-packages/sklearn/compose/_target.py:190: UserWarning: The provided functions or transformer are not strictly inverse of each other. If you are sure you want to proceed regardless, set 'check_inverse=False'\n",
      "  warnings.warn(\n"
     ]
    },
    {
     "name": "stdout",
     "output_type": "stream",
     "text": [
      "(Transformed Target) R2 Score: Train = 0.543; Test = 0.334\n",
      "==================================================\n",
      "CV: 2\n",
      "{'scaler': [StandardScaler(), MinMaxScaler()], 'filter__window_length': [4, 12, 24], 'filter__polyorder': [3], 'selection__k': [64, 48], 'selection__score_func': [<function mutual_info_regression at 0x7f139b130c10>, <function f_regression at 0x7f139b132830>], 'extraction': [PCA()], 'extraction__n_components': [32, 24]}\n",
      "Pipeline(steps=[('scaler', 'passthrough'),\n",
      "                ('filter', SavgolFilterTransformer()),\n",
      "                ('selection', SelectKBest()), ('extraction', 'passthrough'),\n",
      "                ('polynomial', PolynomialFeatures(include_bias=False)),\n",
      "                ('regression', TheilSenRegressor())])\n",
      "Fitting 2 folds for each of 48 candidates, totalling 96 fits\n",
      "Best Score: -2.847; R2 Score: Train = 0.840; Test = 0.108\n",
      "{'extraction': PCA(), 'extraction__n_components': 32, 'filter__polyorder': 3, 'filter__window_length': 4, 'scaler': StandardScaler(), 'selection__k': 48, 'selection__score_func': <function f_regression at 0x7f139b132830>}\n",
      "\n"
     ]
    },
    {
     "name": "stderr",
     "output_type": "stream",
     "text": [
      "/home/borjaeg/anaconda3/envs/multispectral/lib/python3.10/site-packages/sklearn/preprocessing/_data.py:2663: UserWarning: n_quantiles (900) is greater than the total number of samples (771). n_quantiles is set to n_samples.\n",
      "  warnings.warn(\n",
      "/home/borjaeg/anaconda3/envs/multispectral/lib/python3.10/site-packages/sklearn/compose/_target.py:190: UserWarning: The provided functions or transformer are not strictly inverse of each other. If you are sure you want to proceed regardless, set 'check_inverse=False'\n",
      "  warnings.warn(\n",
      "/home/borjaeg/anaconda3/envs/multispectral/lib/python3.10/site-packages/sklearn/preprocessing/_data.py:2663: UserWarning: n_quantiles (900) is greater than the total number of samples (171). n_quantiles is set to n_samples.\n",
      "  warnings.warn(\n",
      "/home/borjaeg/anaconda3/envs/multispectral/lib/python3.10/site-packages/sklearn/preprocessing/_data.py:2663: UserWarning: n_quantiles (900) is greater than the total number of samples (171). n_quantiles is set to n_samples.\n",
      "  warnings.warn(\n",
      "/home/borjaeg/anaconda3/envs/multispectral/lib/python3.10/site-packages/sklearn/compose/_target.py:190: UserWarning: The provided functions or transformer are not strictly inverse of each other. If you are sure you want to proceed regardless, set 'check_inverse=False'\n",
      "  warnings.warn(\n"
     ]
    },
    {
     "name": "stdout",
     "output_type": "stream",
     "text": [
      "(Transformed Target) R2 Score: Train = 0.175; Test = -1.981\n",
      "{'scaler': [StandardScaler(), MinMaxScaler()], 'filter__window_length': [4, 12, 24], 'filter__polyorder': [3], 'selection__k': [64, 48], 'selection__score_func': [<function mutual_info_regression at 0x7f139b130c10>, <function f_regression at 0x7f139b132830>], 'extraction': [PCA()], 'extraction__n_components': [32, 24]}\n",
      "Pipeline(steps=[('scaler', 'passthrough'),\n",
      "                ('filter', SavgolFilterTransformer()),\n",
      "                ('selection', SelectKBest()), ('extraction', 'passthrough'),\n",
      "                ('polynomial', PolynomialFeatures(include_bias=False)),\n",
      "                ('regression', TheilSenRegressor())])\n",
      "Fitting 2 folds for each of 48 candidates, totalling 96 fits\n"
     ]
    },
    {
     "name": "stderr",
     "output_type": "stream",
     "text": [
      "/home/borjaeg/anaconda3/envs/multispectral/lib/python3.10/site-packages/sklearn/preprocessing/_data.py:2663: UserWarning: n_quantiles (900) is greater than the total number of samples (172). n_quantiles is set to n_samples.\n",
      "  warnings.warn(\n",
      "/home/borjaeg/anaconda3/envs/multispectral/lib/python3.10/site-packages/sklearn/compose/_target.py:190: UserWarning: The provided functions or transformer are not strictly inverse of each other. If you are sure you want to proceed regardless, set 'check_inverse=False'\n",
      "  warnings.warn(\n"
     ]
    },
    {
     "name": "stdout",
     "output_type": "stream",
     "text": [
      "Best Score: -7.806; R2 Score: Train = 0.805; Test = -38396.138\n",
      "{'extraction': PCA(), 'extraction__n_components': 32, 'filter__polyorder': 3, 'filter__window_length': 4, 'scaler': MinMaxScaler(), 'selection__k': 48, 'selection__score_func': <function f_regression at 0x7f139b132830>}\n",
      "\n"
     ]
    },
    {
     "name": "stderr",
     "output_type": "stream",
     "text": [
      "/home/borjaeg/anaconda3/envs/multispectral/lib/python3.10/site-packages/sklearn/preprocessing/_data.py:2663: UserWarning: n_quantiles (900) is greater than the total number of samples (771). n_quantiles is set to n_samples.\n",
      "  warnings.warn(\n",
      "/home/borjaeg/anaconda3/envs/multispectral/lib/python3.10/site-packages/sklearn/compose/_target.py:190: UserWarning: The provided functions or transformer are not strictly inverse of each other. If you are sure you want to proceed regardless, set 'check_inverse=False'\n",
      "  warnings.warn(\n",
      "/home/borjaeg/anaconda3/envs/multispectral/lib/python3.10/site-packages/sklearn/preprocessing/_data.py:2663: UserWarning: n_quantiles (900) is greater than the total number of samples (171). n_quantiles is set to n_samples.\n",
      "  warnings.warn(\n",
      "/home/borjaeg/anaconda3/envs/multispectral/lib/python3.10/site-packages/sklearn/compose/_target.py:190: UserWarning: The provided functions or transformer are not strictly inverse of each other. If you are sure you want to proceed regardless, set 'check_inverse=False'\n",
      "  warnings.warn(\n",
      "/home/borjaeg/anaconda3/envs/multispectral/lib/python3.10/site-packages/sklearn/preprocessing/_data.py:2663: UserWarning: n_quantiles (900) is greater than the total number of samples (171). n_quantiles is set to n_samples.\n",
      "  warnings.warn(\n",
      "/home/borjaeg/anaconda3/envs/multispectral/lib/python3.10/site-packages/sklearn/compose/_target.py:190: UserWarning: The provided functions or transformer are not strictly inverse of each other. If you are sure you want to proceed regardless, set 'check_inverse=False'\n",
      "  warnings.warn(\n"
     ]
    },
    {
     "name": "stdout",
     "output_type": "stream",
     "text": [
      "(Transformed Target) R2 Score: Train = 0.778; Test = -1.284\n",
      "==================================================\n",
      "CV: 2\n",
      "{'scaler': [StandardScaler(), MinMaxScaler()], 'filter__window_length': [4, 12, 24], 'filter__polyorder': [3], 'selection__k': [64, 48], 'selection__score_func': [<function mutual_info_regression at 0x7f139b130c10>, <function f_regression at 0x7f139b132830>], 'extraction': [PCA()], 'extraction__n_components': [32, 24]}\n",
      "Pipeline(steps=[('scaler', 'passthrough'),\n",
      "                ('filter', SavgolFilterTransformer()),\n",
      "                ('selection', SelectKBest()), ('extraction', 'passthrough'),\n",
      "                ('polynomial',\n",
      "                 PolynomialFeatures(degree=3, include_bias=False)),\n",
      "                ('regression', TheilSenRegressor())])\n",
      "Fitting 2 folds for each of 48 candidates, totalling 96 fits\n"
     ]
    },
    {
     "name": "stderr",
     "output_type": "stream",
     "text": [
      "/home/borjaeg/anaconda3/envs/multispectral/lib/python3.10/site-packages/sklearn/preprocessing/_data.py:2663: UserWarning: n_quantiles (900) is greater than the total number of samples (172). n_quantiles is set to n_samples.\n",
      "  warnings.warn(\n",
      "/home/borjaeg/anaconda3/envs/multispectral/lib/python3.10/site-packages/sklearn/compose/_target.py:190: UserWarning: The provided functions or transformer are not strictly inverse of each other. If you are sure you want to proceed regardless, set 'check_inverse=False'\n",
      "  warnings.warn(\n"
     ]
    },
    {
     "name": "stdout",
     "output_type": "stream",
     "text": [
      "Best Score: -0.919; R2 Score: Train = 1.000; Test = 0.089\n",
      "{'extraction': PCA(), 'extraction__n_components': 32, 'filter__polyorder': 3, 'filter__window_length': 4, 'scaler': StandardScaler(), 'selection__k': 48, 'selection__score_func': <function f_regression at 0x7f139b132830>}\n",
      "\n"
     ]
    },
    {
     "name": "stderr",
     "output_type": "stream",
     "text": [
      "/home/borjaeg/anaconda3/envs/multispectral/lib/python3.10/site-packages/sklearn/preprocessing/_data.py:2663: UserWarning: n_quantiles (900) is greater than the total number of samples (771). n_quantiles is set to n_samples.\n",
      "  warnings.warn(\n",
      "/home/borjaeg/anaconda3/envs/multispectral/lib/python3.10/site-packages/sklearn/compose/_target.py:190: UserWarning: The provided functions or transformer are not strictly inverse of each other. If you are sure you want to proceed regardless, set 'check_inverse=False'\n",
      "  warnings.warn(\n",
      "/home/borjaeg/anaconda3/envs/multispectral/lib/python3.10/site-packages/sklearn/preprocessing/_data.py:2663: UserWarning: n_quantiles (900) is greater than the total number of samples (171). n_quantiles is set to n_samples.\n",
      "  warnings.warn(\n",
      "/home/borjaeg/anaconda3/envs/multispectral/lib/python3.10/site-packages/sklearn/preprocessing/_data.py:2663: UserWarning: n_quantiles (900) is greater than the total number of samples (171). n_quantiles is set to n_samples.\n",
      "  warnings.warn(\n",
      "/home/borjaeg/anaconda3/envs/multispectral/lib/python3.10/site-packages/sklearn/compose/_target.py:190: UserWarning: The provided functions or transformer are not strictly inverse of each other. If you are sure you want to proceed regardless, set 'check_inverse=False'\n",
      "  warnings.warn(\n",
      "/home/borjaeg/anaconda3/envs/multispectral/lib/python3.10/site-packages/sklearn/preprocessing/_data.py:2663: UserWarning: n_quantiles (900) is greater than the total number of samples (172). n_quantiles is set to n_samples.\n",
      "  warnings.warn(\n",
      "/home/borjaeg/anaconda3/envs/multispectral/lib/python3.10/site-packages/sklearn/compose/_target.py:190: UserWarning: The provided functions or transformer are not strictly inverse of each other. If you are sure you want to proceed regardless, set 'check_inverse=False'\n",
      "  warnings.warn(\n"
     ]
    },
    {
     "name": "stdout",
     "output_type": "stream",
     "text": [
      "(Transformed Target) R2 Score: Train = 1.000; Test = -2.161\n",
      "{'scaler': [StandardScaler(), MinMaxScaler()], 'filter__window_length': [4, 12, 24], 'filter__polyorder': [3], 'selection__k': [64, 48], 'selection__score_func': [<function mutual_info_regression at 0x7f139b130c10>, <function f_regression at 0x7f139b132830>], 'extraction': [PCA()], 'extraction__n_components': [32, 24]}\n",
      "Pipeline(steps=[('scaler', 'passthrough'),\n",
      "                ('filter', SavgolFilterTransformer()),\n",
      "                ('selection', SelectKBest()), ('extraction', 'passthrough'),\n",
      "                ('polynomial',\n",
      "                 PolynomialFeatures(degree=3, include_bias=False)),\n",
      "                ('regression', TheilSenRegressor())])\n",
      "Fitting 2 folds for each of 48 candidates, totalling 96 fits\n",
      "Best Score: -7.446; R2 Score: Train = 0.999; Test = -2468.302\n",
      "{'extraction': PCA(), 'extraction__n_components': 32, 'filter__polyorder': 3, 'filter__window_length': 4, 'scaler': MinMaxScaler(), 'selection__k': 48, 'selection__score_func': <function f_regression at 0x7f139b132830>}\n",
      "\n"
     ]
    },
    {
     "name": "stderr",
     "output_type": "stream",
     "text": [
      "/home/borjaeg/anaconda3/envs/multispectral/lib/python3.10/site-packages/sklearn/preprocessing/_data.py:2663: UserWarning: n_quantiles (900) is greater than the total number of samples (771). n_quantiles is set to n_samples.\n",
      "  warnings.warn(\n",
      "/home/borjaeg/anaconda3/envs/multispectral/lib/python3.10/site-packages/sklearn/compose/_target.py:190: UserWarning: The provided functions or transformer are not strictly inverse of each other. If you are sure you want to proceed regardless, set 'check_inverse=False'\n",
      "  warnings.warn(\n",
      "/home/borjaeg/anaconda3/envs/multispectral/lib/python3.10/site-packages/sklearn/preprocessing/_data.py:2663: UserWarning: n_quantiles (900) is greater than the total number of samples (171). n_quantiles is set to n_samples.\n",
      "  warnings.warn(\n",
      "/home/borjaeg/anaconda3/envs/multispectral/lib/python3.10/site-packages/sklearn/compose/_target.py:190: UserWarning: The provided functions or transformer are not strictly inverse of each other. If you are sure you want to proceed regardless, set 'check_inverse=False'\n",
      "  warnings.warn(\n",
      "/home/borjaeg/anaconda3/envs/multispectral/lib/python3.10/site-packages/sklearn/preprocessing/_data.py:2663: UserWarning: n_quantiles (900) is greater than the total number of samples (171). n_quantiles is set to n_samples.\n",
      "  warnings.warn(\n",
      "/home/borjaeg/anaconda3/envs/multispectral/lib/python3.10/site-packages/sklearn/compose/_target.py:190: UserWarning: The provided functions or transformer are not strictly inverse of each other. If you are sure you want to proceed regardless, set 'check_inverse=False'\n",
      "  warnings.warn(\n",
      "/home/borjaeg/anaconda3/envs/multispectral/lib/python3.10/site-packages/sklearn/preprocessing/_data.py:2663: UserWarning: n_quantiles (900) is greater than the total number of samples (172). n_quantiles is set to n_samples.\n",
      "  warnings.warn(\n",
      "/home/borjaeg/anaconda3/envs/multispectral/lib/python3.10/site-packages/sklearn/compose/_target.py:190: UserWarning: The provided functions or transformer are not strictly inverse of each other. If you are sure you want to proceed regardless, set 'check_inverse=False'\n",
      "  warnings.warn(\n"
     ]
    },
    {
     "name": "stdout",
     "output_type": "stream",
     "text": [
      "(Transformed Target) R2 Score: Train = 0.999; Test = -3.412\n",
      "==================================================\n",
      "CV: 2\n",
      "{'scaler': [StandardScaler(), MinMaxScaler()], 'selection__k': [64, 48], 'selection__score_func': [<function mutual_info_regression at 0x7f139b130c10>, <function f_regression at 0x7f139b132830>], 'extraction': [PCA()], 'extraction__n_components': [32, 24]}\n",
      "Pipeline(steps=[('scaler', 'passthrough'), ('selection', SelectKBest()),\n",
      "                ('extraction', 'passthrough'),\n",
      "                ('polynomial',\n",
      "                 PolynomialFeatures(degree=1, include_bias=False)),\n",
      "                ('regression', TheilSenRegressor())])\n",
      "Fitting 2 folds for each of 16 candidates, totalling 32 fits\n",
      "Best Score: 0.424; R2 Score: Train = 0.488; Test = 0.250\n",
      "{'extraction': PCA(), 'extraction__n_components': 32, 'scaler': MinMaxScaler(), 'selection__k': 48, 'selection__score_func': <function mutual_info_regression at 0x7f139b130c10>}\n",
      "\n"
     ]
    },
    {
     "name": "stderr",
     "output_type": "stream",
     "text": [
      "/home/borjaeg/anaconda3/envs/multispectral/lib/python3.10/site-packages/sklearn/preprocessing/_data.py:2663: UserWarning: n_quantiles (900) is greater than the total number of samples (771). n_quantiles is set to n_samples.\n",
      "  warnings.warn(\n",
      "/home/borjaeg/anaconda3/envs/multispectral/lib/python3.10/site-packages/sklearn/compose/_target.py:190: UserWarning: The provided functions or transformer are not strictly inverse of each other. If you are sure you want to proceed regardless, set 'check_inverse=False'\n",
      "  warnings.warn(\n",
      "/home/borjaeg/anaconda3/envs/multispectral/lib/python3.10/site-packages/sklearn/preprocessing/_data.py:2663: UserWarning: n_quantiles (900) is greater than the total number of samples (171). n_quantiles is set to n_samples.\n",
      "  warnings.warn(\n",
      "/home/borjaeg/anaconda3/envs/multispectral/lib/python3.10/site-packages/sklearn/preprocessing/_data.py:2663: UserWarning: n_quantiles (900) is greater than the total number of samples (171). n_quantiles is set to n_samples.\n",
      "  warnings.warn(\n",
      "/home/borjaeg/anaconda3/envs/multispectral/lib/python3.10/site-packages/sklearn/compose/_target.py:190: UserWarning: The provided functions or transformer are not strictly inverse of each other. If you are sure you want to proceed regardless, set 'check_inverse=False'\n",
      "  warnings.warn(\n",
      "/home/borjaeg/anaconda3/envs/multispectral/lib/python3.10/site-packages/sklearn/preprocessing/_data.py:2663: UserWarning: n_quantiles (900) is greater than the total number of samples (172). n_quantiles is set to n_samples.\n",
      "  warnings.warn(\n",
      "/home/borjaeg/anaconda3/envs/multispectral/lib/python3.10/site-packages/sklearn/compose/_target.py:190: UserWarning: The provided functions or transformer are not strictly inverse of each other. If you are sure you want to proceed regardless, set 'check_inverse=False'\n",
      "  warnings.warn(\n"
     ]
    },
    {
     "name": "stdout",
     "output_type": "stream",
     "text": [
      "(Transformed Target) R2 Score: Train = 0.158; Test = 0.096\n",
      "{'scaler': [StandardScaler(), MinMaxScaler()], 'selection__k': [64, 48], 'selection__score_func': [<function mutual_info_regression at 0x7f139b130c10>, <function f_regression at 0x7f139b132830>], 'extraction': [PCA()], 'extraction__n_components': [32, 24]}\n",
      "Pipeline(steps=[('scaler', 'passthrough'), ('selection', SelectKBest()),\n",
      "                ('extraction', 'passthrough'),\n",
      "                ('polynomial',\n",
      "                 PolynomialFeatures(degree=1, include_bias=False)),\n",
      "                ('regression', TheilSenRegressor())])\n",
      "Fitting 2 folds for each of 16 candidates, totalling 32 fits\n",
      "Best Score: 0.469; R2 Score: Train = 0.476; Test = -1.558\n",
      "{'extraction': PCA(), 'extraction__n_components': 32, 'scaler': StandardScaler(), 'selection__k': 64, 'selection__score_func': <function mutual_info_regression at 0x7f139b130c10>}\n",
      "\n"
     ]
    },
    {
     "name": "stderr",
     "output_type": "stream",
     "text": [
      "/home/borjaeg/anaconda3/envs/multispectral/lib/python3.10/site-packages/sklearn/preprocessing/_data.py:2663: UserWarning: n_quantiles (900) is greater than the total number of samples (771). n_quantiles is set to n_samples.\n",
      "  warnings.warn(\n",
      "/home/borjaeg/anaconda3/envs/multispectral/lib/python3.10/site-packages/sklearn/compose/_target.py:190: UserWarning: The provided functions or transformer are not strictly inverse of each other. If you are sure you want to proceed regardless, set 'check_inverse=False'\n",
      "  warnings.warn(\n",
      "/home/borjaeg/anaconda3/envs/multispectral/lib/python3.10/site-packages/sklearn/preprocessing/_data.py:2663: UserWarning: n_quantiles (900) is greater than the total number of samples (171). n_quantiles is set to n_samples.\n",
      "  warnings.warn(\n",
      "/home/borjaeg/anaconda3/envs/multispectral/lib/python3.10/site-packages/sklearn/compose/_target.py:190: UserWarning: The provided functions or transformer are not strictly inverse of each other. If you are sure you want to proceed regardless, set 'check_inverse=False'\n",
      "  warnings.warn(\n",
      "/home/borjaeg/anaconda3/envs/multispectral/lib/python3.10/site-packages/sklearn/preprocessing/_data.py:2663: UserWarning: n_quantiles (900) is greater than the total number of samples (171). n_quantiles is set to n_samples.\n",
      "  warnings.warn(\n",
      "/home/borjaeg/anaconda3/envs/multispectral/lib/python3.10/site-packages/sklearn/compose/_target.py:190: UserWarning: The provided functions or transformer are not strictly inverse of each other. If you are sure you want to proceed regardless, set 'check_inverse=False'\n",
      "  warnings.warn(\n",
      "/home/borjaeg/anaconda3/envs/multispectral/lib/python3.10/site-packages/sklearn/preprocessing/_data.py:2663: UserWarning: n_quantiles (900) is greater than the total number of samples (172). n_quantiles is set to n_samples.\n",
      "  warnings.warn(\n",
      "/home/borjaeg/anaconda3/envs/multispectral/lib/python3.10/site-packages/sklearn/compose/_target.py:190: UserWarning: The provided functions or transformer are not strictly inverse of each other. If you are sure you want to proceed regardless, set 'check_inverse=False'\n",
      "  warnings.warn(\n"
     ]
    },
    {
     "name": "stdout",
     "output_type": "stream",
     "text": [
      "(Transformed Target) R2 Score: Train = 0.492; Test = 0.221\n",
      "==================================================\n",
      "CV: 2\n",
      "{'scaler': [StandardScaler(), MinMaxScaler()], 'selection__k': [64, 48], 'selection__score_func': [<function mutual_info_regression at 0x7f139b130c10>, <function f_regression at 0x7f139b132830>], 'extraction': [PCA()], 'extraction__n_components': [32, 24]}\n",
      "Pipeline(steps=[('scaler', 'passthrough'), ('selection', SelectKBest()),\n",
      "                ('extraction', 'passthrough'),\n",
      "                ('polynomial', PolynomialFeatures(include_bias=False)),\n",
      "                ('regression', TheilSenRegressor())])\n",
      "Fitting 2 folds for each of 16 candidates, totalling 32 fits\n",
      "Best Score: -1.629; R2 Score: Train = 0.737; Test = 0.230\n",
      "{'extraction': PCA(), 'extraction__n_components': 32, 'scaler': StandardScaler(), 'selection__k': 48, 'selection__score_func': <function f_regression at 0x7f139b132830>}\n",
      "\n"
     ]
    },
    {
     "name": "stderr",
     "output_type": "stream",
     "text": [
      "/home/borjaeg/anaconda3/envs/multispectral/lib/python3.10/site-packages/sklearn/preprocessing/_data.py:2663: UserWarning: n_quantiles (900) is greater than the total number of samples (771). n_quantiles is set to n_samples.\n",
      "  warnings.warn(\n",
      "/home/borjaeg/anaconda3/envs/multispectral/lib/python3.10/site-packages/sklearn/compose/_target.py:190: UserWarning: The provided functions or transformer are not strictly inverse of each other. If you are sure you want to proceed regardless, set 'check_inverse=False'\n",
      "  warnings.warn(\n",
      "/home/borjaeg/anaconda3/envs/multispectral/lib/python3.10/site-packages/sklearn/preprocessing/_data.py:2663: UserWarning: n_quantiles (900) is greater than the total number of samples (171). n_quantiles is set to n_samples.\n",
      "  warnings.warn(\n",
      "/home/borjaeg/anaconda3/envs/multispectral/lib/python3.10/site-packages/sklearn/preprocessing/_data.py:2663: UserWarning: n_quantiles (900) is greater than the total number of samples (171). n_quantiles is set to n_samples.\n",
      "  warnings.warn(\n",
      "/home/borjaeg/anaconda3/envs/multispectral/lib/python3.10/site-packages/sklearn/compose/_target.py:190: UserWarning: The provided functions or transformer are not strictly inverse of each other. If you are sure you want to proceed regardless, set 'check_inverse=False'\n",
      "  warnings.warn(\n"
     ]
    },
    {
     "name": "stdout",
     "output_type": "stream",
     "text": [
      "(Transformed Target) R2 Score: Train = 0.194; Test = -1.554\n",
      "{'scaler': [StandardScaler(), MinMaxScaler()], 'selection__k': [64, 48], 'selection__score_func': [<function mutual_info_regression at 0x7f139b130c10>, <function f_regression at 0x7f139b132830>], 'extraction': [PCA()], 'extraction__n_components': [32, 24]}\n",
      "Pipeline(steps=[('scaler', 'passthrough'), ('selection', SelectKBest()),\n",
      "                ('extraction', 'passthrough'),\n",
      "                ('polynomial', PolynomialFeatures(include_bias=False)),\n",
      "                ('regression', TheilSenRegressor())])\n",
      "Fitting 2 folds for each of 16 candidates, totalling 32 fits\n"
     ]
    },
    {
     "name": "stderr",
     "output_type": "stream",
     "text": [
      "/home/borjaeg/anaconda3/envs/multispectral/lib/python3.10/site-packages/sklearn/preprocessing/_data.py:2663: UserWarning: n_quantiles (900) is greater than the total number of samples (172). n_quantiles is set to n_samples.\n",
      "  warnings.warn(\n",
      "/home/borjaeg/anaconda3/envs/multispectral/lib/python3.10/site-packages/sklearn/compose/_target.py:190: UserWarning: The provided functions or transformer are not strictly inverse of each other. If you are sure you want to proceed regardless, set 'check_inverse=False'\n",
      "  warnings.warn(\n"
     ]
    },
    {
     "name": "stdout",
     "output_type": "stream",
     "text": [
      "Best Score: -6.016; R2 Score: Train = 0.555; Test = -806.566\n",
      "{'extraction': PCA(), 'extraction__n_components': 24, 'scaler': MinMaxScaler(), 'selection__k': 48, 'selection__score_func': <function f_regression at 0x7f139b132830>}\n",
      "\n"
     ]
    },
    {
     "name": "stderr",
     "output_type": "stream",
     "text": [
      "/home/borjaeg/anaconda3/envs/multispectral/lib/python3.10/site-packages/sklearn/preprocessing/_data.py:2663: UserWarning: n_quantiles (900) is greater than the total number of samples (771). n_quantiles is set to n_samples.\n",
      "  warnings.warn(\n",
      "/home/borjaeg/anaconda3/envs/multispectral/lib/python3.10/site-packages/sklearn/compose/_target.py:190: UserWarning: The provided functions or transformer are not strictly inverse of each other. If you are sure you want to proceed regardless, set 'check_inverse=False'\n",
      "  warnings.warn(\n",
      "/home/borjaeg/anaconda3/envs/multispectral/lib/python3.10/site-packages/sklearn/preprocessing/_data.py:2663: UserWarning: n_quantiles (900) is greater than the total number of samples (171). n_quantiles is set to n_samples.\n",
      "  warnings.warn(\n",
      "/home/borjaeg/anaconda3/envs/multispectral/lib/python3.10/site-packages/sklearn/compose/_target.py:190: UserWarning: The provided functions or transformer are not strictly inverse of each other. If you are sure you want to proceed regardless, set 'check_inverse=False'\n",
      "  warnings.warn(\n",
      "/home/borjaeg/anaconda3/envs/multispectral/lib/python3.10/site-packages/sklearn/preprocessing/_data.py:2663: UserWarning: n_quantiles (900) is greater than the total number of samples (171). n_quantiles is set to n_samples.\n",
      "  warnings.warn(\n",
      "/home/borjaeg/anaconda3/envs/multispectral/lib/python3.10/site-packages/sklearn/compose/_target.py:190: UserWarning: The provided functions or transformer are not strictly inverse of each other. If you are sure you want to proceed regardless, set 'check_inverse=False'\n",
      "  warnings.warn(\n"
     ]
    },
    {
     "name": "stdout",
     "output_type": "stream",
     "text": [
      "(Transformed Target) R2 Score: Train = 0.514; Test = -0.370\n",
      "==================================================\n",
      "CV: 2\n",
      "{'scaler': [StandardScaler(), MinMaxScaler()], 'selection__k': [64, 48], 'selection__score_func': [<function mutual_info_regression at 0x7f139b130c10>, <function f_regression at 0x7f139b132830>], 'extraction': [PCA()], 'extraction__n_components': [32, 24]}\n",
      "Pipeline(steps=[('scaler', 'passthrough'), ('selection', SelectKBest()),\n",
      "                ('extraction', 'passthrough'),\n",
      "                ('polynomial',\n",
      "                 PolynomialFeatures(degree=3, include_bias=False)),\n",
      "                ('regression', TheilSenRegressor())])\n",
      "Fitting 2 folds for each of 16 candidates, totalling 32 fits\n"
     ]
    },
    {
     "name": "stderr",
     "output_type": "stream",
     "text": [
      "/home/borjaeg/anaconda3/envs/multispectral/lib/python3.10/site-packages/sklearn/preprocessing/_data.py:2663: UserWarning: n_quantiles (900) is greater than the total number of samples (172). n_quantiles is set to n_samples.\n",
      "  warnings.warn(\n",
      "/home/borjaeg/anaconda3/envs/multispectral/lib/python3.10/site-packages/sklearn/compose/_target.py:190: UserWarning: The provided functions or transformer are not strictly inverse of each other. If you are sure you want to proceed regardless, set 'check_inverse=False'\n",
      "  warnings.warn(\n"
     ]
    },
    {
     "name": "stdout",
     "output_type": "stream",
     "text": [
      "Best Score: -1.088; R2 Score: Train = 1.000; Test = -0.013\n",
      "{'extraction': PCA(), 'extraction__n_components': 32, 'scaler': StandardScaler(), 'selection__k': 48, 'selection__score_func': <function f_regression at 0x7f139b132830>}\n",
      "\n"
     ]
    },
    {
     "name": "stderr",
     "output_type": "stream",
     "text": [
      "/home/borjaeg/anaconda3/envs/multispectral/lib/python3.10/site-packages/sklearn/preprocessing/_data.py:2663: UserWarning: n_quantiles (900) is greater than the total number of samples (771). n_quantiles is set to n_samples.\n",
      "  warnings.warn(\n",
      "/home/borjaeg/anaconda3/envs/multispectral/lib/python3.10/site-packages/sklearn/compose/_target.py:190: UserWarning: The provided functions or transformer are not strictly inverse of each other. If you are sure you want to proceed regardless, set 'check_inverse=False'\n",
      "  warnings.warn(\n",
      "/home/borjaeg/anaconda3/envs/multispectral/lib/python3.10/site-packages/sklearn/preprocessing/_data.py:2663: UserWarning: n_quantiles (900) is greater than the total number of samples (171). n_quantiles is set to n_samples.\n",
      "  warnings.warn(\n",
      "/home/borjaeg/anaconda3/envs/multispectral/lib/python3.10/site-packages/sklearn/preprocessing/_data.py:2663: UserWarning: n_quantiles (900) is greater than the total number of samples (171). n_quantiles is set to n_samples.\n",
      "  warnings.warn(\n",
      "/home/borjaeg/anaconda3/envs/multispectral/lib/python3.10/site-packages/sklearn/compose/_target.py:190: UserWarning: The provided functions or transformer are not strictly inverse of each other. If you are sure you want to proceed regardless, set 'check_inverse=False'\n",
      "  warnings.warn(\n",
      "/home/borjaeg/anaconda3/envs/multispectral/lib/python3.10/site-packages/sklearn/preprocessing/_data.py:2663: UserWarning: n_quantiles (900) is greater than the total number of samples (172). n_quantiles is set to n_samples.\n",
      "  warnings.warn(\n",
      "/home/borjaeg/anaconda3/envs/multispectral/lib/python3.10/site-packages/sklearn/compose/_target.py:190: UserWarning: The provided functions or transformer are not strictly inverse of each other. If you are sure you want to proceed regardless, set 'check_inverse=False'\n",
      "  warnings.warn(\n"
     ]
    },
    {
     "name": "stdout",
     "output_type": "stream",
     "text": [
      "(Transformed Target) R2 Score: Train = 0.999; Test = -2.437\n",
      "{'scaler': [StandardScaler(), MinMaxScaler()], 'selection__k': [64, 48], 'selection__score_func': [<function mutual_info_regression at 0x7f139b130c10>, <function f_regression at 0x7f139b132830>], 'extraction': [PCA()], 'extraction__n_components': [32, 24]}\n",
      "Pipeline(steps=[('scaler', 'passthrough'), ('selection', SelectKBest()),\n",
      "                ('extraction', 'passthrough'),\n",
      "                ('polynomial',\n",
      "                 PolynomialFeatures(degree=3, include_bias=False)),\n",
      "                ('regression', TheilSenRegressor())])\n",
      "Fitting 2 folds for each of 16 candidates, totalling 32 fits\n",
      "Best Score: -7.853; R2 Score: Train = 0.999; Test = -2304.955\n",
      "{'extraction': PCA(), 'extraction__n_components': 32, 'scaler': StandardScaler(), 'selection__k': 48, 'selection__score_func': <function f_regression at 0x7f139b132830>}\n",
      "\n"
     ]
    },
    {
     "name": "stderr",
     "output_type": "stream",
     "text": [
      "/home/borjaeg/anaconda3/envs/multispectral/lib/python3.10/site-packages/sklearn/preprocessing/_data.py:2663: UserWarning: n_quantiles (900) is greater than the total number of samples (771). n_quantiles is set to n_samples.\n",
      "  warnings.warn(\n",
      "/home/borjaeg/anaconda3/envs/multispectral/lib/python3.10/site-packages/sklearn/compose/_target.py:190: UserWarning: The provided functions or transformer are not strictly inverse of each other. If you are sure you want to proceed regardless, set 'check_inverse=False'\n",
      "  warnings.warn(\n",
      "/home/borjaeg/anaconda3/envs/multispectral/lib/python3.10/site-packages/sklearn/preprocessing/_data.py:2663: UserWarning: n_quantiles (900) is greater than the total number of samples (171). n_quantiles is set to n_samples.\n",
      "  warnings.warn(\n",
      "/home/borjaeg/anaconda3/envs/multispectral/lib/python3.10/site-packages/sklearn/compose/_target.py:190: UserWarning: The provided functions or transformer are not strictly inverse of each other. If you are sure you want to proceed regardless, set 'check_inverse=False'\n",
      "  warnings.warn(\n",
      "/home/borjaeg/anaconda3/envs/multispectral/lib/python3.10/site-packages/sklearn/preprocessing/_data.py:2663: UserWarning: n_quantiles (900) is greater than the total number of samples (171). n_quantiles is set to n_samples.\n",
      "  warnings.warn(\n",
      "/home/borjaeg/anaconda3/envs/multispectral/lib/python3.10/site-packages/sklearn/compose/_target.py:190: UserWarning: The provided functions or transformer are not strictly inverse of each other. If you are sure you want to proceed regardless, set 'check_inverse=False'\n",
      "  warnings.warn(\n",
      "/home/borjaeg/anaconda3/envs/multispectral/lib/python3.10/site-packages/sklearn/preprocessing/_data.py:2663: UserWarning: n_quantiles (900) is greater than the total number of samples (172). n_quantiles is set to n_samples.\n",
      "  warnings.warn(\n",
      "/home/borjaeg/anaconda3/envs/multispectral/lib/python3.10/site-packages/sklearn/compose/_target.py:190: UserWarning: The provided functions or transformer are not strictly inverse of each other. If you are sure you want to proceed regardless, set 'check_inverse=False'\n",
      "  warnings.warn(\n"
     ]
    },
    {
     "name": "stdout",
     "output_type": "stream",
     "text": [
      "(Transformed Target) R2 Score: Train = 0.999; Test = -3.813\n",
      "==================================================\n",
      "CV: 3\n",
      "{'scaler': [StandardScaler(), MinMaxScaler()], 'filter__window_length': [4, 12, 24], 'filter__polyorder': [3], 'selection__k': [64, 48], 'selection__score_func': [<function mutual_info_regression at 0x7f139b130c10>, <function f_regression at 0x7f139b132830>], 'extraction': [PCA()], 'extraction__n_components': [32, 24]}\n",
      "Pipeline(steps=[('scaler', 'passthrough'),\n",
      "                ('filter', SavgolFilterTransformer()),\n",
      "                ('selection', SelectKBest()), ('extraction', 'passthrough'),\n",
      "                ('polynomial',\n",
      "                 PolynomialFeatures(degree=1, include_bias=False)),\n",
      "                ('regression', ARDRegression())])\n",
      "Fitting 3 folds for each of 48 candidates, totalling 144 fits\n",
      "Best Score: 0.502; R2 Score: Train = 0.518; Test = 0.304\n",
      "{'extraction': PCA(), 'extraction__n_components': 32, 'filter__polyorder': 3, 'filter__window_length': 12, 'scaler': MinMaxScaler(), 'selection__k': 48, 'selection__score_func': <function mutual_info_regression at 0x7f139b130c10>}\n",
      "\n"
     ]
    },
    {
     "name": "stderr",
     "output_type": "stream",
     "text": [
      "/home/borjaeg/anaconda3/envs/multispectral/lib/python3.10/site-packages/sklearn/preprocessing/_data.py:2663: UserWarning: n_quantiles (900) is greater than the total number of samples (771). n_quantiles is set to n_samples.\n",
      "  warnings.warn(\n",
      "/home/borjaeg/anaconda3/envs/multispectral/lib/python3.10/site-packages/sklearn/compose/_target.py:190: UserWarning: The provided functions or transformer are not strictly inverse of each other. If you are sure you want to proceed regardless, set 'check_inverse=False'\n",
      "  warnings.warn(\n",
      "/home/borjaeg/anaconda3/envs/multispectral/lib/python3.10/site-packages/sklearn/preprocessing/_data.py:2663: UserWarning: n_quantiles (900) is greater than the total number of samples (171). n_quantiles is set to n_samples.\n",
      "  warnings.warn(\n",
      "/home/borjaeg/anaconda3/envs/multispectral/lib/python3.10/site-packages/sklearn/preprocessing/_data.py:2663: UserWarning: n_quantiles (900) is greater than the total number of samples (171). n_quantiles is set to n_samples.\n",
      "  warnings.warn(\n",
      "/home/borjaeg/anaconda3/envs/multispectral/lib/python3.10/site-packages/sklearn/compose/_target.py:190: UserWarning: The provided functions or transformer are not strictly inverse of each other. If you are sure you want to proceed regardless, set 'check_inverse=False'\n",
      "  warnings.warn(\n",
      "/home/borjaeg/anaconda3/envs/multispectral/lib/python3.10/site-packages/sklearn/preprocessing/_data.py:2663: UserWarning: n_quantiles (900) is greater than the total number of samples (172). n_quantiles is set to n_samples.\n",
      "  warnings.warn(\n",
      "/home/borjaeg/anaconda3/envs/multispectral/lib/python3.10/site-packages/sklearn/compose/_target.py:190: UserWarning: The provided functions or transformer are not strictly inverse of each other. If you are sure you want to proceed regardless, set 'check_inverse=False'\n",
      "  warnings.warn(\n"
     ]
    },
    {
     "name": "stdout",
     "output_type": "stream",
     "text": [
      "(Transformed Target) R2 Score: Train = 0.191; Test = 0.137\n",
      "{'scaler': [StandardScaler(), MinMaxScaler()], 'filter__window_length': [4, 12, 24], 'filter__polyorder': [3], 'selection__k': [64, 48], 'selection__score_func': [<function mutual_info_regression at 0x7f139b130c10>, <function f_regression at 0x7f139b132830>], 'extraction': [PCA()], 'extraction__n_components': [32, 24]}\n",
      "Pipeline(steps=[('scaler', 'passthrough'),\n",
      "                ('filter', SavgolFilterTransformer()),\n",
      "                ('selection', SelectKBest()), ('extraction', 'passthrough'),\n",
      "                ('polynomial',\n",
      "                 PolynomialFeatures(degree=1, include_bias=False)),\n",
      "                ('regression', ARDRegression())])\n",
      "Fitting 3 folds for each of 48 candidates, totalling 144 fits\n",
      "Best Score: 0.572; R2 Score: Train = 0.598; Test = 0.521\n",
      "{'extraction': PCA(), 'extraction__n_components': 32, 'filter__polyorder': 3, 'filter__window_length': 12, 'scaler': StandardScaler(), 'selection__k': 64, 'selection__score_func': <function f_regression at 0x7f139b132830>}\n",
      "\n"
     ]
    },
    {
     "name": "stderr",
     "output_type": "stream",
     "text": [
      "/home/borjaeg/anaconda3/envs/multispectral/lib/python3.10/site-packages/sklearn/preprocessing/_data.py:2663: UserWarning: n_quantiles (900) is greater than the total number of samples (771). n_quantiles is set to n_samples.\n",
      "  warnings.warn(\n",
      "/home/borjaeg/anaconda3/envs/multispectral/lib/python3.10/site-packages/sklearn/compose/_target.py:190: UserWarning: The provided functions or transformer are not strictly inverse of each other. If you are sure you want to proceed regardless, set 'check_inverse=False'\n",
      "  warnings.warn(\n",
      "/home/borjaeg/anaconda3/envs/multispectral/lib/python3.10/site-packages/sklearn/preprocessing/_data.py:2663: UserWarning: n_quantiles (900) is greater than the total number of samples (171). n_quantiles is set to n_samples.\n",
      "  warnings.warn(\n",
      "/home/borjaeg/anaconda3/envs/multispectral/lib/python3.10/site-packages/sklearn/compose/_target.py:190: UserWarning: The provided functions or transformer are not strictly inverse of each other. If you are sure you want to proceed regardless, set 'check_inverse=False'\n",
      "  warnings.warn(\n",
      "/home/borjaeg/anaconda3/envs/multispectral/lib/python3.10/site-packages/sklearn/preprocessing/_data.py:2663: UserWarning: n_quantiles (900) is greater than the total number of samples (171). n_quantiles is set to n_samples.\n",
      "  warnings.warn(\n",
      "/home/borjaeg/anaconda3/envs/multispectral/lib/python3.10/site-packages/sklearn/compose/_target.py:190: UserWarning: The provided functions or transformer are not strictly inverse of each other. If you are sure you want to proceed regardless, set 'check_inverse=False'\n",
      "  warnings.warn(\n",
      "/home/borjaeg/anaconda3/envs/multispectral/lib/python3.10/site-packages/sklearn/preprocessing/_data.py:2663: UserWarning: n_quantiles (900) is greater than the total number of samples (172). n_quantiles is set to n_samples.\n",
      "  warnings.warn(\n",
      "/home/borjaeg/anaconda3/envs/multispectral/lib/python3.10/site-packages/sklearn/compose/_target.py:190: UserWarning: The provided functions or transformer are not strictly inverse of each other. If you are sure you want to proceed regardless, set 'check_inverse=False'\n",
      "  warnings.warn(\n"
     ]
    },
    {
     "name": "stdout",
     "output_type": "stream",
     "text": [
      "(Transformed Target) R2 Score: Train = 0.606; Test = 0.513\n",
      "==================================================\n",
      "CV: 3\n",
      "{'scaler': [StandardScaler(), MinMaxScaler()], 'filter__window_length': [4, 12, 24], 'filter__polyorder': [3], 'selection__k': [64, 48], 'selection__score_func': [<function mutual_info_regression at 0x7f139b130c10>, <function f_regression at 0x7f139b132830>], 'extraction': [PCA()], 'extraction__n_components': [32, 24]}\n",
      "Pipeline(steps=[('scaler', 'passthrough'),\n",
      "                ('filter', SavgolFilterTransformer()),\n",
      "                ('selection', SelectKBest()), ('extraction', 'passthrough'),\n",
      "                ('polynomial', PolynomialFeatures(include_bias=False)),\n",
      "                ('regression', ARDRegression())])\n",
      "Fitting 3 folds for each of 48 candidates, totalling 144 fits\n",
      "Best Score: 0.727; R2 Score: Train = 0.866; Test = 0.620\n",
      "{'extraction': PCA(), 'extraction__n_components': 32, 'filter__polyorder': 3, 'filter__window_length': 12, 'scaler': MinMaxScaler(), 'selection__k': 64, 'selection__score_func': <function mutual_info_regression at 0x7f139b130c10>}\n",
      "\n"
     ]
    },
    {
     "name": "stderr",
     "output_type": "stream",
     "text": [
      "/home/borjaeg/anaconda3/envs/multispectral/lib/python3.10/site-packages/sklearn/preprocessing/_data.py:2663: UserWarning: n_quantiles (900) is greater than the total number of samples (771). n_quantiles is set to n_samples.\n",
      "  warnings.warn(\n",
      "/home/borjaeg/anaconda3/envs/multispectral/lib/python3.10/site-packages/sklearn/compose/_target.py:190: UserWarning: The provided functions or transformer are not strictly inverse of each other. If you are sure you want to proceed regardless, set 'check_inverse=False'\n",
      "  warnings.warn(\n",
      "/home/borjaeg/anaconda3/envs/multispectral/lib/python3.10/site-packages/sklearn/preprocessing/_data.py:2663: UserWarning: n_quantiles (900) is greater than the total number of samples (171). n_quantiles is set to n_samples.\n",
      "  warnings.warn(\n",
      "/home/borjaeg/anaconda3/envs/multispectral/lib/python3.10/site-packages/sklearn/preprocessing/_data.py:2663: UserWarning: n_quantiles (900) is greater than the total number of samples (171). n_quantiles is set to n_samples.\n",
      "  warnings.warn(\n",
      "/home/borjaeg/anaconda3/envs/multispectral/lib/python3.10/site-packages/sklearn/compose/_target.py:190: UserWarning: The provided functions or transformer are not strictly inverse of each other. If you are sure you want to proceed regardless, set 'check_inverse=False'\n",
      "  warnings.warn(\n",
      "/home/borjaeg/anaconda3/envs/multispectral/lib/python3.10/site-packages/sklearn/preprocessing/_data.py:2663: UserWarning: n_quantiles (900) is greater than the total number of samples (172). n_quantiles is set to n_samples.\n",
      "  warnings.warn(\n",
      "/home/borjaeg/anaconda3/envs/multispectral/lib/python3.10/site-packages/sklearn/compose/_target.py:190: UserWarning: The provided functions or transformer are not strictly inverse of each other. If you are sure you want to proceed regardless, set 'check_inverse=False'\n",
      "  warnings.warn(\n"
     ]
    },
    {
     "name": "stdout",
     "output_type": "stream",
     "text": [
      "(Transformed Target) R2 Score: Train = 0.789; Test = 0.388\n",
      "{'scaler': [StandardScaler(), MinMaxScaler()], 'filter__window_length': [4, 12, 24], 'filter__polyorder': [3], 'selection__k': [64, 48], 'selection__score_func': [<function mutual_info_regression at 0x7f139b130c10>, <function f_regression at 0x7f139b132830>], 'extraction': [PCA()], 'extraction__n_components': [32, 24]}\n",
      "Pipeline(steps=[('scaler', 'passthrough'),\n",
      "                ('filter', SavgolFilterTransformer()),\n",
      "                ('selection', SelectKBest()), ('extraction', 'passthrough'),\n",
      "                ('polynomial', PolynomialFeatures(include_bias=False)),\n",
      "                ('regression', ARDRegression())])\n",
      "Fitting 3 folds for each of 48 candidates, totalling 144 fits\n",
      "Best Score: 0.674; R2 Score: Train = 0.773; Test = 0.305\n",
      "{'extraction': PCA(), 'extraction__n_components': 24, 'filter__polyorder': 3, 'filter__window_length': 4, 'scaler': MinMaxScaler(), 'selection__k': 48, 'selection__score_func': <function mutual_info_regression at 0x7f139b130c10>}\n",
      "\n"
     ]
    },
    {
     "name": "stderr",
     "output_type": "stream",
     "text": [
      "/home/borjaeg/anaconda3/envs/multispectral/lib/python3.10/site-packages/sklearn/preprocessing/_data.py:2663: UserWarning: n_quantiles (900) is greater than the total number of samples (771). n_quantiles is set to n_samples.\n",
      "  warnings.warn(\n",
      "/home/borjaeg/anaconda3/envs/multispectral/lib/python3.10/site-packages/sklearn/compose/_target.py:190: UserWarning: The provided functions or transformer are not strictly inverse of each other. If you are sure you want to proceed regardless, set 'check_inverse=False'\n",
      "  warnings.warn(\n",
      "/home/borjaeg/anaconda3/envs/multispectral/lib/python3.10/site-packages/sklearn/preprocessing/_data.py:2663: UserWarning: n_quantiles (900) is greater than the total number of samples (171). n_quantiles is set to n_samples.\n",
      "  warnings.warn(\n",
      "/home/borjaeg/anaconda3/envs/multispectral/lib/python3.10/site-packages/sklearn/compose/_target.py:190: UserWarning: The provided functions or transformer are not strictly inverse of each other. If you are sure you want to proceed regardless, set 'check_inverse=False'\n",
      "  warnings.warn(\n",
      "/home/borjaeg/anaconda3/envs/multispectral/lib/python3.10/site-packages/sklearn/preprocessing/_data.py:2663: UserWarning: n_quantiles (900) is greater than the total number of samples (171). n_quantiles is set to n_samples.\n",
      "  warnings.warn(\n",
      "/home/borjaeg/anaconda3/envs/multispectral/lib/python3.10/site-packages/sklearn/compose/_target.py:190: UserWarning: The provided functions or transformer are not strictly inverse of each other. If you are sure you want to proceed regardless, set 'check_inverse=False'\n",
      "  warnings.warn(\n",
      "/home/borjaeg/anaconda3/envs/multispectral/lib/python3.10/site-packages/sklearn/preprocessing/_data.py:2663: UserWarning: n_quantiles (900) is greater than the total number of samples (172). n_quantiles is set to n_samples.\n",
      "  warnings.warn(\n",
      "/home/borjaeg/anaconda3/envs/multispectral/lib/python3.10/site-packages/sklearn/compose/_target.py:190: UserWarning: The provided functions or transformer are not strictly inverse of each other. If you are sure you want to proceed regardless, set 'check_inverse=False'\n",
      "  warnings.warn(\n"
     ]
    },
    {
     "name": "stdout",
     "output_type": "stream",
     "text": [
      "(Transformed Target) R2 Score: Train = 0.767; Test = 0.559\n",
      "==================================================\n",
      "CV: 3\n",
      "{'scaler': [StandardScaler(), MinMaxScaler()], 'filter__window_length': [4, 12, 24], 'filter__polyorder': [3], 'selection__k': [64, 48], 'selection__score_func': [<function mutual_info_regression at 0x7f139b130c10>, <function f_regression at 0x7f139b132830>], 'extraction': [PCA()], 'extraction__n_components': [32, 24]}\n",
      "Pipeline(steps=[('scaler', 'passthrough'),\n",
      "                ('filter', SavgolFilterTransformer()),\n",
      "                ('selection', SelectKBest()), ('extraction', 'passthrough'),\n",
      "                ('polynomial',\n",
      "                 PolynomialFeatures(degree=3, include_bias=False)),\n",
      "                ('regression', ARDRegression())])\n",
      "Fitting 3 folds for each of 48 candidates, totalling 144 fits\n",
      "Best Score: 0.755; R2 Score: Train = 0.910; Test = -0.267\n",
      "{'extraction': PCA(), 'extraction__n_components': 32, 'filter__polyorder': 3, 'filter__window_length': 12, 'scaler': MinMaxScaler(), 'selection__k': 48, 'selection__score_func': <function mutual_info_regression at 0x7f139b130c10>}\n",
      "\n"
     ]
    },
    {
     "name": "stderr",
     "output_type": "stream",
     "text": [
      "/home/borjaeg/anaconda3/envs/multispectral/lib/python3.10/site-packages/sklearn/preprocessing/_data.py:2663: UserWarning: n_quantiles (900) is greater than the total number of samples (771). n_quantiles is set to n_samples.\n",
      "  warnings.warn(\n",
      "/home/borjaeg/anaconda3/envs/multispectral/lib/python3.10/site-packages/sklearn/compose/_target.py:190: UserWarning: The provided functions or transformer are not strictly inverse of each other. If you are sure you want to proceed regardless, set 'check_inverse=False'\n",
      "  warnings.warn(\n",
      "/home/borjaeg/anaconda3/envs/multispectral/lib/python3.10/site-packages/sklearn/preprocessing/_data.py:2663: UserWarning: n_quantiles (900) is greater than the total number of samples (171). n_quantiles is set to n_samples.\n",
      "  warnings.warn(\n",
      "/home/borjaeg/anaconda3/envs/multispectral/lib/python3.10/site-packages/sklearn/preprocessing/_data.py:2663: UserWarning: n_quantiles (900) is greater than the total number of samples (171). n_quantiles is set to n_samples.\n",
      "  warnings.warn(\n",
      "/home/borjaeg/anaconda3/envs/multispectral/lib/python3.10/site-packages/sklearn/compose/_target.py:190: UserWarning: The provided functions or transformer are not strictly inverse of each other. If you are sure you want to proceed regardless, set 'check_inverse=False'\n",
      "  warnings.warn(\n",
      "/home/borjaeg/anaconda3/envs/multispectral/lib/python3.10/site-packages/sklearn/preprocessing/_data.py:2663: UserWarning: n_quantiles (900) is greater than the total number of samples (172). n_quantiles is set to n_samples.\n",
      "  warnings.warn(\n",
      "/home/borjaeg/anaconda3/envs/multispectral/lib/python3.10/site-packages/sklearn/compose/_target.py:190: UserWarning: The provided functions or transformer are not strictly inverse of each other. If you are sure you want to proceed regardless, set 'check_inverse=False'\n",
      "  warnings.warn(\n"
     ]
    },
    {
     "name": "stdout",
     "output_type": "stream",
     "text": [
      "(Transformed Target) R2 Score: Train = 0.791; Test = 0.632\n",
      "{'scaler': [StandardScaler(), MinMaxScaler()], 'filter__window_length': [4, 12, 24], 'filter__polyorder': [3], 'selection__k': [64, 48], 'selection__score_func': [<function mutual_info_regression at 0x7f139b130c10>, <function f_regression at 0x7f139b132830>], 'extraction': [PCA()], 'extraction__n_components': [32, 24]}\n",
      "Pipeline(steps=[('scaler', 'passthrough'),\n",
      "                ('filter', SavgolFilterTransformer()),\n",
      "                ('selection', SelectKBest()), ('extraction', 'passthrough'),\n",
      "                ('polynomial',\n",
      "                 PolynomialFeatures(degree=3, include_bias=False)),\n",
      "                ('regression', ARDRegression())])\n",
      "Fitting 3 folds for each of 48 candidates, totalling 144 fits\n",
      "Best Score: 0.671; R2 Score: Train = 0.824; Test = 0.632\n",
      "{'extraction': PCA(), 'extraction__n_components': 24, 'filter__polyorder': 3, 'filter__window_length': 12, 'scaler': MinMaxScaler(), 'selection__k': 48, 'selection__score_func': <function mutual_info_regression at 0x7f139b130c10>}\n",
      "\n"
     ]
    },
    {
     "name": "stderr",
     "output_type": "stream",
     "text": [
      "/home/borjaeg/anaconda3/envs/multispectral/lib/python3.10/site-packages/sklearn/preprocessing/_data.py:2663: UserWarning: n_quantiles (900) is greater than the total number of samples (771). n_quantiles is set to n_samples.\n",
      "  warnings.warn(\n",
      "/home/borjaeg/anaconda3/envs/multispectral/lib/python3.10/site-packages/sklearn/compose/_target.py:190: UserWarning: The provided functions or transformer are not strictly inverse of each other. If you are sure you want to proceed regardless, set 'check_inverse=False'\n",
      "  warnings.warn(\n",
      "/home/borjaeg/anaconda3/envs/multispectral/lib/python3.10/site-packages/sklearn/preprocessing/_data.py:2663: UserWarning: n_quantiles (900) is greater than the total number of samples (171). n_quantiles is set to n_samples.\n",
      "  warnings.warn(\n",
      "/home/borjaeg/anaconda3/envs/multispectral/lib/python3.10/site-packages/sklearn/compose/_target.py:190: UserWarning: The provided functions or transformer are not strictly inverse of each other. If you are sure you want to proceed regardless, set 'check_inverse=False'\n",
      "  warnings.warn(\n",
      "/home/borjaeg/anaconda3/envs/multispectral/lib/python3.10/site-packages/sklearn/preprocessing/_data.py:2663: UserWarning: n_quantiles (900) is greater than the total number of samples (171). n_quantiles is set to n_samples.\n",
      "  warnings.warn(\n",
      "/home/borjaeg/anaconda3/envs/multispectral/lib/python3.10/site-packages/sklearn/compose/_target.py:190: UserWarning: The provided functions or transformer are not strictly inverse of each other. If you are sure you want to proceed regardless, set 'check_inverse=False'\n",
      "  warnings.warn(\n",
      "/home/borjaeg/anaconda3/envs/multispectral/lib/python3.10/site-packages/sklearn/preprocessing/_data.py:2663: UserWarning: n_quantiles (900) is greater than the total number of samples (172). n_quantiles is set to n_samples.\n",
      "  warnings.warn(\n",
      "/home/borjaeg/anaconda3/envs/multispectral/lib/python3.10/site-packages/sklearn/compose/_target.py:190: UserWarning: The provided functions or transformer are not strictly inverse of each other. If you are sure you want to proceed regardless, set 'check_inverse=False'\n",
      "  warnings.warn(\n"
     ]
    },
    {
     "name": "stdout",
     "output_type": "stream",
     "text": [
      "(Transformed Target) R2 Score: Train = 0.825; Test = 0.612\n",
      "==================================================\n",
      "CV: 3\n",
      "{'scaler': [StandardScaler(), MinMaxScaler()], 'selection__k': [64, 48], 'selection__score_func': [<function mutual_info_regression at 0x7f139b130c10>, <function f_regression at 0x7f139b132830>], 'extraction': [PCA()], 'extraction__n_components': [32, 24]}\n",
      "Pipeline(steps=[('scaler', 'passthrough'), ('selection', SelectKBest()),\n",
      "                ('extraction', 'passthrough'),\n",
      "                ('polynomial',\n",
      "                 PolynomialFeatures(degree=1, include_bias=False)),\n",
      "                ('regression', ARDRegression())])\n",
      "Fitting 3 folds for each of 16 candidates, totalling 48 fits\n",
      "Best Score: 0.515; R2 Score: Train = 0.535; Test = 0.536\n",
      "{'extraction': PCA(), 'extraction__n_components': 32, 'scaler': MinMaxScaler(), 'selection__k': 48, 'selection__score_func': <function mutual_info_regression at 0x7f139b130c10>}\n",
      "\n"
     ]
    },
    {
     "name": "stderr",
     "output_type": "stream",
     "text": [
      "/home/borjaeg/anaconda3/envs/multispectral/lib/python3.10/site-packages/sklearn/preprocessing/_data.py:2663: UserWarning: n_quantiles (900) is greater than the total number of samples (771). n_quantiles is set to n_samples.\n",
      "  warnings.warn(\n",
      "/home/borjaeg/anaconda3/envs/multispectral/lib/python3.10/site-packages/sklearn/compose/_target.py:190: UserWarning: The provided functions or transformer are not strictly inverse of each other. If you are sure you want to proceed regardless, set 'check_inverse=False'\n",
      "  warnings.warn(\n",
      "/home/borjaeg/anaconda3/envs/multispectral/lib/python3.10/site-packages/sklearn/preprocessing/_data.py:2663: UserWarning: n_quantiles (900) is greater than the total number of samples (171). n_quantiles is set to n_samples.\n",
      "  warnings.warn(\n",
      "/home/borjaeg/anaconda3/envs/multispectral/lib/python3.10/site-packages/sklearn/preprocessing/_data.py:2663: UserWarning: n_quantiles (900) is greater than the total number of samples (171). n_quantiles is set to n_samples.\n",
      "  warnings.warn(\n",
      "/home/borjaeg/anaconda3/envs/multispectral/lib/python3.10/site-packages/sklearn/compose/_target.py:190: UserWarning: The provided functions or transformer are not strictly inverse of each other. If you are sure you want to proceed regardless, set 'check_inverse=False'\n",
      "  warnings.warn(\n",
      "/home/borjaeg/anaconda3/envs/multispectral/lib/python3.10/site-packages/sklearn/preprocessing/_data.py:2663: UserWarning: n_quantiles (900) is greater than the total number of samples (172). n_quantiles is set to n_samples.\n",
      "  warnings.warn(\n",
      "/home/borjaeg/anaconda3/envs/multispectral/lib/python3.10/site-packages/sklearn/compose/_target.py:190: UserWarning: The provided functions or transformer are not strictly inverse of each other. If you are sure you want to proceed regardless, set 'check_inverse=False'\n",
      "  warnings.warn(\n"
     ]
    },
    {
     "name": "stdout",
     "output_type": "stream",
     "text": [
      "(Transformed Target) R2 Score: Train = 0.179; Test = 0.129\n",
      "{'scaler': [StandardScaler(), MinMaxScaler()], 'selection__k': [64, 48], 'selection__score_func': [<function mutual_info_regression at 0x7f139b130c10>, <function f_regression at 0x7f139b132830>], 'extraction': [PCA()], 'extraction__n_components': [32, 24]}\n",
      "Pipeline(steps=[('scaler', 'passthrough'), ('selection', SelectKBest()),\n",
      "                ('extraction', 'passthrough'),\n",
      "                ('polynomial',\n",
      "                 PolynomialFeatures(degree=1, include_bias=False)),\n",
      "                ('regression', ARDRegression())])\n",
      "Fitting 3 folds for each of 16 candidates, totalling 48 fits\n",
      "Best Score: 0.561; R2 Score: Train = 0.608; Test = -0.538\n",
      "{'extraction': PCA(), 'extraction__n_components': 32, 'scaler': StandardScaler(), 'selection__k': 64, 'selection__score_func': <function f_regression at 0x7f139b132830>}\n",
      "\n"
     ]
    },
    {
     "name": "stderr",
     "output_type": "stream",
     "text": [
      "/home/borjaeg/anaconda3/envs/multispectral/lib/python3.10/site-packages/sklearn/preprocessing/_data.py:2663: UserWarning: n_quantiles (900) is greater than the total number of samples (771). n_quantiles is set to n_samples.\n",
      "  warnings.warn(\n",
      "/home/borjaeg/anaconda3/envs/multispectral/lib/python3.10/site-packages/sklearn/compose/_target.py:190: UserWarning: The provided functions or transformer are not strictly inverse of each other. If you are sure you want to proceed regardless, set 'check_inverse=False'\n",
      "  warnings.warn(\n",
      "/home/borjaeg/anaconda3/envs/multispectral/lib/python3.10/site-packages/sklearn/preprocessing/_data.py:2663: UserWarning: n_quantiles (900) is greater than the total number of samples (171). n_quantiles is set to n_samples.\n",
      "  warnings.warn(\n",
      "/home/borjaeg/anaconda3/envs/multispectral/lib/python3.10/site-packages/sklearn/compose/_target.py:190: UserWarning: The provided functions or transformer are not strictly inverse of each other. If you are sure you want to proceed regardless, set 'check_inverse=False'\n",
      "  warnings.warn(\n",
      "/home/borjaeg/anaconda3/envs/multispectral/lib/python3.10/site-packages/sklearn/preprocessing/_data.py:2663: UserWarning: n_quantiles (900) is greater than the total number of samples (171). n_quantiles is set to n_samples.\n",
      "  warnings.warn(\n",
      "/home/borjaeg/anaconda3/envs/multispectral/lib/python3.10/site-packages/sklearn/compose/_target.py:190: UserWarning: The provided functions or transformer are not strictly inverse of each other. If you are sure you want to proceed regardless, set 'check_inverse=False'\n",
      "  warnings.warn(\n",
      "/home/borjaeg/anaconda3/envs/multispectral/lib/python3.10/site-packages/sklearn/preprocessing/_data.py:2663: UserWarning: n_quantiles (900) is greater than the total number of samples (172). n_quantiles is set to n_samples.\n",
      "  warnings.warn(\n",
      "/home/borjaeg/anaconda3/envs/multispectral/lib/python3.10/site-packages/sklearn/compose/_target.py:190: UserWarning: The provided functions or transformer are not strictly inverse of each other. If you are sure you want to proceed regardless, set 'check_inverse=False'\n",
      "  warnings.warn(\n"
     ]
    },
    {
     "name": "stdout",
     "output_type": "stream",
     "text": [
      "(Transformed Target) R2 Score: Train = 0.598; Test = 0.393\n",
      "==================================================\n",
      "CV: 3\n",
      "{'scaler': [StandardScaler(), MinMaxScaler()], 'selection__k': [64, 48], 'selection__score_func': [<function mutual_info_regression at 0x7f139b130c10>, <function f_regression at 0x7f139b132830>], 'extraction': [PCA()], 'extraction__n_components': [32, 24]}\n",
      "Pipeline(steps=[('scaler', 'passthrough'), ('selection', SelectKBest()),\n",
      "                ('extraction', 'passthrough'),\n",
      "                ('polynomial', PolynomialFeatures(include_bias=False)),\n",
      "                ('regression', ARDRegression())])\n",
      "Fitting 3 folds for each of 16 candidates, totalling 48 fits\n",
      "Best Score: 0.721; R2 Score: Train = 0.853; Test = -31.188\n",
      "{'extraction': PCA(), 'extraction__n_components': 24, 'scaler': StandardScaler(), 'selection__k': 48, 'selection__score_func': <function mutual_info_regression at 0x7f139b130c10>}\n",
      "\n"
     ]
    },
    {
     "name": "stderr",
     "output_type": "stream",
     "text": [
      "/home/borjaeg/anaconda3/envs/multispectral/lib/python3.10/site-packages/sklearn/preprocessing/_data.py:2663: UserWarning: n_quantiles (900) is greater than the total number of samples (771). n_quantiles is set to n_samples.\n",
      "  warnings.warn(\n",
      "/home/borjaeg/anaconda3/envs/multispectral/lib/python3.10/site-packages/sklearn/compose/_target.py:190: UserWarning: The provided functions or transformer are not strictly inverse of each other. If you are sure you want to proceed regardless, set 'check_inverse=False'\n",
      "  warnings.warn(\n",
      "/home/borjaeg/anaconda3/envs/multispectral/lib/python3.10/site-packages/sklearn/preprocessing/_data.py:2663: UserWarning: n_quantiles (900) is greater than the total number of samples (171). n_quantiles is set to n_samples.\n",
      "  warnings.warn(\n",
      "/home/borjaeg/anaconda3/envs/multispectral/lib/python3.10/site-packages/sklearn/preprocessing/_data.py:2663: UserWarning: n_quantiles (900) is greater than the total number of samples (171). n_quantiles is set to n_samples.\n",
      "  warnings.warn(\n",
      "/home/borjaeg/anaconda3/envs/multispectral/lib/python3.10/site-packages/sklearn/compose/_target.py:190: UserWarning: The provided functions or transformer are not strictly inverse of each other. If you are sure you want to proceed regardless, set 'check_inverse=False'\n",
      "  warnings.warn(\n",
      "/home/borjaeg/anaconda3/envs/multispectral/lib/python3.10/site-packages/sklearn/preprocessing/_data.py:2663: UserWarning: n_quantiles (900) is greater than the total number of samples (172). n_quantiles is set to n_samples.\n",
      "  warnings.warn(\n",
      "/home/borjaeg/anaconda3/envs/multispectral/lib/python3.10/site-packages/sklearn/compose/_target.py:190: UserWarning: The provided functions or transformer are not strictly inverse of each other. If you are sure you want to proceed regardless, set 'check_inverse=False'\n",
      "  warnings.warn(\n"
     ]
    },
    {
     "name": "stdout",
     "output_type": "stream",
     "text": [
      "(Transformed Target) R2 Score: Train = 0.743; Test = 0.715\n",
      "{'scaler': [StandardScaler(), MinMaxScaler()], 'selection__k': [64, 48], 'selection__score_func': [<function mutual_info_regression at 0x7f139b130c10>, <function f_regression at 0x7f139b132830>], 'extraction': [PCA()], 'extraction__n_components': [32, 24]}\n",
      "Pipeline(steps=[('scaler', 'passthrough'), ('selection', SelectKBest()),\n",
      "                ('extraction', 'passthrough'),\n",
      "                ('polynomial', PolynomialFeatures(include_bias=False)),\n",
      "                ('regression', ARDRegression())])\n",
      "Fitting 3 folds for each of 16 candidates, totalling 48 fits\n",
      "Best Score: 0.654; R2 Score: Train = 0.771; Test = -0.394\n",
      "{'extraction': PCA(), 'extraction__n_components': 24, 'scaler': MinMaxScaler(), 'selection__k': 48, 'selection__score_func': <function mutual_info_regression at 0x7f139b130c10>}\n",
      "\n"
     ]
    },
    {
     "name": "stderr",
     "output_type": "stream",
     "text": [
      "/home/borjaeg/anaconda3/envs/multispectral/lib/python3.10/site-packages/sklearn/preprocessing/_data.py:2663: UserWarning: n_quantiles (900) is greater than the total number of samples (771). n_quantiles is set to n_samples.\n",
      "  warnings.warn(\n",
      "/home/borjaeg/anaconda3/envs/multispectral/lib/python3.10/site-packages/sklearn/compose/_target.py:190: UserWarning: The provided functions or transformer are not strictly inverse of each other. If you are sure you want to proceed regardless, set 'check_inverse=False'\n",
      "  warnings.warn(\n",
      "/home/borjaeg/anaconda3/envs/multispectral/lib/python3.10/site-packages/sklearn/preprocessing/_data.py:2663: UserWarning: n_quantiles (900) is greater than the total number of samples (171). n_quantiles is set to n_samples.\n",
      "  warnings.warn(\n",
      "/home/borjaeg/anaconda3/envs/multispectral/lib/python3.10/site-packages/sklearn/compose/_target.py:190: UserWarning: The provided functions or transformer are not strictly inverse of each other. If you are sure you want to proceed regardless, set 'check_inverse=False'\n",
      "  warnings.warn(\n",
      "/home/borjaeg/anaconda3/envs/multispectral/lib/python3.10/site-packages/sklearn/preprocessing/_data.py:2663: UserWarning: n_quantiles (900) is greater than the total number of samples (171). n_quantiles is set to n_samples.\n",
      "  warnings.warn(\n",
      "/home/borjaeg/anaconda3/envs/multispectral/lib/python3.10/site-packages/sklearn/compose/_target.py:190: UserWarning: The provided functions or transformer are not strictly inverse of each other. If you are sure you want to proceed regardless, set 'check_inverse=False'\n",
      "  warnings.warn(\n",
      "/home/borjaeg/anaconda3/envs/multispectral/lib/python3.10/site-packages/sklearn/preprocessing/_data.py:2663: UserWarning: n_quantiles (900) is greater than the total number of samples (172). n_quantiles is set to n_samples.\n",
      "  warnings.warn(\n",
      "/home/borjaeg/anaconda3/envs/multispectral/lib/python3.10/site-packages/sklearn/compose/_target.py:190: UserWarning: The provided functions or transformer are not strictly inverse of each other. If you are sure you want to proceed regardless, set 'check_inverse=False'\n",
      "  warnings.warn(\n"
     ]
    },
    {
     "name": "stdout",
     "output_type": "stream",
     "text": [
      "(Transformed Target) R2 Score: Train = 0.765; Test = 0.540\n",
      "==================================================\n",
      "CV: 3\n",
      "{'scaler': [StandardScaler(), MinMaxScaler()], 'selection__k': [64, 48], 'selection__score_func': [<function mutual_info_regression at 0x7f139b130c10>, <function f_regression at 0x7f139b132830>], 'extraction': [PCA()], 'extraction__n_components': [32, 24]}\n",
      "Pipeline(steps=[('scaler', 'passthrough'), ('selection', SelectKBest()),\n",
      "                ('extraction', 'passthrough'),\n",
      "                ('polynomial',\n",
      "                 PolynomialFeatures(degree=3, include_bias=False)),\n",
      "                ('regression', ARDRegression())])\n",
      "Fitting 3 folds for each of 16 candidates, totalling 48 fits\n",
      "Best Score: 0.624; R2 Score: Train = 0.915; Test = -14.019\n",
      "{'extraction': PCA(), 'extraction__n_components': 24, 'scaler': MinMaxScaler(), 'selection__k': 48, 'selection__score_func': <function mutual_info_regression at 0x7f139b130c10>}\n",
      "\n"
     ]
    },
    {
     "name": "stderr",
     "output_type": "stream",
     "text": [
      "/home/borjaeg/anaconda3/envs/multispectral/lib/python3.10/site-packages/sklearn/preprocessing/_data.py:2663: UserWarning: n_quantiles (900) is greater than the total number of samples (771). n_quantiles is set to n_samples.\n",
      "  warnings.warn(\n",
      "/home/borjaeg/anaconda3/envs/multispectral/lib/python3.10/site-packages/sklearn/compose/_target.py:190: UserWarning: The provided functions or transformer are not strictly inverse of each other. If you are sure you want to proceed regardless, set 'check_inverse=False'\n",
      "  warnings.warn(\n",
      "/home/borjaeg/anaconda3/envs/multispectral/lib/python3.10/site-packages/sklearn/preprocessing/_data.py:2663: UserWarning: n_quantiles (900) is greater than the total number of samples (171). n_quantiles is set to n_samples.\n",
      "  warnings.warn(\n",
      "/home/borjaeg/anaconda3/envs/multispectral/lib/python3.10/site-packages/sklearn/preprocessing/_data.py:2663: UserWarning: n_quantiles (900) is greater than the total number of samples (171). n_quantiles is set to n_samples.\n",
      "  warnings.warn(\n",
      "/home/borjaeg/anaconda3/envs/multispectral/lib/python3.10/site-packages/sklearn/compose/_target.py:190: UserWarning: The provided functions or transformer are not strictly inverse of each other. If you are sure you want to proceed regardless, set 'check_inverse=False'\n",
      "  warnings.warn(\n",
      "/home/borjaeg/anaconda3/envs/multispectral/lib/python3.10/site-packages/sklearn/preprocessing/_data.py:2663: UserWarning: n_quantiles (900) is greater than the total number of samples (172). n_quantiles is set to n_samples.\n",
      "  warnings.warn(\n",
      "/home/borjaeg/anaconda3/envs/multispectral/lib/python3.10/site-packages/sklearn/compose/_target.py:190: UserWarning: The provided functions or transformer are not strictly inverse of each other. If you are sure you want to proceed regardless, set 'check_inverse=False'\n",
      "  warnings.warn(\n"
     ]
    },
    {
     "name": "stdout",
     "output_type": "stream",
     "text": [
      "(Transformed Target) R2 Score: Train = 0.797; Test = 0.579\n",
      "{'scaler': [StandardScaler(), MinMaxScaler()], 'selection__k': [64, 48], 'selection__score_func': [<function mutual_info_regression at 0x7f139b130c10>, <function f_regression at 0x7f139b132830>], 'extraction': [PCA()], 'extraction__n_components': [32, 24]}\n",
      "Pipeline(steps=[('scaler', 'passthrough'), ('selection', SelectKBest()),\n",
      "                ('extraction', 'passthrough'),\n",
      "                ('polynomial',\n",
      "                 PolynomialFeatures(degree=3, include_bias=False)),\n",
      "                ('regression', ARDRegression())])\n",
      "Fitting 3 folds for each of 16 candidates, totalling 48 fits\n",
      "Best Score: 0.631; R2 Score: Train = 0.831; Test = -0.208\n",
      "{'extraction': PCA(), 'extraction__n_components': 24, 'scaler': MinMaxScaler(), 'selection__k': 48, 'selection__score_func': <function mutual_info_regression at 0x7f139b130c10>}\n",
      "\n"
     ]
    },
    {
     "name": "stderr",
     "output_type": "stream",
     "text": [
      "/home/borjaeg/anaconda3/envs/multispectral/lib/python3.10/site-packages/sklearn/preprocessing/_data.py:2663: UserWarning: n_quantiles (900) is greater than the total number of samples (771). n_quantiles is set to n_samples.\n",
      "  warnings.warn(\n",
      "/home/borjaeg/anaconda3/envs/multispectral/lib/python3.10/site-packages/sklearn/compose/_target.py:190: UserWarning: The provided functions or transformer are not strictly inverse of each other. If you are sure you want to proceed regardless, set 'check_inverse=False'\n",
      "  warnings.warn(\n",
      "/home/borjaeg/anaconda3/envs/multispectral/lib/python3.10/site-packages/sklearn/preprocessing/_data.py:2663: UserWarning: n_quantiles (900) is greater than the total number of samples (171). n_quantiles is set to n_samples.\n",
      "  warnings.warn(\n",
      "/home/borjaeg/anaconda3/envs/multispectral/lib/python3.10/site-packages/sklearn/compose/_target.py:190: UserWarning: The provided functions or transformer are not strictly inverse of each other. If you are sure you want to proceed regardless, set 'check_inverse=False'\n",
      "  warnings.warn(\n",
      "/home/borjaeg/anaconda3/envs/multispectral/lib/python3.10/site-packages/sklearn/preprocessing/_data.py:2663: UserWarning: n_quantiles (900) is greater than the total number of samples (171). n_quantiles is set to n_samples.\n",
      "  warnings.warn(\n",
      "/home/borjaeg/anaconda3/envs/multispectral/lib/python3.10/site-packages/sklearn/compose/_target.py:190: UserWarning: The provided functions or transformer are not strictly inverse of each other. If you are sure you want to proceed regardless, set 'check_inverse=False'\n",
      "  warnings.warn(\n",
      "/home/borjaeg/anaconda3/envs/multispectral/lib/python3.10/site-packages/sklearn/preprocessing/_data.py:2663: UserWarning: n_quantiles (900) is greater than the total number of samples (172). n_quantiles is set to n_samples.\n",
      "  warnings.warn(\n",
      "/home/borjaeg/anaconda3/envs/multispectral/lib/python3.10/site-packages/sklearn/compose/_target.py:190: UserWarning: The provided functions or transformer are not strictly inverse of each other. If you are sure you want to proceed regardless, set 'check_inverse=False'\n",
      "  warnings.warn(\n"
     ]
    },
    {
     "name": "stdout",
     "output_type": "stream",
     "text": [
      "(Transformed Target) R2 Score: Train = 0.829; Test = 0.478\n",
      "==================================================\n",
      "CV: 3\n",
      "{'scaler': [StandardScaler(), MinMaxScaler()], 'filter__window_length': [4, 12, 24], 'filter__polyorder': [3], 'selection__k': [64, 48], 'selection__score_func': [<function mutual_info_regression at 0x7f139b130c10>, <function f_regression at 0x7f139b132830>], 'extraction': [PCA()], 'extraction__n_components': [32, 24]}\n",
      "Pipeline(steps=[('scaler', 'passthrough'),\n",
      "                ('filter', SavgolFilterTransformer()),\n",
      "                ('selection', SelectKBest()), ('extraction', 'passthrough'),\n",
      "                ('polynomial',\n",
      "                 PolynomialFeatures(degree=1, include_bias=False)),\n",
      "                ('regression', TheilSenRegressor())])\n",
      "Fitting 3 folds for each of 48 candidates, totalling 144 fits\n",
      "Best Score: 0.435; R2 Score: Train = 0.444; Test = -0.168\n",
      "{'extraction': PCA(), 'extraction__n_components': 32, 'filter__polyorder': 3, 'filter__window_length': 4, 'scaler': MinMaxScaler(), 'selection__k': 48, 'selection__score_func': <function mutual_info_regression at 0x7f139b130c10>}\n",
      "\n"
     ]
    },
    {
     "name": "stderr",
     "output_type": "stream",
     "text": [
      "/home/borjaeg/anaconda3/envs/multispectral/lib/python3.10/site-packages/sklearn/preprocessing/_data.py:2663: UserWarning: n_quantiles (900) is greater than the total number of samples (771). n_quantiles is set to n_samples.\n",
      "  warnings.warn(\n",
      "/home/borjaeg/anaconda3/envs/multispectral/lib/python3.10/site-packages/sklearn/compose/_target.py:190: UserWarning: The provided functions or transformer are not strictly inverse of each other. If you are sure you want to proceed regardless, set 'check_inverse=False'\n",
      "  warnings.warn(\n",
      "/home/borjaeg/anaconda3/envs/multispectral/lib/python3.10/site-packages/sklearn/preprocessing/_data.py:2663: UserWarning: n_quantiles (900) is greater than the total number of samples (171). n_quantiles is set to n_samples.\n",
      "  warnings.warn(\n",
      "/home/borjaeg/anaconda3/envs/multispectral/lib/python3.10/site-packages/sklearn/preprocessing/_data.py:2663: UserWarning: n_quantiles (900) is greater than the total number of samples (171). n_quantiles is set to n_samples.\n",
      "  warnings.warn(\n",
      "/home/borjaeg/anaconda3/envs/multispectral/lib/python3.10/site-packages/sklearn/compose/_target.py:190: UserWarning: The provided functions or transformer are not strictly inverse of each other. If you are sure you want to proceed regardless, set 'check_inverse=False'\n",
      "  warnings.warn(\n",
      "/home/borjaeg/anaconda3/envs/multispectral/lib/python3.10/site-packages/sklearn/preprocessing/_data.py:2663: UserWarning: n_quantiles (900) is greater than the total number of samples (172). n_quantiles is set to n_samples.\n",
      "  warnings.warn(\n",
      "/home/borjaeg/anaconda3/envs/multispectral/lib/python3.10/site-packages/sklearn/compose/_target.py:190: UserWarning: The provided functions or transformer are not strictly inverse of each other. If you are sure you want to proceed regardless, set 'check_inverse=False'\n",
      "  warnings.warn(\n"
     ]
    },
    {
     "name": "stdout",
     "output_type": "stream",
     "text": [
      "(Transformed Target) R2 Score: Train = 0.276; Test = 0.239\n",
      "{'scaler': [StandardScaler(), MinMaxScaler()], 'filter__window_length': [4, 12, 24], 'filter__polyorder': [3], 'selection__k': [64, 48], 'selection__score_func': [<function mutual_info_regression at 0x7f139b130c10>, <function f_regression at 0x7f139b132830>], 'extraction': [PCA()], 'extraction__n_components': [32, 24]}\n",
      "Pipeline(steps=[('scaler', 'passthrough'),\n",
      "                ('filter', SavgolFilterTransformer()),\n",
      "                ('selection', SelectKBest()), ('extraction', 'passthrough'),\n",
      "                ('polynomial',\n",
      "                 PolynomialFeatures(degree=1, include_bias=False)),\n",
      "                ('regression', TheilSenRegressor())])\n",
      "Fitting 3 folds for each of 48 candidates, totalling 144 fits\n",
      "Best Score: 0.492; R2 Score: Train = 0.528; Test = -1.021\n",
      "{'extraction': PCA(), 'extraction__n_components': 32, 'filter__polyorder': 3, 'filter__window_length': 4, 'scaler': MinMaxScaler(), 'selection__k': 64, 'selection__score_func': <function f_regression at 0x7f139b132830>}\n",
      "\n"
     ]
    },
    {
     "name": "stderr",
     "output_type": "stream",
     "text": [
      "/home/borjaeg/anaconda3/envs/multispectral/lib/python3.10/site-packages/sklearn/preprocessing/_data.py:2663: UserWarning: n_quantiles (900) is greater than the total number of samples (771). n_quantiles is set to n_samples.\n",
      "  warnings.warn(\n",
      "/home/borjaeg/anaconda3/envs/multispectral/lib/python3.10/site-packages/sklearn/compose/_target.py:190: UserWarning: The provided functions or transformer are not strictly inverse of each other. If you are sure you want to proceed regardless, set 'check_inverse=False'\n",
      "  warnings.warn(\n",
      "/home/borjaeg/anaconda3/envs/multispectral/lib/python3.10/site-packages/sklearn/preprocessing/_data.py:2663: UserWarning: n_quantiles (900) is greater than the total number of samples (171). n_quantiles is set to n_samples.\n",
      "  warnings.warn(\n",
      "/home/borjaeg/anaconda3/envs/multispectral/lib/python3.10/site-packages/sklearn/compose/_target.py:190: UserWarning: The provided functions or transformer are not strictly inverse of each other. If you are sure you want to proceed regardless, set 'check_inverse=False'\n",
      "  warnings.warn(\n",
      "/home/borjaeg/anaconda3/envs/multispectral/lib/python3.10/site-packages/sklearn/preprocessing/_data.py:2663: UserWarning: n_quantiles (900) is greater than the total number of samples (171). n_quantiles is set to n_samples.\n",
      "  warnings.warn(\n",
      "/home/borjaeg/anaconda3/envs/multispectral/lib/python3.10/site-packages/sklearn/compose/_target.py:190: UserWarning: The provided functions or transformer are not strictly inverse of each other. If you are sure you want to proceed regardless, set 'check_inverse=False'\n",
      "  warnings.warn(\n",
      "/home/borjaeg/anaconda3/envs/multispectral/lib/python3.10/site-packages/sklearn/preprocessing/_data.py:2663: UserWarning: n_quantiles (900) is greater than the total number of samples (172). n_quantiles is set to n_samples.\n",
      "  warnings.warn(\n",
      "/home/borjaeg/anaconda3/envs/multispectral/lib/python3.10/site-packages/sklearn/compose/_target.py:190: UserWarning: The provided functions or transformer are not strictly inverse of each other. If you are sure you want to proceed regardless, set 'check_inverse=False'\n",
      "  warnings.warn(\n"
     ]
    },
    {
     "name": "stdout",
     "output_type": "stream",
     "text": [
      "(Transformed Target) R2 Score: Train = 0.550; Test = 0.338\n",
      "==================================================\n",
      "CV: 3\n",
      "{'scaler': [StandardScaler(), MinMaxScaler()], 'filter__window_length': [4, 12, 24], 'filter__polyorder': [3], 'selection__k': [64, 48], 'selection__score_func': [<function mutual_info_regression at 0x7f139b130c10>, <function f_regression at 0x7f139b132830>], 'extraction': [PCA()], 'extraction__n_components': [32, 24]}\n",
      "Pipeline(steps=[('scaler', 'passthrough'),\n",
      "                ('filter', SavgolFilterTransformer()),\n",
      "                ('selection', SelectKBest()), ('extraction', 'passthrough'),\n",
      "                ('polynomial', PolynomialFeatures(include_bias=False)),\n",
      "                ('regression', TheilSenRegressor())])\n",
      "Fitting 3 folds for each of 48 candidates, totalling 144 fits\n",
      "Best Score: -0.800; R2 Score: Train = 0.566; Test = 0.390\n",
      "{'extraction': PCA(), 'extraction__n_components': 24, 'filter__polyorder': 3, 'filter__window_length': 4, 'scaler': StandardScaler(), 'selection__k': 48, 'selection__score_func': <function f_regression at 0x7f139b132830>}\n",
      "\n"
     ]
    },
    {
     "name": "stderr",
     "output_type": "stream",
     "text": [
      "/home/borjaeg/anaconda3/envs/multispectral/lib/python3.10/site-packages/sklearn/preprocessing/_data.py:2663: UserWarning: n_quantiles (900) is greater than the total number of samples (771). n_quantiles is set to n_samples.\n",
      "  warnings.warn(\n",
      "/home/borjaeg/anaconda3/envs/multispectral/lib/python3.10/site-packages/sklearn/compose/_target.py:190: UserWarning: The provided functions or transformer are not strictly inverse of each other. If you are sure you want to proceed regardless, set 'check_inverse=False'\n",
      "  warnings.warn(\n",
      "/home/borjaeg/anaconda3/envs/multispectral/lib/python3.10/site-packages/sklearn/preprocessing/_data.py:2663: UserWarning: n_quantiles (900) is greater than the total number of samples (171). n_quantiles is set to n_samples.\n",
      "  warnings.warn(\n",
      "/home/borjaeg/anaconda3/envs/multispectral/lib/python3.10/site-packages/sklearn/preprocessing/_data.py:2663: UserWarning: n_quantiles (900) is greater than the total number of samples (171). n_quantiles is set to n_samples.\n",
      "  warnings.warn(\n",
      "/home/borjaeg/anaconda3/envs/multispectral/lib/python3.10/site-packages/sklearn/compose/_target.py:190: UserWarning: The provided functions or transformer are not strictly inverse of each other. If you are sure you want to proceed regardless, set 'check_inverse=False'\n",
      "  warnings.warn(\n"
     ]
    },
    {
     "name": "stdout",
     "output_type": "stream",
     "text": [
      "(Transformed Target) R2 Score: Train = 0.299; Test = -0.613\n",
      "{'scaler': [StandardScaler(), MinMaxScaler()], 'filter__window_length': [4, 12, 24], 'filter__polyorder': [3], 'selection__k': [64, 48], 'selection__score_func': [<function mutual_info_regression at 0x7f139b130c10>, <function f_regression at 0x7f139b132830>], 'extraction': [PCA()], 'extraction__n_components': [32, 24]}\n",
      "Pipeline(steps=[('scaler', 'passthrough'),\n",
      "                ('filter', SavgolFilterTransformer()),\n",
      "                ('selection', SelectKBest()), ('extraction', 'passthrough'),\n",
      "                ('polynomial', PolynomialFeatures(include_bias=False)),\n",
      "                ('regression', TheilSenRegressor())])\n",
      "Fitting 3 folds for each of 48 candidates, totalling 144 fits\n"
     ]
    },
    {
     "name": "stderr",
     "output_type": "stream",
     "text": [
      "/home/borjaeg/anaconda3/envs/multispectral/lib/python3.10/site-packages/sklearn/preprocessing/_data.py:2663: UserWarning: n_quantiles (900) is greater than the total number of samples (172). n_quantiles is set to n_samples.\n",
      "  warnings.warn(\n",
      "/home/borjaeg/anaconda3/envs/multispectral/lib/python3.10/site-packages/sklearn/compose/_target.py:190: UserWarning: The provided functions or transformer are not strictly inverse of each other. If you are sure you want to proceed regardless, set 'check_inverse=False'\n",
      "  warnings.warn(\n"
     ]
    },
    {
     "name": "stdout",
     "output_type": "stream",
     "text": [
      "Best Score: -1.925; R2 Score: Train = 0.623; Test = -547.696\n",
      "{'extraction': PCA(), 'extraction__n_components': 24, 'filter__polyorder': 3, 'filter__window_length': 4, 'scaler': StandardScaler(), 'selection__k': 48, 'selection__score_func': <function f_regression at 0x7f139b132830>}\n",
      "\n"
     ]
    },
    {
     "name": "stderr",
     "output_type": "stream",
     "text": [
      "/home/borjaeg/anaconda3/envs/multispectral/lib/python3.10/site-packages/sklearn/preprocessing/_data.py:2663: UserWarning: n_quantiles (900) is greater than the total number of samples (771). n_quantiles is set to n_samples.\n",
      "  warnings.warn(\n",
      "/home/borjaeg/anaconda3/envs/multispectral/lib/python3.10/site-packages/sklearn/compose/_target.py:190: UserWarning: The provided functions or transformer are not strictly inverse of each other. If you are sure you want to proceed regardless, set 'check_inverse=False'\n",
      "  warnings.warn(\n",
      "/home/borjaeg/anaconda3/envs/multispectral/lib/python3.10/site-packages/sklearn/preprocessing/_data.py:2663: UserWarning: n_quantiles (900) is greater than the total number of samples (171). n_quantiles is set to n_samples.\n",
      "  warnings.warn(\n",
      "/home/borjaeg/anaconda3/envs/multispectral/lib/python3.10/site-packages/sklearn/compose/_target.py:190: UserWarning: The provided functions or transformer are not strictly inverse of each other. If you are sure you want to proceed regardless, set 'check_inverse=False'\n",
      "  warnings.warn(\n",
      "/home/borjaeg/anaconda3/envs/multispectral/lib/python3.10/site-packages/sklearn/preprocessing/_data.py:2663: UserWarning: n_quantiles (900) is greater than the total number of samples (171). n_quantiles is set to n_samples.\n",
      "  warnings.warn(\n",
      "/home/borjaeg/anaconda3/envs/multispectral/lib/python3.10/site-packages/sklearn/compose/_target.py:190: UserWarning: The provided functions or transformer are not strictly inverse of each other. If you are sure you want to proceed regardless, set 'check_inverse=False'\n",
      "  warnings.warn(\n"
     ]
    },
    {
     "name": "stdout",
     "output_type": "stream",
     "text": [
      "(Transformed Target) R2 Score: Train = 0.587; Test = -0.255\n",
      "==================================================\n",
      "CV: 3\n",
      "{'scaler': [StandardScaler(), MinMaxScaler()], 'filter__window_length': [4, 12, 24], 'filter__polyorder': [3], 'selection__k': [64, 48], 'selection__score_func': [<function mutual_info_regression at 0x7f139b130c10>, <function f_regression at 0x7f139b132830>], 'extraction': [PCA()], 'extraction__n_components': [32, 24]}\n",
      "Pipeline(steps=[('scaler', 'passthrough'),\n",
      "                ('filter', SavgolFilterTransformer()),\n",
      "                ('selection', SelectKBest()), ('extraction', 'passthrough'),\n",
      "                ('polynomial',\n",
      "                 PolynomialFeatures(degree=3, include_bias=False)),\n",
      "                ('regression', TheilSenRegressor())])\n",
      "Fitting 3 folds for each of 48 candidates, totalling 144 fits\n"
     ]
    },
    {
     "name": "stderr",
     "output_type": "stream",
     "text": [
      "/home/borjaeg/anaconda3/envs/multispectral/lib/python3.10/site-packages/sklearn/preprocessing/_data.py:2663: UserWarning: n_quantiles (900) is greater than the total number of samples (172). n_quantiles is set to n_samples.\n",
      "  warnings.warn(\n",
      "/home/borjaeg/anaconda3/envs/multispectral/lib/python3.10/site-packages/sklearn/compose/_target.py:190: UserWarning: The provided functions or transformer are not strictly inverse of each other. If you are sure you want to proceed regardless, set 'check_inverse=False'\n",
      "  warnings.warn(\n"
     ]
    },
    {
     "name": "stdout",
     "output_type": "stream",
     "text": [
      "Best Score: -0.816; R2 Score: Train = 1.000; Test = -0.204\n",
      "{'extraction': PCA(), 'extraction__n_components': 32, 'filter__polyorder': 3, 'filter__window_length': 4, 'scaler': MinMaxScaler(), 'selection__k': 48, 'selection__score_func': <function f_regression at 0x7f139b132830>}\n",
      "\n"
     ]
    },
    {
     "name": "stderr",
     "output_type": "stream",
     "text": [
      "/home/borjaeg/anaconda3/envs/multispectral/lib/python3.10/site-packages/sklearn/preprocessing/_data.py:2663: UserWarning: n_quantiles (900) is greater than the total number of samples (771). n_quantiles is set to n_samples.\n",
      "  warnings.warn(\n",
      "/home/borjaeg/anaconda3/envs/multispectral/lib/python3.10/site-packages/sklearn/compose/_target.py:190: UserWarning: The provided functions or transformer are not strictly inverse of each other. If you are sure you want to proceed regardless, set 'check_inverse=False'\n",
      "  warnings.warn(\n",
      "/home/borjaeg/anaconda3/envs/multispectral/lib/python3.10/site-packages/sklearn/preprocessing/_data.py:2663: UserWarning: n_quantiles (900) is greater than the total number of samples (171). n_quantiles is set to n_samples.\n",
      "  warnings.warn(\n",
      "/home/borjaeg/anaconda3/envs/multispectral/lib/python3.10/site-packages/sklearn/preprocessing/_data.py:2663: UserWarning: n_quantiles (900) is greater than the total number of samples (171). n_quantiles is set to n_samples.\n",
      "  warnings.warn(\n",
      "/home/borjaeg/anaconda3/envs/multispectral/lib/python3.10/site-packages/sklearn/compose/_target.py:190: UserWarning: The provided functions or transformer are not strictly inverse of each other. If you are sure you want to proceed regardless, set 'check_inverse=False'\n",
      "  warnings.warn(\n",
      "/home/borjaeg/anaconda3/envs/multispectral/lib/python3.10/site-packages/sklearn/preprocessing/_data.py:2663: UserWarning: n_quantiles (900) is greater than the total number of samples (172). n_quantiles is set to n_samples.\n",
      "  warnings.warn(\n",
      "/home/borjaeg/anaconda3/envs/multispectral/lib/python3.10/site-packages/sklearn/compose/_target.py:190: UserWarning: The provided functions or transformer are not strictly inverse of each other. If you are sure you want to proceed regardless, set 'check_inverse=False'\n",
      "  warnings.warn(\n"
     ]
    },
    {
     "name": "stdout",
     "output_type": "stream",
     "text": [
      "(Transformed Target) R2 Score: Train = 1.000; Test = -2.188\n",
      "{'scaler': [StandardScaler(), MinMaxScaler()], 'filter__window_length': [4, 12, 24], 'filter__polyorder': [3], 'selection__k': [64, 48], 'selection__score_func': [<function mutual_info_regression at 0x7f139b130c10>, <function f_regression at 0x7f139b132830>], 'extraction': [PCA()], 'extraction__n_components': [32, 24]}\n",
      "Pipeline(steps=[('scaler', 'passthrough'),\n",
      "                ('filter', SavgolFilterTransformer()),\n",
      "                ('selection', SelectKBest()), ('extraction', 'passthrough'),\n",
      "                ('polynomial',\n",
      "                 PolynomialFeatures(degree=3, include_bias=False)),\n",
      "                ('regression', TheilSenRegressor())])\n",
      "Fitting 3 folds for each of 48 candidates, totalling 144 fits\n",
      "Best Score: -8.614; R2 Score: Train = 0.999; Test = -62.989\n",
      "{'extraction': PCA(), 'extraction__n_components': 32, 'filter__polyorder': 3, 'filter__window_length': 4, 'scaler': MinMaxScaler(), 'selection__k': 64, 'selection__score_func': <function f_regression at 0x7f139b132830>}\n",
      "\n"
     ]
    },
    {
     "name": "stderr",
     "output_type": "stream",
     "text": [
      "/home/borjaeg/anaconda3/envs/multispectral/lib/python3.10/site-packages/sklearn/preprocessing/_data.py:2663: UserWarning: n_quantiles (900) is greater than the total number of samples (771). n_quantiles is set to n_samples.\n",
      "  warnings.warn(\n",
      "/home/borjaeg/anaconda3/envs/multispectral/lib/python3.10/site-packages/sklearn/compose/_target.py:190: UserWarning: The provided functions or transformer are not strictly inverse of each other. If you are sure you want to proceed regardless, set 'check_inverse=False'\n",
      "  warnings.warn(\n",
      "/home/borjaeg/anaconda3/envs/multispectral/lib/python3.10/site-packages/sklearn/preprocessing/_data.py:2663: UserWarning: n_quantiles (900) is greater than the total number of samples (171). n_quantiles is set to n_samples.\n",
      "  warnings.warn(\n",
      "/home/borjaeg/anaconda3/envs/multispectral/lib/python3.10/site-packages/sklearn/compose/_target.py:190: UserWarning: The provided functions or transformer are not strictly inverse of each other. If you are sure you want to proceed regardless, set 'check_inverse=False'\n",
      "  warnings.warn(\n",
      "/home/borjaeg/anaconda3/envs/multispectral/lib/python3.10/site-packages/sklearn/preprocessing/_data.py:2663: UserWarning: n_quantiles (900) is greater than the total number of samples (171). n_quantiles is set to n_samples.\n",
      "  warnings.warn(\n",
      "/home/borjaeg/anaconda3/envs/multispectral/lib/python3.10/site-packages/sklearn/compose/_target.py:190: UserWarning: The provided functions or transformer are not strictly inverse of each other. If you are sure you want to proceed regardless, set 'check_inverse=False'\n",
      "  warnings.warn(\n",
      "/home/borjaeg/anaconda3/envs/multispectral/lib/python3.10/site-packages/sklearn/preprocessing/_data.py:2663: UserWarning: n_quantiles (900) is greater than the total number of samples (172). n_quantiles is set to n_samples.\n",
      "  warnings.warn(\n",
      "/home/borjaeg/anaconda3/envs/multispectral/lib/python3.10/site-packages/sklearn/compose/_target.py:190: UserWarning: The provided functions or transformer are not strictly inverse of each other. If you are sure you want to proceed regardless, set 'check_inverse=False'\n",
      "  warnings.warn(\n"
     ]
    },
    {
     "name": "stdout",
     "output_type": "stream",
     "text": [
      "(Transformed Target) R2 Score: Train = 0.999; Test = -2.476\n",
      "==================================================\n",
      "CV: 3\n",
      "{'scaler': [StandardScaler(), MinMaxScaler()], 'selection__k': [64, 48], 'selection__score_func': [<function mutual_info_regression at 0x7f139b130c10>, <function f_regression at 0x7f139b132830>], 'extraction': [PCA()], 'extraction__n_components': [32, 24]}\n",
      "Pipeline(steps=[('scaler', 'passthrough'), ('selection', SelectKBest()),\n",
      "                ('extraction', 'passthrough'),\n",
      "                ('polynomial',\n",
      "                 PolynomialFeatures(degree=1, include_bias=False)),\n",
      "                ('regression', TheilSenRegressor())])\n",
      "Fitting 3 folds for each of 16 candidates, totalling 48 fits\n",
      "Best Score: 0.448; R2 Score: Train = 0.487; Test = 0.379\n",
      "{'extraction': PCA(), 'extraction__n_components': 32, 'scaler': MinMaxScaler(), 'selection__k': 48, 'selection__score_func': <function mutual_info_regression at 0x7f139b130c10>}\n",
      "\n"
     ]
    },
    {
     "name": "stderr",
     "output_type": "stream",
     "text": [
      "/home/borjaeg/anaconda3/envs/multispectral/lib/python3.10/site-packages/sklearn/preprocessing/_data.py:2663: UserWarning: n_quantiles (900) is greater than the total number of samples (771). n_quantiles is set to n_samples.\n",
      "  warnings.warn(\n",
      "/home/borjaeg/anaconda3/envs/multispectral/lib/python3.10/site-packages/sklearn/compose/_target.py:190: UserWarning: The provided functions or transformer are not strictly inverse of each other. If you are sure you want to proceed regardless, set 'check_inverse=False'\n",
      "  warnings.warn(\n",
      "/home/borjaeg/anaconda3/envs/multispectral/lib/python3.10/site-packages/sklearn/preprocessing/_data.py:2663: UserWarning: n_quantiles (900) is greater than the total number of samples (171). n_quantiles is set to n_samples.\n",
      "  warnings.warn(\n",
      "/home/borjaeg/anaconda3/envs/multispectral/lib/python3.10/site-packages/sklearn/preprocessing/_data.py:2663: UserWarning: n_quantiles (900) is greater than the total number of samples (171). n_quantiles is set to n_samples.\n",
      "  warnings.warn(\n",
      "/home/borjaeg/anaconda3/envs/multispectral/lib/python3.10/site-packages/sklearn/compose/_target.py:190: UserWarning: The provided functions or transformer are not strictly inverse of each other. If you are sure you want to proceed regardless, set 'check_inverse=False'\n",
      "  warnings.warn(\n",
      "/home/borjaeg/anaconda3/envs/multispectral/lib/python3.10/site-packages/sklearn/preprocessing/_data.py:2663: UserWarning: n_quantiles (900) is greater than the total number of samples (172). n_quantiles is set to n_samples.\n",
      "  warnings.warn(\n",
      "/home/borjaeg/anaconda3/envs/multispectral/lib/python3.10/site-packages/sklearn/compose/_target.py:190: UserWarning: The provided functions or transformer are not strictly inverse of each other. If you are sure you want to proceed regardless, set 'check_inverse=False'\n",
      "  warnings.warn(\n"
     ]
    },
    {
     "name": "stdout",
     "output_type": "stream",
     "text": [
      "(Transformed Target) R2 Score: Train = 0.198; Test = 0.061\n",
      "{'scaler': [StandardScaler(), MinMaxScaler()], 'selection__k': [64, 48], 'selection__score_func': [<function mutual_info_regression at 0x7f139b130c10>, <function f_regression at 0x7f139b132830>], 'extraction': [PCA()], 'extraction__n_components': [32, 24]}\n",
      "Pipeline(steps=[('scaler', 'passthrough'), ('selection', SelectKBest()),\n",
      "                ('extraction', 'passthrough'),\n",
      "                ('polynomial',\n",
      "                 PolynomialFeatures(degree=1, include_bias=False)),\n",
      "                ('regression', TheilSenRegressor())])\n",
      "Fitting 3 folds for each of 16 candidates, totalling 48 fits\n",
      "Best Score: 0.465; R2 Score: Train = 0.558; Test = -3.031\n",
      "{'extraction': PCA(), 'extraction__n_components': 32, 'scaler': StandardScaler(), 'selection__k': 64, 'selection__score_func': <function f_regression at 0x7f139b132830>}\n",
      "\n"
     ]
    },
    {
     "name": "stderr",
     "output_type": "stream",
     "text": [
      "/home/borjaeg/anaconda3/envs/multispectral/lib/python3.10/site-packages/sklearn/preprocessing/_data.py:2663: UserWarning: n_quantiles (900) is greater than the total number of samples (771). n_quantiles is set to n_samples.\n",
      "  warnings.warn(\n",
      "/home/borjaeg/anaconda3/envs/multispectral/lib/python3.10/site-packages/sklearn/compose/_target.py:190: UserWarning: The provided functions or transformer are not strictly inverse of each other. If you are sure you want to proceed regardless, set 'check_inverse=False'\n",
      "  warnings.warn(\n",
      "/home/borjaeg/anaconda3/envs/multispectral/lib/python3.10/site-packages/sklearn/preprocessing/_data.py:2663: UserWarning: n_quantiles (900) is greater than the total number of samples (171). n_quantiles is set to n_samples.\n",
      "  warnings.warn(\n",
      "/home/borjaeg/anaconda3/envs/multispectral/lib/python3.10/site-packages/sklearn/compose/_target.py:190: UserWarning: The provided functions or transformer are not strictly inverse of each other. If you are sure you want to proceed regardless, set 'check_inverse=False'\n",
      "  warnings.warn(\n",
      "/home/borjaeg/anaconda3/envs/multispectral/lib/python3.10/site-packages/sklearn/preprocessing/_data.py:2663: UserWarning: n_quantiles (900) is greater than the total number of samples (171). n_quantiles is set to n_samples.\n",
      "  warnings.warn(\n",
      "/home/borjaeg/anaconda3/envs/multispectral/lib/python3.10/site-packages/sklearn/compose/_target.py:190: UserWarning: The provided functions or transformer are not strictly inverse of each other. If you are sure you want to proceed regardless, set 'check_inverse=False'\n",
      "  warnings.warn(\n",
      "/home/borjaeg/anaconda3/envs/multispectral/lib/python3.10/site-packages/sklearn/preprocessing/_data.py:2663: UserWarning: n_quantiles (900) is greater than the total number of samples (172). n_quantiles is set to n_samples.\n",
      "  warnings.warn(\n",
      "/home/borjaeg/anaconda3/envs/multispectral/lib/python3.10/site-packages/sklearn/compose/_target.py:190: UserWarning: The provided functions or transformer are not strictly inverse of each other. If you are sure you want to proceed regardless, set 'check_inverse=False'\n",
      "  warnings.warn(\n"
     ]
    },
    {
     "name": "stdout",
     "output_type": "stream",
     "text": [
      "(Transformed Target) R2 Score: Train = 0.549; Test = 0.364\n",
      "==================================================\n",
      "CV: 3\n",
      "{'scaler': [StandardScaler(), MinMaxScaler()], 'selection__k': [64, 48], 'selection__score_func': [<function mutual_info_regression at 0x7f139b130c10>, <function f_regression at 0x7f139b132830>], 'extraction': [PCA()], 'extraction__n_components': [32, 24]}\n",
      "Pipeline(steps=[('scaler', 'passthrough'), ('selection', SelectKBest()),\n",
      "                ('extraction', 'passthrough'),\n",
      "                ('polynomial', PolynomialFeatures(include_bias=False)),\n",
      "                ('regression', TheilSenRegressor())])\n",
      "Fitting 3 folds for each of 16 candidates, totalling 48 fits\n",
      "Best Score: -0.741; R2 Score: Train = 0.402; Test = 0.535\n",
      "{'extraction': PCA(), 'extraction__n_components': 24, 'scaler': StandardScaler(), 'selection__k': 48, 'selection__score_func': <function f_regression at 0x7f139b132830>}\n",
      "\n"
     ]
    },
    {
     "name": "stderr",
     "output_type": "stream",
     "text": [
      "/home/borjaeg/anaconda3/envs/multispectral/lib/python3.10/site-packages/sklearn/preprocessing/_data.py:2663: UserWarning: n_quantiles (900) is greater than the total number of samples (771). n_quantiles is set to n_samples.\n",
      "  warnings.warn(\n",
      "/home/borjaeg/anaconda3/envs/multispectral/lib/python3.10/site-packages/sklearn/compose/_target.py:190: UserWarning: The provided functions or transformer are not strictly inverse of each other. If you are sure you want to proceed regardless, set 'check_inverse=False'\n",
      "  warnings.warn(\n",
      "/home/borjaeg/anaconda3/envs/multispectral/lib/python3.10/site-packages/sklearn/preprocessing/_data.py:2663: UserWarning: n_quantiles (900) is greater than the total number of samples (171). n_quantiles is set to n_samples.\n",
      "  warnings.warn(\n",
      "/home/borjaeg/anaconda3/envs/multispectral/lib/python3.10/site-packages/sklearn/preprocessing/_data.py:2663: UserWarning: n_quantiles (900) is greater than the total number of samples (171). n_quantiles is set to n_samples.\n",
      "  warnings.warn(\n",
      "/home/borjaeg/anaconda3/envs/multispectral/lib/python3.10/site-packages/sklearn/compose/_target.py:190: UserWarning: The provided functions or transformer are not strictly inverse of each other. If you are sure you want to proceed regardless, set 'check_inverse=False'\n",
      "  warnings.warn(\n"
     ]
    },
    {
     "name": "stdout",
     "output_type": "stream",
     "text": [
      "(Transformed Target) R2 Score: Train = 0.133; Test = -0.285\n",
      "{'scaler': [StandardScaler(), MinMaxScaler()], 'selection__k': [64, 48], 'selection__score_func': [<function mutual_info_regression at 0x7f139b130c10>, <function f_regression at 0x7f139b132830>], 'extraction': [PCA()], 'extraction__n_components': [32, 24]}\n",
      "Pipeline(steps=[('scaler', 'passthrough'), ('selection', SelectKBest()),\n",
      "                ('extraction', 'passthrough'),\n",
      "                ('polynomial', PolynomialFeatures(include_bias=False)),\n",
      "                ('regression', TheilSenRegressor())])\n",
      "Fitting 3 folds for each of 16 candidates, totalling 48 fits\n"
     ]
    },
    {
     "name": "stderr",
     "output_type": "stream",
     "text": [
      "/home/borjaeg/anaconda3/envs/multispectral/lib/python3.10/site-packages/sklearn/preprocessing/_data.py:2663: UserWarning: n_quantiles (900) is greater than the total number of samples (172). n_quantiles is set to n_samples.\n",
      "  warnings.warn(\n",
      "/home/borjaeg/anaconda3/envs/multispectral/lib/python3.10/site-packages/sklearn/compose/_target.py:190: UserWarning: The provided functions or transformer are not strictly inverse of each other. If you are sure you want to proceed regardless, set 'check_inverse=False'\n",
      "  warnings.warn(\n"
     ]
    },
    {
     "name": "stdout",
     "output_type": "stream",
     "text": [
      "Best Score: -2.055; R2 Score: Train = 0.561; Test = -565.102\n",
      "{'extraction': PCA(), 'extraction__n_components': 24, 'scaler': MinMaxScaler(), 'selection__k': 48, 'selection__score_func': <function f_regression at 0x7f139b132830>}\n",
      "\n"
     ]
    },
    {
     "name": "stderr",
     "output_type": "stream",
     "text": [
      "/home/borjaeg/anaconda3/envs/multispectral/lib/python3.10/site-packages/sklearn/preprocessing/_data.py:2663: UserWarning: n_quantiles (900) is greater than the total number of samples (771). n_quantiles is set to n_samples.\n",
      "  warnings.warn(\n",
      "/home/borjaeg/anaconda3/envs/multispectral/lib/python3.10/site-packages/sklearn/compose/_target.py:190: UserWarning: The provided functions or transformer are not strictly inverse of each other. If you are sure you want to proceed regardless, set 'check_inverse=False'\n",
      "  warnings.warn(\n",
      "/home/borjaeg/anaconda3/envs/multispectral/lib/python3.10/site-packages/sklearn/preprocessing/_data.py:2663: UserWarning: n_quantiles (900) is greater than the total number of samples (171). n_quantiles is set to n_samples.\n",
      "  warnings.warn(\n",
      "/home/borjaeg/anaconda3/envs/multispectral/lib/python3.10/site-packages/sklearn/compose/_target.py:190: UserWarning: The provided functions or transformer are not strictly inverse of each other. If you are sure you want to proceed regardless, set 'check_inverse=False'\n",
      "  warnings.warn(\n",
      "/home/borjaeg/anaconda3/envs/multispectral/lib/python3.10/site-packages/sklearn/preprocessing/_data.py:2663: UserWarning: n_quantiles (900) is greater than the total number of samples (171). n_quantiles is set to n_samples.\n",
      "  warnings.warn(\n",
      "/home/borjaeg/anaconda3/envs/multispectral/lib/python3.10/site-packages/sklearn/compose/_target.py:190: UserWarning: The provided functions or transformer are not strictly inverse of each other. If you are sure you want to proceed regardless, set 'check_inverse=False'\n",
      "  warnings.warn(\n"
     ]
    },
    {
     "name": "stdout",
     "output_type": "stream",
     "text": [
      "(Transformed Target) R2 Score: Train = 0.531; Test = -0.261\n",
      "==================================================\n",
      "CV: 3\n",
      "{'scaler': [StandardScaler(), MinMaxScaler()], 'selection__k': [64, 48], 'selection__score_func': [<function mutual_info_regression at 0x7f139b130c10>, <function f_regression at 0x7f139b132830>], 'extraction': [PCA()], 'extraction__n_components': [32, 24]}\n",
      "Pipeline(steps=[('scaler', 'passthrough'), ('selection', SelectKBest()),\n",
      "                ('extraction', 'passthrough'),\n",
      "                ('polynomial',\n",
      "                 PolynomialFeatures(degree=3, include_bias=False)),\n",
      "                ('regression', TheilSenRegressor())])\n",
      "Fitting 3 folds for each of 16 candidates, totalling 48 fits\n"
     ]
    },
    {
     "name": "stderr",
     "output_type": "stream",
     "text": [
      "/home/borjaeg/anaconda3/envs/multispectral/lib/python3.10/site-packages/sklearn/preprocessing/_data.py:2663: UserWarning: n_quantiles (900) is greater than the total number of samples (172). n_quantiles is set to n_samples.\n",
      "  warnings.warn(\n",
      "/home/borjaeg/anaconda3/envs/multispectral/lib/python3.10/site-packages/sklearn/compose/_target.py:190: UserWarning: The provided functions or transformer are not strictly inverse of each other. If you are sure you want to proceed regardless, set 'check_inverse=False'\n",
      "  warnings.warn(\n"
     ]
    },
    {
     "name": "stdout",
     "output_type": "stream",
     "text": [
      "Best Score: -0.772; R2 Score: Train = 1.000; Test = -0.025\n",
      "{'extraction': PCA(), 'extraction__n_components': 32, 'scaler': StandardScaler(), 'selection__k': 48, 'selection__score_func': <function f_regression at 0x7f139b132830>}\n",
      "\n"
     ]
    },
    {
     "name": "stderr",
     "output_type": "stream",
     "text": [
      "/home/borjaeg/anaconda3/envs/multispectral/lib/python3.10/site-packages/sklearn/preprocessing/_data.py:2663: UserWarning: n_quantiles (900) is greater than the total number of samples (771). n_quantiles is set to n_samples.\n",
      "  warnings.warn(\n",
      "/home/borjaeg/anaconda3/envs/multispectral/lib/python3.10/site-packages/sklearn/compose/_target.py:190: UserWarning: The provided functions or transformer are not strictly inverse of each other. If you are sure you want to proceed regardless, set 'check_inverse=False'\n",
      "  warnings.warn(\n",
      "/home/borjaeg/anaconda3/envs/multispectral/lib/python3.10/site-packages/sklearn/preprocessing/_data.py:2663: UserWarning: n_quantiles (900) is greater than the total number of samples (171). n_quantiles is set to n_samples.\n",
      "  warnings.warn(\n",
      "/home/borjaeg/anaconda3/envs/multispectral/lib/python3.10/site-packages/sklearn/preprocessing/_data.py:2663: UserWarning: n_quantiles (900) is greater than the total number of samples (171). n_quantiles is set to n_samples.\n",
      "  warnings.warn(\n",
      "/home/borjaeg/anaconda3/envs/multispectral/lib/python3.10/site-packages/sklearn/compose/_target.py:190: UserWarning: The provided functions or transformer are not strictly inverse of each other. If you are sure you want to proceed regardless, set 'check_inverse=False'\n",
      "  warnings.warn(\n",
      "/home/borjaeg/anaconda3/envs/multispectral/lib/python3.10/site-packages/sklearn/preprocessing/_data.py:2663: UserWarning: n_quantiles (900) is greater than the total number of samples (172). n_quantiles is set to n_samples.\n",
      "  warnings.warn(\n",
      "/home/borjaeg/anaconda3/envs/multispectral/lib/python3.10/site-packages/sklearn/compose/_target.py:190: UserWarning: The provided functions or transformer are not strictly inverse of each other. If you are sure you want to proceed regardless, set 'check_inverse=False'\n",
      "  warnings.warn(\n"
     ]
    },
    {
     "name": "stdout",
     "output_type": "stream",
     "text": [
      "(Transformed Target) R2 Score: Train = 0.998; Test = -2.441\n",
      "{'scaler': [StandardScaler(), MinMaxScaler()], 'selection__k': [64, 48], 'selection__score_func': [<function mutual_info_regression at 0x7f139b130c10>, <function f_regression at 0x7f139b132830>], 'extraction': [PCA()], 'extraction__n_components': [32, 24]}\n",
      "Pipeline(steps=[('scaler', 'passthrough'), ('selection', SelectKBest()),\n",
      "                ('extraction', 'passthrough'),\n",
      "                ('polynomial',\n",
      "                 PolynomialFeatures(degree=3, include_bias=False)),\n",
      "                ('regression', TheilSenRegressor())])\n",
      "Fitting 3 folds for each of 16 candidates, totalling 48 fits\n",
      "Best Score: -7.829; R2 Score: Train = 0.999; Test = -157.953\n",
      "{'extraction': PCA(), 'extraction__n_components': 32, 'scaler': MinMaxScaler(), 'selection__k': 64, 'selection__score_func': <function f_regression at 0x7f139b132830>}\n",
      "\n"
     ]
    },
    {
     "name": "stderr",
     "output_type": "stream",
     "text": [
      "/home/borjaeg/anaconda3/envs/multispectral/lib/python3.10/site-packages/sklearn/preprocessing/_data.py:2663: UserWarning: n_quantiles (900) is greater than the total number of samples (771). n_quantiles is set to n_samples.\n",
      "  warnings.warn(\n",
      "/home/borjaeg/anaconda3/envs/multispectral/lib/python3.10/site-packages/sklearn/compose/_target.py:190: UserWarning: The provided functions or transformer are not strictly inverse of each other. If you are sure you want to proceed regardless, set 'check_inverse=False'\n",
      "  warnings.warn(\n",
      "/home/borjaeg/anaconda3/envs/multispectral/lib/python3.10/site-packages/sklearn/preprocessing/_data.py:2663: UserWarning: n_quantiles (900) is greater than the total number of samples (171). n_quantiles is set to n_samples.\n",
      "  warnings.warn(\n",
      "/home/borjaeg/anaconda3/envs/multispectral/lib/python3.10/site-packages/sklearn/compose/_target.py:190: UserWarning: The provided functions or transformer are not strictly inverse of each other. If you are sure you want to proceed regardless, set 'check_inverse=False'\n",
      "  warnings.warn(\n",
      "/home/borjaeg/anaconda3/envs/multispectral/lib/python3.10/site-packages/sklearn/preprocessing/_data.py:2663: UserWarning: n_quantiles (900) is greater than the total number of samples (171). n_quantiles is set to n_samples.\n",
      "  warnings.warn(\n",
      "/home/borjaeg/anaconda3/envs/multispectral/lib/python3.10/site-packages/sklearn/compose/_target.py:190: UserWarning: The provided functions or transformer are not strictly inverse of each other. If you are sure you want to proceed regardless, set 'check_inverse=False'\n",
      "  warnings.warn(\n",
      "/home/borjaeg/anaconda3/envs/multispectral/lib/python3.10/site-packages/sklearn/preprocessing/_data.py:2663: UserWarning: n_quantiles (900) is greater than the total number of samples (172). n_quantiles is set to n_samples.\n",
      "  warnings.warn(\n",
      "/home/borjaeg/anaconda3/envs/multispectral/lib/python3.10/site-packages/sklearn/compose/_target.py:190: UserWarning: The provided functions or transformer are not strictly inverse of each other. If you are sure you want to proceed regardless, set 'check_inverse=False'\n",
      "  warnings.warn(\n"
     ]
    },
    {
     "name": "stdout",
     "output_type": "stream",
     "text": [
      "(Transformed Target) R2 Score: Train = 0.998; Test = -2.521\n",
      "==================================================\n",
      "CV: 2\n",
      "{'scaler': [StandardScaler(), MinMaxScaler()], 'filter__window_length': [4, 12, 24], 'filter__polyorder': [3], 'selection__k': [64, 48], 'selection__score_func': [<function mutual_info_regression at 0x7f139b130c10>, <function f_regression at 0x7f139b132830>], 'extraction': [PCA()], 'extraction__n_components': [32, 24]}\n",
      "Pipeline(steps=[('scaler', 'passthrough'),\n",
      "                ('filter', SavgolFilterTransformer()),\n",
      "                ('selection', SelectKBest()), ('extraction', 'passthrough'),\n",
      "                ('polynomial',\n",
      "                 PolynomialFeatures(degree=1, include_bias=False)),\n",
      "                ('regression', ARDRegression())])\n",
      "Fitting 2 folds for each of 48 candidates, totalling 96 fits\n"
     ]
    },
    {
     "name": "stderr",
     "output_type": "stream",
     "text": [
      "/home/borjaeg/anaconda3/envs/multispectral/lib/python3.10/site-packages/sklearn/preprocessing/_data.py:2663: UserWarning: n_quantiles (900) is greater than the total number of samples (771). n_quantiles is set to n_samples.\n",
      "  warnings.warn(\n",
      "/home/borjaeg/anaconda3/envs/multispectral/lib/python3.10/site-packages/sklearn/preprocessing/_data.py:2663: UserWarning: n_quantiles (900) is greater than the total number of samples (257). n_quantiles is set to n_samples.\n",
      "  warnings.warn(\n"
     ]
    },
    {
     "name": "stdout",
     "output_type": "stream",
     "text": [
      "Best Score: 0.430; R2 Score: Train = 0.499; Test = 0.458\n",
      "{'extraction': PCA(), 'extraction__n_components': 32, 'filter__polyorder': 3, 'filter__window_length': 24, 'scaler': MinMaxScaler(), 'selection__k': 64, 'selection__score_func': <function f_regression at 0x7f139b132830>}\n",
      "\n"
     ]
    },
    {
     "name": "stderr",
     "output_type": "stream",
     "text": [
      "/home/borjaeg/anaconda3/envs/multispectral/lib/python3.10/site-packages/sklearn/preprocessing/_data.py:2663: UserWarning: n_quantiles (900) is greater than the total number of samples (771). n_quantiles is set to n_samples.\n",
      "  warnings.warn(\n",
      "/home/borjaeg/anaconda3/envs/multispectral/lib/python3.10/site-packages/sklearn/compose/_target.py:190: UserWarning: The provided functions or transformer are not strictly inverse of each other. If you are sure you want to proceed regardless, set 'check_inverse=False'\n",
      "  warnings.warn(\n",
      "/home/borjaeg/anaconda3/envs/multispectral/lib/python3.10/site-packages/sklearn/preprocessing/_data.py:2663: UserWarning: n_quantiles (900) is greater than the total number of samples (171). n_quantiles is set to n_samples.\n",
      "  warnings.warn(\n",
      "/home/borjaeg/anaconda3/envs/multispectral/lib/python3.10/site-packages/sklearn/preprocessing/_data.py:2663: UserWarning: n_quantiles (900) is greater than the total number of samples (171). n_quantiles is set to n_samples.\n",
      "  warnings.warn(\n",
      "/home/borjaeg/anaconda3/envs/multispectral/lib/python3.10/site-packages/sklearn/compose/_target.py:190: UserWarning: The provided functions or transformer are not strictly inverse of each other. If you are sure you want to proceed regardless, set 'check_inverse=False'\n",
      "  warnings.warn(\n",
      "/home/borjaeg/anaconda3/envs/multispectral/lib/python3.10/site-packages/sklearn/preprocessing/_data.py:2663: UserWarning: n_quantiles (900) is greater than the total number of samples (172). n_quantiles is set to n_samples.\n",
      "  warnings.warn(\n"
     ]
    },
    {
     "name": "stdout",
     "output_type": "stream",
     "text": [
      "(Transformed Target) R2 Score: Train = 0.330; Test = 0.173\n",
      "{'scaler': [StandardScaler(), MinMaxScaler()], 'filter__window_length': [4, 12, 24], 'filter__polyorder': [3], 'selection__k': [64, 48], 'selection__score_func': [<function mutual_info_regression at 0x7f139b130c10>, <function f_regression at 0x7f139b132830>], 'extraction': [PCA()], 'extraction__n_components': [32, 24]}\n",
      "Pipeline(steps=[('scaler', 'passthrough'),\n",
      "                ('filter', SavgolFilterTransformer()),\n",
      "                ('selection', SelectKBest()), ('extraction', 'passthrough'),\n",
      "                ('polynomial',\n",
      "                 PolynomialFeatures(degree=1, include_bias=False)),\n",
      "                ('regression', ARDRegression())])\n",
      "Fitting 2 folds for each of 48 candidates, totalling 96 fits\n",
      "Best Score: 0.505; R2 Score: Train = 0.593; Test = 0.578\n",
      "{'extraction': PCA(), 'extraction__n_components': 32, 'filter__polyorder': 3, 'filter__window_length': 12, 'scaler': MinMaxScaler(), 'selection__k': 64, 'selection__score_func': <function f_regression at 0x7f139b132830>}\n",
      "\n"
     ]
    },
    {
     "name": "stderr",
     "output_type": "stream",
     "text": [
      "/home/borjaeg/anaconda3/envs/multispectral/lib/python3.10/site-packages/sklearn/preprocessing/_data.py:2663: UserWarning: n_quantiles (900) is greater than the total number of samples (771). n_quantiles is set to n_samples.\n",
      "  warnings.warn(\n",
      "/home/borjaeg/anaconda3/envs/multispectral/lib/python3.10/site-packages/sklearn/compose/_target.py:190: UserWarning: The provided functions or transformer are not strictly inverse of each other. If you are sure you want to proceed regardless, set 'check_inverse=False'\n",
      "  warnings.warn(\n",
      "/home/borjaeg/anaconda3/envs/multispectral/lib/python3.10/site-packages/sklearn/preprocessing/_data.py:2663: UserWarning: n_quantiles (900) is greater than the total number of samples (171). n_quantiles is set to n_samples.\n",
      "  warnings.warn(\n",
      "/home/borjaeg/anaconda3/envs/multispectral/lib/python3.10/site-packages/sklearn/compose/_target.py:190: UserWarning: The provided functions or transformer are not strictly inverse of each other. If you are sure you want to proceed regardless, set 'check_inverse=False'\n",
      "  warnings.warn(\n",
      "/home/borjaeg/anaconda3/envs/multispectral/lib/python3.10/site-packages/sklearn/preprocessing/_data.py:2663: UserWarning: n_quantiles (900) is greater than the total number of samples (171). n_quantiles is set to n_samples.\n",
      "  warnings.warn(\n",
      "/home/borjaeg/anaconda3/envs/multispectral/lib/python3.10/site-packages/sklearn/compose/_target.py:190: UserWarning: The provided functions or transformer are not strictly inverse of each other. If you are sure you want to proceed regardless, set 'check_inverse=False'\n",
      "  warnings.warn(\n",
      "/home/borjaeg/anaconda3/envs/multispectral/lib/python3.10/site-packages/sklearn/preprocessing/_data.py:2663: UserWarning: n_quantiles (900) is greater than the total number of samples (172). n_quantiles is set to n_samples.\n",
      "  warnings.warn(\n",
      "/home/borjaeg/anaconda3/envs/multispectral/lib/python3.10/site-packages/sklearn/compose/_target.py:190: UserWarning: The provided functions or transformer are not strictly inverse of each other. If you are sure you want to proceed regardless, set 'check_inverse=False'\n",
      "  warnings.warn(\n"
     ]
    },
    {
     "name": "stdout",
     "output_type": "stream",
     "text": [
      "(Transformed Target) R2 Score: Train = 0.593; Test = 0.578\n",
      "==================================================\n",
      "CV: 2\n",
      "{'scaler': [StandardScaler(), MinMaxScaler()], 'filter__window_length': [4, 12, 24], 'filter__polyorder': [3], 'selection__k': [64, 48], 'selection__score_func': [<function mutual_info_regression at 0x7f139b130c10>, <function f_regression at 0x7f139b132830>], 'extraction': [PCA()], 'extraction__n_components': [32, 24]}\n",
      "Pipeline(steps=[('scaler', 'passthrough'),\n",
      "                ('filter', SavgolFilterTransformer()),\n",
      "                ('selection', SelectKBest()), ('extraction', 'passthrough'),\n",
      "                ('polynomial', PolynomialFeatures(include_bias=False)),\n",
      "                ('regression', ARDRegression())])\n",
      "Fitting 2 folds for each of 48 candidates, totalling 96 fits\n",
      "Best Score: 0.648; R2 Score: Train = 0.869; Test = 0.766\n",
      "{'extraction': PCA(), 'extraction__n_components': 24, 'filter__polyorder': 3, 'filter__window_length': 4, 'scaler': MinMaxScaler(), 'selection__k': 48, 'selection__score_func': <function mutual_info_regression at 0x7f139b130c10>}\n",
      "\n"
     ]
    },
    {
     "name": "stderr",
     "output_type": "stream",
     "text": [
      "/home/borjaeg/anaconda3/envs/multispectral/lib/python3.10/site-packages/sklearn/preprocessing/_data.py:2663: UserWarning: n_quantiles (900) is greater than the total number of samples (771). n_quantiles is set to n_samples.\n",
      "  warnings.warn(\n",
      "/home/borjaeg/anaconda3/envs/multispectral/lib/python3.10/site-packages/sklearn/compose/_target.py:190: UserWarning: The provided functions or transformer are not strictly inverse of each other. If you are sure you want to proceed regardless, set 'check_inverse=False'\n",
      "  warnings.warn(\n",
      "/home/borjaeg/anaconda3/envs/multispectral/lib/python3.10/site-packages/sklearn/preprocessing/_data.py:2663: UserWarning: n_quantiles (900) is greater than the total number of samples (171). n_quantiles is set to n_samples.\n",
      "  warnings.warn(\n",
      "/home/borjaeg/anaconda3/envs/multispectral/lib/python3.10/site-packages/sklearn/preprocessing/_data.py:2663: UserWarning: n_quantiles (900) is greater than the total number of samples (171). n_quantiles is set to n_samples.\n",
      "  warnings.warn(\n",
      "/home/borjaeg/anaconda3/envs/multispectral/lib/python3.10/site-packages/sklearn/compose/_target.py:190: UserWarning: The provided functions or transformer are not strictly inverse of each other. If you are sure you want to proceed regardless, set 'check_inverse=False'\n",
      "  warnings.warn(\n",
      "/home/borjaeg/anaconda3/envs/multispectral/lib/python3.10/site-packages/sklearn/preprocessing/_data.py:2663: UserWarning: n_quantiles (900) is greater than the total number of samples (172). n_quantiles is set to n_samples.\n",
      "  warnings.warn(\n"
     ]
    },
    {
     "name": "stdout",
     "output_type": "stream",
     "text": [
      "(Transformed Target) R2 Score: Train = 0.790; Test = 0.447\n",
      "{'scaler': [StandardScaler(), MinMaxScaler()], 'filter__window_length': [4, 12, 24], 'filter__polyorder': [3], 'selection__k': [64, 48], 'selection__score_func': [<function mutual_info_regression at 0x7f139b130c10>, <function f_regression at 0x7f139b132830>], 'extraction': [PCA()], 'extraction__n_components': [32, 24]}\n",
      "Pipeline(steps=[('scaler', 'passthrough'),\n",
      "                ('filter', SavgolFilterTransformer()),\n",
      "                ('selection', SelectKBest()), ('extraction', 'passthrough'),\n",
      "                ('polynomial', PolynomialFeatures(include_bias=False)),\n",
      "                ('regression', ARDRegression())])\n",
      "Fitting 2 folds for each of 48 candidates, totalling 96 fits\n",
      "Best Score: 0.635; R2 Score: Train = 0.788; Test = 0.682\n",
      "{'extraction': PCA(), 'extraction__n_components': 32, 'filter__polyorder': 3, 'filter__window_length': 12, 'scaler': MinMaxScaler(), 'selection__k': 64, 'selection__score_func': <function mutual_info_regression at 0x7f139b130c10>}\n",
      "\n"
     ]
    },
    {
     "name": "stderr",
     "output_type": "stream",
     "text": [
      "/home/borjaeg/anaconda3/envs/multispectral/lib/python3.10/site-packages/sklearn/preprocessing/_data.py:2663: UserWarning: n_quantiles (900) is greater than the total number of samples (771). n_quantiles is set to n_samples.\n",
      "  warnings.warn(\n",
      "/home/borjaeg/anaconda3/envs/multispectral/lib/python3.10/site-packages/sklearn/compose/_target.py:190: UserWarning: The provided functions or transformer are not strictly inverse of each other. If you are sure you want to proceed regardless, set 'check_inverse=False'\n",
      "  warnings.warn(\n",
      "/home/borjaeg/anaconda3/envs/multispectral/lib/python3.10/site-packages/sklearn/preprocessing/_data.py:2663: UserWarning: n_quantiles (900) is greater than the total number of samples (171). n_quantiles is set to n_samples.\n",
      "  warnings.warn(\n",
      "/home/borjaeg/anaconda3/envs/multispectral/lib/python3.10/site-packages/sklearn/compose/_target.py:190: UserWarning: The provided functions or transformer are not strictly inverse of each other. If you are sure you want to proceed regardless, set 'check_inverse=False'\n",
      "  warnings.warn(\n",
      "/home/borjaeg/anaconda3/envs/multispectral/lib/python3.10/site-packages/sklearn/preprocessing/_data.py:2663: UserWarning: n_quantiles (900) is greater than the total number of samples (171). n_quantiles is set to n_samples.\n",
      "  warnings.warn(\n",
      "/home/borjaeg/anaconda3/envs/multispectral/lib/python3.10/site-packages/sklearn/compose/_target.py:190: UserWarning: The provided functions or transformer are not strictly inverse of each other. If you are sure you want to proceed regardless, set 'check_inverse=False'\n",
      "  warnings.warn(\n",
      "/home/borjaeg/anaconda3/envs/multispectral/lib/python3.10/site-packages/sklearn/preprocessing/_data.py:2663: UserWarning: n_quantiles (900) is greater than the total number of samples (172). n_quantiles is set to n_samples.\n",
      "  warnings.warn(\n",
      "/home/borjaeg/anaconda3/envs/multispectral/lib/python3.10/site-packages/sklearn/compose/_target.py:190: UserWarning: The provided functions or transformer are not strictly inverse of each other. If you are sure you want to proceed regardless, set 'check_inverse=False'\n",
      "  warnings.warn(\n"
     ]
    },
    {
     "name": "stdout",
     "output_type": "stream",
     "text": [
      "(Transformed Target) R2 Score: Train = 0.788; Test = 0.682\n",
      "==================================================\n",
      "CV: 2\n",
      "{'scaler': [StandardScaler(), MinMaxScaler()], 'filter__window_length': [4, 12, 24], 'filter__polyorder': [3], 'selection__k': [64, 48], 'selection__score_func': [<function mutual_info_regression at 0x7f139b130c10>, <function f_regression at 0x7f139b132830>], 'extraction': [PCA()], 'extraction__n_components': [32, 24]}\n",
      "Pipeline(steps=[('scaler', 'passthrough'),\n",
      "                ('filter', SavgolFilterTransformer()),\n",
      "                ('selection', SelectKBest()), ('extraction', 'passthrough'),\n",
      "                ('polynomial',\n",
      "                 PolynomialFeatures(degree=3, include_bias=False)),\n",
      "                ('regression', ARDRegression())])\n",
      "Fitting 2 folds for each of 48 candidates, totalling 96 fits\n",
      "Best Score: 0.540; R2 Score: Train = 0.923; Test = 0.764\n",
      "{'extraction': PCA(), 'extraction__n_components': 24, 'filter__polyorder': 3, 'filter__window_length': 4, 'scaler': MinMaxScaler(), 'selection__k': 64, 'selection__score_func': <function mutual_info_regression at 0x7f139b130c10>}\n",
      "\n"
     ]
    },
    {
     "name": "stderr",
     "output_type": "stream",
     "text": [
      "/home/borjaeg/anaconda3/envs/multispectral/lib/python3.10/site-packages/sklearn/preprocessing/_data.py:2663: UserWarning: n_quantiles (900) is greater than the total number of samples (771). n_quantiles is set to n_samples.\n",
      "  warnings.warn(\n",
      "/home/borjaeg/anaconda3/envs/multispectral/lib/python3.10/site-packages/sklearn/compose/_target.py:190: UserWarning: The provided functions or transformer are not strictly inverse of each other. If you are sure you want to proceed regardless, set 'check_inverse=False'\n",
      "  warnings.warn(\n",
      "/home/borjaeg/anaconda3/envs/multispectral/lib/python3.10/site-packages/sklearn/preprocessing/_data.py:2663: UserWarning: n_quantiles (900) is greater than the total number of samples (171). n_quantiles is set to n_samples.\n",
      "  warnings.warn(\n",
      "/home/borjaeg/anaconda3/envs/multispectral/lib/python3.10/site-packages/sklearn/preprocessing/_data.py:2663: UserWarning: n_quantiles (900) is greater than the total number of samples (171). n_quantiles is set to n_samples.\n",
      "  warnings.warn(\n",
      "/home/borjaeg/anaconda3/envs/multispectral/lib/python3.10/site-packages/sklearn/compose/_target.py:190: UserWarning: The provided functions or transformer are not strictly inverse of each other. If you are sure you want to proceed regardless, set 'check_inverse=False'\n",
      "  warnings.warn(\n",
      "/home/borjaeg/anaconda3/envs/multispectral/lib/python3.10/site-packages/sklearn/preprocessing/_data.py:2663: UserWarning: n_quantiles (900) is greater than the total number of samples (172). n_quantiles is set to n_samples.\n",
      "  warnings.warn(\n"
     ]
    },
    {
     "name": "stdout",
     "output_type": "stream",
     "text": [
      "(Transformed Target) R2 Score: Train = 0.729; Test = 0.712\n",
      "{'scaler': [StandardScaler(), MinMaxScaler()], 'filter__window_length': [4, 12, 24], 'filter__polyorder': [3], 'selection__k': [64, 48], 'selection__score_func': [<function mutual_info_regression at 0x7f139b130c10>, <function f_regression at 0x7f139b132830>], 'extraction': [PCA()], 'extraction__n_components': [32, 24]}\n",
      "Pipeline(steps=[('scaler', 'passthrough'),\n",
      "                ('filter', SavgolFilterTransformer()),\n",
      "                ('selection', SelectKBest()), ('extraction', 'passthrough'),\n",
      "                ('polynomial',\n",
      "                 PolynomialFeatures(degree=3, include_bias=False)),\n",
      "                ('regression', ARDRegression())])\n",
      "Fitting 2 folds for each of 48 candidates, totalling 96 fits\n",
      "Best Score: 0.567; R2 Score: Train = 0.816; Test = 0.664\n",
      "{'extraction': PCA(), 'extraction__n_components': 24, 'filter__polyorder': 3, 'filter__window_length': 12, 'scaler': MinMaxScaler(), 'selection__k': 48, 'selection__score_func': <function mutual_info_regression at 0x7f139b130c10>}\n",
      "\n"
     ]
    },
    {
     "name": "stderr",
     "output_type": "stream",
     "text": [
      "/home/borjaeg/anaconda3/envs/multispectral/lib/python3.10/site-packages/sklearn/preprocessing/_data.py:2663: UserWarning: n_quantiles (900) is greater than the total number of samples (771). n_quantiles is set to n_samples.\n",
      "  warnings.warn(\n",
      "/home/borjaeg/anaconda3/envs/multispectral/lib/python3.10/site-packages/sklearn/compose/_target.py:190: UserWarning: The provided functions or transformer are not strictly inverse of each other. If you are sure you want to proceed regardless, set 'check_inverse=False'\n",
      "  warnings.warn(\n",
      "/home/borjaeg/anaconda3/envs/multispectral/lib/python3.10/site-packages/sklearn/preprocessing/_data.py:2663: UserWarning: n_quantiles (900) is greater than the total number of samples (171). n_quantiles is set to n_samples.\n",
      "  warnings.warn(\n",
      "/home/borjaeg/anaconda3/envs/multispectral/lib/python3.10/site-packages/sklearn/compose/_target.py:190: UserWarning: The provided functions or transformer are not strictly inverse of each other. If you are sure you want to proceed regardless, set 'check_inverse=False'\n",
      "  warnings.warn(\n",
      "/home/borjaeg/anaconda3/envs/multispectral/lib/python3.10/site-packages/sklearn/preprocessing/_data.py:2663: UserWarning: n_quantiles (900) is greater than the total number of samples (171). n_quantiles is set to n_samples.\n",
      "  warnings.warn(\n",
      "/home/borjaeg/anaconda3/envs/multispectral/lib/python3.10/site-packages/sklearn/compose/_target.py:190: UserWarning: The provided functions or transformer are not strictly inverse of each other. If you are sure you want to proceed regardless, set 'check_inverse=False'\n",
      "  warnings.warn(\n",
      "/home/borjaeg/anaconda3/envs/multispectral/lib/python3.10/site-packages/sklearn/preprocessing/_data.py:2663: UserWarning: n_quantiles (900) is greater than the total number of samples (172). n_quantiles is set to n_samples.\n",
      "  warnings.warn(\n",
      "/home/borjaeg/anaconda3/envs/multispectral/lib/python3.10/site-packages/sklearn/compose/_target.py:190: UserWarning: The provided functions or transformer are not strictly inverse of each other. If you are sure you want to proceed regardless, set 'check_inverse=False'\n",
      "  warnings.warn(\n"
     ]
    },
    {
     "name": "stdout",
     "output_type": "stream",
     "text": [
      "(Transformed Target) R2 Score: Train = 0.816; Test = 0.666\n",
      "==================================================\n",
      "CV: 2\n",
      "{'scaler': [StandardScaler(), MinMaxScaler()], 'selection__k': [64, 48], 'selection__score_func': [<function mutual_info_regression at 0x7f139b130c10>, <function f_regression at 0x7f139b132830>], 'extraction': [PCA()], 'extraction__n_components': [32, 24]}\n",
      "Pipeline(steps=[('scaler', 'passthrough'), ('selection', SelectKBest()),\n",
      "                ('extraction', 'passthrough'),\n",
      "                ('polynomial',\n",
      "                 PolynomialFeatures(degree=1, include_bias=False)),\n",
      "                ('regression', ARDRegression())])\n",
      "Fitting 2 folds for each of 16 candidates, totalling 32 fits\n",
      "Best Score: 0.375; R2 Score: Train = 0.426; Test = 0.421\n",
      "{'extraction': PCA(), 'extraction__n_components': 24, 'scaler': MinMaxScaler(), 'selection__k': 64, 'selection__score_func': <function f_regression at 0x7f139b132830>}\n",
      "\n"
     ]
    },
    {
     "name": "stderr",
     "output_type": "stream",
     "text": [
      "/home/borjaeg/anaconda3/envs/multispectral/lib/python3.10/site-packages/sklearn/preprocessing/_data.py:2663: UserWarning: n_quantiles (900) is greater than the total number of samples (771). n_quantiles is set to n_samples.\n",
      "  warnings.warn(\n",
      "/home/borjaeg/anaconda3/envs/multispectral/lib/python3.10/site-packages/sklearn/compose/_target.py:190: UserWarning: The provided functions or transformer are not strictly inverse of each other. If you are sure you want to proceed regardless, set 'check_inverse=False'\n",
      "  warnings.warn(\n",
      "/home/borjaeg/anaconda3/envs/multispectral/lib/python3.10/site-packages/sklearn/preprocessing/_data.py:2663: UserWarning: n_quantiles (900) is greater than the total number of samples (171). n_quantiles is set to n_samples.\n",
      "  warnings.warn(\n",
      "/home/borjaeg/anaconda3/envs/multispectral/lib/python3.10/site-packages/sklearn/preprocessing/_data.py:2663: UserWarning: n_quantiles (900) is greater than the total number of samples (171). n_quantiles is set to n_samples.\n",
      "  warnings.warn(\n",
      "/home/borjaeg/anaconda3/envs/multispectral/lib/python3.10/site-packages/sklearn/compose/_target.py:190: UserWarning: The provided functions or transformer are not strictly inverse of each other. If you are sure you want to proceed regardless, set 'check_inverse=False'\n",
      "  warnings.warn(\n",
      "/home/borjaeg/anaconda3/envs/multispectral/lib/python3.10/site-packages/sklearn/preprocessing/_data.py:2663: UserWarning: n_quantiles (900) is greater than the total number of samples (172). n_quantiles is set to n_samples.\n",
      "  warnings.warn(\n"
     ]
    },
    {
     "name": "stdout",
     "output_type": "stream",
     "text": [
      "(Transformed Target) R2 Score: Train = 0.273; Test = 0.147\n",
      "{'scaler': [StandardScaler(), MinMaxScaler()], 'selection__k': [64, 48], 'selection__score_func': [<function mutual_info_regression at 0x7f139b130c10>, <function f_regression at 0x7f139b132830>], 'extraction': [PCA()], 'extraction__n_components': [32, 24]}\n",
      "Pipeline(steps=[('scaler', 'passthrough'), ('selection', SelectKBest()),\n",
      "                ('extraction', 'passthrough'),\n",
      "                ('polynomial',\n",
      "                 PolynomialFeatures(degree=1, include_bias=False)),\n",
      "                ('regression', ARDRegression())])\n",
      "Fitting 2 folds for each of 16 candidates, totalling 32 fits\n",
      "Best Score: 0.437; R2 Score: Train = 0.569; Test = 0.537\n",
      "{'extraction': PCA(), 'extraction__n_components': 32, 'scaler': MinMaxScaler(), 'selection__k': 64, 'selection__score_func': <function f_regression at 0x7f139b132830>}\n",
      "\n"
     ]
    },
    {
     "name": "stderr",
     "output_type": "stream",
     "text": [
      "/home/borjaeg/anaconda3/envs/multispectral/lib/python3.10/site-packages/sklearn/preprocessing/_data.py:2663: UserWarning: n_quantiles (900) is greater than the total number of samples (771). n_quantiles is set to n_samples.\n",
      "  warnings.warn(\n",
      "/home/borjaeg/anaconda3/envs/multispectral/lib/python3.10/site-packages/sklearn/compose/_target.py:190: UserWarning: The provided functions or transformer are not strictly inverse of each other. If you are sure you want to proceed regardless, set 'check_inverse=False'\n",
      "  warnings.warn(\n",
      "/home/borjaeg/anaconda3/envs/multispectral/lib/python3.10/site-packages/sklearn/preprocessing/_data.py:2663: UserWarning: n_quantiles (900) is greater than the total number of samples (171). n_quantiles is set to n_samples.\n",
      "  warnings.warn(\n",
      "/home/borjaeg/anaconda3/envs/multispectral/lib/python3.10/site-packages/sklearn/compose/_target.py:190: UserWarning: The provided functions or transformer are not strictly inverse of each other. If you are sure you want to proceed regardless, set 'check_inverse=False'\n",
      "  warnings.warn(\n",
      "/home/borjaeg/anaconda3/envs/multispectral/lib/python3.10/site-packages/sklearn/preprocessing/_data.py:2663: UserWarning: n_quantiles (900) is greater than the total number of samples (171). n_quantiles is set to n_samples.\n",
      "  warnings.warn(\n",
      "/home/borjaeg/anaconda3/envs/multispectral/lib/python3.10/site-packages/sklearn/compose/_target.py:190: UserWarning: The provided functions or transformer are not strictly inverse of each other. If you are sure you want to proceed regardless, set 'check_inverse=False'\n",
      "  warnings.warn(\n",
      "/home/borjaeg/anaconda3/envs/multispectral/lib/python3.10/site-packages/sklearn/preprocessing/_data.py:2663: UserWarning: n_quantiles (900) is greater than the total number of samples (172). n_quantiles is set to n_samples.\n",
      "  warnings.warn(\n",
      "/home/borjaeg/anaconda3/envs/multispectral/lib/python3.10/site-packages/sklearn/compose/_target.py:190: UserWarning: The provided functions or transformer are not strictly inverse of each other. If you are sure you want to proceed regardless, set 'check_inverse=False'\n",
      "  warnings.warn(\n"
     ]
    },
    {
     "name": "stdout",
     "output_type": "stream",
     "text": [
      "(Transformed Target) R2 Score: Train = 0.571; Test = 0.543\n",
      "==================================================\n",
      "CV: 2\n",
      "{'scaler': [StandardScaler(), MinMaxScaler()], 'selection__k': [64, 48], 'selection__score_func': [<function mutual_info_regression at 0x7f139b130c10>, <function f_regression at 0x7f139b132830>], 'extraction': [PCA()], 'extraction__n_components': [32, 24]}\n",
      "Pipeline(steps=[('scaler', 'passthrough'), ('selection', SelectKBest()),\n",
      "                ('extraction', 'passthrough'),\n",
      "                ('polynomial', PolynomialFeatures(include_bias=False)),\n",
      "                ('regression', ARDRegression())])\n",
      "Fitting 2 folds for each of 16 candidates, totalling 32 fits\n",
      "Best Score: 0.611; R2 Score: Train = 0.844; Test = 0.772\n",
      "{'extraction': PCA(), 'extraction__n_components': 24, 'scaler': StandardScaler(), 'selection__k': 64, 'selection__score_func': <function mutual_info_regression at 0x7f139b130c10>}\n",
      "\n"
     ]
    },
    {
     "name": "stderr",
     "output_type": "stream",
     "text": [
      "/home/borjaeg/anaconda3/envs/multispectral/lib/python3.10/site-packages/sklearn/preprocessing/_data.py:2663: UserWarning: n_quantiles (900) is greater than the total number of samples (771). n_quantiles is set to n_samples.\n",
      "  warnings.warn(\n",
      "/home/borjaeg/anaconda3/envs/multispectral/lib/python3.10/site-packages/sklearn/compose/_target.py:190: UserWarning: The provided functions or transformer are not strictly inverse of each other. If you are sure you want to proceed regardless, set 'check_inverse=False'\n",
      "  warnings.warn(\n",
      "/home/borjaeg/anaconda3/envs/multispectral/lib/python3.10/site-packages/sklearn/preprocessing/_data.py:2663: UserWarning: n_quantiles (900) is greater than the total number of samples (171). n_quantiles is set to n_samples.\n",
      "  warnings.warn(\n",
      "/home/borjaeg/anaconda3/envs/multispectral/lib/python3.10/site-packages/sklearn/preprocessing/_data.py:2663: UserWarning: n_quantiles (900) is greater than the total number of samples (171). n_quantiles is set to n_samples.\n",
      "  warnings.warn(\n",
      "/home/borjaeg/anaconda3/envs/multispectral/lib/python3.10/site-packages/sklearn/compose/_target.py:190: UserWarning: The provided functions or transformer are not strictly inverse of each other. If you are sure you want to proceed regardless, set 'check_inverse=False'\n",
      "  warnings.warn(\n",
      "/home/borjaeg/anaconda3/envs/multispectral/lib/python3.10/site-packages/sklearn/preprocessing/_data.py:2663: UserWarning: n_quantiles (900) is greater than the total number of samples (172). n_quantiles is set to n_samples.\n",
      "  warnings.warn(\n"
     ]
    },
    {
     "name": "stdout",
     "output_type": "stream",
     "text": [
      "(Transformed Target) R2 Score: Train = 0.752; Test = 0.614\n",
      "{'scaler': [StandardScaler(), MinMaxScaler()], 'selection__k': [64, 48], 'selection__score_func': [<function mutual_info_regression at 0x7f139b130c10>, <function f_regression at 0x7f139b132830>], 'extraction': [PCA()], 'extraction__n_components': [32, 24]}\n",
      "Pipeline(steps=[('scaler', 'passthrough'), ('selection', SelectKBest()),\n",
      "                ('extraction', 'passthrough'),\n",
      "                ('polynomial', PolynomialFeatures(include_bias=False)),\n",
      "                ('regression', ARDRegression())])\n",
      "Fitting 2 folds for each of 16 candidates, totalling 32 fits\n",
      "Best Score: 0.553; R2 Score: Train = 0.763; Test = 0.652\n",
      "{'extraction': PCA(), 'extraction__n_components': 24, 'scaler': MinMaxScaler(), 'selection__k': 64, 'selection__score_func': <function mutual_info_regression at 0x7f139b130c10>}\n",
      "\n"
     ]
    },
    {
     "name": "stderr",
     "output_type": "stream",
     "text": [
      "/home/borjaeg/anaconda3/envs/multispectral/lib/python3.10/site-packages/sklearn/preprocessing/_data.py:2663: UserWarning: n_quantiles (900) is greater than the total number of samples (771). n_quantiles is set to n_samples.\n",
      "  warnings.warn(\n",
      "/home/borjaeg/anaconda3/envs/multispectral/lib/python3.10/site-packages/sklearn/compose/_target.py:190: UserWarning: The provided functions or transformer are not strictly inverse of each other. If you are sure you want to proceed regardless, set 'check_inverse=False'\n",
      "  warnings.warn(\n",
      "/home/borjaeg/anaconda3/envs/multispectral/lib/python3.10/site-packages/sklearn/preprocessing/_data.py:2663: UserWarning: n_quantiles (900) is greater than the total number of samples (171). n_quantiles is set to n_samples.\n",
      "  warnings.warn(\n",
      "/home/borjaeg/anaconda3/envs/multispectral/lib/python3.10/site-packages/sklearn/compose/_target.py:190: UserWarning: The provided functions or transformer are not strictly inverse of each other. If you are sure you want to proceed regardless, set 'check_inverse=False'\n",
      "  warnings.warn(\n",
      "/home/borjaeg/anaconda3/envs/multispectral/lib/python3.10/site-packages/sklearn/preprocessing/_data.py:2663: UserWarning: n_quantiles (900) is greater than the total number of samples (171). n_quantiles is set to n_samples.\n",
      "  warnings.warn(\n",
      "/home/borjaeg/anaconda3/envs/multispectral/lib/python3.10/site-packages/sklearn/compose/_target.py:190: UserWarning: The provided functions or transformer are not strictly inverse of each other. If you are sure you want to proceed regardless, set 'check_inverse=False'\n",
      "  warnings.warn(\n",
      "/home/borjaeg/anaconda3/envs/multispectral/lib/python3.10/site-packages/sklearn/preprocessing/_data.py:2663: UserWarning: n_quantiles (900) is greater than the total number of samples (172). n_quantiles is set to n_samples.\n",
      "  warnings.warn(\n",
      "/home/borjaeg/anaconda3/envs/multispectral/lib/python3.10/site-packages/sklearn/compose/_target.py:190: UserWarning: The provided functions or transformer are not strictly inverse of each other. If you are sure you want to proceed regardless, set 'check_inverse=False'\n",
      "  warnings.warn(\n"
     ]
    },
    {
     "name": "stdout",
     "output_type": "stream",
     "text": [
      "(Transformed Target) R2 Score: Train = 0.764; Test = 0.643\n",
      "==================================================\n",
      "CV: 2\n",
      "{'scaler': [StandardScaler(), MinMaxScaler()], 'selection__k': [64, 48], 'selection__score_func': [<function mutual_info_regression at 0x7f139b130c10>, <function f_regression at 0x7f139b132830>], 'extraction': [PCA()], 'extraction__n_components': [32, 24]}\n",
      "Pipeline(steps=[('scaler', 'passthrough'), ('selection', SelectKBest()),\n",
      "                ('extraction', 'passthrough'),\n",
      "                ('polynomial',\n",
      "                 PolynomialFeatures(degree=3, include_bias=False)),\n",
      "                ('regression', ARDRegression())])\n",
      "Fitting 2 folds for each of 16 candidates, totalling 32 fits\n",
      "Best Score: 0.407; R2 Score: Train = 0.900; Test = 0.646\n",
      "{'extraction': PCA(), 'extraction__n_components': 24, 'scaler': MinMaxScaler(), 'selection__k': 64, 'selection__score_func': <function f_regression at 0x7f139b132830>}\n",
      "\n"
     ]
    },
    {
     "name": "stderr",
     "output_type": "stream",
     "text": [
      "/home/borjaeg/anaconda3/envs/multispectral/lib/python3.10/site-packages/sklearn/preprocessing/_data.py:2663: UserWarning: n_quantiles (900) is greater than the total number of samples (771). n_quantiles is set to n_samples.\n",
      "  warnings.warn(\n",
      "/home/borjaeg/anaconda3/envs/multispectral/lib/python3.10/site-packages/sklearn/compose/_target.py:190: UserWarning: The provided functions or transformer are not strictly inverse of each other. If you are sure you want to proceed regardless, set 'check_inverse=False'\n",
      "  warnings.warn(\n",
      "/home/borjaeg/anaconda3/envs/multispectral/lib/python3.10/site-packages/sklearn/preprocessing/_data.py:2663: UserWarning: n_quantiles (900) is greater than the total number of samples (171). n_quantiles is set to n_samples.\n",
      "  warnings.warn(\n",
      "/home/borjaeg/anaconda3/envs/multispectral/lib/python3.10/site-packages/sklearn/preprocessing/_data.py:2663: UserWarning: n_quantiles (900) is greater than the total number of samples (171). n_quantiles is set to n_samples.\n",
      "  warnings.warn(\n",
      "/home/borjaeg/anaconda3/envs/multispectral/lib/python3.10/site-packages/sklearn/compose/_target.py:190: UserWarning: The provided functions or transformer are not strictly inverse of each other. If you are sure you want to proceed regardless, set 'check_inverse=False'\n",
      "  warnings.warn(\n",
      "/home/borjaeg/anaconda3/envs/multispectral/lib/python3.10/site-packages/sklearn/preprocessing/_data.py:2663: UserWarning: n_quantiles (900) is greater than the total number of samples (172). n_quantiles is set to n_samples.\n",
      "  warnings.warn(\n"
     ]
    },
    {
     "name": "stdout",
     "output_type": "stream",
     "text": [
      "(Transformed Target) R2 Score: Train = 0.774; Test = 0.619\n",
      "{'scaler': [StandardScaler(), MinMaxScaler()], 'selection__k': [64, 48], 'selection__score_func': [<function mutual_info_regression at 0x7f139b130c10>, <function f_regression at 0x7f139b132830>], 'extraction': [PCA()], 'extraction__n_components': [32, 24]}\n",
      "Pipeline(steps=[('scaler', 'passthrough'), ('selection', SelectKBest()),\n",
      "                ('extraction', 'passthrough'),\n",
      "                ('polynomial',\n",
      "                 PolynomialFeatures(degree=3, include_bias=False)),\n",
      "                ('regression', ARDRegression())])\n",
      "Fitting 2 folds for each of 16 candidates, totalling 32 fits\n",
      "Best Score: 0.440; R2 Score: Train = 0.827; Test = 0.624\n",
      "{'extraction': PCA(), 'extraction__n_components': 24, 'scaler': MinMaxScaler(), 'selection__k': 64, 'selection__score_func': <function mutual_info_regression at 0x7f139b130c10>}\n",
      "\n"
     ]
    },
    {
     "name": "stderr",
     "output_type": "stream",
     "text": [
      "/home/borjaeg/anaconda3/envs/multispectral/lib/python3.10/site-packages/sklearn/preprocessing/_data.py:2663: UserWarning: n_quantiles (900) is greater than the total number of samples (771). n_quantiles is set to n_samples.\n",
      "  warnings.warn(\n",
      "/home/borjaeg/anaconda3/envs/multispectral/lib/python3.10/site-packages/sklearn/compose/_target.py:190: UserWarning: The provided functions or transformer are not strictly inverse of each other. If you are sure you want to proceed regardless, set 'check_inverse=False'\n",
      "  warnings.warn(\n",
      "/home/borjaeg/anaconda3/envs/multispectral/lib/python3.10/site-packages/sklearn/preprocessing/_data.py:2663: UserWarning: n_quantiles (900) is greater than the total number of samples (171). n_quantiles is set to n_samples.\n",
      "  warnings.warn(\n",
      "/home/borjaeg/anaconda3/envs/multispectral/lib/python3.10/site-packages/sklearn/compose/_target.py:190: UserWarning: The provided functions or transformer are not strictly inverse of each other. If you are sure you want to proceed regardless, set 'check_inverse=False'\n",
      "  warnings.warn(\n",
      "/home/borjaeg/anaconda3/envs/multispectral/lib/python3.10/site-packages/sklearn/preprocessing/_data.py:2663: UserWarning: n_quantiles (900) is greater than the total number of samples (171). n_quantiles is set to n_samples.\n",
      "  warnings.warn(\n",
      "/home/borjaeg/anaconda3/envs/multispectral/lib/python3.10/site-packages/sklearn/compose/_target.py:190: UserWarning: The provided functions or transformer are not strictly inverse of each other. If you are sure you want to proceed regardless, set 'check_inverse=False'\n",
      "  warnings.warn(\n",
      "/home/borjaeg/anaconda3/envs/multispectral/lib/python3.10/site-packages/sklearn/preprocessing/_data.py:2663: UserWarning: n_quantiles (900) is greater than the total number of samples (172). n_quantiles is set to n_samples.\n",
      "  warnings.warn(\n",
      "/home/borjaeg/anaconda3/envs/multispectral/lib/python3.10/site-packages/sklearn/compose/_target.py:190: UserWarning: The provided functions or transformer are not strictly inverse of each other. If you are sure you want to proceed regardless, set 'check_inverse=False'\n",
      "  warnings.warn(\n"
     ]
    },
    {
     "name": "stdout",
     "output_type": "stream",
     "text": [
      "(Transformed Target) R2 Score: Train = 0.827; Test = 0.623\n",
      "==================================================\n",
      "CV: 2\n",
      "{'scaler': [StandardScaler(), MinMaxScaler()], 'filter__window_length': [4, 12, 24], 'filter__polyorder': [3], 'selection__k': [64, 48], 'selection__score_func': [<function mutual_info_regression at 0x7f139b130c10>, <function f_regression at 0x7f139b132830>], 'extraction': [PCA()], 'extraction__n_components': [32, 24]}\n",
      "Pipeline(steps=[('scaler', 'passthrough'),\n",
      "                ('filter', SavgolFilterTransformer()),\n",
      "                ('selection', SelectKBest()), ('extraction', 'passthrough'),\n",
      "                ('polynomial',\n",
      "                 PolynomialFeatures(degree=1, include_bias=False)),\n",
      "                ('regression', TheilSenRegressor())])\n",
      "Fitting 2 folds for each of 48 candidates, totalling 96 fits\n",
      "Best Score: 0.343; R2 Score: Train = 0.448; Test = 0.422\n",
      "{'extraction': PCA(), 'extraction__n_components': 32, 'filter__polyorder': 3, 'filter__window_length': 12, 'scaler': MinMaxScaler(), 'selection__k': 48, 'selection__score_func': <function mutual_info_regression at 0x7f139b130c10>}\n",
      "\n"
     ]
    },
    {
     "name": "stderr",
     "output_type": "stream",
     "text": [
      "/home/borjaeg/anaconda3/envs/multispectral/lib/python3.10/site-packages/sklearn/preprocessing/_data.py:2663: UserWarning: n_quantiles (900) is greater than the total number of samples (771). n_quantiles is set to n_samples.\n",
      "  warnings.warn(\n",
      "/home/borjaeg/anaconda3/envs/multispectral/lib/python3.10/site-packages/sklearn/compose/_target.py:190: UserWarning: The provided functions or transformer are not strictly inverse of each other. If you are sure you want to proceed regardless, set 'check_inverse=False'\n",
      "  warnings.warn(\n",
      "/home/borjaeg/anaconda3/envs/multispectral/lib/python3.10/site-packages/sklearn/preprocessing/_data.py:2663: UserWarning: n_quantiles (900) is greater than the total number of samples (171). n_quantiles is set to n_samples.\n",
      "  warnings.warn(\n",
      "/home/borjaeg/anaconda3/envs/multispectral/lib/python3.10/site-packages/sklearn/preprocessing/_data.py:2663: UserWarning: n_quantiles (900) is greater than the total number of samples (171). n_quantiles is set to n_samples.\n",
      "  warnings.warn(\n",
      "/home/borjaeg/anaconda3/envs/multispectral/lib/python3.10/site-packages/sklearn/compose/_target.py:190: UserWarning: The provided functions or transformer are not strictly inverse of each other. If you are sure you want to proceed regardless, set 'check_inverse=False'\n",
      "  warnings.warn(\n",
      "/home/borjaeg/anaconda3/envs/multispectral/lib/python3.10/site-packages/sklearn/preprocessing/_data.py:2663: UserWarning: n_quantiles (900) is greater than the total number of samples (172). n_quantiles is set to n_samples.\n",
      "  warnings.warn(\n"
     ]
    },
    {
     "name": "stdout",
     "output_type": "stream",
     "text": [
      "(Transformed Target) R2 Score: Train = 0.288; Test = -0.271\n",
      "{'scaler': [StandardScaler(), MinMaxScaler()], 'filter__window_length': [4, 12, 24], 'filter__polyorder': [3], 'selection__k': [64, 48], 'selection__score_func': [<function mutual_info_regression at 0x7f139b130c10>, <function f_regression at 0x7f139b132830>], 'extraction': [PCA()], 'extraction__n_components': [32, 24]}\n",
      "Pipeline(steps=[('scaler', 'passthrough'),\n",
      "                ('filter', SavgolFilterTransformer()),\n",
      "                ('selection', SelectKBest()), ('extraction', 'passthrough'),\n",
      "                ('polynomial',\n",
      "                 PolynomialFeatures(degree=1, include_bias=False)),\n",
      "                ('regression', TheilSenRegressor())])\n",
      "Fitting 2 folds for each of 48 candidates, totalling 96 fits\n",
      "Best Score: 0.390; R2 Score: Train = -1.054; Test = 0.446\n",
      "{'extraction': PCA(), 'extraction__n_components': 24, 'filter__polyorder': 3, 'filter__window_length': 4, 'scaler': MinMaxScaler(), 'selection__k': 64, 'selection__score_func': <function f_regression at 0x7f139b132830>}\n",
      "\n"
     ]
    },
    {
     "name": "stderr",
     "output_type": "stream",
     "text": [
      "/home/borjaeg/anaconda3/envs/multispectral/lib/python3.10/site-packages/sklearn/preprocessing/_data.py:2663: UserWarning: n_quantiles (900) is greater than the total number of samples (771). n_quantiles is set to n_samples.\n",
      "  warnings.warn(\n",
      "/home/borjaeg/anaconda3/envs/multispectral/lib/python3.10/site-packages/sklearn/compose/_target.py:190: UserWarning: The provided functions or transformer are not strictly inverse of each other. If you are sure you want to proceed regardless, set 'check_inverse=False'\n",
      "  warnings.warn(\n",
      "/home/borjaeg/anaconda3/envs/multispectral/lib/python3.10/site-packages/sklearn/preprocessing/_data.py:2663: UserWarning: n_quantiles (900) is greater than the total number of samples (171). n_quantiles is set to n_samples.\n",
      "  warnings.warn(\n",
      "/home/borjaeg/anaconda3/envs/multispectral/lib/python3.10/site-packages/sklearn/compose/_target.py:190: UserWarning: The provided functions or transformer are not strictly inverse of each other. If you are sure you want to proceed regardless, set 'check_inverse=False'\n",
      "  warnings.warn(\n",
      "/home/borjaeg/anaconda3/envs/multispectral/lib/python3.10/site-packages/sklearn/preprocessing/_data.py:2663: UserWarning: n_quantiles (900) is greater than the total number of samples (171). n_quantiles is set to n_samples.\n",
      "  warnings.warn(\n",
      "/home/borjaeg/anaconda3/envs/multispectral/lib/python3.10/site-packages/sklearn/compose/_target.py:190: UserWarning: The provided functions or transformer are not strictly inverse of each other. If you are sure you want to proceed regardless, set 'check_inverse=False'\n",
      "  warnings.warn(\n",
      "/home/borjaeg/anaconda3/envs/multispectral/lib/python3.10/site-packages/sklearn/preprocessing/_data.py:2663: UserWarning: n_quantiles (900) is greater than the total number of samples (172). n_quantiles is set to n_samples.\n",
      "  warnings.warn(\n",
      "/home/borjaeg/anaconda3/envs/multispectral/lib/python3.10/site-packages/sklearn/compose/_target.py:190: UserWarning: The provided functions or transformer are not strictly inverse of each other. If you are sure you want to proceed regardless, set 'check_inverse=False'\n",
      "  warnings.warn(\n"
     ]
    },
    {
     "name": "stdout",
     "output_type": "stream",
     "text": [
      "(Transformed Target) R2 Score: Train = 0.435; Test = 0.469\n",
      "==================================================\n",
      "CV: 2\n",
      "{'scaler': [StandardScaler(), MinMaxScaler()], 'filter__window_length': [4, 12, 24], 'filter__polyorder': [3], 'selection__k': [64, 48], 'selection__score_func': [<function mutual_info_regression at 0x7f139b130c10>, <function f_regression at 0x7f139b132830>], 'extraction': [PCA()], 'extraction__n_components': [32, 24]}\n",
      "Pipeline(steps=[('scaler', 'passthrough'),\n",
      "                ('filter', SavgolFilterTransformer()),\n",
      "                ('selection', SelectKBest()), ('extraction', 'passthrough'),\n",
      "                ('polynomial', PolynomialFeatures(include_bias=False)),\n",
      "                ('regression', TheilSenRegressor())])\n",
      "Fitting 2 folds for each of 48 candidates, totalling 96 fits\n",
      "Best Score: -4.170; R2 Score: Train = 0.654; Test = 0.064\n",
      "{'extraction': PCA(), 'extraction__n_components': 24, 'filter__polyorder': 3, 'filter__window_length': 12, 'scaler': MinMaxScaler(), 'selection__k': 48, 'selection__score_func': <function f_regression at 0x7f139b132830>}\n",
      "\n"
     ]
    },
    {
     "name": "stderr",
     "output_type": "stream",
     "text": [
      "/home/borjaeg/anaconda3/envs/multispectral/lib/python3.10/site-packages/sklearn/preprocessing/_data.py:2663: UserWarning: n_quantiles (900) is greater than the total number of samples (771). n_quantiles is set to n_samples.\n",
      "  warnings.warn(\n",
      "/home/borjaeg/anaconda3/envs/multispectral/lib/python3.10/site-packages/sklearn/compose/_target.py:190: UserWarning: The provided functions or transformer are not strictly inverse of each other. If you are sure you want to proceed regardless, set 'check_inverse=False'\n",
      "  warnings.warn(\n",
      "/home/borjaeg/anaconda3/envs/multispectral/lib/python3.10/site-packages/sklearn/preprocessing/_data.py:2663: UserWarning: n_quantiles (900) is greater than the total number of samples (171). n_quantiles is set to n_samples.\n",
      "  warnings.warn(\n",
      "/home/borjaeg/anaconda3/envs/multispectral/lib/python3.10/site-packages/sklearn/preprocessing/_data.py:2663: UserWarning: n_quantiles (900) is greater than the total number of samples (171). n_quantiles is set to n_samples.\n",
      "  warnings.warn(\n",
      "/home/borjaeg/anaconda3/envs/multispectral/lib/python3.10/site-packages/sklearn/compose/_target.py:190: UserWarning: The provided functions or transformer are not strictly inverse of each other. If you are sure you want to proceed regardless, set 'check_inverse=False'\n",
      "  warnings.warn(\n"
     ]
    },
    {
     "name": "stdout",
     "output_type": "stream",
     "text": [
      "(Transformed Target) R2 Score: Train = -0.021; Test = -1.113\n",
      "{'scaler': [StandardScaler(), MinMaxScaler()], 'filter__window_length': [4, 12, 24], 'filter__polyorder': [3], 'selection__k': [64, 48], 'selection__score_func': [<function mutual_info_regression at 0x7f139b130c10>, <function f_regression at 0x7f139b132830>], 'extraction': [PCA()], 'extraction__n_components': [32, 24]}\n",
      "Pipeline(steps=[('scaler', 'passthrough'),\n",
      "                ('filter', SavgolFilterTransformer()),\n",
      "                ('selection', SelectKBest()), ('extraction', 'passthrough'),\n",
      "                ('polynomial', PolynomialFeatures(include_bias=False)),\n",
      "                ('regression', TheilSenRegressor())])\n",
      "Fitting 2 folds for each of 48 candidates, totalling 96 fits\n"
     ]
    },
    {
     "name": "stderr",
     "output_type": "stream",
     "text": [
      "/home/borjaeg/anaconda3/envs/multispectral/lib/python3.10/site-packages/sklearn/preprocessing/_data.py:2663: UserWarning: n_quantiles (900) is greater than the total number of samples (172). n_quantiles is set to n_samples.\n",
      "  warnings.warn(\n"
     ]
    },
    {
     "name": "stdout",
     "output_type": "stream",
     "text": [
      "Best Score: -9.907; R2 Score: Train = -247.829; Test = -1.547\n",
      "{'extraction': PCA(), 'extraction__n_components': 32, 'filter__polyorder': 3, 'filter__window_length': 4, 'scaler': StandardScaler(), 'selection__k': 64, 'selection__score_func': <function f_regression at 0x7f139b132830>}\n",
      "\n"
     ]
    },
    {
     "name": "stderr",
     "output_type": "stream",
     "text": [
      "/home/borjaeg/anaconda3/envs/multispectral/lib/python3.10/site-packages/sklearn/preprocessing/_data.py:2663: UserWarning: n_quantiles (900) is greater than the total number of samples (771). n_quantiles is set to n_samples.\n",
      "  warnings.warn(\n",
      "/home/borjaeg/anaconda3/envs/multispectral/lib/python3.10/site-packages/sklearn/compose/_target.py:190: UserWarning: The provided functions or transformer are not strictly inverse of each other. If you are sure you want to proceed regardless, set 'check_inverse=False'\n",
      "  warnings.warn(\n",
      "/home/borjaeg/anaconda3/envs/multispectral/lib/python3.10/site-packages/sklearn/preprocessing/_data.py:2663: UserWarning: n_quantiles (900) is greater than the total number of samples (171). n_quantiles is set to n_samples.\n",
      "  warnings.warn(\n",
      "/home/borjaeg/anaconda3/envs/multispectral/lib/python3.10/site-packages/sklearn/compose/_target.py:190: UserWarning: The provided functions or transformer are not strictly inverse of each other. If you are sure you want to proceed regardless, set 'check_inverse=False'\n",
      "  warnings.warn(\n",
      "/home/borjaeg/anaconda3/envs/multispectral/lib/python3.10/site-packages/sklearn/preprocessing/_data.py:2663: UserWarning: n_quantiles (900) is greater than the total number of samples (171). n_quantiles is set to n_samples.\n",
      "  warnings.warn(\n",
      "/home/borjaeg/anaconda3/envs/multispectral/lib/python3.10/site-packages/sklearn/compose/_target.py:190: UserWarning: The provided functions or transformer are not strictly inverse of each other. If you are sure you want to proceed regardless, set 'check_inverse=False'\n",
      "  warnings.warn(\n",
      "/home/borjaeg/anaconda3/envs/multispectral/lib/python3.10/site-packages/sklearn/preprocessing/_data.py:2663: UserWarning: n_quantiles (900) is greater than the total number of samples (172). n_quantiles is set to n_samples.\n",
      "  warnings.warn(\n",
      "/home/borjaeg/anaconda3/envs/multispectral/lib/python3.10/site-packages/sklearn/compose/_target.py:190: UserWarning: The provided functions or transformer are not strictly inverse of each other. If you are sure you want to proceed regardless, set 'check_inverse=False'\n",
      "  warnings.warn(\n"
     ]
    },
    {
     "name": "stdout",
     "output_type": "stream",
     "text": [
      "(Transformed Target) R2 Score: Train = 0.726; Test = -1.819\n",
      "==================================================\n",
      "CV: 2\n",
      "{'scaler': [StandardScaler(), MinMaxScaler()], 'filter__window_length': [4, 12, 24], 'filter__polyorder': [3], 'selection__k': [64, 48], 'selection__score_func': [<function mutual_info_regression at 0x7f139b130c10>, <function f_regression at 0x7f139b132830>], 'extraction': [PCA()], 'extraction__n_components': [32, 24]}\n",
      "Pipeline(steps=[('scaler', 'passthrough'),\n",
      "                ('filter', SavgolFilterTransformer()),\n",
      "                ('selection', SelectKBest()), ('extraction', 'passthrough'),\n",
      "                ('polynomial',\n",
      "                 PolynomialFeatures(degree=3, include_bias=False)),\n",
      "                ('regression', TheilSenRegressor())])\n",
      "Fitting 2 folds for each of 48 candidates, totalling 96 fits\n",
      "Best Score: -1.854; R2 Score: Train = 1.000; Test = -0.323\n",
      "{'extraction': PCA(), 'extraction__n_components': 32, 'filter__polyorder': 3, 'filter__window_length': 4, 'scaler': StandardScaler(), 'selection__k': 48, 'selection__score_func': <function f_regression at 0x7f139b132830>}\n",
      "\n"
     ]
    },
    {
     "name": "stderr",
     "output_type": "stream",
     "text": [
      "/home/borjaeg/anaconda3/envs/multispectral/lib/python3.10/site-packages/sklearn/preprocessing/_data.py:2663: UserWarning: n_quantiles (900) is greater than the total number of samples (771). n_quantiles is set to n_samples.\n",
      "  warnings.warn(\n",
      "/home/borjaeg/anaconda3/envs/multispectral/lib/python3.10/site-packages/sklearn/compose/_target.py:190: UserWarning: The provided functions or transformer are not strictly inverse of each other. If you are sure you want to proceed regardless, set 'check_inverse=False'\n",
      "  warnings.warn(\n",
      "/home/borjaeg/anaconda3/envs/multispectral/lib/python3.10/site-packages/sklearn/preprocessing/_data.py:2663: UserWarning: n_quantiles (900) is greater than the total number of samples (171). n_quantiles is set to n_samples.\n",
      "  warnings.warn(\n",
      "/home/borjaeg/anaconda3/envs/multispectral/lib/python3.10/site-packages/sklearn/preprocessing/_data.py:2663: UserWarning: n_quantiles (900) is greater than the total number of samples (171). n_quantiles is set to n_samples.\n",
      "  warnings.warn(\n",
      "/home/borjaeg/anaconda3/envs/multispectral/lib/python3.10/site-packages/sklearn/compose/_target.py:190: UserWarning: The provided functions or transformer are not strictly inverse of each other. If you are sure you want to proceed regardless, set 'check_inverse=False'\n",
      "  warnings.warn(\n",
      "/home/borjaeg/anaconda3/envs/multispectral/lib/python3.10/site-packages/sklearn/preprocessing/_data.py:2663: UserWarning: n_quantiles (900) is greater than the total number of samples (172). n_quantiles is set to n_samples.\n",
      "  warnings.warn(\n"
     ]
    },
    {
     "name": "stdout",
     "output_type": "stream",
     "text": [
      "(Transformed Target) R2 Score: Train = 1.000; Test = -2.273\n",
      "{'scaler': [StandardScaler(), MinMaxScaler()], 'filter__window_length': [4, 12, 24], 'filter__polyorder': [3], 'selection__k': [64, 48], 'selection__score_func': [<function mutual_info_regression at 0x7f139b130c10>, <function f_regression at 0x7f139b132830>], 'extraction': [PCA()], 'extraction__n_components': [32, 24]}\n",
      "Pipeline(steps=[('scaler', 'passthrough'),\n",
      "                ('filter', SavgolFilterTransformer()),\n",
      "                ('selection', SelectKBest()), ('extraction', 'passthrough'),\n",
      "                ('polynomial',\n",
      "                 PolynomialFeatures(degree=3, include_bias=False)),\n",
      "                ('regression', TheilSenRegressor())])\n",
      "Fitting 2 folds for each of 48 candidates, totalling 96 fits\n",
      "Best Score: -8.041; R2 Score: Train = 0.992; Test = -7.359\n",
      "{'extraction': PCA(), 'extraction__n_components': 32, 'filter__polyorder': 3, 'filter__window_length': 4, 'scaler': StandardScaler(), 'selection__k': 64, 'selection__score_func': <function f_regression at 0x7f139b132830>}\n",
      "\n"
     ]
    },
    {
     "name": "stderr",
     "output_type": "stream",
     "text": [
      "/home/borjaeg/anaconda3/envs/multispectral/lib/python3.10/site-packages/sklearn/preprocessing/_data.py:2663: UserWarning: n_quantiles (900) is greater than the total number of samples (771). n_quantiles is set to n_samples.\n",
      "  warnings.warn(\n",
      "/home/borjaeg/anaconda3/envs/multispectral/lib/python3.10/site-packages/sklearn/compose/_target.py:190: UserWarning: The provided functions or transformer are not strictly inverse of each other. If you are sure you want to proceed regardless, set 'check_inverse=False'\n",
      "  warnings.warn(\n",
      "/home/borjaeg/anaconda3/envs/multispectral/lib/python3.10/site-packages/sklearn/preprocessing/_data.py:2663: UserWarning: n_quantiles (900) is greater than the total number of samples (171). n_quantiles is set to n_samples.\n",
      "  warnings.warn(\n",
      "/home/borjaeg/anaconda3/envs/multispectral/lib/python3.10/site-packages/sklearn/compose/_target.py:190: UserWarning: The provided functions or transformer are not strictly inverse of each other. If you are sure you want to proceed regardless, set 'check_inverse=False'\n",
      "  warnings.warn(\n",
      "/home/borjaeg/anaconda3/envs/multispectral/lib/python3.10/site-packages/sklearn/preprocessing/_data.py:2663: UserWarning: n_quantiles (900) is greater than the total number of samples (171). n_quantiles is set to n_samples.\n",
      "  warnings.warn(\n",
      "/home/borjaeg/anaconda3/envs/multispectral/lib/python3.10/site-packages/sklearn/compose/_target.py:190: UserWarning: The provided functions or transformer are not strictly inverse of each other. If you are sure you want to proceed regardless, set 'check_inverse=False'\n",
      "  warnings.warn(\n",
      "/home/borjaeg/anaconda3/envs/multispectral/lib/python3.10/site-packages/sklearn/preprocessing/_data.py:2663: UserWarning: n_quantiles (900) is greater than the total number of samples (172). n_quantiles is set to n_samples.\n",
      "  warnings.warn(\n",
      "/home/borjaeg/anaconda3/envs/multispectral/lib/python3.10/site-packages/sklearn/compose/_target.py:190: UserWarning: The provided functions or transformer are not strictly inverse of each other. If you are sure you want to proceed regardless, set 'check_inverse=False'\n",
      "  warnings.warn(\n"
     ]
    },
    {
     "name": "stdout",
     "output_type": "stream",
     "text": [
      "(Transformed Target) R2 Score: Train = 0.988; Test = -3.911\n",
      "==================================================\n",
      "CV: 2\n",
      "{'scaler': [StandardScaler(), MinMaxScaler()], 'selection__k': [64, 48], 'selection__score_func': [<function mutual_info_regression at 0x7f139b130c10>, <function f_regression at 0x7f139b132830>], 'extraction': [PCA()], 'extraction__n_components': [32, 24]}\n",
      "Pipeline(steps=[('scaler', 'passthrough'), ('selection', SelectKBest()),\n",
      "                ('extraction', 'passthrough'),\n",
      "                ('polynomial',\n",
      "                 PolynomialFeatures(degree=1, include_bias=False)),\n",
      "                ('regression', TheilSenRegressor())])\n",
      "Fitting 2 folds for each of 16 candidates, totalling 32 fits\n",
      "Best Score: 0.342; R2 Score: Train = 0.426; Test = 0.416\n",
      "{'extraction': PCA(), 'extraction__n_components': 32, 'scaler': StandardScaler(), 'selection__k': 64, 'selection__score_func': <function f_regression at 0x7f139b132830>}\n",
      "\n"
     ]
    },
    {
     "name": "stderr",
     "output_type": "stream",
     "text": [
      "/home/borjaeg/anaconda3/envs/multispectral/lib/python3.10/site-packages/sklearn/preprocessing/_data.py:2663: UserWarning: n_quantiles (900) is greater than the total number of samples (771). n_quantiles is set to n_samples.\n",
      "  warnings.warn(\n",
      "/home/borjaeg/anaconda3/envs/multispectral/lib/python3.10/site-packages/sklearn/compose/_target.py:190: UserWarning: The provided functions or transformer are not strictly inverse of each other. If you are sure you want to proceed regardless, set 'check_inverse=False'\n",
      "  warnings.warn(\n",
      "/home/borjaeg/anaconda3/envs/multispectral/lib/python3.10/site-packages/sklearn/preprocessing/_data.py:2663: UserWarning: n_quantiles (900) is greater than the total number of samples (171). n_quantiles is set to n_samples.\n",
      "  warnings.warn(\n",
      "/home/borjaeg/anaconda3/envs/multispectral/lib/python3.10/site-packages/sklearn/preprocessing/_data.py:2663: UserWarning: n_quantiles (900) is greater than the total number of samples (171). n_quantiles is set to n_samples.\n",
      "  warnings.warn(\n",
      "/home/borjaeg/anaconda3/envs/multispectral/lib/python3.10/site-packages/sklearn/compose/_target.py:190: UserWarning: The provided functions or transformer are not strictly inverse of each other. If you are sure you want to proceed regardless, set 'check_inverse=False'\n",
      "  warnings.warn(\n",
      "/home/borjaeg/anaconda3/envs/multispectral/lib/python3.10/site-packages/sklearn/preprocessing/_data.py:2663: UserWarning: n_quantiles (900) is greater than the total number of samples (172). n_quantiles is set to n_samples.\n",
      "  warnings.warn(\n"
     ]
    },
    {
     "name": "stdout",
     "output_type": "stream",
     "text": [
      "(Transformed Target) R2 Score: Train = 0.261; Test = 0.048\n",
      "{'scaler': [StandardScaler(), MinMaxScaler()], 'selection__k': [64, 48], 'selection__score_func': [<function mutual_info_regression at 0x7f139b130c10>, <function f_regression at 0x7f139b132830>], 'extraction': [PCA()], 'extraction__n_components': [32, 24]}\n",
      "Pipeline(steps=[('scaler', 'passthrough'), ('selection', SelectKBest()),\n",
      "                ('extraction', 'passthrough'),\n",
      "                ('polynomial',\n",
      "                 PolynomialFeatures(degree=1, include_bias=False)),\n",
      "                ('regression', TheilSenRegressor())])\n",
      "Fitting 2 folds for each of 16 candidates, totalling 32 fits\n",
      "Best Score: 0.340; R2 Score: Train = -3.367; Test = 0.434\n",
      "{'extraction': PCA(), 'extraction__n_components': 32, 'scaler': MinMaxScaler(), 'selection__k': 64, 'selection__score_func': <function mutual_info_regression at 0x7f139b130c10>}\n",
      "\n"
     ]
    },
    {
     "name": "stderr",
     "output_type": "stream",
     "text": [
      "/home/borjaeg/anaconda3/envs/multispectral/lib/python3.10/site-packages/sklearn/preprocessing/_data.py:2663: UserWarning: n_quantiles (900) is greater than the total number of samples (771). n_quantiles is set to n_samples.\n",
      "  warnings.warn(\n",
      "/home/borjaeg/anaconda3/envs/multispectral/lib/python3.10/site-packages/sklearn/compose/_target.py:190: UserWarning: The provided functions or transformer are not strictly inverse of each other. If you are sure you want to proceed regardless, set 'check_inverse=False'\n",
      "  warnings.warn(\n",
      "/home/borjaeg/anaconda3/envs/multispectral/lib/python3.10/site-packages/sklearn/preprocessing/_data.py:2663: UserWarning: n_quantiles (900) is greater than the total number of samples (171). n_quantiles is set to n_samples.\n",
      "  warnings.warn(\n",
      "/home/borjaeg/anaconda3/envs/multispectral/lib/python3.10/site-packages/sklearn/compose/_target.py:190: UserWarning: The provided functions or transformer are not strictly inverse of each other. If you are sure you want to proceed regardless, set 'check_inverse=False'\n",
      "  warnings.warn(\n",
      "/home/borjaeg/anaconda3/envs/multispectral/lib/python3.10/site-packages/sklearn/preprocessing/_data.py:2663: UserWarning: n_quantiles (900) is greater than the total number of samples (171). n_quantiles is set to n_samples.\n",
      "  warnings.warn(\n",
      "/home/borjaeg/anaconda3/envs/multispectral/lib/python3.10/site-packages/sklearn/compose/_target.py:190: UserWarning: The provided functions or transformer are not strictly inverse of each other. If you are sure you want to proceed regardless, set 'check_inverse=False'\n",
      "  warnings.warn(\n",
      "/home/borjaeg/anaconda3/envs/multispectral/lib/python3.10/site-packages/sklearn/preprocessing/_data.py:2663: UserWarning: n_quantiles (900) is greater than the total number of samples (172). n_quantiles is set to n_samples.\n",
      "  warnings.warn(\n",
      "/home/borjaeg/anaconda3/envs/multispectral/lib/python3.10/site-packages/sklearn/compose/_target.py:190: UserWarning: The provided functions or transformer are not strictly inverse of each other. If you are sure you want to proceed regardless, set 'check_inverse=False'\n",
      "  warnings.warn(\n"
     ]
    },
    {
     "name": "stdout",
     "output_type": "stream",
     "text": [
      "(Transformed Target) R2 Score: Train = 0.451; Test = 0.453\n",
      "==================================================\n",
      "CV: 2\n",
      "{'scaler': [StandardScaler(), MinMaxScaler()], 'selection__k': [64, 48], 'selection__score_func': [<function mutual_info_regression at 0x7f139b130c10>, <function f_regression at 0x7f139b132830>], 'extraction': [PCA()], 'extraction__n_components': [32, 24]}\n",
      "Pipeline(steps=[('scaler', 'passthrough'), ('selection', SelectKBest()),\n",
      "                ('extraction', 'passthrough'),\n",
      "                ('polynomial', PolynomialFeatures(include_bias=False)),\n",
      "                ('regression', TheilSenRegressor())])\n",
      "Fitting 2 folds for each of 16 candidates, totalling 32 fits\n",
      "Best Score: -1.920; R2 Score: Train = 0.878; Test = -0.155\n",
      "{'extraction': PCA(), 'extraction__n_components': 32, 'scaler': MinMaxScaler(), 'selection__k': 48, 'selection__score_func': <function f_regression at 0x7f139b132830>}\n",
      "\n"
     ]
    },
    {
     "name": "stderr",
     "output_type": "stream",
     "text": [
      "/home/borjaeg/anaconda3/envs/multispectral/lib/python3.10/site-packages/sklearn/preprocessing/_data.py:2663: UserWarning: n_quantiles (900) is greater than the total number of samples (771). n_quantiles is set to n_samples.\n",
      "  warnings.warn(\n",
      "/home/borjaeg/anaconda3/envs/multispectral/lib/python3.10/site-packages/sklearn/compose/_target.py:190: UserWarning: The provided functions or transformer are not strictly inverse of each other. If you are sure you want to proceed regardless, set 'check_inverse=False'\n",
      "  warnings.warn(\n",
      "/home/borjaeg/anaconda3/envs/multispectral/lib/python3.10/site-packages/sklearn/preprocessing/_data.py:2663: UserWarning: n_quantiles (900) is greater than the total number of samples (171). n_quantiles is set to n_samples.\n",
      "  warnings.warn(\n",
      "/home/borjaeg/anaconda3/envs/multispectral/lib/python3.10/site-packages/sklearn/preprocessing/_data.py:2663: UserWarning: n_quantiles (900) is greater than the total number of samples (171). n_quantiles is set to n_samples.\n",
      "  warnings.warn(\n",
      "/home/borjaeg/anaconda3/envs/multispectral/lib/python3.10/site-packages/sklearn/compose/_target.py:190: UserWarning: The provided functions or transformer are not strictly inverse of each other. If you are sure you want to proceed regardless, set 'check_inverse=False'\n",
      "  warnings.warn(\n"
     ]
    },
    {
     "name": "stdout",
     "output_type": "stream",
     "text": [
      "(Transformed Target) R2 Score: Train = 0.615; Test = -1.569\n",
      "{'scaler': [StandardScaler(), MinMaxScaler()], 'selection__k': [64, 48], 'selection__score_func': [<function mutual_info_regression at 0x7f139b130c10>, <function f_regression at 0x7f139b132830>], 'extraction': [PCA()], 'extraction__n_components': [32, 24]}\n",
      "Pipeline(steps=[('scaler', 'passthrough'), ('selection', SelectKBest()),\n",
      "                ('extraction', 'passthrough'),\n",
      "                ('polynomial', PolynomialFeatures(include_bias=False)),\n",
      "                ('regression', TheilSenRegressor())])\n",
      "Fitting 2 folds for each of 16 candidates, totalling 32 fits\n"
     ]
    },
    {
     "name": "stderr",
     "output_type": "stream",
     "text": [
      "/home/borjaeg/anaconda3/envs/multispectral/lib/python3.10/site-packages/sklearn/preprocessing/_data.py:2663: UserWarning: n_quantiles (900) is greater than the total number of samples (172). n_quantiles is set to n_samples.\n",
      "  warnings.warn(\n"
     ]
    },
    {
     "name": "stdout",
     "output_type": "stream",
     "text": [
      "Best Score: -30.789; R2 Score: Train = -554.962; Test = -1.506\n",
      "{'extraction': PCA(), 'extraction__n_components': 32, 'scaler': MinMaxScaler(), 'selection__k': 48, 'selection__score_func': <function mutual_info_regression at 0x7f139b130c10>}\n",
      "\n"
     ]
    },
    {
     "name": "stderr",
     "output_type": "stream",
     "text": [
      "/home/borjaeg/anaconda3/envs/multispectral/lib/python3.10/site-packages/sklearn/preprocessing/_data.py:2663: UserWarning: n_quantiles (900) is greater than the total number of samples (771). n_quantiles is set to n_samples.\n",
      "  warnings.warn(\n",
      "/home/borjaeg/anaconda3/envs/multispectral/lib/python3.10/site-packages/sklearn/compose/_target.py:190: UserWarning: The provided functions or transformer are not strictly inverse of each other. If you are sure you want to proceed regardless, set 'check_inverse=False'\n",
      "  warnings.warn(\n",
      "/home/borjaeg/anaconda3/envs/multispectral/lib/python3.10/site-packages/sklearn/preprocessing/_data.py:2663: UserWarning: n_quantiles (900) is greater than the total number of samples (171). n_quantiles is set to n_samples.\n",
      "  warnings.warn(\n",
      "/home/borjaeg/anaconda3/envs/multispectral/lib/python3.10/site-packages/sklearn/compose/_target.py:190: UserWarning: The provided functions or transformer are not strictly inverse of each other. If you are sure you want to proceed regardless, set 'check_inverse=False'\n",
      "  warnings.warn(\n",
      "/home/borjaeg/anaconda3/envs/multispectral/lib/python3.10/site-packages/sklearn/preprocessing/_data.py:2663: UserWarning: n_quantiles (900) is greater than the total number of samples (171). n_quantiles is set to n_samples.\n",
      "  warnings.warn(\n",
      "/home/borjaeg/anaconda3/envs/multispectral/lib/python3.10/site-packages/sklearn/compose/_target.py:190: UserWarning: The provided functions or transformer are not strictly inverse of each other. If you are sure you want to proceed regardless, set 'check_inverse=False'\n",
      "  warnings.warn(\n",
      "/home/borjaeg/anaconda3/envs/multispectral/lib/python3.10/site-packages/sklearn/preprocessing/_data.py:2663: UserWarning: n_quantiles (900) is greater than the total number of samples (172). n_quantiles is set to n_samples.\n",
      "  warnings.warn(\n",
      "/home/borjaeg/anaconda3/envs/multispectral/lib/python3.10/site-packages/sklearn/compose/_target.py:190: UserWarning: The provided functions or transformer are not strictly inverse of each other. If you are sure you want to proceed regardless, set 'check_inverse=False'\n",
      "  warnings.warn(\n"
     ]
    },
    {
     "name": "stdout",
     "output_type": "stream",
     "text": [
      "(Transformed Target) R2 Score: Train = 0.678; Test = -1.629\n",
      "==================================================\n",
      "CV: 2\n",
      "{'scaler': [StandardScaler(), MinMaxScaler()], 'selection__k': [64, 48], 'selection__score_func': [<function mutual_info_regression at 0x7f139b130c10>, <function f_regression at 0x7f139b132830>], 'extraction': [PCA()], 'extraction__n_components': [32, 24]}\n",
      "Pipeline(steps=[('scaler', 'passthrough'), ('selection', SelectKBest()),\n",
      "                ('extraction', 'passthrough'),\n",
      "                ('polynomial',\n",
      "                 PolynomialFeatures(degree=3, include_bias=False)),\n",
      "                ('regression', TheilSenRegressor())])\n",
      "Fitting 2 folds for each of 16 candidates, totalling 32 fits\n",
      "Best Score: -0.841; R2 Score: Train = 1.000; Test = -0.144\n",
      "{'extraction': PCA(), 'extraction__n_components': 32, 'scaler': StandardScaler(), 'selection__k': 48, 'selection__score_func': <function f_regression at 0x7f139b132830>}\n",
      "\n"
     ]
    },
    {
     "name": "stderr",
     "output_type": "stream",
     "text": [
      "/home/borjaeg/anaconda3/envs/multispectral/lib/python3.10/site-packages/sklearn/preprocessing/_data.py:2663: UserWarning: n_quantiles (900) is greater than the total number of samples (771). n_quantiles is set to n_samples.\n",
      "  warnings.warn(\n",
      "/home/borjaeg/anaconda3/envs/multispectral/lib/python3.10/site-packages/sklearn/compose/_target.py:190: UserWarning: The provided functions or transformer are not strictly inverse of each other. If you are sure you want to proceed regardless, set 'check_inverse=False'\n",
      "  warnings.warn(\n",
      "/home/borjaeg/anaconda3/envs/multispectral/lib/python3.10/site-packages/sklearn/preprocessing/_data.py:2663: UserWarning: n_quantiles (900) is greater than the total number of samples (171). n_quantiles is set to n_samples.\n",
      "  warnings.warn(\n",
      "/home/borjaeg/anaconda3/envs/multispectral/lib/python3.10/site-packages/sklearn/preprocessing/_data.py:2663: UserWarning: n_quantiles (900) is greater than the total number of samples (171). n_quantiles is set to n_samples.\n",
      "  warnings.warn(\n",
      "/home/borjaeg/anaconda3/envs/multispectral/lib/python3.10/site-packages/sklearn/compose/_target.py:190: UserWarning: The provided functions or transformer are not strictly inverse of each other. If you are sure you want to proceed regardless, set 'check_inverse=False'\n",
      "  warnings.warn(\n",
      "/home/borjaeg/anaconda3/envs/multispectral/lib/python3.10/site-packages/sklearn/preprocessing/_data.py:2663: UserWarning: n_quantiles (900) is greater than the total number of samples (172). n_quantiles is set to n_samples.\n",
      "  warnings.warn(\n"
     ]
    },
    {
     "name": "stdout",
     "output_type": "stream",
     "text": [
      "(Transformed Target) R2 Score: Train = 0.999; Test = -3.802\n",
      "{'scaler': [StandardScaler(), MinMaxScaler()], 'selection__k': [64, 48], 'selection__score_func': [<function mutual_info_regression at 0x7f139b130c10>, <function f_regression at 0x7f139b132830>], 'extraction': [PCA()], 'extraction__n_components': [32, 24]}\n",
      "Pipeline(steps=[('scaler', 'passthrough'), ('selection', SelectKBest()),\n",
      "                ('extraction', 'passthrough'),\n",
      "                ('polynomial',\n",
      "                 PolynomialFeatures(degree=3, include_bias=False)),\n",
      "                ('regression', TheilSenRegressor())])\n",
      "Fitting 2 folds for each of 16 candidates, totalling 32 fits\n",
      "Best Score: -4.237; R2 Score: Train = 0.992; Test = -5.313\n",
      "{'extraction': PCA(), 'extraction__n_components': 32, 'scaler': MinMaxScaler(), 'selection__k': 48, 'selection__score_func': <function f_regression at 0x7f139b132830>}\n",
      "\n"
     ]
    },
    {
     "name": "stderr",
     "output_type": "stream",
     "text": [
      "/home/borjaeg/anaconda3/envs/multispectral/lib/python3.10/site-packages/sklearn/preprocessing/_data.py:2663: UserWarning: n_quantiles (900) is greater than the total number of samples (771). n_quantiles is set to n_samples.\n",
      "  warnings.warn(\n",
      "/home/borjaeg/anaconda3/envs/multispectral/lib/python3.10/site-packages/sklearn/compose/_target.py:190: UserWarning: The provided functions or transformer are not strictly inverse of each other. If you are sure you want to proceed regardless, set 'check_inverse=False'\n",
      "  warnings.warn(\n",
      "/home/borjaeg/anaconda3/envs/multispectral/lib/python3.10/site-packages/sklearn/preprocessing/_data.py:2663: UserWarning: n_quantiles (900) is greater than the total number of samples (171). n_quantiles is set to n_samples.\n",
      "  warnings.warn(\n",
      "/home/borjaeg/anaconda3/envs/multispectral/lib/python3.10/site-packages/sklearn/compose/_target.py:190: UserWarning: The provided functions or transformer are not strictly inverse of each other. If you are sure you want to proceed regardless, set 'check_inverse=False'\n",
      "  warnings.warn(\n",
      "/home/borjaeg/anaconda3/envs/multispectral/lib/python3.10/site-packages/sklearn/preprocessing/_data.py:2663: UserWarning: n_quantiles (900) is greater than the total number of samples (171). n_quantiles is set to n_samples.\n",
      "  warnings.warn(\n",
      "/home/borjaeg/anaconda3/envs/multispectral/lib/python3.10/site-packages/sklearn/compose/_target.py:190: UserWarning: The provided functions or transformer are not strictly inverse of each other. If you are sure you want to proceed regardless, set 'check_inverse=False'\n",
      "  warnings.warn(\n",
      "/home/borjaeg/anaconda3/envs/multispectral/lib/python3.10/site-packages/sklearn/preprocessing/_data.py:2663: UserWarning: n_quantiles (900) is greater than the total number of samples (172). n_quantiles is set to n_samples.\n",
      "  warnings.warn(\n",
      "/home/borjaeg/anaconda3/envs/multispectral/lib/python3.10/site-packages/sklearn/compose/_target.py:190: UserWarning: The provided functions or transformer are not strictly inverse of each other. If you are sure you want to proceed regardless, set 'check_inverse=False'\n",
      "  warnings.warn(\n"
     ]
    },
    {
     "name": "stdout",
     "output_type": "stream",
     "text": [
      "(Transformed Target) R2 Score: Train = 0.988; Test = -3.219\n",
      "==================================================\n",
      "CV: 3\n",
      "{'scaler': [StandardScaler(), MinMaxScaler()], 'filter__window_length': [4, 12, 24], 'filter__polyorder': [3], 'selection__k': [64, 48], 'selection__score_func': [<function mutual_info_regression at 0x7f139b130c10>, <function f_regression at 0x7f139b132830>], 'extraction': [PCA()], 'extraction__n_components': [32, 24]}\n",
      "Pipeline(steps=[('scaler', 'passthrough'),\n",
      "                ('filter', SavgolFilterTransformer()),\n",
      "                ('selection', SelectKBest()), ('extraction', 'passthrough'),\n",
      "                ('polynomial',\n",
      "                 PolynomialFeatures(degree=1, include_bias=False)),\n",
      "                ('regression', ARDRegression())])\n",
      "Fitting 3 folds for each of 48 candidates, totalling 144 fits\n",
      "Best Score: 0.466; R2 Score: Train = 0.532; Test = 0.444\n",
      "{'extraction': PCA(), 'extraction__n_components': 32, 'filter__polyorder': 3, 'filter__window_length': 12, 'scaler': MinMaxScaler(), 'selection__k': 64, 'selection__score_func': <function mutual_info_regression at 0x7f139b130c10>}\n",
      "\n"
     ]
    },
    {
     "name": "stderr",
     "output_type": "stream",
     "text": [
      "/home/borjaeg/anaconda3/envs/multispectral/lib/python3.10/site-packages/sklearn/preprocessing/_data.py:2663: UserWarning: n_quantiles (900) is greater than the total number of samples (771). n_quantiles is set to n_samples.\n",
      "  warnings.warn(\n",
      "/home/borjaeg/anaconda3/envs/multispectral/lib/python3.10/site-packages/sklearn/compose/_target.py:190: UserWarning: The provided functions or transformer are not strictly inverse of each other. If you are sure you want to proceed regardless, set 'check_inverse=False'\n",
      "  warnings.warn(\n",
      "/home/borjaeg/anaconda3/envs/multispectral/lib/python3.10/site-packages/sklearn/preprocessing/_data.py:2663: UserWarning: n_quantiles (900) is greater than the total number of samples (171). n_quantiles is set to n_samples.\n",
      "  warnings.warn(\n",
      "/home/borjaeg/anaconda3/envs/multispectral/lib/python3.10/site-packages/sklearn/preprocessing/_data.py:2663: UserWarning: n_quantiles (900) is greater than the total number of samples (171). n_quantiles is set to n_samples.\n",
      "  warnings.warn(\n",
      "/home/borjaeg/anaconda3/envs/multispectral/lib/python3.10/site-packages/sklearn/compose/_target.py:190: UserWarning: The provided functions or transformer are not strictly inverse of each other. If you are sure you want to proceed regardless, set 'check_inverse=False'\n",
      "  warnings.warn(\n",
      "/home/borjaeg/anaconda3/envs/multispectral/lib/python3.10/site-packages/sklearn/preprocessing/_data.py:2663: UserWarning: n_quantiles (900) is greater than the total number of samples (172). n_quantiles is set to n_samples.\n",
      "  warnings.warn(\n"
     ]
    },
    {
     "name": "stdout",
     "output_type": "stream",
     "text": [
      "(Transformed Target) R2 Score: Train = 0.366; Test = 0.173\n",
      "{'scaler': [StandardScaler(), MinMaxScaler()], 'filter__window_length': [4, 12, 24], 'filter__polyorder': [3], 'selection__k': [64, 48], 'selection__score_func': [<function mutual_info_regression at 0x7f139b130c10>, <function f_regression at 0x7f139b132830>], 'extraction': [PCA()], 'extraction__n_components': [32, 24]}\n",
      "Pipeline(steps=[('scaler', 'passthrough'),\n",
      "                ('filter', SavgolFilterTransformer()),\n",
      "                ('selection', SelectKBest()), ('extraction', 'passthrough'),\n",
      "                ('polynomial',\n",
      "                 PolynomialFeatures(degree=1, include_bias=False)),\n",
      "                ('regression', ARDRegression())])\n",
      "Fitting 3 folds for each of 48 candidates, totalling 144 fits\n",
      "Best Score: 0.546; R2 Score: Train = 0.595; Test = 0.573\n",
      "{'extraction': PCA(), 'extraction__n_components': 32, 'filter__polyorder': 3, 'filter__window_length': 12, 'scaler': StandardScaler(), 'selection__k': 64, 'selection__score_func': <function f_regression at 0x7f139b132830>}\n",
      "\n"
     ]
    },
    {
     "name": "stderr",
     "output_type": "stream",
     "text": [
      "/home/borjaeg/anaconda3/envs/multispectral/lib/python3.10/site-packages/sklearn/preprocessing/_data.py:2663: UserWarning: n_quantiles (900) is greater than the total number of samples (771). n_quantiles is set to n_samples.\n",
      "  warnings.warn(\n",
      "/home/borjaeg/anaconda3/envs/multispectral/lib/python3.10/site-packages/sklearn/compose/_target.py:190: UserWarning: The provided functions or transformer are not strictly inverse of each other. If you are sure you want to proceed regardless, set 'check_inverse=False'\n",
      "  warnings.warn(\n",
      "/home/borjaeg/anaconda3/envs/multispectral/lib/python3.10/site-packages/sklearn/preprocessing/_data.py:2663: UserWarning: n_quantiles (900) is greater than the total number of samples (171). n_quantiles is set to n_samples.\n",
      "  warnings.warn(\n",
      "/home/borjaeg/anaconda3/envs/multispectral/lib/python3.10/site-packages/sklearn/compose/_target.py:190: UserWarning: The provided functions or transformer are not strictly inverse of each other. If you are sure you want to proceed regardless, set 'check_inverse=False'\n",
      "  warnings.warn(\n",
      "/home/borjaeg/anaconda3/envs/multispectral/lib/python3.10/site-packages/sklearn/preprocessing/_data.py:2663: UserWarning: n_quantiles (900) is greater than the total number of samples (171). n_quantiles is set to n_samples.\n",
      "  warnings.warn(\n",
      "/home/borjaeg/anaconda3/envs/multispectral/lib/python3.10/site-packages/sklearn/compose/_target.py:190: UserWarning: The provided functions or transformer are not strictly inverse of each other. If you are sure you want to proceed regardless, set 'check_inverse=False'\n",
      "  warnings.warn(\n",
      "/home/borjaeg/anaconda3/envs/multispectral/lib/python3.10/site-packages/sklearn/preprocessing/_data.py:2663: UserWarning: n_quantiles (900) is greater than the total number of samples (172). n_quantiles is set to n_samples.\n",
      "  warnings.warn(\n",
      "/home/borjaeg/anaconda3/envs/multispectral/lib/python3.10/site-packages/sklearn/compose/_target.py:190: UserWarning: The provided functions or transformer are not strictly inverse of each other. If you are sure you want to proceed regardless, set 'check_inverse=False'\n",
      "  warnings.warn(\n"
     ]
    },
    {
     "name": "stdout",
     "output_type": "stream",
     "text": [
      "(Transformed Target) R2 Score: Train = 0.594; Test = 0.572\n",
      "==================================================\n",
      "CV: 3\n",
      "{'scaler': [StandardScaler(), MinMaxScaler()], 'filter__window_length': [4, 12, 24], 'filter__polyorder': [3], 'selection__k': [64, 48], 'selection__score_func': [<function mutual_info_regression at 0x7f139b130c10>, <function f_regression at 0x7f139b132830>], 'extraction': [PCA()], 'extraction__n_components': [32, 24]}\n",
      "Pipeline(steps=[('scaler', 'passthrough'),\n",
      "                ('filter', SavgolFilterTransformer()),\n",
      "                ('selection', SelectKBest()), ('extraction', 'passthrough'),\n",
      "                ('polynomial', PolynomialFeatures(include_bias=False)),\n",
      "                ('regression', ARDRegression())])\n",
      "Fitting 3 folds for each of 48 candidates, totalling 144 fits\n",
      "Best Score: 0.712; R2 Score: Train = 0.869; Test = 0.766\n",
      "{'extraction': PCA(), 'extraction__n_components': 24, 'filter__polyorder': 3, 'filter__window_length': 4, 'scaler': MinMaxScaler(), 'selection__k': 48, 'selection__score_func': <function mutual_info_regression at 0x7f139b130c10>}\n",
      "\n"
     ]
    },
    {
     "name": "stderr",
     "output_type": "stream",
     "text": [
      "/home/borjaeg/anaconda3/envs/multispectral/lib/python3.10/site-packages/sklearn/preprocessing/_data.py:2663: UserWarning: n_quantiles (900) is greater than the total number of samples (771). n_quantiles is set to n_samples.\n",
      "  warnings.warn(\n",
      "/home/borjaeg/anaconda3/envs/multispectral/lib/python3.10/site-packages/sklearn/compose/_target.py:190: UserWarning: The provided functions or transformer are not strictly inverse of each other. If you are sure you want to proceed regardless, set 'check_inverse=False'\n",
      "  warnings.warn(\n",
      "/home/borjaeg/anaconda3/envs/multispectral/lib/python3.10/site-packages/sklearn/preprocessing/_data.py:2663: UserWarning: n_quantiles (900) is greater than the total number of samples (171). n_quantiles is set to n_samples.\n",
      "  warnings.warn(\n",
      "/home/borjaeg/anaconda3/envs/multispectral/lib/python3.10/site-packages/sklearn/preprocessing/_data.py:2663: UserWarning: n_quantiles (900) is greater than the total number of samples (171). n_quantiles is set to n_samples.\n",
      "  warnings.warn(\n",
      "/home/borjaeg/anaconda3/envs/multispectral/lib/python3.10/site-packages/sklearn/compose/_target.py:190: UserWarning: The provided functions or transformer are not strictly inverse of each other. If you are sure you want to proceed regardless, set 'check_inverse=False'\n",
      "  warnings.warn(\n",
      "/home/borjaeg/anaconda3/envs/multispectral/lib/python3.10/site-packages/sklearn/preprocessing/_data.py:2663: UserWarning: n_quantiles (900) is greater than the total number of samples (172). n_quantiles is set to n_samples.\n",
      "  warnings.warn(\n"
     ]
    },
    {
     "name": "stdout",
     "output_type": "stream",
     "text": [
      "(Transformed Target) R2 Score: Train = 0.790; Test = 0.447\n",
      "{'scaler': [StandardScaler(), MinMaxScaler()], 'filter__window_length': [4, 12, 24], 'filter__polyorder': [3], 'selection__k': [64, 48], 'selection__score_func': [<function mutual_info_regression at 0x7f139b130c10>, <function f_regression at 0x7f139b132830>], 'extraction': [PCA()], 'extraction__n_components': [32, 24]}\n",
      "Pipeline(steps=[('scaler', 'passthrough'),\n",
      "                ('filter', SavgolFilterTransformer()),\n",
      "                ('selection', SelectKBest()), ('extraction', 'passthrough'),\n",
      "                ('polynomial', PolynomialFeatures(include_bias=False)),\n",
      "                ('regression', ARDRegression())])\n",
      "Fitting 3 folds for each of 48 candidates, totalling 144 fits\n",
      "Best Score: 0.643; R2 Score: Train = 0.767; Test = 0.671\n",
      "{'extraction': PCA(), 'extraction__n_components': 24, 'filter__polyorder': 3, 'filter__window_length': 12, 'scaler': MinMaxScaler(), 'selection__k': 64, 'selection__score_func': <function mutual_info_regression at 0x7f139b130c10>}\n",
      "\n"
     ]
    },
    {
     "name": "stderr",
     "output_type": "stream",
     "text": [
      "/home/borjaeg/anaconda3/envs/multispectral/lib/python3.10/site-packages/sklearn/preprocessing/_data.py:2663: UserWarning: n_quantiles (900) is greater than the total number of samples (771). n_quantiles is set to n_samples.\n",
      "  warnings.warn(\n",
      "/home/borjaeg/anaconda3/envs/multispectral/lib/python3.10/site-packages/sklearn/compose/_target.py:190: UserWarning: The provided functions or transformer are not strictly inverse of each other. If you are sure you want to proceed regardless, set 'check_inverse=False'\n",
      "  warnings.warn(\n",
      "/home/borjaeg/anaconda3/envs/multispectral/lib/python3.10/site-packages/sklearn/preprocessing/_data.py:2663: UserWarning: n_quantiles (900) is greater than the total number of samples (171). n_quantiles is set to n_samples.\n",
      "  warnings.warn(\n",
      "/home/borjaeg/anaconda3/envs/multispectral/lib/python3.10/site-packages/sklearn/compose/_target.py:190: UserWarning: The provided functions or transformer are not strictly inverse of each other. If you are sure you want to proceed regardless, set 'check_inverse=False'\n",
      "  warnings.warn(\n",
      "/home/borjaeg/anaconda3/envs/multispectral/lib/python3.10/site-packages/sklearn/preprocessing/_data.py:2663: UserWarning: n_quantiles (900) is greater than the total number of samples (171). n_quantiles is set to n_samples.\n",
      "  warnings.warn(\n",
      "/home/borjaeg/anaconda3/envs/multispectral/lib/python3.10/site-packages/sklearn/compose/_target.py:190: UserWarning: The provided functions or transformer are not strictly inverse of each other. If you are sure you want to proceed regardless, set 'check_inverse=False'\n",
      "  warnings.warn(\n",
      "/home/borjaeg/anaconda3/envs/multispectral/lib/python3.10/site-packages/sklearn/preprocessing/_data.py:2663: UserWarning: n_quantiles (900) is greater than the total number of samples (172). n_quantiles is set to n_samples.\n",
      "  warnings.warn(\n",
      "/home/borjaeg/anaconda3/envs/multispectral/lib/python3.10/site-packages/sklearn/compose/_target.py:190: UserWarning: The provided functions or transformer are not strictly inverse of each other. If you are sure you want to proceed regardless, set 'check_inverse=False'\n",
      "  warnings.warn(\n"
     ]
    },
    {
     "name": "stdout",
     "output_type": "stream",
     "text": [
      "(Transformed Target) R2 Score: Train = 0.767; Test = 0.671\n",
      "==================================================\n",
      "CV: 3\n",
      "{'scaler': [StandardScaler(), MinMaxScaler()], 'filter__window_length': [4, 12, 24], 'filter__polyorder': [3], 'selection__k': [64, 48], 'selection__score_func': [<function mutual_info_regression at 0x7f139b130c10>, <function f_regression at 0x7f139b132830>], 'extraction': [PCA()], 'extraction__n_components': [32, 24]}\n",
      "Pipeline(steps=[('scaler', 'passthrough'),\n",
      "                ('filter', SavgolFilterTransformer()),\n",
      "                ('selection', SelectKBest()), ('extraction', 'passthrough'),\n",
      "                ('polynomial',\n",
      "                 PolynomialFeatures(degree=3, include_bias=False)),\n",
      "                ('regression', ARDRegression())])\n",
      "Fitting 3 folds for each of 48 candidates, totalling 144 fits\n"
     ]
    }
   ],
   "source": [
    "with open(\"results.csv\", 'w') as csvfile:\n",
    "    csvwriter = csv.writer(csvfile, quoting=csv.QUOTE_ALL)\n",
    "    for num_experiment in range(1, 5):\n",
    "        x_train, x_test, y_train, y_test = train_test_split(x, y, test_size=TEST_SIZE,\n",
    "                                                            shuffle=True,\n",
    "                                                            random_state=SEED//num_experiment)\n",
    "        y_train_trans = quantile_transform(\n",
    "            y_train.reshape(-1, 1), n_quantiles=900, output_distribution=\"normal\", copy=True\n",
    "        ).squeeze()\n",
    "\n",
    "        y_test_trans = quantile_transform(\n",
    "            y_test.reshape(-1, 1), n_quantiles=900, output_distribution=\"normal\", copy=True\n",
    "        ).squeeze()\n",
    "\n",
    "        for cv in CVS:\n",
    "            for ix_regressor, regressor in enumerate([ARDRegression(), TheilSenRegressor()]):\n",
    "                pipelines = create_pipeline(regressor, mode=\"full\")\n",
    "                for ix_pipeline, pipeline in enumerate(pipelines):\n",
    "                    try:\n",
    "                        print(f\"CV: {cv}\")\n",
    "\n",
    "                        results, best_params = (\n",
    "                            optimize_pipeline(cv, pipeline, x_train, x_test, y_train, y_test)\n",
    "                        )\n",
    "                        if ix_pipeline in [0, 1, 2]:\n",
    "                            pipeline_polyorder = best_params[\"filter__polyorder\"]\n",
    "                            pipeline_window_length = best_params[\"filter__window_length\"]\n",
    "                        else:\n",
    "                            pipeline_polyorder = 0\n",
    "                            pipeline_window_length = 0\n",
    "\n",
    "                        hyperparams = [pipeline_polyorder,\n",
    "                                    pipeline_window_length, \n",
    "                                    best_params[\"scaler\"], \n",
    "                                    best_params[\"selection__k\"],\n",
    "                                    best_params[\"selection__score_func\"],\n",
    "                                    best_params[\"extraction\"],\n",
    "                                    best_params[\"extraction__n_components\"]]\n",
    "\n",
    "                        trans_results, trans_best_params = (\n",
    "                            optimize_pipeline(cv, pipeline, x_train, x_test, y_train_trans, y_test_trans)\n",
    "                        )\n",
    "\n",
    "                        if ix_pipeline in [0, 1, 2]:\n",
    "                            trans_pipeline_polyorder = trans_best_params[\"filter__polyorder\"]\n",
    "                            trans_pipeline_window_length = trans_best_params[\"filter__window_length\"]\n",
    "                        else:\n",
    "                            trans_pipeline_polyorder = 0\n",
    "                            trans_pipeline_window_length = 0\n",
    "\n",
    "                        trans_hyperparams = [trans_pipeline_polyorder,\n",
    "                                            trans_pipeline_window_length, \n",
    "                                            trans_best_params[\"scaler\"], \n",
    "                                            trans_best_params[\"selection__k\"],\n",
    "                                            trans_best_params[\"selection__score_func\"],\n",
    "                                            trans_best_params[\"extraction\"],\n",
    "                                            trans_best_params[\"extraction__n_components\"],]\n",
    "\n",
    "                        csvwriter.writerow([\n",
    "                            num_experiment,\n",
    "                            cv,\n",
    "                            ix_regressor,\n",
    "                            ix_pipeline,\n",
    "                            *hyperparams,\n",
    "                            *results,\n",
    "                            *trans_hyperparams,\n",
    "                            *trans_results\n",
    "                        ])\n",
    "                        csvfile.flush()\n",
    "                        print(\"=\"*50)\n",
    "                    except Exception as e:\n",
    "                        print(e)"
   ]
  },
  {
   "cell_type": "code",
   "execution_count": null,
   "id": "d3cc7d3b-b725-4033-ab75-5ba73c383681",
   "metadata": {},
   "outputs": [],
   "source": []
  }
 ],
 "metadata": {
  "kernelspec": {
   "display_name": "Python 3 (ipykernel)",
   "language": "python",
   "name": "python3"
  },
  "language_info": {
   "codemirror_mode": {
    "name": "ipython",
    "version": 3
   },
   "file_extension": ".py",
   "mimetype": "text/x-python",
   "name": "python",
   "nbconvert_exporter": "python",
   "pygments_lexer": "ipython3",
   "version": "3.10.13"
  }
 },
 "nbformat": 4,
 "nbformat_minor": 5
}
